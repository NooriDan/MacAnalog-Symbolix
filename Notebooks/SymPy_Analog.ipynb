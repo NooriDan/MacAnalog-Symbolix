{
 "cells": [
  {
   "cell_type": "markdown",
   "metadata": {
    "id": "ZWN-1u75HI27"
   },
   "source": [
    "# Imports & Initialization"
   ]
  },
  {
   "cell_type": "code",
   "execution_count": 1,
   "metadata": {
    "colab": {
     "base_uri": "https://localhost:8080/"
    },
    "id": "8myW3Kl1g0UV",
    "outputId": "5f0056c5-8240-4bed-a958-3855b0687bad"
   },
   "outputs": [
    {
     "name": "stdout",
     "output_type": "stream",
     "text": [
      "Requirement already satisfied: sypy in /opt/miniconda3/lib/python3.12/site-packages (0.0.2)\n",
      "Requirement already satisfied: tqdm in /opt/miniconda3/lib/python3.12/site-packages (4.65.0)\n",
      "Requirement already satisfied: dill in /opt/miniconda3/lib/python3.12/site-packages (0.3.9)\n",
      "Requirement already satisfied: reportlab in /opt/miniconda3/lib/python3.12/site-packages (4.2.5)\n",
      "Requirement already satisfied: pillow>=9.0.0 in /opt/miniconda3/lib/python3.12/site-packages (from reportlab) (11.0.0)\n",
      "Requirement already satisfied: chardet in /opt/miniconda3/lib/python3.12/site-packages (from reportlab) (5.2.0)\n"
     ]
    }
   ],
   "source": [
    "!pip install sypy tqdm dill reportlab # uncomment if the imports don't work\n",
    "# !sudo apt update\n",
    "# !sudo apt install texlive-latex-base"
   ]
  },
  {
   "cell_type": "code",
   "execution_count": 2,
   "metadata": {
    "id": "5cdcc382-7b36-4a30-ae25-e0fa324307d0"
   },
   "outputs": [
    {
     "name": "stdout",
     "output_type": "stream",
     "text": [
      "# of cores: 8\n"
     ]
    }
   ],
   "source": [
    "import os\n",
    "import sympy              # for symbolic modelling\n",
    "from sympy import symbols, Matrix, oo, Eq, simplify, solve, latex, denom, numer, sqrt, collect, degree\n",
    "from tqdm import tqdm     # to create progress bars\n",
    "from pprint import pprint # pretty print feature\n",
    "\n",
    "\n",
    "# optional imports\n",
    "import dill               # to save/load the results\n",
    "# from google.colab import files\n",
    "from multiprocessing import Pool, Value, cpu_count, Manager\n",
    "from reportlab.lib.pagesizes import letter\n",
    "from reportlab.pdfgen import canvas\n",
    "\n",
    "# Create the directory if it doesn't exist\n",
    "print(\"# of cores: {}\".format(os.cpu_count())) # is 96 for TPU v2-8\n",
    "\n",
    "# # symbols? #use this to find documentation on any object/functionts"
   ]
  },
  {
   "cell_type": "markdown",
   "metadata": {
    "id": "6brv2WUAawg1"
   },
   "source": [
    "# Algorithms Definitions"
   ]
  },
  {
   "cell_type": "markdown",
   "metadata": {
    "id": "-AAXiqGPw0BC"
   },
   "source": [
    "## Set up global variables"
   ]
  },
  {
   "cell_type": "code",
   "execution_count": 3,
   "metadata": {
    "colab": {
     "base_uri": "https://localhost:8080/"
    },
    "id": "x2PAvCTgHI29",
    "outputId": "b7187df5-07f0-4944-85b4-f6fc213bec6b"
   },
   "outputs": [
    {
     "name": "stdout",
     "output_type": "stream",
     "text": [
      "Transmission matrices are type: symbolic\n",
      "Matrix([[a11, a12], [a21, a22]])\n",
      "Matrix([[a11, a12], [a21, a22]])\n"
     ]
    }
   ],
   "source": [
    "# Define symbolic variables\n",
    "s = symbols('s')\n",
    "R1, R2, R3, R4, R5, RL, Rs = symbols('R1 R2 R3 R4 R5 RL Rs')\n",
    "C1, C2, C3, C4, C5, CL = symbols('C1 C2 C3 C4 C5 CL')\n",
    "L1, L2, L3, L4, L5, LL = symbols('L1 L2 L3 L4 L5 LL')\n",
    "Z1 , Z2 , Z3 , Z4 , Z5 , ZL, Zs = symbols('Z1 Z2 Z3 Z4 Z5 ZL Zs')\n",
    "\n",
    "# Transmission matrix coefficients\n",
    "gm, ro, Cgd, Cgs = symbols('gm ro Cgd Cgs')\n",
    "a11, a12, a21, a22 = symbols('a11 a12 a21 a22')\n",
    "\n",
    "T_select ={\n",
    "\"simple\" : Matrix([[0, -1/gm],[0, 0]]),\n",
    "\"symbolic\" : Matrix([[a11, a12],[a21, a22]]),\n",
    "\"some_parasitic\" : Matrix([[-1/(gm*ro), -1/gm],[0, 0]]),\n",
    "\"full_parasitic\" : Matrix([[(1/ro + s*Cgd)/(s*Cgd - gm), 1/(s*Cgd - gm)],[(Cgd*Cgs*ro*s + Cgd*gm*ro + Cgs + Cgd)*s/(s*Cgd - gm), (Cgs+Cgd)*s/(s*Cgd - gm)]])\n",
    "}\n",
    "\n",
    "# Select a transimision matrix\n",
    "T_type = \"symbolic\"\n",
    "T_a = T_select[T_type]\n",
    "T_b = T_select[T_type]\n",
    "\n",
    "print(f\"Transmission matrices are type: {T_type}\")\n",
    "print(T_a)\n",
    "print(T_b)"
   ]
  },
  {
   "cell_type": "markdown",
   "metadata": {
    "id": "bCrBQaqabRG9"
   },
   "source": [
    "## Algorithm 1: Solve for TF\n",
    "Algorithm 1 steps\n",
    "1. Define impedance combinations\n",
    "2. Define nodal equation\n",
    "3. Loop through all impedance combinations and find H(s)"
   ]
  },
  {
   "cell_type": "markdown",
   "metadata": {},
   "source": [
    "### 1. Define Z Combination"
   ]
  },
  {
   "cell_type": "code",
   "execution_count": 4,
   "metadata": {
    "colab": {
     "base_uri": "https://localhost:8080/"
    },
    "id": "59YNzWIn1Dy3",
    "outputId": "51c4365c-f523-49cc-acdc-3b40e4af2cf6"
   },
   "outputs": [
    {
     "data": {
      "text/plain": [
       "(7, 6)"
      ]
     },
     "execution_count": 4,
     "metadata": {},
     "output_type": "execute_result"
    }
   ],
   "source": [
    "# (1) Define impedance combinations\n",
    "def getCommonSourceImpedanceCombinations():\n",
    "    # Define impedance arrays\n",
    "    Zzs = [Rs,\n",
    "           1/(s*C1),\n",
    "           s*L1]\n",
    "\n",
    "    Zz1 = [R1,\n",
    "           1/(s*C1),\n",
    "           R1/(1 + R1*C1*s),\n",
    "           R1 + 1/(C1*s),\n",
    "           s*L1 + 1/(s*C1)]\n",
    "\n",
    "    Zz2 = [R2,                  # R\n",
    "           1/(s*C2),            # C\n",
    "           R2/(1 + R2*C2*s),    # R || C\n",
    "           R2 + 1/(C2*s),       # R + C\n",
    "           s*L2 + 1/(s*C2)]     # L + C\n",
    "\n",
    "    Zz3 = [R3,\n",
    "           1/(s*C3),\n",
    "           s*L3,\n",
    "           R3/(1 + R3*C3*s),\n",
    "           (s*L3 + 1/(s*C3)),\n",
    "           (L3*s)/(1 + L3*C3*s**2)]\n",
    "\n",
    "    Zz4 = [R4,\n",
    "           1/(s*C4),\n",
    "           s*L4,\n",
    "           R4/(1 + R4*C4*s),\n",
    "           (s*L4 + 1/(s*C4)),\n",
    "           (L4*s)/(1 + L4*C4*s**2)]\n",
    "\n",
    "    Zz5 = [R5,\n",
    "           1/(s*C5),\n",
    "           s*L5,\n",
    "           R5/(1 + R5*C5*s),\n",
    "           (s*L5 + 1/(s*C5)),\n",
    "           (L5*s)/(1 + L5*C5*s**2)]\n",
    "\n",
    "    ZzL = [RL,\n",
    "           1/(s*CL),\n",
    "           s*LL,\n",
    "           RL/(1 + RL*CL*s),\n",
    "           (LL*s)/(1 + LL*CL*s**2)]\n",
    "\n",
    "    # Combine all impedances\n",
    "    impedance_combinations = []\n",
    "    for zs in Zzs:\n",
    "        for z1 in Zz1:\n",
    "            for z2 in Zz2:\n",
    "                for z3 in Zz3:\n",
    "                    for z4 in Zz4:\n",
    "                        for z5 in Zz5:\n",
    "                          for zL in ZzL:\n",
    "                            impedance_combinations.append((zs, z1, z2, z3, z4, z5, zL))\n",
    "\n",
    "    keys = [\"Zs\", \"Z1\", \"Z2\", \"Z3\", \"Z4\", \"Z5\", \"ZL\"]\n",
    "    return impedance_combinations\n",
    "\n",
    "\n",
    "def getCommonGateImpedanceCombinations():\n",
    "    # Define impedance arrays (Based on Table 1)\n",
    "    Zz1 = [R1]                      # R\n",
    "\n",
    "    Zz2 = [R2,                                            # R\n",
    "           1/(s*C2),                                      # C\n",
    "           R2/(1 + R2*C2*s),                              # R || C\n",
    "           R2 + 1/(C2*s),                                 # R + C\n",
    "           s*L2 + 1/(s*C2),                               # L + C\n",
    "           R2 + s*L2 + 1/(s*C2),                          # R + L + C\n",
    "           R2 + (s*L2/(1 + L2*C2*s**2)),                  # R + (L || C)\n",
    "           R2*(s*L2 + 1/(s*C2))/(R2 + (s*L2 + 1/(s*C2)))  # R2 || (L2 + C2)\n",
    "           ]\n",
    "\n",
    "    Zz3 = [R3,                                            # R\n",
    "           s*L3,                                          # L\n",
    "           1/(s*C3),                                      # C\n",
    "           R3/(1 + R3*C3*s),                              # R || C\n",
    "           R3 + 1/(C3*s),                                 # R + C\n",
    "           (s*L3 + 1/(s*C3)),                             # L + C\n",
    "           (L3*s)/(1 + L3*C3*s**2),                       # L || C\n",
    "           R3 + s*L3 + 1/(s*C3),                          # R + L + C\n",
    "           (1/R3 + s*C3+ 1/(s*L3))**-1,                   # R || L || C\n",
    "           R3 + (s*L3/(1 + L3*C3*s**2)),                  # R + (L || C)\n",
    "           R3*(s*L3 + 1/(s*C3))/(R3 + (s*L3 + 1/(s*C3)))  # R || (L + C)\n",
    "           ]\n",
    "\n",
    "\n",
    "    Zz4 = [R4,                                            # R\n",
    "           s*L4,                                          # L\n",
    "           1/(s*C4),                                      # C\n",
    "           R4/(1 + R4*C4*s),                              # R || C\n",
    "           R4 + 1/(C4*s),                                 # R + C\n",
    "           (s*L4 + 1/(s*C4)),                             # L + C\n",
    "           (L4*s)/(1 + L4*C4*s**2),                       # L || C\n",
    "           R4 + s*L4 + 1/(s*C4),                          # R + L + C\n",
    "           (1/R4 + s*C4+ 1/(s*L4))**-1,                   # R || L || C\n",
    "           R4 + (s*L4/(1 + L4*C4*s**2)),                  # R + (L || C)\n",
    "           R4*(s*L4 + 1/(s*C4))/(R4 + (s*L4 + 1/(s*C4)))  # R || (L + C)\n",
    "           ]\n",
    "\n",
    "    Zz5 = [R4,                                            # R\n",
    "           s*L4,                                          # L\n",
    "           1/(s*C4),                                      # C\n",
    "           R4/(1 + R4*C4*s),                              # R || C\n",
    "           R4 + 1/(C4*s),                                 # R + C\n",
    "           (s*L4 + 1/(s*C4)),                             # L + C\n",
    "           (L4*s)/(1 + L4*C4*s**2),                       # L || C\n",
    "           R4 + s*L4 + 1/(s*C4),                          # R + L + C\n",
    "           (1/R4 + s*C4+ 1/(s*L4))**-1,                   # R || L || C\n",
    "           R4 + (s*L4/(1 + L4*C4*s**2)),                  # R + (L || C)\n",
    "           R4*(s*L4 + 1/(s*C4))/(R4 + (s*L4 + 1/(s*C4)))  # R || (L + C)\n",
    "           ]\n",
    "\n",
    "    ZzL = [RL,                                            # R\n",
    "           s*LL,                                          # L\n",
    "           1/(s*CL),                                      # C\n",
    "           RL/(1 + RL*CL*s),                              # R || C\n",
    "           RL + 1/(CL*s),                                 # R + C\n",
    "           (s*LL + 1/(s*CL)),                             # L + C\n",
    "           (LL*s)/(1 + LL*CL*s**2),                       # L || C\n",
    "           RL + s*LL + 1/(s*CL),                          # R + L + C\n",
    "           (1/RL + s*CL+ 1/(s*LL))**-1,                   # R || L || C\n",
    "           RL + (s*LL/(1 + LL*CL*s**2)),                  # R + (L || C)\n",
    "           RL*(s*LL + 1/(s*CL))/(RL + (s*LL + 1/(s*CL)))  # R || (L + C)\n",
    "           ]\n",
    "\n",
    "    # Combine all impedances\n",
    "    impedance_combinations = []\n",
    "\n",
    "    for z1 in Zz1:\n",
    "        for z2 in Zz2:\n",
    "            for z3 in Zz3:\n",
    "                for z4 in Zz4:\n",
    "                    for z5 in Zz5:\n",
    "                        for zL in ZzL:\n",
    "                            impedance_combinations.append((z1, z2, z3, z4, z5, zL))\n",
    "\n",
    "    keys = [\"Z1\", \"Z2\", \"Z3\", \"Z4\", \"Z5\", \"ZL\"]\n",
    "    return impedance_combinations\n",
    "\n",
    "len(getCommonSourceImpedanceCombinations()[0]), len(getCommonGateImpedanceCombinations()[0])"
   ]
  },
  {
   "cell_type": "markdown",
   "metadata": {},
   "source": [
    "### 2. Define Nodal Equations"
   ]
  },
  {
   "cell_type": "code",
   "execution_count": 5,
   "metadata": {
    "colab": {
     "base_uri": "https://localhost:8080/"
    },
    "id": "kPUxoGIZsV7_",
    "outputId": "9e6f4bcc-d24d-44d4-8a85-735b9047219c"
   },
   "outputs": [
    {
     "name": "stdout",
     "output_type": "stream",
     "text": [
      "Common source equation count: 13\n",
      "Common gate equation count: 13\n"
     ]
    }
   ],
   "source": [
    "# (2) Define Nodal Equations\n",
    "def getCommonSourceEquation(TransmissionMatrices, Z_arr = symbols('Zs Z1 Z2 Z3 Z4 Z5 ZL')):\n",
    "    # Get symbolic variables (CS)\n",
    "    Zs, Z1 , Z2 , Z3 , Z4 , Z5 , ZL = Z_arr\n",
    "    I1a, I1b, I2a, I2b = symbols('I1a I1b I2a I2b')\n",
    "    Vin, V2a, V2b, V1a, V1b, Va, Vb, Von, Vop, Vip, Vx = symbols('Vin V2a V2b V1a V1b Va Vb Von Vop Vip Vx')\n",
    "    T_a, T_b = TransmissionMatrices\n",
    "\n",
    "    # Define nodal equations (Eq. 3a-3i) -> list[ Eq(left-hand-side, right-hand-side), ... ]\n",
    "    equations = [\n",
    "        # 3a\n",
    "        Eq(0, (I1a + I2a + I1b + I2b + (Vb-Vx)/Z1 + (Von - Vx)/Z2 + (Vop - Vx)/Z2 + (Va - Vx)/Z1)),\n",
    "        # 3b\n",
    "        Eq(I1a, ((Vip - Va)/Zs + (Von - Va)/Z3 + (Vx - Va)/Z1 + (Vop - Va)/Z5)),\n",
    "        # 3c\n",
    "        Eq(I1b, (Vin - Vb)/Zs + (Vop - Vb)/Z3 + (Vx - Vb)/Z1 + (Von - Vb)/Z5),\n",
    "        # 3d\n",
    "        Eq(I2a, (Va - Von)/Z3 + (Vx - Von)/Z2 + (0 - Von)/ZL + (Vop - Von)/Z4 + (Vb - Von)/Z5),\n",
    "        # 3e\n",
    "        Eq(I2b, (Vb - Vop)/Z3 + (Vx - Vop)/Z2 + (0 - Vop)/ZL + (Von - Vop)/Z4 + (Va - Vop)/Z5),\n",
    "        # 3f\n",
    "        Eq(Vx + V2a, Vop),\n",
    "        Eq(Vx + V2b, Von),\n",
    "        # 3g\n",
    "        Eq(Vx + V1a, Va),\n",
    "        Eq(Vx + V1b, Vb),\n",
    "        # 3h: Transistor a\n",
    "        Eq(V1a, T_a[0,0]*V2a - T_a[0,1]*I2a),\n",
    "        Eq(I1a, T_a[1,0]*V2a + T_a[1,1]*I2a),\n",
    "        # 3i: Transistor b\n",
    "        Eq(V1b, T_b[0,0]*V2b - T_b[0,1]*I2b),\n",
    "        Eq(I1b, T_b[1,0]*V2b + T_b[1,1]*I2b)\n",
    "        ]\n",
    "\n",
    "    return equations\n",
    "\n",
    "def getCommonGateEquation(TransmissionMatrices, Z_arr = symbols('Z1 Z2 Z3 Z4 Z5 ZL')):\n",
    "    # Get symbolic variables (CG)\n",
    "    Z1 , Z2 , Z3 , Z4 , Z5 , ZL = Z_arr\n",
    "    I1a, I1b, I2a, I2b, Iip, Iin = symbols('I1a I1b I2a I2b Iip Iin')\n",
    "    Vin, V2a, V2b, V1a, V1b, Va, Vb, Von, Vop, Vip, Vx = symbols('Vin V2a V2b V1a V1b Va Vb Von Vop Vip Vx')\n",
    "    T_a, T_b = TransmissionMatrices\n",
    "\n",
    "    # Define nodal equations (Eq. 4a-4h) -> list[ Eq(left-hand-side, right-hand-side), ... ]\n",
    "    equations = [\n",
    "         # 4a\n",
    "         Eq(0, (Iip + I1a + I2a + (0 - Vip)/Z1 + (Vop - Vip)/Z2 + (Von - Vip)/Z5)),\n",
    "         # 4b\n",
    "         Eq(0, (Iin + I1b + I2b + (0 - Vin)/Z1 + (Von - Vin)/Z2 + (Vop - Vin)/Z5)),\n",
    "         # 4c\n",
    "         Eq(I2a, ((Vip - Vop)/Z2 + (Vx - Vop)/Z3 + (Von - Vop)/Z4 + (Vin - Vop)/Z5 + (0 - Vop)/ZL)),\n",
    "         # 4d\n",
    "         Eq(I2b, ((Vin - Von)/Z2 + (Vx - Von)/Z3 + (Vop - Von)/Z4 + (Vip - Von)/Z5 + (0 - Von)/ZL )),\n",
    "         # unranked equation in the paper (between 4d and 4e)\n",
    "         Eq(I1a, ((Vop - Vx)/Z3 + (Von - Vx)/Z3 - I1b)),\n",
    "         # 4e\n",
    "         Eq(Vop, Vip + V2a),\n",
    "         Eq(Von, Vin + V2b),\n",
    "         # 4f\n",
    "         Eq(Vip, Vx - V1a),\n",
    "         Eq(Vin, Vx - V1b),\n",
    "         # 3g\n",
    "         Eq(V1a, T_a[0,0]*V2a - T_a[0,1]*I2a),\n",
    "         Eq(V1b, T_b[0,0]*V2b - T_b[0,1]*I2b),\n",
    "         # 3h\n",
    "         Eq(I1a, T_a[1,0]*V2a + T_a[1,1]*I2a),\n",
    "         Eq(I1b, T_b[1,0]*V2b + T_b[1,1]*I2b)\n",
    "     ]\n",
    "\n",
    "    return equations\n",
    "\n",
    "print(f\"Common source equation count: {len(getCommonSourceEquation(TransmissionMatrices=[T_a, T_b]))}\")\n",
    "print(f\"Common gate equation count: {len(getCommonGateEquation(TransmissionMatrices=[T_a, T_b]))}\")"
   ]
  },
  {
   "cell_type": "markdown",
   "metadata": {},
   "source": [
    "### 3. Get Transfer Functions"
   ]
  },
  {
   "cell_type": "code",
   "execution_count": 6,
   "metadata": {},
   "outputs": [],
   "source": [
    "# (3 - CS) Get transfer functions (TFs)\n",
    "def _getCommonSourceBaseHs():\n",
    "    print(f\"====CommonSource====\")\n",
    "    TransmissioMatrices = [T_a, T_b]\n",
    "    Iip, Iin, I1a, I1b, I2a, I2b  = symbols('Iip Iin I1a I1b I2a I2b')\n",
    "    Vin, V2a, V2b, V1a, V1b, Va, Vb, Von, Vop, Vip, Vx = symbols('Vin V2a V2b V1a V1b Va Vb Von Vop Vip Vx')\n",
    "\n",
    "    # Define nodal equations\n",
    "    equations = getCommonSourceEquation(TransmissioMatrices)\n",
    "    print(\"(1) set up the nodal equation\")\n",
    "\n",
    "    # Solve for transfer function\n",
    "    solution = solve(equations, [\n",
    "        Vop, Von, I1a, I2a, V2a, V1a, V1b, V2b,\n",
    "        I1b, I2b, Vip, Vin, Vx\n",
    "    ])\n",
    "    print(\"(2) solved the base transfer function\")\n",
    "\n",
    "    if solution:\n",
    "        print(\"FOUND THE BASE TF\")\n",
    "        baseHs = (solution[Vop] - solution[Von]) / (solution[Vip] - solution[Vin])\n",
    "        baseHs = simplify(baseHs.factor())\n",
    "        return baseHs\n",
    "    print(\"Could not find the base Hs\")\n",
    "    return None\n",
    "\n",
    "def getCommonSourceTFs_V2(impedanceBatch, baseHs):\n",
    "\n",
    "    TFs = []\n",
    "    if baseHs:\n",
    "        for zCombo in tqdm(impedanceBatch, desc=\"Getting the TFs (CS)\", unit=\"combo\"):\n",
    "            Zs, Z1, Z2, Z3, Z4, Z5, ZL = zCombo\n",
    "\n",
    "            sub_dict = {symbols(\"Zs\") : Zs,\n",
    "                        symbols(\"Z1\") : Z1, \n",
    "                        symbols(\"Z2\") : Z2, \n",
    "                        symbols(\"Z3\") : Z3, \n",
    "                        symbols(\"Z4\") : Z4, \n",
    "                        symbols(\"Z5\") : Z5,\n",
    "                        symbols(\"ZL\") : ZL}\n",
    "            \n",
    "            Hs = baseHs.subs(sub_dict)\n",
    "            Hs = simplify((Hs.factor()))\n",
    "            TFs.append(Hs)\n",
    "\n",
    "    return TFs\n",
    "\n",
    "# _getCommonSourceBaseHs()"
   ]
  },
  {
   "cell_type": "code",
   "execution_count": 7,
   "metadata": {},
   "outputs": [],
   "source": [
    "# (3 - CG) Get transfer functions (TFs)\n",
    "def _getCommonGateBaseHs():\n",
    "    print(f\"====CommonGate====\")\n",
    "    TFs = []\n",
    "    TransmissioMatrices = [T_a, T_b]\n",
    "\n",
    "    # Get symbolic variables (CG)\n",
    "    Iip, Iin, I1a, I1b, I2a, I2b = symbols('Iip Iin I1a I1b I2a I2b')\n",
    "    Vin, V2a, V2b, V1a, V1b, Va, Vb, Von, Vop, Vip, Vx = symbols('Vin V2a V2b V1a V1b Va Vb Von Vop Vip Vx')\n",
    "\n",
    "    # Define nodal equations\n",
    "    equations = getCommonGateEquation(TransmissioMatrices)\n",
    "    print(\"(1) set up the nodal equation\")\n",
    "\n",
    "    # Solve for generic transfer function\n",
    "    solution = solve(equations, [\n",
    "        Vin, V2a, V2b, V1a, V1b, Va, Vb, Von, Vop, Vip, Vx,\n",
    "        Iip, Iin, I1a, I1b, I2a, I2b\n",
    "    ])\n",
    "    print(\"(2) solved the base transfer function\")\n",
    "\n",
    "    if solution:\n",
    "        print(\"FOUND THE BASE TF\")\n",
    "        baseHs = (solution[Vop] - solution[Von]) / (solution[Vip] - solution[Vin])\n",
    "        baseHs = simplify((baseHs.factor()))\n",
    "        return baseHs\n",
    "    \n",
    "    return None\n",
    "\n",
    "\n",
    "def getCommonGateTFs_V2(impedanceBatch, baseHs):\n",
    "\n",
    "    TFs = []\n",
    "    if baseHs:\n",
    "        for zCombo in tqdm(impedanceBatch, desc=\"Getting the TFs (CG)\", unit=\"combo\"):\n",
    "            Z1, Z2, Z3, Z4, Z5, ZL = zCombo\n",
    "\n",
    "            sub_dict = {symbols(\"Z1\") : Z1, \n",
    "                        symbols(\"Z2\") : Z2, \n",
    "                        symbols(\"Z3\") : Z3, \n",
    "                        symbols(\"Z4\") : Z4, \n",
    "                        symbols(\"Z5\") : Z5,\n",
    "                        symbols(\"ZL\") : ZL}\n",
    "            \n",
    "            Hs = baseHs.subs(sub_dict)\n",
    "            Hs = simplify((Hs.factor()))\n",
    "            TFs.append(Hs)\n",
    "\n",
    "    return TFs\n",
    "\n",
    "# _getCommonGateBaseHs()"
   ]
  },
  {
   "cell_type": "markdown",
   "metadata": {
    "id": "4VuOi8Y7bGD-"
   },
   "source": [
    "## Algorithm 2: Computing w0, Q, Qzz, K_LP, K_HP, K_BP\n",
    "IN -> H(s), out -> temp = 0 if valid values (else temp = 1, meaning all values are invalid since filter total order is out of bound)"
   ]
  },
  {
   "cell_type": "code",
   "execution_count": 8,
   "metadata": {
    "id": "Pg3FS2YnHI2-"
   },
   "outputs": [],
   "source": [
    "def _computeFilterParameters(tf): # HELPER FUNCTION\n",
    "    s = symbols('s')\n",
    "    temp = 0\n",
    "\n",
    "    # Determine numerator and denominator of H(s)\n",
    "    dn = denom(tf)  # Denominator\n",
    "    nm = numer(tf)  # Numerator\n",
    "    DenOrder = degree(dn, s)\n",
    "    NumOrder = degree(nm, s)\n",
    "\n",
    "    # Coefficients of denominator\n",
    "    a = dn.coeff(s, 2)  # Coefficient of s^2\n",
    "    b = dn.coeff(s, 1)  # Coefficient of s^1\n",
    "    c = dn.coeff(s, 0)  # Coefficient of s^0\n",
    "\n",
    "    # Validate filter order and coefficients\n",
    "    if a == 0 or b == 0 or c == 0 or DenOrder > 2 or NumOrder > DenOrder:\n",
    "        temp = 1\n",
    "        return temp, {'message': \"Invalid \"}\n",
    "\n",
    "    # Compute Q, w, Bandwidth\n",
    "    Q = simplify((a / b) * sqrt(c / a))\n",
    "    wo_sqr = simplify(c / a)\n",
    "    wo = sqrt(wo_sqr)\n",
    "    Bandwidth = wo / Q\n",
    "\n",
    "    # Coefficients of numerator\n",
    "    bhp = nm.coeff(s, 2)  # Coefficient of s^2\n",
    "    bbp = nm.coeff(s, 1)  # Coefficient of s^1\n",
    "    blp = nm.coeff(s, 0)  # Coefficient of s^0\n",
    "\n",
    "    # Calculate filter constants\n",
    "    K_LP = simplify(blp / (a * wo**2))\n",
    "    K_HP = simplify(bhp / a)\n",
    "    K_BP = simplify(bbp / (a * Bandwidth))\n",
    "\n",
    "    # Compute Qz if conditions are met\n",
    "    Qz = None\n",
    "    if K_LP == K_HP and K_BP != 0 and K_LP != 0:\n",
    "        Qz = simplify(K_LP * Q / K_BP)\n",
    "\n",
    "    # Return results\n",
    "    return temp, {\n",
    "        \"Q\": Q,\n",
    "        \"wo\": wo,\n",
    "        \"Bandwidth\": Bandwidth,\n",
    "        \"K_LP\": K_LP,\n",
    "        \"K_HP\": K_HP,\n",
    "        \"K_BP\": K_BP,\n",
    "        \"Qz\": Qz,\n",
    "    }\n",
    "\n",
    "def computeFilterParameters(TFs, impedanceCombinations):\n",
    "    \"\"\"\n",
    "    Compute filter parameters for a list of transfer functions and impedance combinations.\n",
    "\n",
    "    Parameters:\n",
    "    - TFs: List of transfer functions.\n",
    "    - impedanceCombinations: List of corresponding impedance combinations.\n",
    "\n",
    "    Returns:\n",
    "    - List of dictionaries containing impedance combination, transfer function, and parameters.\n",
    "    \"\"\"\n",
    "    output = []\n",
    "    count = 0\n",
    "    # Wrap the zip iterator with tqdm for progress tracking\n",
    "    for tf, impedanceCombo in tqdm(zip(TFs, impedanceCombinations),\n",
    "                                    total=len(TFs),\n",
    "                                    desc=\"Computing filter parameters\",\n",
    "                                    unit=\"filter\"):\n",
    "        temp, parameters = _computeFilterParameters(tf)\n",
    "        if temp == 0:\n",
    "            output.append({\"Impedance\": impedanceCombo, \"TF\": tf, \"Parameters\": parameters})\n",
    "            count += 1\n",
    "        else:\n",
    "            output.append({\"Impedance\": impedanceCombo, \"TF\": tf, \"Parameters\": None})\n",
    "    return output\n",
    "\n",
    "# # Test Compute filter parameters\n",
    "# s = symbols(\"s\")\n",
    "# tf = (s**2 + 2*s + 1)/(s**2 + 4*s + 4)\n",
    "\n",
    "# temp, parameters = _computeFilterParameters(tf)\n",
    "# pprint(parameters)\n",
    "\n",
    "# tfs = [(s**2 - 1)/(3*s**2 + 4*s + 4), (2*s + 1)/(s**2 + 1)]\n",
    "# output, count = computeFilterParameters(tfs, [1, 2])\n",
    "# print()\n",
    "# print(\"++++++++\")\n",
    "# pprint(output)"
   ]
  },
  {
   "cell_type": "markdown",
   "metadata": {
    "id": "Yxq3mVVxbj3v"
   },
   "source": [
    "## Algorithm 3: Determine Filter Type\n",
    "* IN -> Parameters from Algorithm 2: w0, Q, Qz, K_LP, K_HP, K_BP\n",
    "* OUT -> Filter type classification (e.g., HP, BP, LP, BS, GE)\n",
    "\n",
    "\n",
    "\n"
   ]
  },
  {
   "cell_type": "code",
   "execution_count": 9,
   "metadata": {
    "id": "AvEg6uEFJNtE"
   },
   "outputs": [],
   "source": [
    "def getFilterType(parameters):\n",
    "    \"\"\"\n",
    "    Determine the type of filter based on K_LP, K_HP, K_BP, and Qz.\n",
    "\n",
    "    Parameters:\n",
    "    - parameters: dict containing Q, wo, K_LP, K_HP, K_BP, and Qz.\n",
    "\n",
    "    Returns:\n",
    "    - List of filter types and associated parameters.\n",
    "    \"\"\"\n",
    "    temp = 0  # Use as a validity flag\n",
    "    K_LP = parameters.get(\"K_LP\", 0)\n",
    "    K_HP = parameters.get(\"K_HP\", 0)\n",
    "    K_BP = parameters.get(\"K_BP\", 0)\n",
    "    Q = parameters.get(\"Q\")\n",
    "    wo = parameters.get(\"wo\")\n",
    "    Qz = parameters.get(\"Qz\")\n",
    "\n",
    "    # Result containers\n",
    "    filter_results = {\n",
    "        \"HP\": None,\n",
    "        \"BP\": None,\n",
    "        \"LP\": None,\n",
    "        \"BS\": None,\n",
    "        \"GE\": None\n",
    "    }\n",
    "\n",
    "    # Classification based on filter constants\n",
    "    if temp == 0 and K_BP == 0 and K_LP == 0:\n",
    "        filter_results[\"HP\"] = {\"wo\": wo, \"Q\": Q, \"K_HP\": K_HP}\n",
    "\n",
    "    if temp == 0 and K_HP == 0 and K_LP == 0:\n",
    "        filter_results[\"BP\"] = {\"wo\": wo, \"Q\": Q, \"K_BP\": K_BP}\n",
    "\n",
    "    if temp == 0 and K_HP == 0 and K_BP == 0:\n",
    "        filter_results[\"LP\"] = {\"wo\": wo, \"Q\": Q, \"K_LP\": K_LP} \n",
    "\n",
    "    if temp == 0 and K_BP == 0 and K_HP != 0 and K_LP != 0:\n",
    "        filter_results[\"BS\"] = {\"wo\": wo, \"Q\": Q, \"K_HP\": K_HP, \"K_LP\": K_LP}\n",
    "\n",
    "    if temp == 0 and K_LP == K_HP and K_BP != 0 and K_LP != 0:\n",
    "        if Qz is None:\n",
    "            Qz = simplify(K_LP * Q / K_BP)\n",
    "        filter_results[\"GE\"] = {\"wo\": wo, \"Q\": Q, \"Qz\": Qz, \"K_LP\": K_LP}\n",
    "\n",
    "    return filter_results\n",
    "\n",
    "def classifyFilterParameters(filterParameter_results):\n",
    "    \"\"\"\n",
    "    Classify transfer functions into filter types.\n",
    "\n",
    "    Parameters:\n",
    "    - tf_results: List of transfer function results from `computeFilterParameters`.\n",
    "\n",
    "    Returns:\n",
    "    - Filter classifications.\n",
    "    \"\"\"\n",
    "    classifiedResults = []\n",
    "    count = 0\n",
    "    for result in filterParameter_results:\n",
    "        parameters = result.get(\"Parameters\")\n",
    "        if parameters:\n",
    "            filter_types = getFilterType(parameters)\n",
    "            classifiedResults.append({\n",
    "                \"Impedance\": result[\"Impedance\"],\n",
    "                \"TF\": result[\"TF\"],\n",
    "                \"Filter Types\": filter_types\n",
    "            })\n",
    "            count += 1\n",
    "        else:\n",
    "            classifiedResults.append({\n",
    "                \"Impedance\": result[\"Impedance\"],\n",
    "                \"TF\": result[\"TF\"],\n",
    "                \"Filter Types\": None\n",
    "            })\n",
    "    return classifiedResults\n",
    "\n",
    "# # Test Compute filter parameters\n",
    "# s = symbols(\"s\")\n",
    "# tf = (s**2 + 2*s + 1)/(s**2 + 4*s + 4)\n",
    "\n",
    "# temp, parameters = _computeFilterParameters(tf)\n",
    "# pprint(parameters)\n",
    "\n",
    "# tfs = [(s**2 - 1)/(3*s**2 + 4*s + 4), (2*s + 1)/(s**2 + 1)]\n",
    "# output, count = computeFilterParameters(tfs, [1, 2])\n",
    "# print()\n",
    "# print(\"++++++++\")\n",
    "# pprint(output)\n",
    "# print(\"++++++++\")\n",
    "\n",
    "# classification, count = classifyFilters(output)\n",
    "# pprint(classification)"
   ]
  },
  {
   "cell_type": "markdown",
   "metadata": {
    "id": "OOQQN6eSsfkp"
   },
   "source": [
    "## Helper Functions"
   ]
  },
  {
   "cell_type": "markdown",
   "metadata": {},
   "source": [
    "### Filtering and Processing"
   ]
  },
  {
   "cell_type": "code",
   "execution_count": 10,
   "metadata": {},
   "outputs": [],
   "source": [
    "def findFilterInClassification(filterType, classifications):\n",
    "\n",
    "    output = []\n",
    "\n",
    "    for entity in classifications:\n",
    "        if (entity[\"Filter Types\"]) and (entity[\"Filter Types\"][filterType]):\n",
    "            output.append({\n",
    "                           \"Impedance\" : entity[\"Impedance\"],\n",
    "                           \"TF\": entity[\"TF\"],\n",
    "                           \"Parameters\" : entity[\"Filter Types\"][filterType]\n",
    "                           })\n",
    "            \n",
    "    if len(output) == 0:\n",
    "        print(f\"No filter of type {filterType} was found\")\n",
    "    return output\n",
    "\n"
   ]
  },
  {
   "cell_type": "markdown",
   "metadata": {},
   "source": [
    "### Printing"
   ]
  },
  {
   "cell_type": "code",
   "execution_count": 11,
   "metadata": {
    "id": "sC0aamGBsSKF"
   },
   "outputs": [],
   "source": [
    "def save_TFs_as_pdf(TFs, output_filename):\n",
    "    \"\"\"\n",
    "    Saves a list of transfer functions as rendered mathematical expressions to a PDF.\n",
    "\n",
    "    Parameters:\n",
    "    - TFs: List of Sympy expressions representing transfer functions.\n",
    "    - output_filename: Name of the output PDF file.\n",
    "    \"\"\"\n",
    "    output_filename = \"Outputs/\" + output_filename + \".pdf\"\n",
    "    os.makedirs(\"Outputs\", exist_ok=True)\n",
    "\n",
    "    # Prepare the PDF canvas\n",
    "    c = canvas.Canvas(output_filename, pagesize=letter)\n",
    "    width, height = letter\n",
    "    margin = 50  # Margin around the page\n",
    "    y_position = height - margin  # Starting position for writing\n",
    "\n",
    "    for i, tf in enumerate(TFs, 1):\n",
    "        # Render the transfer function as an image\n",
    "        image_filename = f\"Outputs/TF_{i}.png\"\n",
    "        tf_latex = f\"H(s) = {latex(tf)}\"\n",
    "        sympy.preview(\n",
    "            tf_latex,\n",
    "            output='png',\n",
    "            viewer='file',\n",
    "            filename=image_filename,\n",
    "            euler=False,  # Use standard fonts instead of Euler fonts\n",
    "        )\n",
    "\n",
    "        # Check if there's enough space for the next image; if not, start a new page\n",
    "        image_height = 100  # Adjust if needed for image size\n",
    "        if y_position - image_height < margin:\n",
    "            c.showPage()  # Add a new page\n",
    "            y_position = height - margin\n",
    "\n",
    "        # Draw the image on the PDF\n",
    "        c.drawImage(image_filename, margin, y_position - image_height, width=width - 2 * margin, height=image_height)\n",
    "\n",
    "        # Move the y_position for the next item\n",
    "        y_position -= image_height + 20  # Add spacing between entries\n",
    "\n",
    "    c.save()\n",
    "    print(f\"PDF saved to {output_filename}\")\n",
    "\n",
    "    # Cleanup: Remove temporary image files\n",
    "    for i in range(1, len(TFs) + 1):\n",
    "        os.remove(f\"Outputs/TF_{i}.png\")\n",
    "\n",
    "\n",
    "def save_TFs_as_LaTex(TFs, output_filename):\n",
    "    \"\"\" \n",
    "        # !sudo apt update\n",
    "        # !sudo apt install texlive-latex-base\n",
    "\n",
    "    # # Compile the LaTeX file into a PDF (make sure pdflatex is installed)\n",
    "    # !pdflatex output_filename.tex\n",
    "    \n",
    "    # Optional: download the PDF\n",
    "    # files.download(\"transfer_functions.pdf\")\n",
    "\n",
    "    # Create a Latex file to report the transfer functions\n",
    "    \"\"\"\n",
    "\n",
    "    header = r\"\"\"\n",
    "    \\documentclass{article}\n",
    "    \\usepackage{amsmath}\n",
    "    \\usepackage{geometry}\n",
    "    \\geometry{landscape, a1paper, margin=1in}  % Adjust paper size and margins\n",
    "    \\begin{document}\n",
    "    \\section*{Derived Transfer Functions}\n",
    "    \"\"\"\n",
    "\n",
    "    footer = r\"\\end{document}\"\n",
    "\n",
    "    # LaTeX filename\n",
    "    output_filename = \"Outputs/\" + output_filename + \".tex\"\n",
    "    os.makedirs(\"Outputs\", exist_ok=True)\n",
    "\n",
    "    # Write the LaTeX code into the file\n",
    "    with open(output_filename, \"w\") as latex_file:\n",
    "        latex_file.write(header)\n",
    "        for i, tf in enumerate(TFs, 1):\n",
    "            latex_file.write(f\"\\\\subsection*{{Transfer Function {i}}}\\n\")\n",
    "            latex_file.write(f\"\\\\[ H(s) = {latex(tf)} \\\\]\\n\")\n",
    "            # # Add a page break after each equation (optional)\n",
    "            # latex_file.write(\"\\\\newpage\\n\")\n",
    "        latex_file.write(footer)\n"
   ]
  },
  {
   "cell_type": "markdown",
   "metadata": {
    "id": "xFTEYsnbbxCa"
   },
   "source": [
    "# Testing all algorithms"
   ]
  },
  {
   "cell_type": "code",
   "execution_count": null,
   "metadata": {
    "colab": {
     "base_uri": "https://localhost:8080/"
    },
    "id": "9RSsFhkcaF_4",
    "outputId": "d70c5164-ace6-4682-9f7a-2d1d410ca7de"
   },
   "outputs": [],
   "source": [
    "# Testing Algorithm 1\n",
    "impedance_combinations = getCommonSourceImpedanceCombinations()\n",
    "print(\"Number of impedance combinations: {}\".format(len(impedance_combinations)))\n",
    "\n",
    "impedanceBatch = impedance_combinations[0:10]\n",
    "TFs = getCommonSourceTFs(impedanceBatch)\n",
    "\n",
    "# Output summary of results\n",
    "print(\"================\")\n",
    "print(\"Number of transfer functions found: {}\".format(len(TFs)))\n",
    "for i, tf in enumerate(TFs, 1):\n",
    "    print(\"TF {}: {}\".format(i, tf))\n"
   ]
  },
  {
   "cell_type": "code",
   "execution_count": null,
   "metadata": {
    "colab": {
     "base_uri": "https://localhost:8080/"
    },
    "id": "Douhkrdoi17o",
    "outputId": "ba0af643-ef2e-4108-c9a4-1cd3a8953098"
   },
   "outputs": [],
   "source": [
    "# Testting Algorithm 2\n",
    "filterParameters = computeFilterParameters(TFs, impedanceBatch)\n",
    "outputs = classifyFilterParameters(filterParameters)"
   ]
  },
  {
   "cell_type": "code",
   "execution_count": null,
   "metadata": {},
   "outputs": [],
   "source": [
    "# Example usage\n",
    "s = symbols(\"s\")\n",
    "TFs = [\n",
    "    simplify((s + 1) / (s**2 + 3 * s + 2)),\n",
    "    simplify(1 / (s**2 + s + 1))\n",
    "]\n",
    "save_TFs_as_pdf(TFs, \"test.pdf\")\n",
    "\n",
    "parameters = computeFilterParameters(TFs, [1, 2])\n",
    "print()\n",
    "print(\"++++++++\")\n",
    "\n",
    "output = classifyFilterParameters(parameters)\n",
    "pprint(output)\n",
    "\n",
    "print(\"++++++++\")\n",
    "x = findFilterInClassification(\"LP\", output)\n",
    "pprint(x)"
   ]
  },
  {
   "cell_type": "markdown",
   "metadata": {
    "id": "1xzhunn9b1B-"
   },
   "source": [
    "# Experiment Runs"
   ]
  },
  {
   "cell_type": "code",
   "execution_count": 12,
   "metadata": {},
   "outputs": [],
   "source": [
    "\"\"\"\n",
    "Select from the below defintions\n",
    "T_select ={\n",
    "\"simple\" : Matrix([[0, -1/gm],[0, 0]]),\n",
    "\"symbolic\" : Matrix([[a11, a12],[a21, a22]]),\n",
    "\"some_parasitic\" : Matrix([[-1/(gm*ro), -1/gm],[0, 0]]),\n",
    "\"full_parasitic\" : Matrix([[(1/ro + s*Cgd)/(s*Cgd - gm), 1/(s*Cgd - gm)],[(Cgd*Cgs*ro*s + Cgd*gm*ro + Cgs + Cgd)*s/(s*Cgd - gm), (Cgs+Cgd)*s/(s*Cgd - gm)]])\n",
    "}\n",
    "\"\"\"\n",
    "\n",
    "# Select a transimision matrix\n",
    "T_type = \"symbolic\"\n",
    "T_a = T_select[T_type]\n",
    "T_b = T_select[T_type]\n"
   ]
  },
  {
   "cell_type": "markdown",
   "metadata": {
    "id": "HURzShJdunzE"
   },
   "source": [
    "## Common Source"
   ]
  },
  {
   "cell_type": "code",
   "execution_count": 13,
   "metadata": {},
   "outputs": [
    {
     "name": "stdout",
     "output_type": "stream",
     "text": [
      "====CommonSource====\n",
      "(1) set up the nodal equation\n",
      "(2) solved the base transfer function\n",
      "FOUND THE BASE TF\n"
     ]
    }
   ],
   "source": [
    "# Improves efficiency by pre-computing the Transfer Function H(s, Z)\n",
    "baseHs_CS = _getCommonSourceBaseHs() "
   ]
  },
  {
   "cell_type": "code",
   "execution_count": null,
   "metadata": {
    "colab": {
     "base_uri": "https://localhost:8080/"
    },
    "id": "EroaCnKPb8Qc",
    "outputId": "482e7732-3b8a-4a20-80ce-690a2eb173d5"
   },
   "outputs": [
    {
     "name": "stderr",
     "output_type": "stream",
     "text": [
      "Getting the TFs (CS): 100%|██████████| 10/10 [00:02<00:00,  3.75combo/s]"
     ]
    },
    {
     "name": "stdout",
     "output_type": "stream",
     "text": [
      "Number of transfer functions found: 10\n",
      "TF 1: R1*R2*R4*RL*(-R3*R5 + R3*a12 - R5*a12)/(-R1*R2*R3*R4*R5*RL*Rs*a21 - R1*R2*R3*R4*R5*RL*a11 - R1*R2*R3*R4*R5*Rs*a22 + R1*R2*R3*R4*R5*a12 + R1*R2*R3*R4*RL*Rs*a11*a22 - R1*R2*R3*R4*RL*Rs*a11 + R1*R2*R3*R4*RL*Rs*a12*a21 - R1*R2*R3*R4*RL*Rs*a22 + R1*R2*R3*R4*RL*Rs + R1*R2*R3*R4*RL*a12 + R1*R2*R3*R4*Rs*a12 - 2*R1*R2*R3*R5*RL*Rs*a22 + 2*R1*R2*R3*R5*RL*a12 + 2*R1*R2*R3*RL*Rs*a12 - R1*R2*R4*R5*RL*Rs*a11*a22 - R1*R2*R4*R5*RL*Rs*a11 - R1*R2*R4*R5*RL*Rs*a12*a21 - R1*R2*R4*R5*RL*Rs*a22 - R1*R2*R4*R5*RL*Rs + R1*R2*R4*R5*RL*a12 + R1*R2*R4*R5*Rs*a12 + 4*R1*R2*R4*RL*Rs*a12 + 2*R1*R2*R5*RL*Rs*a12 - R1*R3*R4*R5*RL*Rs*a22 + R1*R3*R4*R5*RL*a12 + R1*R3*R4*RL*Rs*a12 + R1*R4*R5*RL*Rs*a12 - R2*R3*R4*R5*RL*Rs*a11 + R2*R3*R4*R5*Rs*a12 + R2*R3*R4*RL*Rs*a12 + 2*R2*R3*R5*RL*Rs*a12 + R2*R4*R5*RL*Rs*a12 + R3*R4*R5*RL*Rs*a12)\n",
      "TF 2: R1*R2*R4*(-R3*R5 + R3*a12 - R5*a12)/(-CL*R1*R2*R3*R4*R5*Rs*a22*s + CL*R1*R2*R3*R4*R5*a12*s + CL*R1*R2*R3*R4*Rs*a12*s + CL*R1*R2*R4*R5*Rs*a12*s + CL*R2*R3*R4*R5*Rs*a12*s - R1*R2*R3*R4*R5*Rs*a21 - R1*R2*R3*R4*R5*a11 + R1*R2*R3*R4*Rs*a11*a22 - R1*R2*R3*R4*Rs*a11 + R1*R2*R3*R4*Rs*a12*a21 - R1*R2*R3*R4*Rs*a22 + R1*R2*R3*R4*Rs + R1*R2*R3*R4*a12 - 2*R1*R2*R3*R5*Rs*a22 + 2*R1*R2*R3*R5*a12 + 2*R1*R2*R3*Rs*a12 - R1*R2*R4*R5*Rs*a11*a22 - R1*R2*R4*R5*Rs*a11 - R1*R2*R4*R5*Rs*a12*a21 - R1*R2*R4*R5*Rs*a22 - R1*R2*R4*R5*Rs + R1*R2*R4*R5*a12 + 4*R1*R2*R4*Rs*a12 + 2*R1*R2*R5*Rs*a12 - R1*R3*R4*R5*Rs*a22 + R1*R3*R4*R5*a12 + R1*R3*R4*Rs*a12 + R1*R4*R5*Rs*a12 - R2*R3*R4*R5*Rs*a11 + R2*R3*R4*Rs*a12 + 2*R2*R3*R5*Rs*a12 + R2*R4*R5*Rs*a12 + R3*R4*R5*Rs*a12)\n",
      "TF 3: LL*R1*R2*R4*s*(-R3*R5 + R3*a12 - R5*a12)/(-LL*R1*R2*R3*R4*R5*Rs*a21*s - LL*R1*R2*R3*R4*R5*a11*s + LL*R1*R2*R3*R4*Rs*a11*a22*s - LL*R1*R2*R3*R4*Rs*a11*s + LL*R1*R2*R3*R4*Rs*a12*a21*s - LL*R1*R2*R3*R4*Rs*a22*s + LL*R1*R2*R3*R4*Rs*s + LL*R1*R2*R3*R4*a12*s - 2*LL*R1*R2*R3*R5*Rs*a22*s + 2*LL*R1*R2*R3*R5*a12*s + 2*LL*R1*R2*R3*Rs*a12*s - LL*R1*R2*R4*R5*Rs*a11*a22*s - LL*R1*R2*R4*R5*Rs*a11*s - LL*R1*R2*R4*R5*Rs*a12*a21*s - LL*R1*R2*R4*R5*Rs*a22*s - LL*R1*R2*R4*R5*Rs*s + LL*R1*R2*R4*R5*a12*s + 4*LL*R1*R2*R4*Rs*a12*s + 2*LL*R1*R2*R5*Rs*a12*s - LL*R1*R3*R4*R5*Rs*a22*s + LL*R1*R3*R4*R5*a12*s + LL*R1*R3*R4*Rs*a12*s + LL*R1*R4*R5*Rs*a12*s - LL*R2*R3*R4*R5*Rs*a11*s + LL*R2*R3*R4*Rs*a12*s + 2*LL*R2*R3*R5*Rs*a12*s + LL*R2*R4*R5*Rs*a12*s + LL*R3*R4*R5*Rs*a12*s - R1*R2*R3*R4*R5*Rs*a22 + R1*R2*R3*R4*R5*a12 + R1*R2*R3*R4*Rs*a12 + R1*R2*R4*R5*Rs*a12 + R2*R3*R4*R5*Rs*a12)\n",
      "TF 4: R1*R2*R4*RL*(-R3*R5 + R3*a12 - R5*a12)/(-CL*R1*R2*R3*R4*R5*RL*Rs*a22*s + CL*R1*R2*R3*R4*R5*RL*a12*s + CL*R1*R2*R3*R4*RL*Rs*a12*s + CL*R1*R2*R4*R5*RL*Rs*a12*s + CL*R2*R3*R4*R5*RL*Rs*a12*s - R1*R2*R3*R4*R5*RL*Rs*a21 - R1*R2*R3*R4*R5*RL*a11 - R1*R2*R3*R4*R5*Rs*a22 + R1*R2*R3*R4*R5*a12 + R1*R2*R3*R4*RL*Rs*a11*a22 - R1*R2*R3*R4*RL*Rs*a11 + R1*R2*R3*R4*RL*Rs*a12*a21 - R1*R2*R3*R4*RL*Rs*a22 + R1*R2*R3*R4*RL*Rs + R1*R2*R3*R4*RL*a12 + R1*R2*R3*R4*Rs*a12 - 2*R1*R2*R3*R5*RL*Rs*a22 + 2*R1*R2*R3*R5*RL*a12 + 2*R1*R2*R3*RL*Rs*a12 - R1*R2*R4*R5*RL*Rs*a11*a22 - R1*R2*R4*R5*RL*Rs*a11 - R1*R2*R4*R5*RL*Rs*a12*a21 - R1*R2*R4*R5*RL*Rs*a22 - R1*R2*R4*R5*RL*Rs + R1*R2*R4*R5*RL*a12 + R1*R2*R4*R5*Rs*a12 + 4*R1*R2*R4*RL*Rs*a12 + 2*R1*R2*R5*RL*Rs*a12 - R1*R3*R4*R5*RL*Rs*a22 + R1*R3*R4*R5*RL*a12 + R1*R3*R4*RL*Rs*a12 + R1*R4*R5*RL*Rs*a12 - R2*R3*R4*R5*RL*Rs*a11 + R2*R3*R4*R5*Rs*a12 + R2*R3*R4*RL*Rs*a12 + 2*R2*R3*R5*RL*Rs*a12 + R2*R4*R5*RL*Rs*a12 + R3*R4*R5*RL*Rs*a12)\n",
      "TF 5: LL*R1*R2*R4*s*(-R3*R5 + R3*a12 - R5*a12)/(-CL*LL*R1*R2*R3*R4*R5*Rs*a22*s**2 + CL*LL*R1*R2*R3*R4*R5*a12*s**2 + CL*LL*R1*R2*R3*R4*Rs*a12*s**2 + CL*LL*R1*R2*R4*R5*Rs*a12*s**2 + CL*LL*R2*R3*R4*R5*Rs*a12*s**2 - LL*R1*R2*R3*R4*R5*Rs*a21*s - LL*R1*R2*R3*R4*R5*a11*s + LL*R1*R2*R3*R4*Rs*a11*a22*s - LL*R1*R2*R3*R4*Rs*a11*s + LL*R1*R2*R3*R4*Rs*a12*a21*s - LL*R1*R2*R3*R4*Rs*a22*s + LL*R1*R2*R3*R4*Rs*s + LL*R1*R2*R3*R4*a12*s - 2*LL*R1*R2*R3*R5*Rs*a22*s + 2*LL*R1*R2*R3*R5*a12*s + 2*LL*R1*R2*R3*Rs*a12*s - LL*R1*R2*R4*R5*Rs*a11*a22*s - LL*R1*R2*R4*R5*Rs*a11*s - LL*R1*R2*R4*R5*Rs*a12*a21*s - LL*R1*R2*R4*R5*Rs*a22*s - LL*R1*R2*R4*R5*Rs*s + LL*R1*R2*R4*R5*a12*s + 4*LL*R1*R2*R4*Rs*a12*s + 2*LL*R1*R2*R5*Rs*a12*s - LL*R1*R3*R4*R5*Rs*a22*s + LL*R1*R3*R4*R5*a12*s + LL*R1*R3*R4*Rs*a12*s + LL*R1*R4*R5*Rs*a12*s - LL*R2*R3*R4*R5*Rs*a11*s + LL*R2*R3*R4*Rs*a12*s + 2*LL*R2*R3*R5*Rs*a12*s + LL*R2*R4*R5*Rs*a12*s + LL*R3*R4*R5*Rs*a12*s - R1*R2*R3*R4*R5*Rs*a22 + R1*R2*R3*R4*R5*a12 + R1*R2*R3*R4*Rs*a12 + R1*R2*R4*R5*Rs*a12 + R2*R3*R4*R5*Rs*a12)\n",
      "TF 6: R1*R2*R4*RL*(C5*R3*a12*s - R3 - a12)/(C5*R1*R2*R3*R4*RL*Rs*a11*a22*s - C5*R1*R2*R3*R4*RL*Rs*a11*s + C5*R1*R2*R3*R4*RL*Rs*a12*a21*s - C5*R1*R2*R3*R4*RL*Rs*a22*s + C5*R1*R2*R3*R4*RL*Rs*s + C5*R1*R2*R3*R4*RL*a12*s + C5*R1*R2*R3*R4*Rs*a12*s + 2*C5*R1*R2*R3*RL*Rs*a12*s + 4*C5*R1*R2*R4*RL*Rs*a12*s + C5*R1*R3*R4*RL*Rs*a12*s + C5*R2*R3*R4*RL*Rs*a12*s - R1*R2*R3*R4*RL*Rs*a21 - R1*R2*R3*R4*RL*a11 - R1*R2*R3*R4*Rs*a22 + R1*R2*R3*R4*a12 - 2*R1*R2*R3*RL*Rs*a22 + 2*R1*R2*R3*RL*a12 - R1*R2*R4*RL*Rs*a11*a22 - R1*R2*R4*RL*Rs*a11 - R1*R2*R4*RL*Rs*a12*a21 - R1*R2*R4*RL*Rs*a22 - R1*R2*R4*RL*Rs + R1*R2*R4*RL*a12 + R1*R2*R4*Rs*a12 + 2*R1*R2*RL*Rs*a12 - R1*R3*R4*RL*Rs*a22 + R1*R3*R4*RL*a12 + R1*R4*RL*Rs*a12 - R2*R3*R4*RL*Rs*a11 + R2*R3*R4*Rs*a12 + 2*R2*R3*RL*Rs*a12 + R2*R4*RL*Rs*a12 + R3*R4*RL*Rs*a12)\n",
      "TF 7: R1*R2*R4*(C5*R3*a12*s - R3 - a12)/(C5*CL*R1*R2*R3*R4*Rs*a12*s**2 + C5*R1*R2*R3*R4*Rs*a11*a22*s - C5*R1*R2*R3*R4*Rs*a11*s + C5*R1*R2*R3*R4*Rs*a12*a21*s - C5*R1*R2*R3*R4*Rs*a22*s + C5*R1*R2*R3*R4*Rs*s + C5*R1*R2*R3*R4*a12*s + 2*C5*R1*R2*R3*Rs*a12*s + 4*C5*R1*R2*R4*Rs*a12*s + C5*R1*R3*R4*Rs*a12*s + C5*R2*R3*R4*Rs*a12*s - CL*R1*R2*R3*R4*Rs*a22*s + CL*R1*R2*R3*R4*a12*s + CL*R1*R2*R4*Rs*a12*s + CL*R2*R3*R4*Rs*a12*s - R1*R2*R3*R4*Rs*a21 - R1*R2*R3*R4*a11 - 2*R1*R2*R3*Rs*a22 + 2*R1*R2*R3*a12 - R1*R2*R4*Rs*a11*a22 - R1*R2*R4*Rs*a11 - R1*R2*R4*Rs*a12*a21 - R1*R2*R4*Rs*a22 - R1*R2*R4*Rs + R1*R2*R4*a12 + 2*R1*R2*Rs*a12 - R1*R3*R4*Rs*a22 + R1*R3*R4*a12 + R1*R4*Rs*a12 - R2*R3*R4*Rs*a11 + 2*R2*R3*Rs*a12 + R2*R4*Rs*a12 + R3*R4*Rs*a12)\n",
      "TF 8: LL*R1*R2*R4*s*(C5*R3*a12*s - R3 - a12)/(C5*LL*R1*R2*R3*R4*Rs*a11*a22*s**2 - C5*LL*R1*R2*R3*R4*Rs*a11*s**2 + C5*LL*R1*R2*R3*R4*Rs*a12*a21*s**2 - C5*LL*R1*R2*R3*R4*Rs*a22*s**2 + C5*LL*R1*R2*R3*R4*Rs*s**2 + C5*LL*R1*R2*R3*R4*a12*s**2 + 2*C5*LL*R1*R2*R3*Rs*a12*s**2 + 4*C5*LL*R1*R2*R4*Rs*a12*s**2 + C5*LL*R1*R3*R4*Rs*a12*s**2 + C5*LL*R2*R3*R4*Rs*a12*s**2 + C5*R1*R2*R3*R4*Rs*a12*s - LL*R1*R2*R3*R4*Rs*a21*s - LL*R1*R2*R3*R4*a11*s - 2*LL*R1*R2*R3*Rs*a22*s + 2*LL*R1*R2*R3*a12*s - LL*R1*R2*R4*Rs*a11*a22*s - LL*R1*R2*R4*Rs*a11*s - LL*R1*R2*R4*Rs*a12*a21*s - LL*R1*R2*R4*Rs*a22*s - LL*R1*R2*R4*Rs*s + LL*R1*R2*R4*a12*s + 2*LL*R1*R2*Rs*a12*s - LL*R1*R3*R4*Rs*a22*s + LL*R1*R3*R4*a12*s + LL*R1*R4*Rs*a12*s - LL*R2*R3*R4*Rs*a11*s + 2*LL*R2*R3*Rs*a12*s + LL*R2*R4*Rs*a12*s + LL*R3*R4*Rs*a12*s - R1*R2*R3*R4*Rs*a22 + R1*R2*R3*R4*a12 + R1*R2*R4*Rs*a12 + R2*R3*R4*Rs*a12)\n",
      "TF 9: R1*R2*R4*RL*(C5*R3*a12*s - R3 - a12)/(C5*CL*R1*R2*R3*R4*RL*Rs*a12*s**2 + C5*R1*R2*R3*R4*RL*Rs*a11*a22*s - C5*R1*R2*R3*R4*RL*Rs*a11*s + C5*R1*R2*R3*R4*RL*Rs*a12*a21*s - C5*R1*R2*R3*R4*RL*Rs*a22*s + C5*R1*R2*R3*R4*RL*Rs*s + C5*R1*R2*R3*R4*RL*a12*s + C5*R1*R2*R3*R4*Rs*a12*s + 2*C5*R1*R2*R3*RL*Rs*a12*s + 4*C5*R1*R2*R4*RL*Rs*a12*s + C5*R1*R3*R4*RL*Rs*a12*s + C5*R2*R3*R4*RL*Rs*a12*s - CL*R1*R2*R3*R4*RL*Rs*a22*s + CL*R1*R2*R3*R4*RL*a12*s + CL*R1*R2*R4*RL*Rs*a12*s + CL*R2*R3*R4*RL*Rs*a12*s - R1*R2*R3*R4*RL*Rs*a21 - R1*R2*R3*R4*RL*a11 - R1*R2*R3*R4*Rs*a22 + R1*R2*R3*R4*a12 - 2*R1*R2*R3*RL*Rs*a22 + 2*R1*R2*R3*RL*a12 - R1*R2*R4*RL*Rs*a11*a22 - R1*R2*R4*RL*Rs*a11 - R1*R2*R4*RL*Rs*a12*a21 - R1*R2*R4*RL*Rs*a22 - R1*R2*R4*RL*Rs + R1*R2*R4*RL*a12 + R1*R2*R4*Rs*a12 + 2*R1*R2*RL*Rs*a12 - R1*R3*R4*RL*Rs*a22 + R1*R3*R4*RL*a12 + R1*R4*RL*Rs*a12 - R2*R3*R4*RL*Rs*a11 + R2*R3*R4*Rs*a12 + 2*R2*R3*RL*Rs*a12 + R2*R4*RL*Rs*a12 + R3*R4*RL*Rs*a12)\n",
      "TF 10: LL*R1*R2*R4*s*(C5*R3*a12*s - R3 - a12)/(C5*CL*LL*R1*R2*R3*R4*Rs*a12*s**3 + C5*LL*R1*R2*R3*R4*Rs*a11*a22*s**2 - C5*LL*R1*R2*R3*R4*Rs*a11*s**2 + C5*LL*R1*R2*R3*R4*Rs*a12*a21*s**2 - C5*LL*R1*R2*R3*R4*Rs*a22*s**2 + C5*LL*R1*R2*R3*R4*Rs*s**2 + C5*LL*R1*R2*R3*R4*a12*s**2 + 2*C5*LL*R1*R2*R3*Rs*a12*s**2 + 4*C5*LL*R1*R2*R4*Rs*a12*s**2 + C5*LL*R1*R3*R4*Rs*a12*s**2 + C5*LL*R2*R3*R4*Rs*a12*s**2 + C5*R1*R2*R3*R4*Rs*a12*s - CL*LL*R1*R2*R3*R4*Rs*a22*s**2 + CL*LL*R1*R2*R3*R4*a12*s**2 + CL*LL*R1*R2*R4*Rs*a12*s**2 + CL*LL*R2*R3*R4*Rs*a12*s**2 - LL*R1*R2*R3*R4*Rs*a21*s - LL*R1*R2*R3*R4*a11*s - 2*LL*R1*R2*R3*Rs*a22*s + 2*LL*R1*R2*R3*a12*s - LL*R1*R2*R4*Rs*a11*a22*s - LL*R1*R2*R4*Rs*a11*s - LL*R1*R2*R4*Rs*a12*a21*s - LL*R1*R2*R4*Rs*a22*s - LL*R1*R2*R4*Rs*s + LL*R1*R2*R4*a12*s + 2*LL*R1*R2*Rs*a12*s - LL*R1*R3*R4*Rs*a22*s + LL*R1*R3*R4*a12*s + LL*R1*R4*Rs*a12*s - LL*R2*R3*R4*Rs*a11*s + 2*LL*R2*R3*Rs*a12*s + LL*R2*R4*Rs*a12*s + LL*R3*R4*Rs*a12*s - R1*R2*R3*R4*Rs*a22 + R1*R2*R3*R4*a12 + R1*R2*R4*Rs*a12 + R2*R3*R4*Rs*a12)\n"
     ]
    },
    {
     "name": "stderr",
     "output_type": "stream",
     "text": [
      "\n"
     ]
    }
   ],
   "source": [
    "# Sanity Check \n",
    "impedance_combinations = getCommonSourceImpedanceCombinations()\n",
    "batchSize = 10\n",
    "batch = impedance_combinations[0:batchSize]\n",
    "\n",
    "TFs = getCommonSourceTFs_V2(batch, baseHs_CS)\n",
    "\n",
    "# Output summary of results\n",
    "print(\"Number of transfer functions found: {}\".format(len(TFs)))\n",
    "for i, tf in enumerate(TFs, 1):\n",
    "    print(\"TF {}: {}\".format(i, tf))\n",
    "\n",
    "# save_TFs_as_LaTex(TFs, \"CS_testRun\")\n",
    "# !latex Outputs/CS_testRun.tex"
   ]
  },
  {
   "cell_type": "code",
   "execution_count": null,
   "metadata": {},
   "outputs": [],
   "source": [
    "# !latex Outputs/CS_testRun.tex # uncomment to compile the CS_test.tex"
   ]
  },
  {
   "cell_type": "markdown",
   "metadata": {
    "id": "TFhJN2y8urQc"
   },
   "source": [
    "## Common Gate"
   ]
  },
  {
   "cell_type": "code",
   "execution_count": 13,
   "metadata": {},
   "outputs": [
    {
     "name": "stdout",
     "output_type": "stream",
     "text": [
      "====CommonGate====\n",
      "(1) set up the nodal equation\n",
      "(2) solved the base transfer function\n",
      "FOUND THE BASE TF\n"
     ]
    },
    {
     "data": {
      "text/latex": [
       "$\\displaystyle \\frac{Z_{3} Z_{4} ZL \\left(Z_{2} Z_{5} a_{11} - Z_{2} Z_{5} - Z_{2} a_{12} + Z_{5} a_{12}\\right)}{Z_{2} Z_{3} Z_{4} Z_{5} ZL a_{11} + Z_{2} Z_{3} Z_{4} Z_{5} a_{12} + Z_{2} Z_{3} Z_{4} ZL a_{12} + 2 Z_{2} Z_{3} Z_{5} ZL a_{12} + Z_{2} Z_{4} Z_{5} ZL a_{12} + Z_{3} Z_{4} Z_{5} ZL a_{12}}$"
      ],
      "text/plain": [
       "Z3*Z4*ZL*(Z2*Z5*a11 - Z2*Z5 - Z2*a12 + Z5*a12)/(Z2*Z3*Z4*Z5*ZL*a11 + Z2*Z3*Z4*Z5*a12 + Z2*Z3*Z4*ZL*a12 + 2*Z2*Z3*Z5*ZL*a12 + Z2*Z4*Z5*ZL*a12 + Z3*Z4*Z5*ZL*a12)"
      ]
     },
     "execution_count": 13,
     "metadata": {},
     "output_type": "execute_result"
    }
   ],
   "source": [
    "baseHs_CG = _getCommonGateBaseHs()\n",
    "baseHs_CG"
   ]
  },
  {
   "cell_type": "code",
   "execution_count": 14,
   "metadata": {
    "id": "GPx326vTu2Vy"
   },
   "outputs": [
    {
     "name": "stderr",
     "output_type": "stream",
     "text": [
      "Getting the TFs (CG): 100%|██████████| 10/10 [00:00<00:00, 13.13combo/s]"
     ]
    },
    {
     "name": "stdout",
     "output_type": "stream",
     "text": [
      "Number of transfer functions found: 10\n",
      "H(s) 1: R3*RL*(R2*R4*a11 - R2*R4 - R2*a12 + R4*a12)/(R2*R3*R4*RL*a11 + R2*R3*R4*a12 + 3*R2*R3*RL*a12 + R2*R4*RL*a12 + R3*R4*RL*a12)\n",
      "H(s) 2: LL*R3*s*(R2*R4*a11 - R2*R4 - R2*a12 + R4*a12)/(LL*R2*R3*R4*a11*s + 3*LL*R2*R3*a12*s + LL*R2*R4*a12*s + LL*R3*R4*a12*s + R2*R3*R4*a12)\n",
      "H(s) 3: R3*(R2*R4*a11 - R2*R4 - R2*a12 + R4*a12)/(CL*R2*R3*R4*a12*s + R2*R3*R4*a11 + 3*R2*R3*a12 + R2*R4*a12 + R3*R4*a12)\n",
      "H(s) 4: R3*RL*(R2*R4*a11 - R2*R4 - R2*a12 + R4*a12)/(CL*R2*R3*R4*RL*a12*s + R2*R3*R4*RL*a11 + R2*R3*R4*a12 + 3*R2*R3*RL*a12 + R2*R4*RL*a12 + R3*R4*RL*a12)\n",
      "H(s) 5: R3*(CL*RL*s + 1)*(R2*R4*a11 - R2*R4 - R2*a12 + R4*a12)/(CL*R2*R3*R4*RL*a11*s + CL*R2*R3*R4*a12*s + 3*CL*R2*R3*RL*a12*s + CL*R2*R4*RL*a12*s + CL*R3*R4*RL*a12*s + R2*R3*R4*a11 + 3*R2*R3*a12 + R2*R4*a12 + R3*R4*a12)\n",
      "H(s) 6: R3*(CL*LL*s**2 + 1)*(R2*R4*a11 - R2*R4 - R2*a12 + R4*a12)/(CL*LL*R2*R3*R4*a11*s**2 + 3*CL*LL*R2*R3*a12*s**2 + CL*LL*R2*R4*a12*s**2 + CL*LL*R3*R4*a12*s**2 + CL*R2*R3*R4*a12*s + R2*R3*R4*a11 + 3*R2*R3*a12 + R2*R4*a12 + R3*R4*a12)\n",
      "H(s) 7: LL*R3*s*(R2*R4*a11 - R2*R4 - R2*a12 + R4*a12)/(CL*LL*R2*R3*R4*a12*s**2 + LL*R2*R3*R4*a11*s + 3*LL*R2*R3*a12*s + LL*R2*R4*a12*s + LL*R3*R4*a12*s + R2*R3*R4*a12)\n",
      "H(s) 8: R3*(CL*LL*s**2 + CL*RL*s + 1)*(R2*R4*a11 - R2*R4 - R2*a12 + R4*a12)/(CL*LL*R2*R3*R4*a11*s**2 + 3*CL*LL*R2*R3*a12*s**2 + CL*LL*R2*R4*a12*s**2 + CL*LL*R3*R4*a12*s**2 + CL*R2*R3*R4*RL*a11*s + CL*R2*R3*R4*a12*s + 3*CL*R2*R3*RL*a12*s + CL*R2*R4*RL*a12*s + CL*R3*R4*RL*a12*s + R2*R3*R4*a11 + 3*R2*R3*a12 + R2*R4*a12 + R3*R4*a12)\n",
      "H(s) 9: LL*R3*RL*s*(R2*R4*a11 - R2*R4 - R2*a12 + R4*a12)/(CL*LL*R2*R3*R4*RL*a12*s**2 + LL*R2*R3*R4*RL*a11*s + LL*R2*R3*R4*a12*s + 3*LL*R2*R3*RL*a12*s + LL*R2*R4*RL*a12*s + LL*R3*R4*RL*a12*s + R2*R3*R4*RL*a12)\n",
      "H(s) 10: R3*(CL*LL*RL*s**2 + LL*s + RL)*(R2*R4*a11 - R2*R4 - R2*a12 + R4*a12)/(CL*LL*R2*R3*R4*RL*a11*s**2 + CL*LL*R2*R3*R4*a12*s**2 + 3*CL*LL*R2*R3*RL*a12*s**2 + CL*LL*R2*R4*RL*a12*s**2 + CL*LL*R3*R4*RL*a12*s**2 + LL*R2*R3*R4*a11*s + 3*LL*R2*R3*a12*s + LL*R2*R4*a12*s + LL*R3*R4*a12*s + R2*R3*R4*RL*a11 + R2*R3*R4*a12 + 3*R2*R3*RL*a12 + R2*R4*RL*a12 + R3*R4*RL*a12)\n"
     ]
    },
    {
     "name": "stderr",
     "output_type": "stream",
     "text": [
      "\n"
     ]
    }
   ],
   "source": [
    "impedance_combinations = getCommonGateImpedanceCombinations()\n",
    "batch = impedance_combinations[0:10]\n",
    "# batch = [[1, 1, 1, 1, 1, 1]]\n",
    "\n",
    "TFs = getCommonGateTFs_V2(batch, baseHs_CG)\n",
    "\n",
    "# Output summary of results\n",
    "print(\"Number of transfer functions found: {}\".format(len(TFs)))\n",
    "for i, tf in enumerate(TFs, 1):\n",
    "    print(\"H(s) {}: {}\".format(i, tf))\n",
    "\n",
    "# save_TFs_as_LaTex(TFs, \"CG_testRun\")"
   ]
  },
  {
   "cell_type": "code",
   "execution_count": 17,
   "metadata": {},
   "outputs": [
    {
     "data": {
      "text/latex": [
       "$\\displaystyle \\frac{R_{3} RL \\left(R_{2} R_{4} a_{11} - R_{2} R_{4} - R_{2} a_{12} + R_{4} a_{12}\\right)}{R_{2} R_{3} R_{4} RL a_{11} + R_{2} R_{3} R_{4} a_{12} + 3 R_{2} R_{3} RL a_{12} + R_{2} R_{4} RL a_{12} + R_{3} R_{4} RL a_{12}}$"
      ],
      "text/plain": [
       "R3*RL*(R2*R4*a11 - R2*R4 - R2*a12 + R4*a12)/(R2*R3*R4*RL*a11 + R2*R3*R4*a12 + 3*R2*R3*RL*a12 + R2*R4*RL*a12 + R3*R4*RL*a12)"
      ]
     },
     "execution_count": 17,
     "metadata": {},
     "output_type": "execute_result"
    }
   ],
   "source": [
    "# Preview the TF\n",
    "TFs[0]"
   ]
  },
  {
   "cell_type": "code",
   "execution_count": null,
   "metadata": {},
   "outputs": [],
   "source": [
    "!pdflatex Outputs/CS_testRun.tex"
   ]
  },
  {
   "cell_type": "markdown",
   "metadata": {
    "id": "mlJyWSiSacqN"
   },
   "source": [
    "# Saving the environment parameters\n",
    "Use the code block below to save the experiment.\n",
    "\n",
    "**Requires the Dill library to be pip installed**"
   ]
  },
  {
   "cell_type": "code",
   "execution_count": null,
   "metadata": {
    "id": "E9x-ZQCcxncw"
   },
   "outputs": [],
   "source": [
    "# Saving the variable with dill\n",
    "variables = {'TFs': TFs, 'Impedance_combinations': impedance_combinations}\n",
    "\n",
    "with open('sympy_variables.dill', 'wb') as f:\n",
    "    dill.dump(variables, f)"
   ]
  },
  {
   "cell_type": "code",
   "execution_count": null,
   "metadata": {
    "id": "1dWiGiyox0xb"
   },
   "outputs": [],
   "source": [
    "# Loading the variabels with dill\n",
    "with open('sympy_variables.dill', 'rb') as f:\n",
    "    loaded_variables = dill.load(f)\n",
    "\n",
    "# Access the loaded symbolic expressions and variables\n",
    "TFs = loaded_variables['TFs']\n",
    "Impedance_combinations = loaded_variables['Impedance_combinations']"
   ]
  },
  {
   "cell_type": "code",
   "execution_count": null,
   "metadata": {
    "id": "uPj3sONOrrRy"
   },
   "outputs": [],
   "source": []
  },
  {
   "cell_type": "markdown",
   "metadata": {
    "id": "e-eSKsVmrsPf"
   },
   "source": [
    "# Archive"
   ]
  },
  {
   "cell_type": "markdown",
   "metadata": {
    "id": "aCD1n1KKtfyO"
   },
   "source": [
    "## OLD approach (Common Source)"
   ]
  },
  {
   "cell_type": "code",
   "execution_count": null,
   "metadata": {
    "id": "xB2BfqE5t8N_"
   },
   "outputs": [],
   "source": [
    "def getTFs(batch):\n",
    "  numOfSolutions = 0\n",
    "  counter = 0\n",
    "  TFs = []\n",
    "  for combo in tqdm(batch, desc=\"Getting the TFs\", unit=\"combo\"):\n",
    "      Zs, Z1, Z2, Z3, Z4, Z5, ZL = combo\n",
    "\n",
    "      Vip, Va, Von, Vx, Vop, Vb, Vin, I1a, I1b, I2a, I2b = symbols('Vip Va Von Vx Vop Vb Vin I1a I1b I2a I2b')\n",
    "      V2a, V2b, V1a, V1b =  symbols('V2a V2b V1a V1b')\n",
    "\n",
    "      # Define nodal equations (Eq. 3a-3i) -> list[ Eq(left-hand-side, right-hand-side), ... ]\n",
    "      equations = [\n",
    "          # 3a\n",
    "          Eq(0, I1a + I2a + I1b + I2b + (Vb-Vx)/Z1 + (Von - Vx)/Z2 + (Vop - Vx)/Z2 + (Va - Vx)/Z1),\n",
    "          # 3b\n",
    "          Eq(I1a, (Vip - Va)/Zs + (Von - Va)/Z3 + (Vx - Va)/Z1 + (Vop - Va)/Z5),\n",
    "          # 3c\n",
    "          Eq(I1b, (Vin - Vb)/Zs + (Vop - Vb)/Z3 + (Vx - Vb)/Z1 + (Von - Vb)/Z5),\n",
    "          # 3d\n",
    "          Eq(I2a, (Va - Von)/Z3 + (Vx - Von)/Z2 + (0 - Von)/ZL + (Vop - Von)/Z4 + (Vb - Von)/Z5),\n",
    "          # 3e\n",
    "          Eq(I2b, (Vb - Vop)/Z3 + (Vx - Vop)/Z2 + (0 - Vop)/ZL + (Von - Vop)/Z4 + (Va - Vop)/Z5),\n",
    "          # 3f\n",
    "          Eq(Vx + V2a, Vop),\n",
    "          Eq(Vx + V2b, Von),\n",
    "          # 3g\n",
    "          Eq(Vx + V1a, Va),\n",
    "          Eq(Vx + V1b, Vb),\n",
    "          # 3h: Transistor a\n",
    "          Eq(V1a, T_a[0,0]*V2a - T_a[0,1]*I2a),\n",
    "          Eq(I1a, T_a[1,0]*V2a + T_a[1,1]*I2a),\n",
    "          # 3i: Transistor b\n",
    "          Eq(V1b, T_b[0,0]*V2b - T_b[0,1]*I2b),\n",
    "          Eq(I1b, T_b[1,0]*V2b + T_b[1,1]*I2b)\n",
    "          ]\n",
    "\n",
    "      # Solve for transfer function\n",
    "      solution = solve(equations, [\n",
    "          Vop, Von, I1a, I2a, V2a, V1a, V1b, V2b,\n",
    "          I1b, I2b, Vip, Vin, Vx\n",
    "      ])\n",
    "\n",
    "      if solution:\n",
    "          # Compute transfer function and append to list\n",
    "          numOfSolutions += 1\n",
    "          Hs = (solution[Vop] - solution[Von]) / (solution[Vip] - solution[Vin])\n",
    "          TFs.append(simplify(Hs))\n",
    "\n",
    "      counter += 1\n",
    "      if counter % 25 == 0:\n",
    "          print(\"\")\n",
    "          print(\"Processed {} combinations\".format(counter))\n",
    "          print(\"Number of solutions found: {}\".format(numOfSolutions))\n",
    "\n",
    "  return TFs"
   ]
  },
  {
   "cell_type": "code",
   "execution_count": null,
   "metadata": {
    "colab": {
     "base_uri": "https://localhost:8080/"
    },
    "id": "-cxtYfjRv9n_",
    "outputId": "85c3351f-bc21-4e39-b691-6e8f0115f334"
   },
   "outputs": [],
   "source": [
    "batch = [[Zs, Z1, Z2, Z3, Z4, Z5, ZL]]\n",
    "\n",
    "TFs = getTFs(batch)\n",
    "\n",
    "filterParameters = computeFilterParameters(TFs, batch)\n",
    "classifyFilters(filterParameters)\n",
    "\n",
    "# Output summary of results\n",
    "print(\"Number of transfer functions found: {}\".format(len(TFs)))\n",
    "for i, tf in enumerate(TFs, 1):\n",
    "    print(\"TF {}: {}\".format(i, tf))\n",
    "\n",
    "saveTFsLaTex(\"CS_testRun.tex\", TFs)"
   ]
  },
  {
   "cell_type": "code",
   "execution_count": null,
   "metadata": {},
   "outputs": [],
   "source": [
    "def getCommonSourceTFs(batch):\n",
    "    print(f\"====CommonSource==== batch size: {len(batch)}\")\n",
    "    TFs = []\n",
    "    TransmissioMatrices = [T_a, T_b]\n",
    "    Iip, Iin, I1a, I1b, I2a, I2b  = symbols('Iip Iin I1a I1b I2a I2b')\n",
    "    Vin, V2a, V2b, V1a, V1b, Va, Vb, Von, Vop, Vip, Vx = symbols('Vin V2a V2b V1a V1b Va Vb Von Vop Vip Vx')\n",
    "\n",
    "    # Define nodal equations\n",
    "    equations = getCommonSourceEquation(TransmissioMatrices)\n",
    "\n",
    "    # Solve for transfer function\n",
    "    solution = solve(equations, [\n",
    "        Vop, Von, I1a, I2a, V2a, V1a, V1b, V2b,\n",
    "        I1b, I2b, Vip, Vin, Vx\n",
    "    ])\n",
    "\n",
    "    if solution:\n",
    "        baseHs = (solution[Vop] - solution[Von]) / (solution[Vip] - solution[Vin])\n",
    "        baseHs = simplify(baseHs.factor())\n",
    "\n",
    "    for zCombo in tqdm(batch, desc=\"Getting the TFs (CS)\", unit=\"combo\"):\n",
    "        Zs, Z1, Z2, Z3, Z4, Z5, ZL    = zCombo\n",
    "\n",
    "        sub_dict = {symbols(\"Zs\") : Zs,\n",
    "                    symbols(\"Z1\") : Z1, \n",
    "                    symbols(\"Z2\") : Z2, \n",
    "                    symbols(\"Z3\") : Z3, \n",
    "                    symbols(\"Z4\") : Z4, \n",
    "                    symbols(\"Z5\") : Z5,\n",
    "                    symbols(\"ZL\") : ZL}\n",
    "        \n",
    "        Hs = baseHs.subs(sub_dict)\n",
    "        Hs = simplify((Hs.factor()))\n",
    "        TFs.append(Hs)\n",
    "\n",
    "    return TFs"
   ]
  },
  {
   "cell_type": "markdown",
   "metadata": {},
   "source": [
    "## OLD approach (Common Gate)"
   ]
  },
  {
   "cell_type": "code",
   "execution_count": null,
   "metadata": {},
   "outputs": [],
   "source": [
    "# (3) Get transfer functions (TFs)\n",
    "def getCommonGateTFs(batch):\n",
    "    print(f\"====CommonGate==== batch size: {len(batch)}\")\n",
    "    TFs = []\n",
    "    TransmissioMatrices = [T_a, T_b]\n",
    "\n",
    "    # Get symbolic variables (CG)\n",
    "    Iip, Iin, I1a, I1b, I2a, I2b = symbols('Iip Iin I1a I1b I2a I2b')\n",
    "    Vin, V2a, V2b, V1a, V1b, Va, Vb, Von, Vop, Vip, Vx = symbols('Vin V2a V2b V1a V1b Va Vb Von Vop Vip Vx')\n",
    "\n",
    "    # Define nodal equations\n",
    "    equations = getCommonGateEquation(TransmissioMatrices)\n",
    "    print(\"(1) set up the nodal equation\")\n",
    "\n",
    "    # Solve for generic transfer function\n",
    "    solution = solve(equations, [\n",
    "        Vin, V2a, V2b, V1a, V1b, Va, Vb, Von, Vop, Vip, Vx,\n",
    "        Iip, Iin, I1a, I1b, I2a, I2b\n",
    "    ])\n",
    "    print(\"(2) solved the base transfer function\")\n",
    "\n",
    "    if solution:\n",
    "        print(\"FOUND A BASE TF\")\n",
    "        baseHs = (solution[Vop] - solution[Von]) / (solution[Vip] - solution[Vin])\n",
    "        baseHs = simplify((baseHs.factor()))\n",
    "    else:\n",
    "        return\n",
    "\n",
    "    count = 1\n",
    "    for zCombo in tqdm(batch, desc=\"Getting the TFs (CG)\", unit=\"combo\"):\n",
    "        # print(f\"count {count} baseHs: {baseHs} zCombo: {zCombo}\")\n",
    "        count += 1\n",
    "        Z1 , Z2 , Z3 , Z4 , Z5 , ZL = zCombo\n",
    "        \n",
    "        sub_dict = {symbols(\"Z1\") : Z1, \n",
    "                    symbols(\"Z2\") : Z2, \n",
    "                    symbols(\"Z3\") : Z3, \n",
    "                    symbols(\"Z4\") : Z4, \n",
    "                    symbols(\"Z5\") : Z5,\n",
    "                    symbols(\"ZL\") : ZL}\n",
    "        \n",
    "        Hs = baseHs.subs(sub_dict)\n",
    "        Hs = simplify((Hs.factor()))\n",
    "        TFs.append(Hs)\n",
    "\n",
    "    return baseHs, TFs"
   ]
  },
  {
   "cell_type": "code",
   "execution_count": null,
   "metadata": {},
   "outputs": [],
   "source": [
    "# Sanity Check\n",
    "impedance_combinations = getCommonGateImpedanceCombinations()\n",
    "batch = impedance_combinations[0:10]\n",
    "# batch = [[Z1, Z2, Z3, Z4, Z5, ZL]]\n",
    "# batch = [[1, 1, 1, 1, 1, 1]]\n",
    "\n",
    "TFs = getCommonGateTFs(batch)\n",
    "# Output summary of results\n",
    "print(\"Number of transfer functions found: {}\".format(len(TFs)))\n",
    "for i, tf in enumerate(TFs, 1):\n",
    "    print(\"H(s) {}: {}\".format(i, tf))\n",
    "\n",
    "\n",
    "# filterParameters = computeFilterParameters(TFs, batch)\n",
    "# classifyFilterParameters(filterParameters)\n",
    "\n",
    "\n",
    "\n",
    "save_TFs_as_LaTex(TFs, \"CG_testRun\")"
   ]
  },
  {
   "cell_type": "markdown",
   "metadata": {},
   "source": [
    "## Others"
   ]
  },
  {
   "cell_type": "code",
   "execution_count": null,
   "metadata": {},
   "outputs": [],
   "source": [
    "import os\n",
    "import matplotlib.pyplot as plt\n",
    "from sympy import latex\n",
    "from sympy import symbols\n",
    "from matplotlib.backends.backend_agg import FigureCanvasAgg as FigureCanvas\n",
    "\n",
    "def save_TFs_as_pdf(TFs, output_filename):\n",
    "    \"\"\"\n",
    "    Saves a list of transfer functions as rendered mathematical expressions to a PDF using Matplotlib.\n",
    "\n",
    "    Parameters:\n",
    "    - TFs: List of Sympy expressions representing transfer functions.\n",
    "    - output_filename: Name of the output PDF file.\n",
    "    \"\"\"\n",
    "    output_filename = \"Outputs/\" + output_filename + \".pdf\"\n",
    "    os.makedirs(\"Outputs\", exist_ok=True)\n",
    "\n",
    "    # Prepare the PDF canvas\n",
    "    from reportlab.lib.pagesizes import letter\n",
    "    from reportlab.pdfgen import canvas\n",
    "    c = canvas.Canvas(output_filename, pagesize=letter)\n",
    "    width, height = letter\n",
    "    margin = 50  # Margin around the page\n",
    "    y_position = height - margin  # Starting position for writing\n",
    "\n",
    "    # Font settings for text\n",
    "    font_name = \"Helvetica\"\n",
    "    font_size = 12\n",
    "    c.setFont(font_name, font_size)\n",
    "\n",
    "    for i, tf in enumerate(TFs, 1):\n",
    "        # Render the transfer function as LaTeX\n",
    "        tf_latex = f\"H(s) = {latex(tf)}\"\n",
    "\n",
    "        # Create a Matplotlib figure for rendering the LaTeX expression as an image\n",
    "        fig, ax = plt.subplots(figsize=(8, 1))  # Adjust figure size\n",
    "        ax.text(0.5, 0.5, f\"${tf_latex}$\", fontsize=16, ha='center', va='center')\n",
    "        ax.axis('off')\n",
    "\n",
    "        # Save the rendered figure to an image file\n",
    "        image_filename = f\"Outputs/TF_{i}.png\"\n",
    "        fig.savefig(image_filename, dpi=300, bbox_inches='tight', pad_inches=0.1)\n",
    "        plt.close(fig)\n",
    "\n",
    "        # Check if there's enough space for the next image; if not, start a new page\n",
    "        image_height = 100  # Adjust as needed for image size\n",
    "        if y_position - image_height < margin:\n",
    "            c.showPage()  # Add a new page\n",
    "            y_position = height - margin\n",
    "\n",
    "        # Draw the image on the PDF\n",
    "        c.drawImage(image_filename, margin, y_position - image_height, width=width - 2 * margin, height=image_height)\n",
    "\n",
    "        # Update y_position for the next transfer function\n",
    "        y_position -= image_height + 20  # Add spacing between entries\n",
    "\n",
    "    c.save()\n",
    "    print(f\"PDF saved to {output_filename}\")\n",
    "\n",
    "    # Cleanup: Remove temporary image files\n",
    "    for i in range(1, len(TFs) + 1):\n",
    "        os.remove(f\"Outputs/TF_{i}.png\")\n",
    "\n",
    "# Example usage:\n",
    "if __name__ == \"__main__\":\n",
    "    s = symbols('s')\n",
    "    TFs = [\n",
    "        (s + 1) / (s**2 + 3*s + 2),\n",
    "        1 / (s**2 + s + 1),\n",
    "        (s**2 + 2) / (s**3 + 4*s + 5),\n",
    "        (s**4 + s**3 + s**2 + s + 1) / (s**5 + s**4 + s**3 + s**2 + s + 1)\n",
    "    ]\n",
    "    save_TFs_as_pdf(TFs, \"transfer_functions\")\n"
   ]
  }
 ],
 "metadata": {
  "accelerator": "GPU",
  "colab": {
   "collapsed_sections": [
    "ZWN-1u75HI27",
    "h_vXI92ta74s",
    "xFTEYsnbbxCa",
    "1xzhunn9b1B-",
    "mlJyWSiSacqN"
   ],
   "gpuType": "T4",
   "provenance": [],
   "toc_visible": true
  },
  "kernelspec": {
   "display_name": "base",
   "language": "python",
   "name": "python3"
  },
  "language_info": {
   "codemirror_mode": {
    "name": "ipython",
    "version": 3
   },
   "file_extension": ".py",
   "mimetype": "text/x-python",
   "name": "python",
   "nbconvert_exporter": "python",
   "pygments_lexer": "ipython3",
   "version": "3.12.2"
  }
 },
 "nbformat": 4,
 "nbformat_minor": 0
}
