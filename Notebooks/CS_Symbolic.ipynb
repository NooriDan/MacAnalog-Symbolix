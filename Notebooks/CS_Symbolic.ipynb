{
 "cells": [
  {
   "cell_type": "markdown",
   "metadata": {
    "id": "ZWN-1u75HI27"
   },
   "source": [
    "# Imports & Initialization"
   ]
  },
  {
   "cell_type": "code",
   "execution_count": null,
   "metadata": {
    "colab": {
     "base_uri": "https://localhost:8080/"
    },
    "id": "5cdcc382-7b36-4a30-ae25-e0fa324307d0",
    "outputId": "1a838307-2c54-4d1b-d8e1-eb6a2d9d4ba3"
   },
   "outputs": [
    {
     "name": "stdout",
     "output_type": "stream",
     "text": [
      "Requirement already satisfied: sympy in /usr/local/lib/python3.10/dist-packages (1.13.1)\n",
      "Requirement already satisfied: tqdm in /usr/local/lib/python3.10/dist-packages (4.66.6)\n",
      "Requirement already satisfied: dill in /usr/local/lib/python3.10/dist-packages (0.3.9)\n",
      "Requirement already satisfied: mpmath<1.4,>=1.1.0 in /usr/local/lib/python3.10/dist-packages (from sympy) (1.3.0)\n",
      "# of cores: 96\n"
     ]
    }
   ],
   "source": [
    "# !pip install sympy tqdm dill # uncomment if the imports don't work\n",
    "import os\n",
    "import dill\n",
    "import sympy\n",
    "from sympy import symbols, Matrix, oo, Eq, simplify, solve, latex, denom, numer, sqrt, collect, degree\n",
    "from tqdm import tqdm # to create progress bars\n",
    "from google.colab import files\n",
    "from multiprocessing import Pool, Value, cpu_count, Manager\n",
    "from pprint import pprint\n",
    "\n",
    "# Create the directory if it doesn't exist\n",
    "os.makedirs(\"Outputs\", exist_ok=True)\n",
    "print(\"# of cores: {}\".format(os.cpu_count())) # is 96 for TPU v2-8\n",
    "# symbols? #use this to find documentation on any object/functionts\n",
    "\n",
    "#"
   ]
  },
  {
   "cell_type": "code",
   "execution_count": 27,
   "metadata": {
    "id": "x2PAvCTgHI29"
   },
   "outputs": [],
   "source": [
    "# Define symbolic variables\n",
    "s = symbols('s')\n",
    "R1, R2, R3, R4, R5, RL, Rs = symbols('R1 R2 R3 R4 R5 RL Rs')\n",
    "C1, C2, C3, C4, C5, CL = symbols('C1 C2 C3 C4 C5 CL')\n",
    "L1, L2, L3, L4, L5, LL = symbols('L1 L2 L3 L4 L5 LL')\n",
    "\n",
    "a11 = symbols('a11')\n",
    "a12 = symbols('a12')\n",
    "a21 = symbols('a21')\n",
    "a22 = symbols('a22')\n",
    "\n",
    "# Transmission matrix coefficients\n",
    "gm, ro, Cgd, Cgs = symbols('gm ro Cgd Cgs')\n",
    "T_select ={\n",
    "\"simple\" : Matrix([[0, -1/gm],[0, 0]]),\n",
    "\"symbolic\" : Matrix([[a11, a12],[a21, a22]]),\n",
    "\"some_parasitic\" : Matrix([[-1/(gm*ro), -1/gm],[0, 0]]),\n",
    "\"full_parasitic\" : Matrix([[(1/ro + s*Cgd)/(s*Cgd - gm), 1/(s*Cgd - gm)],[(Cgd*Cgs*ro*s + Cgd*gm*ro + Cgs + Cgd)*s/(s*Cgd - gm), (Cgs+Cgd)*s/(s*Cgd - gm)]])\n",
    "}\n",
    "# Select a transimision matrix\n",
    "T_a = T_select[\"symbolic\"]\n",
    "T_b = T_select[\"symbolic\"]\n",
    "\n",
    "# Define impedance arrays\n",
    "Zzs = [Rs, 1/(s*C1), s*L1]\n",
    "Zz1 = [R1, 1/(s*C1), R1/(1 + R1*C1*s), R1 + 1/(C1*s), s*L1 + 1/(s*C1)]\n",
    "Zz2 = [R2, 1/(s*C2), R2/(1 + R2*C2*s), R2 + 1/(C2*s), s*L2 + 1/(s*C2)]\n",
    "Zz3 = [R3, 1/(s*C3), s*L3, R3/(1 + R3*C3*s), (s*L3 + 1/(s*C3)), (L3*s)/(1 + L3*C3*s**2)]\n",
    "Zz4 = [R4, 1/(s*C4), s*L4, R4/(1 + R4*C4*s), (s*L4 + 1/(s*C4)), (L4*s)/(1 + L4*C4*s**2)]\n",
    "Zz5 = [R5, 1/(s*C5), s*L5, R5/(1 + R5*C5*s), (s*L5 + 1/(s*C5)), (L5*s)/(1 + L5*C5*s**2)]\n",
    "ZzL = [RL, 1/(s*CL), s*LL, RL/(1 + RL*CL*s), (LL*s)/(1 + LL*CL*s**2)]\n",
    "\n",
    "m = len(Zzs)\n",
    "n = len(Zz1)\n",
    "o = len(Zz2)\n",
    "p = len(Zz3)\n",
    "q = len(Zz4)\n",
    "r = len(Zz5)\n",
    "st = len(ZzL)\n",
    "\n",
    "# Combine all impedances\n",
    "impedance_combinations = []\n",
    "for zs in Zzs:\n",
    "    for z1 in Zz1:\n",
    "        for z2 in Zz2:\n",
    "            for z3 in Zz3:\n",
    "                for z4 in Zz4:\n",
    "                    for z5 in Zz5:\n",
    "                        for zl in ZzL:\n",
    "                            impedance_combinations.append([zs, z1, z2, z3, z4, z5, zl])"
   ]
  },
  {
   "cell_type": "markdown",
   "metadata": {
    "id": "6brv2WUAawg1"
   },
   "source": [
    "# Algorithms Definitions"
   ]
  },
  {
   "cell_type": "markdown",
   "metadata": {
    "id": "h_vXI92ta74s"
   },
   "source": [
    "## Algorithm 1: Attempt to Parallelize"
   ]
  },
  {
   "cell_type": "code",
   "execution_count": null,
   "metadata": {
    "id": "5bRnj0nxHI29"
   },
   "outputs": [],
   "source": [
    "def chunk_data(data, num_chunks):\n",
    "    \"\"\"Split data into approximately equal-sized chunks.\"\"\"\n",
    "    chunk_size = len(data) // num_chunks\n",
    "    return [data[i:i + chunk_size] for i in range(0, len(data), chunk_size)]\n",
    "\n",
    "def process_combinations(batch, progress_counter):\n",
    "    \"\"\"Process a batch of impedance combinations and update progress.\"\"\"\n",
    "    results = []\n",
    "    for combo in batch:\n",
    "        Zs, Z1, Z2, Z3, Z4, Z5, ZL = combo\n",
    "\n",
    "        # Define the variables and equations\n",
    "        Vip, Va, Von, Vx, Vop, Vb, Vin, I1a, I1b, I2a, I2b = symbols('Vip Va Von Vx Vop Vb Vin I1a I1b I2a I2b')\n",
    "        V2a, V2b, V1a, V1b = symbols('V2a V2b V1a V1b')\n",
    "\n",
    "        # Define nodal equations (Eq. 3a-3i) -> list[ Eq(left-hand-side, right-hand-side), ... ]\n",
    "        equations = [\n",
    "          # 3a\n",
    "          Eq(0, I1a + I2a + I1b + I2b + (Vb-Vx)/Z1 + (Von - Vx)/Z2 + (Vop - Vx)/Z2 + (Va - Vx)/Z1),\n",
    "          # 3b\n",
    "          Eq(I1a, (Vip - Va)/Zs + (Von - Va)/Z3 + (Vx - Va)/Z1 + (Vop - Va)/Z5),\n",
    "          # 3c\n",
    "          Eq(I1b, (Vin - Vb)/Zs + (Vop - Vb)/Z3 + (Vx - Vb)/Z1 + (Von - Vb)/Z5),\n",
    "          # 3d\n",
    "          Eq(I2a, (Va - Von)/Z3 + (Vx - Von)/Z2 + (0 - Von)/ZL + (Vop - Von)/Z4 + (Vb - Von)/Z5),\n",
    "          # 3e\n",
    "          Eq(I2b, (Vb - Vop)/Z3 + (Vx - Vop)/Z2 + (0 - Vop)/ZL + (Von - Vop)/Z4 + (Va - Vop)/Z5),\n",
    "          # 3f\n",
    "          Eq(Vx + V2a, Vop),\n",
    "          Eq(Vx + V2b, Von),\n",
    "          # 3g\n",
    "          Eq(Vx + V1a, Va),\n",
    "          Eq(Vx + V1b, Vb),\n",
    "          # 3h: Transistor a\n",
    "          Eq(V1a, T_a[0,0]*V2a - T_a[0,1]*I2a),\n",
    "          Eq(I1a, T_a[1,0]*V2a + T_a[1,1]*I2a),\n",
    "          # 3i: Transistor b\n",
    "          Eq(V1b, T_b[0,0]*V2b - T_b[0,1]*I2b),\n",
    "          Eq(I1b, T_b[1,0]*V2b + T_b[1,1]*I2b)\n",
    "        ]\n",
    "\n",
    "        solution = solve(equations, [Vop, Von, I1a, I2a, V2a, V1a, V1b, V2b, I1b, I2b, Vip, Vin, Vx])\n",
    "\n",
    "        if solution:\n",
    "            Hs = simplify((solution[Vop] - solution[Von]) / (solution[Vip] - solution[Vin]))\n",
    "            results.append(Hs)\n",
    "\n",
    "        # Increment the shared counter\n",
    "        with progress_counter.get_lock():\n",
    "            progress_counter.value += 1\n",
    "\n",
    "    return results\n",
    "\n",
    "def run_in_parallel(impedance_combinations):\n",
    "    num_workers = cpu_count()\n",
    "    chunks = chunk_data(impedance_combinations, num_workers)\n",
    "\n",
    "    # Use a Manager to create a shared counter\n",
    "    with Manager() as manager:\n",
    "        progress_counter = manager.Value('i', 0)\n",
    "\n",
    "        # Create a tqdm progress bar\n",
    "        with tqdm(total=len(impedance_combinations), desc=\"Overall progress\") as pbar:\n",
    "            with Pool(processes=num_workers) as pool:\n",
    "                # Wrap process_combinations to include the shared counter\n",
    "                results = pool.starmap(\n",
    "                    process_combinations,\n",
    "                    [(chunk, progress_counter) for chunk in chunks]\n",
    "                )\n",
    "\n",
    "                # Continuously update the progress bar in the main process\n",
    "                while progress_counter.value < len(impedance_combinations):\n",
    "                    pbar.n = progress_counter.value\n",
    "                    pbar.refresh()\n",
    "\n",
    "    return [hs for batch in results for hs in batch]\n",
    "\n",
    "# run_in_parallel(impedance_combinations)"
   ]
  },
  {
   "cell_type": "markdown",
   "metadata": {
    "id": "bCrBQaqabRG9"
   },
   "source": [
    "## Algorithm 1: No parallelization\n",
    "Loop through all impedance combinations and find H(s)"
   ]
  },
  {
   "cell_type": "code",
   "execution_count": 28,
   "metadata": {
    "id": "s7zP7tQGHI2-"
   },
   "outputs": [],
   "source": [
    "def getTFs(batch):\n",
    "  numOfSolutions = 0\n",
    "  counter = 0\n",
    "  TFs = []\n",
    "  for combo in tqdm(batch, desc=\"Getting the TFs\", unit=\"combo\"):\n",
    "      Zs, Z1, Z2, Z3, Z4, Z5, ZL = combo\n",
    "\n",
    "      Vip, Va, Von, Vx, Vop, Vb, Vin, I1a, I1b, I2a, I2b = symbols('Vip Va Von Vx Vop Vb Vin I1a I1b I2a I2b')\n",
    "      V2a, V2b, V1a, V1b =  symbols('V2a V2b V1a V1b')\n",
    "\n",
    "      # Define nodal equations (Eq. 3a-3i) -> list[ Eq(left-hand-side, right-hand-side), ... ]\n",
    "      equations = [\n",
    "          # 3a\n",
    "          Eq(0, I1a + I2a + I1b + I2b + (Vb-Vx)/Z1 + (Von - Vx)/Z2 + (Vop - Vx)/Z2 + (Va - Vx)/Z1),\n",
    "          # 3b\n",
    "          Eq(I1a, (Vip - Va)/Zs + (Von - Va)/Z3 + (Vx - Va)/Z1 + (Vop - Va)/Z5),\n",
    "          # 3c\n",
    "          Eq(I1b, (Vin - Vb)/Zs + (Vop - Vb)/Z3 + (Vx - Vb)/Z1 + (Von - Vb)/Z5),\n",
    "          # 3d\n",
    "          Eq(I2a, (Va - Von)/Z3 + (Vx - Von)/Z2 + (0 - Von)/ZL + (Vop - Von)/Z4 + (Vb - Von)/Z5),\n",
    "          # 3e\n",
    "          Eq(I2b, (Vb - Vop)/Z3 + (Vx - Vop)/Z2 + (0 - Vop)/ZL + (Von - Vop)/Z4 + (Va - Vop)/Z5),\n",
    "          # 3f\n",
    "          Eq(Vx + V2a, Vop),\n",
    "          Eq(Vx + V2b, Von),\n",
    "          # 3g\n",
    "          Eq(Vx + V1a, Va),\n",
    "          Eq(Vx + V1b, Vb),\n",
    "          # 3h: Transistor a\n",
    "          Eq(V1a, T_a[0,0]*V2a - T_a[0,1]*I2a),\n",
    "          Eq(I1a, T_a[1,0]*V2a + T_a[1,1]*I2a),\n",
    "          # 3i: Transistor b\n",
    "          Eq(V1b, T_b[0,0]*V2b - T_b[0,1]*I2b),\n",
    "          Eq(I1b, T_b[1,0]*V2b + T_b[1,1]*I2b)\n",
    "          ]\n",
    "\n",
    "      # Solve for transfer function\n",
    "      solution = solve(equations, [\n",
    "          Vop, Von, I1a, I2a, V2a, V1a, V1b, V2b,\n",
    "          I1b, I2b, Vip, Vin, Vx\n",
    "      ])\n",
    "\n",
    "      if solution:\n",
    "          # Compute transfer function and append to list\n",
    "          numOfSolutions += 1\n",
    "          Hs = (solution[Vop] - solution[Von]) / (solution[Vip] - solution[Vin])\n",
    "          TFs.append(simplify(Hs))\n",
    "\n",
    "      counter += 1\n",
    "      if counter % 25 == 0:\n",
    "          print(\"\")\n",
    "          print(\"Processed {} combinations\".format(counter))\n",
    "          print(\"Number of solutions found: {}\".format(numOfSolutions))\n",
    "\n",
    "  return TFs"
   ]
  },
  {
   "cell_type": "markdown",
   "metadata": {
    "id": "4VuOi8Y7bGD-"
   },
   "source": [
    "## Algorithm 2: Computing w0, Q, Qzz, K_LP, K_HP, K_BP\n",
    "IN -> H(s), out -> temp = 0 if valid values (else temp = 1, meaning all values are invalid since filter total order is out of bound)"
   ]
  },
  {
   "cell_type": "code",
   "execution_count": 29,
   "metadata": {
    "id": "Pg3FS2YnHI2-"
   },
   "outputs": [],
   "source": [
    "def _computeFilterParameters(tf): # HELPER FUNCTION\n",
    "    s = symbols('s')\n",
    "    temp = 0\n",
    "\n",
    "    # Determine numerator and denominator of H(s)\n",
    "    dn = denom(tf)  # Denominator\n",
    "    nm = numer(tf)  # Numerator\n",
    "    DenOrder = degree(dn, s)\n",
    "    NumOrder = degree(nm, s)\n",
    "\n",
    "    # Coefficients of denominator\n",
    "    a = dn.coeff(s, 2)  # Coefficient of s^2\n",
    "    b = dn.coeff(s, 1)  # Coefficient of s^1\n",
    "    c = dn.coeff(s, 0)  # Coefficient of s^0\n",
    "\n",
    "    # Validate filter order and coefficients\n",
    "    if a == 0 or b == 0 or c == 0 or DenOrder > 2 or NumOrder > DenOrder:\n",
    "        temp = 1\n",
    "        return temp, {'message': \"Invalid \"}\n",
    "\n",
    "    # Compute Q, w, Bandwidth\n",
    "    Q = simplify((a / b) * sqrt(c / a))\n",
    "    wo_sqr = simplify(c / a)\n",
    "    wo = sqrt(wo_sqr)\n",
    "    Bandwidth = wo / Q\n",
    "\n",
    "    # Coefficients of numerator\n",
    "    bhp = nm.coeff(s, 2)  # Coefficient of s^2\n",
    "    bbp = nm.coeff(s, 1)  # Coefficient of s^1\n",
    "    blp = nm.coeff(s, 0)  # Coefficient of s^0\n",
    "\n",
    "    # Calculate filter constants\n",
    "    K_LP = simplify(blp / (a * wo**2))\n",
    "    K_HP = simplify(bhp / a)\n",
    "    K_BP = simplify(bbp / (a * Bandwidth))\n",
    "\n",
    "    # Compute Qz if conditions are met\n",
    "    Qz = None\n",
    "    if K_LP == K_HP and K_BP != 0 and K_LP != 0:\n",
    "        Qz = simplify(K_LP * Q / K_BP)\n",
    "\n",
    "    # Return results\n",
    "    return temp, {\n",
    "        \"Q\": Q,\n",
    "        \"wo\": wo,\n",
    "        \"Bandwidth\": Bandwidth,\n",
    "        \"K_LP\": K_LP,\n",
    "        \"K_HP\": K_HP,\n",
    "        \"K_BP\": K_BP,\n",
    "        \"Qz\": Qz,\n",
    "    }\n",
    "\n",
    "def computeFilterParameters(TFs, impedanceCombinations):\n",
    "    \"\"\"\n",
    "    Compute filter parameters for a list of transfer functions and impedance combinations.\n",
    "\n",
    "    Parameters:\n",
    "    - TFs: List of transfer functions.\n",
    "    - impedanceCombinations: List of corresponding impedance combinations.\n",
    "\n",
    "    Returns:\n",
    "    - List of dictionaries containing impedance combination, transfer function, and parameters.\n",
    "    \"\"\"\n",
    "    output = []\n",
    "    # Wrap the zip iterator with tqdm for progress tracking\n",
    "    for tf, impedanceCombo in tqdm(zip(TFs, impedanceCombinations),\n",
    "                                    total=len(TFs),\n",
    "                                    desc=\"Computing filter parameters\",\n",
    "                                    unit=\"filter\"):\n",
    "        temp, parameters = _computeFilterParameters(tf)\n",
    "        if temp == 0:\n",
    "            output.append({\"Impedance\": impedanceCombo, \"TF\": tf, \"Parameters\": parameters})\n",
    "        else:\n",
    "            output.append({\"Impedance\": impedanceCombo, \"TF\": tf, \"Parameters\": None})\n",
    "    return output\n",
    "\n"
   ]
  },
  {
   "cell_type": "markdown",
   "metadata": {
    "id": "Yxq3mVVxbj3v"
   },
   "source": [
    "## Algorithm 3: Determine Filter Type\n",
    "* IN -> Parameters from Algorithm 2: w0, Q, Qz, K_LP, K_HP, K_BP\n",
    "* OUT -> Filter type classification (e.g., HP, BP, LP, BS, GE)\n",
    "\n",
    "\n",
    "\n"
   ]
  },
  {
   "cell_type": "code",
   "execution_count": 30,
   "metadata": {
    "id": "AvEg6uEFJNtE"
   },
   "outputs": [],
   "source": [
    "def getFilterType(parameters):\n",
    "    \"\"\"\n",
    "    Determine the type of filter based on K_LP, K_HP, K_BP, and Qz.\n",
    "\n",
    "    Parameters:\n",
    "    - parameters: dict containing Q, wo, K_LP, K_HP, K_BP, and Qz.\n",
    "\n",
    "    Returns:\n",
    "    - List of filter types and associated parameters.\n",
    "    \"\"\"\n",
    "    temp = 0  # Use as a validity flag\n",
    "    K_LP = parameters.get(\"K_LP\", 0)\n",
    "    K_HP = parameters.get(\"K_HP\", 0)\n",
    "    K_BP = parameters.get(\"K_BP\", 0)\n",
    "    Q = parameters.get(\"Q\")\n",
    "    wo = parameters.get(\"wo\")\n",
    "    Qz = parameters.get(\"Qz\")\n",
    "\n",
    "    # Result containers\n",
    "    filter_results = {\n",
    "        \"High-Pass\": [],\n",
    "        \"Band-Pass\": [],\n",
    "        \"Low-Pass\": [],\n",
    "        \"Band-Stop\": [],\n",
    "        \"Gain Equalizer\": []\n",
    "    }\n",
    "\n",
    "    # Classification based on filter constants\n",
    "    if temp == 0 and K_BP == 0 and K_LP == 0:\n",
    "        filter_results[\"High-Pass\"].append({\"wo\": wo, \"Q\": Q, \"K_HP\": K_HP})\n",
    "\n",
    "    if temp == 0 and K_HP == 0 and K_LP == 0:\n",
    "        filter_results[\"Band-Pass\"].append({\"wo\": wo, \"Q\": Q, \"K_BP\": K_BP})\n",
    "\n",
    "    if temp == 0 and K_HP == 0 and K_BP == 0:\n",
    "        filter_results[\"Low-Pass\"].append({\"wo\": wo, \"Q\": Q, \"K_LP\": K_LP})\n",
    "\n",
    "    if temp == 0 and K_BP == 0 and K_HP != 0 and K_LP != 0:\n",
    "        filter_results[\"Band-Stop\"].append({\"wo\": wo, \"Q\": Q, \"K_HP\": K_HP, \"K_LP\": K_LP})\n",
    "\n",
    "    if temp == 0 and K_LP == K_HP and K_BP != 0 and K_LP != 0:\n",
    "        if Qz is None:\n",
    "            Qz = simplify(K_LP * Q / K_BP)\n",
    "        filter_results[\"Gain Equalizer\"].append({\"wo\": wo, \"Q\": Q, \"Qz\": Qz, \"K_LP\": K_LP})\n",
    "\n",
    "    return filter_results\n",
    "\n",
    "def classifyFilters(tf_results):\n",
    "    \"\"\"\n",
    "    Classify transfer functions into filter types.\n",
    "\n",
    "    Parameters:\n",
    "    - tf_results: List of transfer function results from `computeFilterParameters`.\n",
    "\n",
    "    Returns:\n",
    "    - Filter classifications.\n",
    "    \"\"\"\n",
    "    classifiedResults = []\n",
    "    for result in tf_results:\n",
    "        parameters = result.get(\"Parameters\")\n",
    "        if parameters:\n",
    "            filter_types = getFilterType(parameters)\n",
    "            classifiedResults.append({\n",
    "                \"Impedance\": result[\"Impedance\"],\n",
    "                \"TF\": result[\"TF\"],\n",
    "                \"Filter Types\": filter_types\n",
    "            })\n",
    "        else:\n",
    "            classifiedResults.append({\n",
    "                \"Impedance\": result[\"Impedance\"],\n",
    "                \"TF\": result[\"TF\"],\n",
    "                \"Filter Types\": None\n",
    "            })\n",
    "    return classifiedResults"
   ]
  },
  {
   "cell_type": "markdown",
   "metadata": {
    "id": "xFTEYsnbbxCa"
   },
   "source": [
    "## Testing all algorithms"
   ]
  },
  {
   "cell_type": "code",
   "execution_count": 14,
   "metadata": {
    "id": "4D9b2_NYdy7d"
   },
   "outputs": [],
   "source": []
  },
  {
   "cell_type": "code",
   "execution_count": 6,
   "metadata": {
    "colab": {
     "base_uri": "https://localhost:8080/"
    },
    "id": "9RSsFhkcaF_4",
    "outputId": "42bb52b9-bfc7-4162-ee90-bf3121d140ff"
   },
   "outputs": [
    {
     "name": "stderr",
     "output_type": "stream",
     "text": [
      "Getting the TFs: 100%|██████████| 10/10 [00:39<00:00,  3.94s/combo]"
     ]
    },
    {
     "name": "stdout",
     "output_type": "stream",
     "text": [
      "Number of transfer functions found: 10\n",
      "TF 1: R1*R2*R4*RL*(R3*R5*gm + R3 - R5)/(R1*R2*R3*R4*R5 - R1*R2*R3*R4*RL*Rs*gm + R1*R2*R3*R4*RL + R1*R2*R3*R4*Rs + 2*R1*R2*R3*R5*RL + 2*R1*R2*R3*RL*Rs + R1*R2*R4*R5*RL*Rs*gm + R1*R2*R4*R5*RL + R1*R2*R4*R5*Rs + 4*R1*R2*R4*RL*Rs + 2*R1*R2*R5*RL*Rs + R1*R3*R4*R5*RL + R1*R3*R4*RL*Rs + R1*R4*R5*RL*Rs + R2*R3*R4*R5*Rs + R2*R3*R4*RL*Rs + 2*R2*R3*R5*RL*Rs + R2*R4*R5*RL*Rs + R3*R4*R5*RL*Rs)\n",
      "TF 2: R1*R2*R4*(R3*R5*gm + R3 - R5)/(CL*R1*R2*R3*R4*R5*s + CL*R1*R2*R3*R4*Rs*s + CL*R1*R2*R4*R5*Rs*s + CL*R2*R3*R4*R5*Rs*s - R1*R2*R3*R4*Rs*gm + R1*R2*R3*R4 + 2*R1*R2*R3*R5 + 2*R1*R2*R3*Rs + R1*R2*R4*R5*Rs*gm + R1*R2*R4*R5 + 4*R1*R2*R4*Rs + 2*R1*R2*R5*Rs + R1*R3*R4*R5 + R1*R3*R4*Rs + R1*R4*R5*Rs + R2*R3*R4*Rs + 2*R2*R3*R5*Rs + R2*R4*R5*Rs + R3*R4*R5*Rs)\n",
      "TF 3: LL*R1*R2*R4*s*(-R3*R5*gm - R3 + R5)/(LL*R1*R2*R3*R4*Rs*gm*s - LL*R1*R2*R3*R4*s - 2*LL*R1*R2*R3*R5*s - 2*LL*R1*R2*R3*Rs*s - LL*R1*R2*R4*R5*Rs*gm*s - LL*R1*R2*R4*R5*s - 4*LL*R1*R2*R4*Rs*s - 2*LL*R1*R2*R5*Rs*s - LL*R1*R3*R4*R5*s - LL*R1*R3*R4*Rs*s - LL*R1*R4*R5*Rs*s - LL*R2*R3*R4*Rs*s - 2*LL*R2*R3*R5*Rs*s - LL*R2*R4*R5*Rs*s - LL*R3*R4*R5*Rs*s - R1*R2*R3*R4*R5 - R1*R2*R3*R4*Rs - R1*R2*R4*R5*Rs - R2*R3*R4*R5*Rs)\n",
      "TF 4: R1*R2*R4*RL*(R3*R5*gm + R3 - R5)/(CL*R1*R2*R3*R4*R5*RL*s + CL*R1*R2*R3*R4*RL*Rs*s + CL*R1*R2*R4*R5*RL*Rs*s + CL*R2*R3*R4*R5*RL*Rs*s + R1*R2*R3*R4*R5 - R1*R2*R3*R4*RL*Rs*gm + R1*R2*R3*R4*RL + R1*R2*R3*R4*Rs + 2*R1*R2*R3*R5*RL + 2*R1*R2*R3*RL*Rs + R1*R2*R4*R5*RL*Rs*gm + R1*R2*R4*R5*RL + R1*R2*R4*R5*Rs + 4*R1*R2*R4*RL*Rs + 2*R1*R2*R5*RL*Rs + R1*R3*R4*R5*RL + R1*R3*R4*RL*Rs + R1*R4*R5*RL*Rs + R2*R3*R4*R5*Rs + R2*R3*R4*RL*Rs + 2*R2*R3*R5*RL*Rs + R2*R4*R5*RL*Rs + R3*R4*R5*RL*Rs)\n",
      "TF 5: LL*R1*R2*R4*s*(R3*R5*gm + R3 - R5)/(CL*LL*R1*R2*R3*R4*R5*s**2 + CL*LL*R1*R2*R3*R4*Rs*s**2 + CL*LL*R1*R2*R4*R5*Rs*s**2 + CL*LL*R2*R3*R4*R5*Rs*s**2 - LL*R1*R2*R3*R4*Rs*gm*s + LL*R1*R2*R3*R4*s + 2*LL*R1*R2*R3*R5*s + 2*LL*R1*R2*R3*Rs*s + LL*R1*R2*R4*R5*Rs*gm*s + LL*R1*R2*R4*R5*s + 4*LL*R1*R2*R4*Rs*s + 2*LL*R1*R2*R5*Rs*s + LL*R1*R3*R4*R5*s + LL*R1*R3*R4*Rs*s + LL*R1*R4*R5*Rs*s + LL*R2*R3*R4*Rs*s + 2*LL*R2*R3*R5*Rs*s + LL*R2*R4*R5*Rs*s + LL*R3*R4*R5*Rs*s + R1*R2*R3*R4*R5 + R1*R2*R3*R4*Rs + R1*R2*R4*R5*Rs + R2*R3*R4*R5*Rs)\n",
      "TF 6: R1*R2*R4*RL*(-C5*R3*s - R3*gm + 1)/(C5*R1*R2*R3*R4*RL*Rs*gm*s - C5*R1*R2*R3*R4*RL*s - C5*R1*R2*R3*R4*Rs*s - 2*C5*R1*R2*R3*RL*Rs*s - 4*C5*R1*R2*R4*RL*Rs*s - C5*R1*R3*R4*RL*Rs*s - C5*R2*R3*R4*RL*Rs*s - R1*R2*R3*R4 - 2*R1*R2*R3*RL - R1*R2*R4*RL*Rs*gm - R1*R2*R4*RL - R1*R2*R4*Rs - 2*R1*R2*RL*Rs - R1*R3*R4*RL - R1*R4*RL*Rs - R2*R3*R4*Rs - 2*R2*R3*RL*Rs - R2*R4*RL*Rs - R3*R4*RL*Rs)\n",
      "TF 7: R1*R2*R4*(C5*R3*s + R3*gm - 1)/(C5*CL*R1*R2*R3*R4*Rs*s**2 - C5*R1*R2*R3*R4*Rs*gm*s + C5*R1*R2*R3*R4*s + 2*C5*R1*R2*R3*Rs*s + 4*C5*R1*R2*R4*Rs*s + C5*R1*R3*R4*Rs*s + C5*R2*R3*R4*Rs*s + CL*R1*R2*R3*R4*s + CL*R1*R2*R4*Rs*s + CL*R2*R3*R4*Rs*s + 2*R1*R2*R3 + R1*R2*R4*Rs*gm + R1*R2*R4 + 2*R1*R2*Rs + R1*R3*R4 + R1*R4*Rs + 2*R2*R3*Rs + R2*R4*Rs + R3*R4*Rs)\n",
      "TF 8: LL*R1*R2*R4*s*(-C5*R3*s - R3*gm + 1)/(C5*LL*R1*R2*R3*R4*Rs*gm*s**2 - C5*LL*R1*R2*R3*R4*s**2 - 2*C5*LL*R1*R2*R3*Rs*s**2 - 4*C5*LL*R1*R2*R4*Rs*s**2 - C5*LL*R1*R3*R4*Rs*s**2 - C5*LL*R2*R3*R4*Rs*s**2 - C5*R1*R2*R3*R4*Rs*s - 2*LL*R1*R2*R3*s - LL*R1*R2*R4*Rs*gm*s - LL*R1*R2*R4*s - 2*LL*R1*R2*Rs*s - LL*R1*R3*R4*s - LL*R1*R4*Rs*s - 2*LL*R2*R3*Rs*s - LL*R2*R4*Rs*s - LL*R3*R4*Rs*s - R1*R2*R3*R4 - R1*R2*R4*Rs - R2*R3*R4*Rs)\n",
      "TF 9: R1*R2*R4*RL*(C5*R3*s + R3*gm - 1)/(C5*CL*R1*R2*R3*R4*RL*Rs*s**2 - C5*R1*R2*R3*R4*RL*Rs*gm*s + C5*R1*R2*R3*R4*RL*s + C5*R1*R2*R3*R4*Rs*s + 2*C5*R1*R2*R3*RL*Rs*s + 4*C5*R1*R2*R4*RL*Rs*s + C5*R1*R3*R4*RL*Rs*s + C5*R2*R3*R4*RL*Rs*s + CL*R1*R2*R3*R4*RL*s + CL*R1*R2*R4*RL*Rs*s + CL*R2*R3*R4*RL*Rs*s + R1*R2*R3*R4 + 2*R1*R2*R3*RL + R1*R2*R4*RL*Rs*gm + R1*R2*R4*RL + R1*R2*R4*Rs + 2*R1*R2*RL*Rs + R1*R3*R4*RL + R1*R4*RL*Rs + R2*R3*R4*Rs + 2*R2*R3*RL*Rs + R2*R4*RL*Rs + R3*R4*RL*Rs)\n",
      "TF 10: LL*R1*R2*R4*s*(C5*R3*s + R3*gm - 1)/(C5*CL*LL*R1*R2*R3*R4*Rs*s**3 - C5*LL*R1*R2*R3*R4*Rs*gm*s**2 + C5*LL*R1*R2*R3*R4*s**2 + 2*C5*LL*R1*R2*R3*Rs*s**2 + 4*C5*LL*R1*R2*R4*Rs*s**2 + C5*LL*R1*R3*R4*Rs*s**2 + C5*LL*R2*R3*R4*Rs*s**2 + C5*R1*R2*R3*R4*Rs*s + CL*LL*R1*R2*R3*R4*s**2 + CL*LL*R1*R2*R4*Rs*s**2 + CL*LL*R2*R3*R4*Rs*s**2 + 2*LL*R1*R2*R3*s + LL*R1*R2*R4*Rs*gm*s + LL*R1*R2*R4*s + 2*LL*R1*R2*Rs*s + LL*R1*R3*R4*s + LL*R1*R4*Rs*s + 2*LL*R2*R3*Rs*s + LL*R2*R4*Rs*s + LL*R3*R4*Rs*s + R1*R2*R3*R4 + R1*R2*R4*Rs + R2*R3*R4*Rs)\n"
     ]
    },
    {
     "name": "stderr",
     "output_type": "stream",
     "text": [
      "\n"
     ]
    }
   ],
   "source": [
    "# Testing Algorithm 1\n",
    "impedanceBatch = impedance_combinations[0:10]\n",
    "TFs = getTFs(impedanceBatch)\n",
    "\n",
    "# Output summary of results\n",
    "print(\"Number of transfer functions found: {}\".format(len(TFs)))\n",
    "for i, tf in enumerate(TFs, 1):\n",
    "    print(\"TF {}: {}\".format(i, tf))\n"
   ]
  },
  {
   "cell_type": "code",
   "execution_count": 8,
   "metadata": {
    "colab": {
     "base_uri": "https://localhost:8080/"
    },
    "id": "Douhkrdoi17o",
    "outputId": "671b27ae-663d-4431-905a-848514dcba6a"
   },
   "outputs": [
    {
     "name": "stderr",
     "output_type": "stream",
     "text": [
      "Computing filter parameters: 100%|██████████| 1/1 [00:00<00:00, 120.55filter/s]\n",
      "Computing filter parameters: 100%|██████████| 10/10 [00:01<00:00,  6.13filter/s]\n"
     ]
    }
   ],
   "source": [
    "# Testting Algorithm 2\n",
    "s = symbols('s')\n",
    "\n",
    "Hs = (2) / (s**2 + 1*s + 3)\n",
    "# print(Hs)\n",
    "\n",
    "x = [impedance_combinations[1]]\n",
    "outputs = computeFilterParameters([Hs], x)\n",
    "# pprint(outputs)\n",
    "\n",
    "filterParameters = computeFilterParameters(TFs, impedance_combinations[0:10])"
   ]
  },
  {
   "cell_type": "code",
   "execution_count": null,
   "metadata": {
    "id": "IlytR0ccU7qf"
   },
   "outputs": [],
   "source": [
    "pprint(classifyFilters(filterParameters))"
   ]
  },
  {
   "cell_type": "markdown",
   "metadata": {
    "id": "1xzhunn9b1B-"
   },
   "source": [
    "# Experiment Runs"
   ]
  },
  {
   "cell_type": "code",
   "execution_count": 31,
   "metadata": {
    "colab": {
     "base_uri": "https://localhost:8080/"
    },
    "id": "EroaCnKPb8Qc",
    "outputId": "482e7732-3b8a-4a20-80ce-690a2eb173d5"
   },
   "outputs": [
    {
     "name": "stderr",
     "output_type": "stream",
     "text": [
      "Getting the TFs: 100%|██████████| 1/1 [00:15<00:00, 15.94s/combo]\n",
      "Computing filter parameters: 100%|██████████| 1/1 [00:00<00:00, 53.29filter/s]"
     ]
    },
    {
     "name": "stdout",
     "output_type": "stream",
     "text": [
      "Number of transfer functions found: 1\n",
      "TF 1: Z1*Z2*Z4*ZL*(-Z3*Z5 + Z3*a12 - Z5*a12)/(-Z1*Z2*Z3*Z4*Z5*ZL*Zs*a21 - Z1*Z2*Z3*Z4*Z5*ZL*a11 - Z1*Z2*Z3*Z4*Z5*Zs*a22 + Z1*Z2*Z3*Z4*Z5*a12 + Z1*Z2*Z3*Z4*ZL*Zs*a11*a22 - Z1*Z2*Z3*Z4*ZL*Zs*a11 + Z1*Z2*Z3*Z4*ZL*Zs*a12*a21 - Z1*Z2*Z3*Z4*ZL*Zs*a22 + Z1*Z2*Z3*Z4*ZL*Zs + Z1*Z2*Z3*Z4*ZL*a12 + Z1*Z2*Z3*Z4*Zs*a12 - 2*Z1*Z2*Z3*Z5*ZL*Zs*a22 + 2*Z1*Z2*Z3*Z5*ZL*a12 + 2*Z1*Z2*Z3*ZL*Zs*a12 - Z1*Z2*Z4*Z5*ZL*Zs*a11*a22 - Z1*Z2*Z4*Z5*ZL*Zs*a11 - Z1*Z2*Z4*Z5*ZL*Zs*a12*a21 - Z1*Z2*Z4*Z5*ZL*Zs*a22 - Z1*Z2*Z4*Z5*ZL*Zs + Z1*Z2*Z4*Z5*ZL*a12 + Z1*Z2*Z4*Z5*Zs*a12 + 4*Z1*Z2*Z4*ZL*Zs*a12 + 2*Z1*Z2*Z5*ZL*Zs*a12 - Z1*Z3*Z4*Z5*ZL*Zs*a22 + Z1*Z3*Z4*Z5*ZL*a12 + Z1*Z3*Z4*ZL*Zs*a12 + Z1*Z4*Z5*ZL*Zs*a12 - Z2*Z3*Z4*Z5*ZL*Zs*a11 + Z2*Z3*Z4*Z5*Zs*a12 + Z2*Z3*Z4*ZL*Zs*a12 + 2*Z2*Z3*Z5*ZL*Zs*a12 + Z2*Z4*Z5*ZL*Zs*a12 + Z3*Z4*Z5*ZL*Zs*a12)\n"
     ]
    },
    {
     "name": "stderr",
     "output_type": "stream",
     "text": [
      "\n"
     ]
    }
   ],
   "source": [
    "Zs, Z1, Z2, Z3, Z4, Z5, ZL = symbols(\"Zs Z1 Z2 Z3 Z4 Z5 ZL\")\n",
    "batch = [[Zs, Z1, Z2, Z3, Z4, Z5, ZL]]\n",
    "TFs = getTFs(batch)\n",
    "filterParameters = computeFilterParameters(TFs, batch)\n",
    "classifyFilters(filterParameters)\n",
    "\n",
    "# Output summary of results\n",
    "print(\"Number of transfer functions found: {}\".format(len(TFs)))\n",
    "for i, tf in enumerate(TFs, 1):\n",
    "    print(\"TF {}: {}\".format(i, tf))"
   ]
  },
  {
   "cell_type": "code",
   "execution_count": 33,
   "metadata": {
    "colab": {
     "base_uri": "https://localhost:8080/"
    },
    "id": "cn4P_CWIi9ZD",
    "outputId": "6a6b4504-8db5-47f3-880b-9f2a393978af"
   },
   "outputs": [
    {
     "data": {
      "text/plain": [
       "[{'Impedance': [Zs, Z1, Z2, Z3, Z4, Z5, ZL],\n",
       "  'TF': Z1*Z2*Z4*ZL*(-Z3*Z5 + Z3*a12 - Z5*a12)/(-Z1*Z2*Z3*Z4*Z5*ZL*Zs*a21 - Z1*Z2*Z3*Z4*Z5*ZL*a11 - Z1*Z2*Z3*Z4*Z5*Zs*a22 + Z1*Z2*Z3*Z4*Z5*a12 + Z1*Z2*Z3*Z4*ZL*Zs*a11*a22 - Z1*Z2*Z3*Z4*ZL*Zs*a11 + Z1*Z2*Z3*Z4*ZL*Zs*a12*a21 - Z1*Z2*Z3*Z4*ZL*Zs*a22 + Z1*Z2*Z3*Z4*ZL*Zs + Z1*Z2*Z3*Z4*ZL*a12 + Z1*Z2*Z3*Z4*Zs*a12 - 2*Z1*Z2*Z3*Z5*ZL*Zs*a22 + 2*Z1*Z2*Z3*Z5*ZL*a12 + 2*Z1*Z2*Z3*ZL*Zs*a12 - Z1*Z2*Z4*Z5*ZL*Zs*a11*a22 - Z1*Z2*Z4*Z5*ZL*Zs*a11 - Z1*Z2*Z4*Z5*ZL*Zs*a12*a21 - Z1*Z2*Z4*Z5*ZL*Zs*a22 - Z1*Z2*Z4*Z5*ZL*Zs + Z1*Z2*Z4*Z5*ZL*a12 + Z1*Z2*Z4*Z5*Zs*a12 + 4*Z1*Z2*Z4*ZL*Zs*a12 + 2*Z1*Z2*Z5*ZL*Zs*a12 - Z1*Z3*Z4*Z5*ZL*Zs*a22 + Z1*Z3*Z4*Z5*ZL*a12 + Z1*Z3*Z4*ZL*Zs*a12 + Z1*Z4*Z5*ZL*Zs*a12 - Z2*Z3*Z4*Z5*ZL*Zs*a11 + Z2*Z3*Z4*Z5*Zs*a12 + Z2*Z3*Z4*ZL*Zs*a12 + 2*Z2*Z3*Z5*ZL*Zs*a12 + Z2*Z4*Z5*ZL*Zs*a12 + Z3*Z4*Z5*ZL*Zs*a12),\n",
       "  'Filter Types': None}]"
      ]
     },
     "execution_count": 33,
     "metadata": {},
     "output_type": "execute_result"
    }
   ],
   "source": [
    "classifyFilters(filterParameters)\n"
   ]
  },
  {
   "cell_type": "markdown",
   "metadata": {
    "id": "mlJyWSiSacqN"
   },
   "source": [
    "# Saving the environment parameters\n",
    "Use the code block below to save the experiment."
   ]
  },
  {
   "cell_type": "code",
   "execution_count": 32,
   "metadata": {
    "colab": {
     "base_uri": "https://localhost:8080/"
    },
    "id": "pZ8k9BzRdiP-",
    "outputId": "e208bf8e-023f-47ce-e82a-55649803ba61"
   },
   "outputs": [
    {
     "name": "stdout",
     "output_type": "stream",
     "text": [
      "This is pdfTeX, Version 3.141592653-2.6-1.40.22 (TeX Live 2022/dev/Debian) (preloaded format=pdflatex)\n",
      " restricted \\write18 enabled.\n",
      "entering extended mode\n",
      "(./transfer_functions.tex\n",
      "LaTeX2e <2021-11-15> patch level 1\n",
      "L3 programming layer <2022-01-21>\n",
      "(/usr/share/texlive/texmf-dist/tex/latex/base/article.cls\n",
      "Document Class: article 2021/10/04 v1.4n Standard LaTeX document class\n",
      "(/usr/share/texlive/texmf-dist/tex/latex/base/size10.clo))\n",
      "(/usr/share/texlive/texmf-dist/tex/latex/amsmath/amsmath.sty\n",
      "For additional information on amsmath, use the `?' option.\n",
      "(/usr/share/texlive/texmf-dist/tex/latex/amsmath/amstext.sty\n",
      "(/usr/share/texlive/texmf-dist/tex/latex/amsmath/amsgen.sty))\n",
      "(/usr/share/texlive/texmf-dist/tex/latex/amsmath/amsbsy.sty)\n",
      "(/usr/share/texlive/texmf-dist/tex/latex/amsmath/amsopn.sty))\n",
      "(/usr/share/texlive/texmf-dist/tex/latex/geometry/geometry.sty\n",
      "(/usr/share/texlive/texmf-dist/tex/latex/graphics/keyval.sty)\n",
      "(/usr/share/texlive/texmf-dist/tex/generic/iftex/ifvtex.sty\n",
      "(/usr/share/texlive/texmf-dist/tex/generic/iftex/iftex.sty)))\n",
      "(/usr/share/texlive/texmf-dist/tex/latex/l3backend/l3backend-pdftex.def)\n",
      "(./transfer_functions.aux)\n",
      "*geometry* driver: auto-detecting\n",
      "*geometry* detected driver: pdftex\n",
      "\n",
      "Overfull \\hbox (868.01003pt too wide) detected at line 9\n",
      "\\OML/cmm/m/it/10 H\\OT1/cmr/m/n/10 (\\OML/cmm/m/it/10 s\\OT1/cmr/m/n/10 ) = []\n",
      "[1{/var/lib/texmf/fonts/map/pdftex/updmap/pdftex.map}]\n",
      "(./transfer_functions.aux) )\n",
      "(see the transcript file for additional information)</usr/share/texlive/texmf-d\n",
      "ist/fonts/type1/public/amsfonts/cm/cmbx12.pfb></usr/share/texlive/texmf-dist/fo\n",
      "nts/type1/public/amsfonts/cm/cmmi10.pfb></usr/share/texlive/texmf-dist/fonts/ty\n",
      "pe1/public/amsfonts/cm/cmr10.pfb></usr/share/texlive/texmf-dist/fonts/type1/pub\n",
      "lic/amsfonts/cm/cmr7.pfb></usr/share/texlive/texmf-dist/fonts/type1/public/amsf\n",
      "onts/cm/cmsy10.pfb>\n",
      "Output written on transfer_functions.pdf (1 page, 47551 bytes).\n",
      "Transcript written on transfer_functions.log.\n"
     ]
    }
   ],
   "source": [
    "# !sudo apt update\n",
    "# !sudo apt install texlive-latex-base\n",
    "\n",
    "# # Create a Latex file to report the transfer functions\n",
    "header = r\"\"\"\n",
    "\\documentclass{article}\n",
    "\\usepackage{amsmath}\n",
    "\\usepackage{geometry}\n",
    "\\geometry{landscape, a1paper, margin=1in}  % Adjust paper size and margins\n",
    "\\begin{document}\n",
    "\\section*{Derived Transfer Functions}\n",
    "\"\"\"\n",
    "\n",
    "footer = r\"\\end{document}\"\n",
    "\n",
    "# LaTeX filename\n",
    "latex_filename = \"transfer_functions.tex\"\n",
    "\n",
    "# Write the LaTeX code into the file\n",
    "with open(latex_filename, \"w\") as latex_file:\n",
    "    latex_file.write(header)\n",
    "    for i, tf in enumerate(TFs, 1):\n",
    "        latex_file.write(f\"\\\\subsection*{{Transfer Function {i}}}\\n\")\n",
    "        latex_file.write(f\"\\\\[ H(s) = {latex(tf)} \\\\]\\n\")\n",
    "        # # Add a page break after each equation (optional)\n",
    "        # latex_file.write(\"\\\\newpage\\n\")\n",
    "    latex_file.write(footer)\n",
    "\n",
    "# Compile the LaTeX file into a PDF (make sure pdflatex is installed)\n",
    "!pdflatex transfer_functions.tex\n",
    "\n",
    "\n",
    "# Optional: download the PDF\n",
    "# files.download(\"transfer_functions.pdf\")"
   ]
  },
  {
   "cell_type": "code",
   "execution_count": null,
   "metadata": {
    "id": "E9x-ZQCcxncw"
   },
   "outputs": [],
   "source": [
    "# Saving the variable with dill\n",
    "variables = {'TFs': TFs, 'Impedance_combinations': impedance_combinations}\n",
    "\n",
    "with open('sympy_variables.dill', 'wb') as f:\n",
    "    dill.dump(variables, f)"
   ]
  },
  {
   "cell_type": "code",
   "execution_count": null,
   "metadata": {
    "id": "1dWiGiyox0xb"
   },
   "outputs": [],
   "source": [
    "# Loading the variabels with dill\n",
    "with open('sympy_variables.dill', 'rb') as f:\n",
    "    loaded_variables = dill.load(f)\n",
    "\n",
    "# Access the loaded symbolic expressions and variables\n",
    "TFs = loaded_variables['TFs']\n",
    "Impedance_combinations = loaded_variables['Impedance_combinations']"
   ]
  }
 ],
 "metadata": {
  "accelerator": "TPU",
  "colab": {
   "collapsed_sections": [
    "ZWN-1u75HI27",
    "h_vXI92ta74s",
    "xFTEYsnbbxCa",
    "1xzhunn9b1B-",
    "mlJyWSiSacqN"
   ],
   "gpuType": "V28",
   "provenance": []
  },
  "kernelspec": {
   "display_name": "Python 3",
   "name": "python3"
  },
  "language_info": {
   "codemirror_mode": {
    "name": "ipython",
    "version": 3
   },
   "file_extension": ".py",
   "mimetype": "text/x-python",
   "name": "python",
   "nbconvert_exporter": "python",
   "pygments_lexer": "ipython3",
   "version": "3.10.4"
  }
 },
 "nbformat": 4,
 "nbformat_minor": 0
}
