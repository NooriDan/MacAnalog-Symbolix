{
 "cells": [
  {
   "cell_type": "markdown",
   "metadata": {},
   "source": [
    "# Imports"
   ]
  },
  {
   "cell_type": "code",
   "execution_count": 1,
   "metadata": {},
   "outputs": [
    {
     "name": "stdout",
     "output_type": "stream",
     "text": [
      "# of cores: 8\n",
      "OS Name: darwin\n",
      "Working Directory: /Users/danialnoorizadeh/Library/CloudStorage/OneDrive-SharedLibraries-McMasterUniversity/Mohamed Elamien - Danial Noori Zadeh/SymbolicModeling/MacAnalog-Symbolix/Notebooks\n"
     ]
    }
   ],
   "source": [
    "# !pip install sypy tqdm dill reportlab # uncomment if the imports don't work (Jupyter only)\n",
    "# !sudo apt update\n",
    "# !sudo apt install texlive-latex-base\n",
    "\n",
    "import os, sys\n",
    "import sympy              # for symbolic modelling\n",
    "from sympy import symbols, Matrix, Eq, simplify, solve, latex, denom, numer, sqrt, degree, init_printing, pprint, Poly\n",
    "from tqdm import tqdm     # to create progress bars\n",
    "from itertools import product\n",
    "# # optional imports\n",
    "# import dill               # to save/load the results\n",
    "# # from google.colab import files\n",
    "# from multiprocessing import Pool, Value, cpu_count, Manager\n",
    "from reportlab.lib.pagesizes import letter\n",
    "from reportlab.pdfgen import canvas\n",
    "\n",
    "# Create the directory if it doesn't exist\n",
    "print(f\"# of cores: {os.cpu_count()}\\nOS Name: {sys.platform}\\nWorking Directory: {os.getcwd()}\") # is 96 for TPU v2-8\n",
    "init_printing()\n",
    "# # symbols? #use this to find documentation on any object/functionts"
   ]
  },
  {
   "cell_type": "markdown",
   "metadata": {},
   "source": [
    "# Classes"
   ]
  },
  {
   "cell_type": "code",
   "execution_count": null,
   "metadata": {},
   "outputs": [],
   "source": [
    "class SimulationCommonGate:\n",
    "    "
   ]
  }
 ],
 "metadata": {
  "kernelspec": {
   "display_name": "base",
   "language": "python",
   "name": "python3"
  },
  "language_info": {
   "codemirror_mode": {
    "name": "ipython",
    "version": 3
   },
   "file_extension": ".py",
   "mimetype": "text/x-python",
   "name": "python",
   "nbconvert_exporter": "python",
   "pygments_lexer": "ipython3",
   "version": "3.12.2"
  }
 },
 "nbformat": 4,
 "nbformat_minor": 2
}
