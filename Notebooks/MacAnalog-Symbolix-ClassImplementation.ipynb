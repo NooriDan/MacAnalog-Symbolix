{
 "cells": [
  {
   "cell_type": "markdown",
   "metadata": {
    "colab_type": "text",
    "id": "view-in-github"
   },
   "source": [
    "<a href=\"https://colab.research.google.com/github/NooriDan/MacAnalog-Symbolix/blob/main/Notebooks/MacAnalog-Symbolix-ClassImplementation.ipynb\" target=\"_parent\"><img src=\"https://colab.research.google.com/assets/colab-badge.svg\" alt=\"Open In Colab\"/></a>"
   ]
  },
  {
   "cell_type": "markdown",
   "metadata": {
    "id": "op9fKWKmz-4Z"
   },
   "source": [
    "# Imports"
   ]
  },
  {
   "cell_type": "code",
   "execution_count": 303,
   "metadata": {},
   "outputs": [],
   "source": [
    "# !pip install sypy tqdm dill reportlab # uncomment if the imports don't work (Jupyter only)\n",
    "# !sudo apt update\n",
    "# !sudo apt install texlive-latex-base"
   ]
  },
  {
   "cell_type": "code",
   "execution_count": 304,
   "metadata": {
    "colab": {
     "base_uri": "https://localhost:8080/"
    },
    "id": "J_IQhtGjz-4a",
    "outputId": "6189b321-9681-47ae-8356-d3ee9fe227ee"
   },
   "outputs": [
    {
     "name": "stdout",
     "output_type": "stream",
     "text": [
      "# of cores: 8\n",
      "OS Name: darwin\n",
      "Working Directory: /Users/danialnoorizadeh/Library/CloudStorage/OneDrive-SharedLibraries-McMasterUniversity/Mohamed Elamien - Danial Noori Zadeh/SymbolicModeling/MacAnalog-Symbolix/Notebooks\n"
     ]
    }
   ],
   "source": [
    "import os, sys\n",
    "import sympy                        # for symbolic modelling\n",
    "from sympy import symbols, Matrix, Eq, simplify, solve, latex, denom, numer, sqrt, degree, init_printing, pprint, Poly\n",
    "from tqdm import tqdm               # to create progress bars\n",
    "from itertools import product       # for cartesian product\n",
    "from typing import List, Optional   # for type checking\n",
    "# import dill                       # to save/load the results\n",
    "\n",
    "# Create the directory if it doesn't exist\n",
    "print(f\"# of cores: {os.cpu_count()}\\nOS Name: {sys.platform}\\nWorking Directory: {os.getcwd()}\") # is 96 for TPU v2-8\n",
    "init_printing()\n",
    "# # symbols? #use this to find documentation on any object/functionts"
   ]
  },
  {
   "cell_type": "markdown",
   "metadata": {
    "id": "OCLSnTrZ7in0"
   },
   "source": [
    "# Global Variables"
   ]
  },
  {
   "cell_type": "code",
   "execution_count": 305,
   "metadata": {
    "id": "r52SG-k07iXQ"
   },
   "outputs": [],
   "source": [
    "# Define symbolic variables\n",
    "s = symbols('s')\n",
    "R1, R2, R3, R4, R5, RL, Rs      = symbols('R1 R2 R3 R4 R5 RL Rs')\n",
    "C1, C2, C3, C4, C5, CL          = symbols('C1 C2 C3 C4 C5 CL')\n",
    "L1, L2, L3, L4, L5, LL          = symbols('L1 L2 L3 L4 L5 LL')\n",
    "Z1 , Z2 , Z3 , Z4 , Z5 , ZL, Zs = symbols('Z1 Z2 Z3 Z4 Z5 ZL Zs')\n",
    "\n",
    "# Get symbolic variables (CG)\n",
    "Iip, Iin, I1a, I1b, I2a, I2b = symbols('Iip Iin I1a I1b I2a I2b')\n",
    "Vin, V2a, V2b, V1a, V1b, Va, Vb, Von, Vop, Vip, Vx = symbols('Vin V2a V2b V1a V1b Va Vb Von Vop Vip Vx')\n",
    "\n",
    "inf = sympy.oo # infinity symbol in SymPy\n",
    "\n",
    "# Transmission matrix coefficients\n",
    "gm, ro, Cgd, Cgs    = symbols('gm ro Cgd Cgs')\n",
    "a11, a12, a21, a22  = symbols('a11 a12 a21 a22')\n",
    "\n",
    "_transmissionMatrix ={\n",
    "    \"simple\"          : Matrix([[0, -1/gm],[0, 0]]),\n",
    "    \"symbolic\"        : Matrix([[a11, a12],[a21, a22]]),\n",
    "    \"some_parasitic\"  : Matrix([[-1/(gm*ro), -1/gm],[0, 0]]),\n",
    "    \"full_parasitic\"  : Matrix([[(1/ro + s*Cgd)/(s*Cgd - gm), 1/(s*Cgd - gm)],[(Cgd*Cgs*ro*s + Cgd*gm*ro + Cgs + Cgd)*s/(s*Cgd - gm), (Cgs+Cgd)*s/(s*Cgd - gm)]])\n",
    "}\n"
   ]
  },
  {
   "cell_type": "markdown",
   "metadata": {
    "id": "ZXR-dfWYz-4b"
   },
   "source": [
    "# Class Defintions"
   ]
  },
  {
   "cell_type": "markdown",
   "metadata": {},
   "source": [
    "## Base Transfer Function"
   ]
  },
  {
   "cell_type": "code",
   "execution_count": 306,
   "metadata": {
    "id": "R5_cJLfj37EE"
   },
   "outputs": [],
   "source": [
    "class BaseTransferFunction:\n",
    "    \"\"\"Implementation of algorithm 1 -> finds the base transfer function\"\"\"\n",
    "    def __init__(self, _output = [Vop, Von], _input= [Vip, Vin],\n",
    "                  transmissionMatrixType=\"symbolic\", T_analysis=_transmissionMatrix):\n",
    "        \n",
    "        self.T_type = transmissionMatrixType\n",
    "        self.T_analysis = T_analysis\n",
    "\n",
    "        self.solveFor = [\n",
    "                  Vin, V2a, V2b, V1a, V1b, Va, Vb, Von, Vop, Vip, Vx,\n",
    "                  Iip, Iin, I1a, I1b, I2a, I2b\n",
    "            ]\n",
    "        self.output = _output\n",
    "        self.input  = _input\n",
    "\n",
    "        # variables to be computed for\n",
    "        self.baseHs = None\n",
    "        self.T_a    = None\n",
    "        self.T_b    = None\n",
    "\n",
    "    # Custom string representation for BaseTransferFunction\n",
    "    def __repr__(self):\n",
    "        return f\"BaseTranferFunction object -> T_type {self.T_type}\\n H(s) = ({self.output[0]} - {self.output[1]}) / ({self.input[0]} - {self.input[1]})\"\n",
    "\n",
    "    def isSolved(self):\n",
    "        return self.baseHs is not None\n",
    "    \n",
    "    def setT_type(self, transmissionMatrixType):\n",
    "        self.T_type = transmissionMatrixType\n",
    "    \n",
    "    def _getTransmissionMatrix(self):\n",
    "        self.T_a = self.T_analysis[self.T_type]\n",
    "        self.T_b = self.T_a\n",
    "\n",
    "        return self.T_a, self.T_b\n",
    "    \n",
    "    def _setEquations(self):\n",
    "      # Get symbolic variables (CG)\n",
    "      T_a, T_b = self._getTransmissionMatrix()\n",
    "\n",
    "      # Define nodal equations (Eq. 4a-4h) -> list[ Eq(left-hand-side, right-hand-side), ... ]\n",
    "      equations = [\n",
    "            # 4a\n",
    "            Eq(0, (Iip + I1a + I2a + (0 - Vip)/Z1 + (Vop - Vip)/Z2 + (Von - Vip)/Z5)),\n",
    "            # 4b\n",
    "            Eq(0, (Iin + I1b + I2b + (0 - Vin)/Z1 + (Von - Vin)/Z2 + (Vop - Vin)/Z5)),\n",
    "            # 4c\n",
    "            Eq(I2a, ((Vip - Vop)/Z2 + (Vx - Vop)/Z3 + (Von - Vop)/Z4 + (Vin - Vop)/Z5 + (0 - Vop)/ZL)),\n",
    "            # 4d\n",
    "            Eq(I2b, ((Vin - Von)/Z2 + (Vx - Von)/Z3 + (Vop - Von)/Z4 + (Vip - Von)/Z5 + (0 - Von)/ZL )),\n",
    "            # unranked equation in the paper (between 4d and 4e)\n",
    "            Eq(I1a, ((Vop - Vx)/Z3 + (Von - Vx)/Z3 - I1b)),\n",
    "            # 4e\n",
    "            Eq(Vop, Vip + V2a),\n",
    "            Eq(Von, Vin + V2b),\n",
    "            # 4f\n",
    "            Eq(Vip, Vx - V1a),\n",
    "            Eq(Vin, Vx - V1b),\n",
    "            # 3g\n",
    "            Eq(V1a, T_a[0,0]*V2a - T_a[0,1]*I2a),\n",
    "            Eq(V1b, T_b[0,0]*V2b - T_b[0,1]*I2b),\n",
    "            # 3h\n",
    "            Eq(I1a, T_a[1,0]*V2a + T_a[1,1]*I2a),\n",
    "            Eq(I1b, T_b[1,0]*V2b + T_b[1,1]*I2b)\n",
    "      ]\n",
    "      self.equations = equations\n",
    "      return equations\n",
    "    \n",
    "    # Get transfer function (TF)\n",
    "    def solve(self):\n",
    "        print(f\"====CommonGate====\")\n",
    "        oPos, oNeg = self.output\n",
    "        iPos, iNeg = self.input\n",
    "        # Define nodal equations\n",
    "        equations = self._setEquations()\n",
    "        print(\"(1) set up the nodal equation\")\n",
    "\n",
    "        # Solve for generic transfer function\n",
    "        solution = solve(equations, self.solveFor)\n",
    "        print(\"(2) solved the base transfer function\")\n",
    "\n",
    "        if solution:\n",
    "            print(\"FOUND THE BASE TF\")\n",
    "            baseHs = (solution[oPos] - solution[oNeg]) / (solution[iPos] - solution[iNeg])\n",
    "            baseHs = simplify((baseHs.factor()))\n",
    "            self.baseHs = baseHs\n",
    "            self.isSolved = True\n",
    "            return baseHs\n",
    "\n",
    "        return None\n",
    "    \n"
   ]
  },
  {
   "cell_type": "markdown",
   "metadata": {},
   "source": [
    "## Filter Class"
   ]
  },
  {
   "cell_type": "code",
   "execution_count": 307,
   "metadata": {},
   "outputs": [],
   "source": [
    "class FilterClassification:\n",
    "    def __init__(\n",
    "        self,\n",
    "        zCombo: List,\n",
    "        transferFunc: sympy.Basic,  # SymPy expression\n",
    "        valid: bool = False,\n",
    "        fType: Optional[str] = None,\n",
    "        parameters: Optional[dict] = None\n",
    "    ):\n",
    "        self.zCombo = zCombo\n",
    "        self.transferFunc = transferFunc\n",
    "        self.valid = valid\n",
    "        self.fType = fType\n",
    "        self.parameters = parameters\n",
    "\n",
    "    def __eq__(self, other) -> bool:\n",
    "        if not isinstance(other, FilterClassification):\n",
    "            return NotImplemented\n",
    "        return self.fType == other.fType\n",
    "\n",
    "    def __repr__(self) -> str:\n",
    "        return (\n",
    "            f\"FilterClassification(\"\n",
    "            f\"zCombo={self.zCombo}, transferFunc={self.transferFunc}, \"\n",
    "            f\"valid={self.valid}, fType={self.fType}, parameters={self.parameters})\"\n",
    "        )"
   ]
  },
  {
   "cell_type": "code",
   "execution_count": 308,
   "metadata": {},
   "outputs": [],
   "source": [
    "class FilterClassifier():\n",
    "    \"\"\"Implementation of algorithm 2\"\"\"\n",
    "    def __init__(self, transferFunctionList: List = [], impedanceBatch: List = [], fTypes: List[str] = [\"HP\", \"BP\", \"LP\", \"BS\", \"GE\", \"AP\"]):\n",
    "        self.transferFunctionsList = transferFunctionList\n",
    "        self.impedanceList         = impedanceBatch\n",
    "        self.filterParameters = []\n",
    "        self._fTypes = fTypes\n",
    "        # To be computed\n",
    "        self.classifications: List[FilterClassification] = []\n",
    "        self.clusteredByType  = {}\n",
    "        self.countByType      = {}\n",
    "        \n",
    "        \n",
    "    def hasTFs(self):\n",
    "        return len(self.transferFunctionsList) > 0\n",
    "    \n",
    "    def isClassified(self):\n",
    "        return len(self.transferFunctionsList) == len(self.classifications)\n",
    "    \n",
    "    def countTF(self):\n",
    "        return len(self.transferFunctionsList)\n",
    "    \n",
    "    def countValid(self):\n",
    "        countValid = 0\n",
    "        for filter in self.classifications:\n",
    "            if (filter.valid):\n",
    "                countValid += 1\n",
    "        return countValid, len(self.classifications)\n",
    "\n",
    "    def addTFs(self, transferFunctions, impedanceBatch):\n",
    "        if(len(impedanceBatch) != len(transferFunctions)):\n",
    "            print(\"==== the TF and Z array size mismatch ====\")\n",
    "            return False\n",
    "        \n",
    "        for tf, zCombo in zip(transferFunctions, impedanceBatch):\n",
    "            self.transferFunctionsList.append(tf)\n",
    "            self.impedanceList.append(zCombo)\n",
    "        return True\n",
    "\n",
    "    def clear(self):\n",
    "        self.transferFunctionsList = []\n",
    "        self.filterParameters = []\n",
    "        self.classifications = []\n",
    "    \n",
    "    def addFilterType(self, types: list):\n",
    "        for _type in types:\n",
    "            self._fTypes.append(_type)\n",
    "\n",
    "    def classifyBiQuadFilters(self):\n",
    "        self.classifications = []\n",
    "        # Wrap the zip iterator with tqdm for progress tracking\n",
    "        for tf, impedanceCombo in tqdm(zip(self.transferFunctionsList, self.impedanceList),\n",
    "                                        total=self.countTF(),\n",
    "                                        desc=\"Computing filter parameters\",\n",
    "                                        unit=\"filter\"):\n",
    "            results = self._getBiQuadParameters(tf)\n",
    "            if results['valid']:\n",
    "                self.classifications.append(FilterClassification(\n",
    "                    zCombo       = impedanceCombo,\n",
    "                    transferFunc = tf,\n",
    "                    valid= True,\n",
    "                    fType        = results[\"fType\"],\n",
    "                    parameters   = results[\"parameters\"]\n",
    "                ))\n",
    "            else:\n",
    "                self.classifications.append(FilterClassification(\n",
    "                    zCombo= impedanceCombo,\n",
    "                    transferFunc= tf,\n",
    "                    valid= False,\n",
    "                    fType= None,\n",
    "                    parameters= results[\"parameters\"]\n",
    "                ))\n",
    "\n",
    "    def summarizeFilterType(self, filterTypes=[\"HP\", \"BP\", \"LP\", \"BS\", \"GE\", \"AP\"]):\n",
    "        if not self.isClassified():\n",
    "            print(\"===============\")\n",
    "            print(\"Classify the TFs first\")\n",
    "            print(\"===============\")\n",
    "\n",
    "        counts = {}\n",
    "        for fType in filterTypes:\n",
    "            self.clusteredByType[fType], self.countByType[fType] = self._findFilterInClassification(fType)\n",
    "        return self.clusteredByType, counts\n",
    "\n",
    "    # HELPER FUNCTIONS (private)\n",
    "    def _findFilterInClassification(self, filterType, printMessage=True):\n",
    "        output = []\n",
    "        count = 0\n",
    "        for entity in self.classifications:\n",
    "            # print(f\"entity : {entity}\")\n",
    "            if (entity.valid) and (entity.fType == filterType):\n",
    "                output.append(entity)\n",
    "                count += 1\n",
    "        if printMessage:\n",
    "            print(f\"{filterType} : {len(output)}\")\n",
    "\n",
    "        return output, count\n",
    "    \n",
    "\n",
    "    def _getBiQuadParameters(self, tf):\n",
    "        \"\"\"\n",
    "        Computes the parameters of a biquad filter given its transfer function.\n",
    "        \n",
    "        Assumes the filter follows the form:\n",
    "            tf = (b2 * s^2 + b1 * s + b0) / (a2 * s^2 + a1 * s + a0)\n",
    "        Compares tf to:\n",
    "            H(s) = K * N_XY(s) / (s^2 + (wo/Q)*s + wo^2)\n",
    "        \n",
    "        Returns a dictionary of parameters or {'valid': False} if invalid.\n",
    "        \"\"\"\n",
    "        # Define symbolic variable\n",
    "        s = symbols('s')\n",
    "\n",
    "        # Extract numerator and denominator\n",
    "        denominator = denom(tf).expand()  # Denominator of tf\n",
    "        numerator = numer(tf).expand()    # Numerator of tf\n",
    "\n",
    "        # Determine orders\n",
    "        den_order = degree(denominator, s)\n",
    "        num_order = degree(numerator, s)\n",
    "\n",
    "        # Extract denominator coefficients\n",
    "        a2 = denominator.coeff(s, 2)\n",
    "        a1 = denominator.coeff(s, 1)\n",
    "        a0 = denominator.coeff(s, 0)\n",
    "\n",
    "        # Validate filter form and coefficients\n",
    "        if not all([a2, a1, a0]) or num_order > 2:\n",
    "            return {'valid': False,\n",
    "                    'parameters': None}\n",
    "\n",
    "        # Compute natural frequency (wo), quality factor (Q), and bandwidth\n",
    "        wo = sqrt(simplify(a0 / a2))\n",
    "        Q = simplify((a2 / a1) * wo)\n",
    "        bandwidth = wo / Q\n",
    "\n",
    "        # Extract numerator coefficients\n",
    "        b2 = numerator.coeff(s, 2)\n",
    "        b1 = numerator.coeff(s, 1)\n",
    "        b0 = numerator.coeff(s, 0)\n",
    "\n",
    "        # Calculate filter constants\n",
    "        #           b2 s^2 + b1 s^1 + b0                N_XY(s)\n",
    "        #  H(s) = ------------------------- = K ------------------------\n",
    "        #           a2 s^2 + a1 s^1 + a0          s^2 + (wo/Q)*s + wo^2\n",
    "        \n",
    "        # Possible N_XY(s): K = {K_HP, K_LP, K_BP, K_BS, K_GE}\n",
    "        #   1 - N_HP = s^2\n",
    "        #   2 - N_LP = wo^2\n",
    "        #   3 - N_BP = wo/Q * s     ----> wo/Q = bandwidth\n",
    "        #   4 - N_BS = s^2 + wo^2\n",
    "        #   5 - N_GE = s^2 + (wz/Qz) * s + wz^2 ----> wz = wo, AP filter if Qz = -Q\n",
    "\n",
    "        numeratorState = ((b2 != 0) << 2) | ((b1 != 0) << 1) | (b0 != 0)\n",
    "        match numeratorState:\n",
    "            case 0b100: # b2 s^2\n",
    "                fType = \"HP\"\n",
    "            case 0b010: # b1 *s \n",
    "                fType = \"BP\"\n",
    "            case 0b001: # b0\n",
    "                fType = \"LP\"\n",
    "            case 0b101: # b2 * s^2 + b0\n",
    "                fType = \"BS\"\n",
    "            case 0b111:\n",
    "                fType = \"GE\"\n",
    "            case 0b011:     # This situation is not accounted for in N_XY(s) scenarios\n",
    "                fType = \"Invalid011\"\n",
    "            case 0b110:     # This situation is not accounted for in N_XY(s) scenarios\n",
    "                fType = \"Invalid110\"\n",
    "            case _:         # catches other combos (i.e., 110, 011)\n",
    "                fType = None\n",
    "\n",
    "\n",
    "        # Compute zero's natural frequency (wz) if applicable\n",
    "        valid = True\n",
    "        if b2 != 0 and b0 != 0:\n",
    "            wz = sqrt(simplify(b0 / b2))\n",
    "        else:\n",
    "            wz = None\n",
    "\n",
    "        # Compute filter constants\n",
    "        K_HP = simplify(b2 / a2)\n",
    "        K_BP = simplify(b1 / (a2 * bandwidth))\n",
    "        K_LP = simplify(b0 / (a2 * wo**2))\n",
    "\n",
    "\n",
    "        # # compare wz to wo\n",
    "        if (fType in [\"BS\", \"GE\"]) and (wz != wo):\n",
    "            valid = False\n",
    "            fType = fType + \"_invalid\"\n",
    "\n",
    "        # Additional parameter (Qz) for Generalized Equalizer (GE) filters\n",
    "        Qz = simplify((b2 / b1) * wo) if b1 != 0 else None\n",
    "\n",
    "        # Return computed parameters\n",
    "        return {\n",
    "            \"valid\": valid,\n",
    "            \"fType\": fType,\n",
    "            \"parameters\": {\n",
    "                \"Q\": Q,\n",
    "                \"wo\": wo,\n",
    "                \"bandwidth\": bandwidth,\n",
    "                \"K_LP\": K_LP,\n",
    "                \"K_HP\": K_HP,\n",
    "                \"K_BP\": K_BP,\n",
    "                \"Qz\": Qz\n",
    "            }\n",
    "        }\n"
   ]
  },
  {
   "cell_type": "markdown",
   "metadata": {},
   "source": [
    "## Analyzer Class"
   ]
  },
  {
   "cell_type": "code",
   "execution_count": 309,
   "metadata": {},
   "outputs": [],
   "source": [
    "class SymbolixExperiment:\n",
    "    \"\"\"Main class putting everything together\"\"\"\n",
    "    def __init__(self, baseHs: BaseTransferFunction):\n",
    "         self.baseHsObject = baseHs\n",
    "         # to be computed\n",
    "         self.baseHsDict = {}\n",
    "         self.transferFunctions = []\n",
    "         self.solvedCombos      = []\n",
    "         self.numOfComputes     = 0\n",
    "\n",
    "    def isBaseSolved(self):\n",
    "        return self.baseTF.isSolved\n",
    "    \n",
    "    def getComboKeys(self):\n",
    "        return self.getPossibleZcombo().keys()\n",
    "\n",
    "    def compute(self, comboKey = \"all\", clearRecord = True):\n",
    "        solvedTFs = []\n",
    "\n",
    "        if clearRecord:\n",
    "             self.transferFunctions = []\n",
    "             self.solvedCombos      = []\n",
    "             self.numOfComputes     = 0\n",
    "             self.baseHsDict        = {}\n",
    "\n",
    "        self.getPossibleBase()\n",
    "        possibleImpednaceCombo = self.getPossibleZcombo()\n",
    "        impedanceBatch = list(possibleImpednaceCombo[comboKey])\n",
    "\n",
    "        for zCombo in tqdm(impedanceBatch, desc=\"Getting the TFs (CG)\", unit=\"combo\"):\n",
    "              Z1, Z2, Z3, Z4, Z5, ZL = zCombo\n",
    "            #   print(f\"Hs (before) : {self.baseHsObject.baseHs}\")\n",
    "              sub_dict = {symbols(\"Z1\") : Z1,\n",
    "                          symbols(\"Z2\") : Z2,\n",
    "                          symbols(\"Z3\") : Z3,\n",
    "                          symbols(\"Z4\") : Z4,\n",
    "                          symbols(\"Z5\") : Z5,\n",
    "                          symbols(\"ZL\") : ZL}\n",
    "              \n",
    "            #   print(f\"sub_dict = {sub_dict}\")\n",
    "            #   print(\"=========\")\n",
    "\n",
    "              Hs = self.baseHsDict[comboKey].subs(sub_dict)\n",
    "              Hs = simplify((Hs.factor()))\n",
    "              # record the Z combo and its H(s)\n",
    "              solvedTFs.append(Hs)\n",
    "      \n",
    "        self.transferFunctions.append(solvedTFs)\n",
    "        self.solvedCombos.append(impedanceBatch)\n",
    "        self.numOfComputes += 1\n",
    "\n",
    "        # Output summary of results\n",
    "        print(\"Number of transfer functions found: {}\".format(len(solvedTFs)))\n",
    "        for i, tf in enumerate(solvedTFs, 1):\n",
    "            print(\"H(s) {}: {}\".format(i, tf))\n",
    "\n",
    "        return solvedTFs, impedanceBatch\n",
    "    \n",
    "    # (Defines the impedance arrays)\n",
    "    def getPossibleZcombo(self):\n",
    "        Zz1 = [R1]                      # R\n",
    "\n",
    "        Zz2 = [R2,                                           # R\n",
    "              1/(s*C2),                                      # C\n",
    "              R2/(1 + R2*C2*s),                              # R || C\n",
    "              R2 + 1/(C2*s),                                 # R + C\n",
    "              s*L2 + 1/(s*C2),                               # L + C\n",
    "              R2 + s*L2 + 1/(s*C2),                          # R + L + C\n",
    "              R2 + (s*L2/(1 + L2*C2*s**2)),                  # R + (L || C)\n",
    "              R2*(s*L2 + 1/(s*C2))/(R2 + (s*L2 + 1/(s*C2)))  # R2 || (L2 + C2)\n",
    "              ]\n",
    "\n",
    "        Zz3 = [R3,                                           # R\n",
    "              s*L3,                                          # L\n",
    "              1/(s*C3),                                      # C\n",
    "              R3/(1 + R3*C3*s),                              # R || C\n",
    "              R3 + 1/(C3*s),                                 # R + C\n",
    "              (s*L3 + 1/(s*C3)),                             # L + C\n",
    "              (L3*s)/(1 + L3*C3*s**2),                       # L || C\n",
    "              R3 + s*L3 + 1/(s*C3),                          # R + L + C\n",
    "              (1/R3 + s*C3+ 1/(s*L3))**-1,                   # R || L || C\n",
    "              R3 + (s*L3/(1 + L3*C3*s**2)),                  # R + (L || C)\n",
    "              R3*(s*L3 + 1/(s*C3))/(R3 + (s*L3 + 1/(s*C3)))  # R || (L + C)\n",
    "              ]\n",
    "\n",
    "\n",
    "        Zz4 = [R4,                                           # R\n",
    "              s*L4,                                          # L\n",
    "              1/(s*C4),                                      # C\n",
    "              R4/(1 + R4*C4*s),                              # R || C\n",
    "              R4 + 1/(C4*s),                                 # R + C\n",
    "              (s*L4 + 1/(s*C4)),                             # L + C\n",
    "              (L4*s)/(1 + L4*C4*s**2),                       # L || C\n",
    "              R4 + s*L4 + 1/(s*C4),                          # R + L + C\n",
    "              (1/R4 + s*C4+ 1/(s*L4))**-1,                   # R || L || C\n",
    "              R4 + (s*L4/(1 + L4*C4*s**2)),                  # R + (L || C)\n",
    "              R4*(s*L4 + 1/(s*C4))/(R4 + (s*L4 + 1/(s*C4)))  # R || (L + C)\n",
    "              ]\n",
    "\n",
    "        Zz5 = [R4,                                           # R\n",
    "              s*L4,                                          # L\n",
    "              1/(s*C4),                                      # C\n",
    "              R4/(1 + R4*C4*s),                              # R || C\n",
    "              R4 + 1/(C4*s),                                 # R + C\n",
    "              (s*L4 + 1/(s*C4)),                             # L + C\n",
    "              (L4*s)/(1 + L4*C4*s**2),                       # L || C\n",
    "              R4 + s*L4 + 1/(s*C4),                          # R + L + C\n",
    "              (1/R4 + s*C4+ 1/(s*L4))**-1,                   # R || L || C\n",
    "              R4 + (s*L4/(1 + L4*C4*s**2)),                  # R + (L || C)\n",
    "              R4*(s*L4 + 1/(s*C4))/(R4 + (s*L4 + 1/(s*C4)))  # R || (L + C)\n",
    "              ]\n",
    "\n",
    "        ZzL = [RL,                                           # R\n",
    "              s*LL,                                          # L\n",
    "              1/(s*CL),                                      # C\n",
    "              RL/(1 + RL*CL*s),                              # R || C\n",
    "              RL + 1/(CL*s),                                 # R + C\n",
    "              (s*LL + 1/(s*CL)),                             # L + C\n",
    "              (LL*s)/(1 + LL*CL*s**2),                       # L || C\n",
    "              RL + s*LL + 1/(s*CL),                          # R + L + C\n",
    "              (1/RL + s*CL+ 1/(s*LL))**-1,                   # R || L || C\n",
    "              RL + (s*LL/(1 + LL*CL*s**2)),                  # R + (L || C)\n",
    "              RL*(s*LL + 1/(s*CL))/(RL + (s*LL + 1/(s*CL)))  # R || (L + C)\n",
    "            ]\n",
    "        # Combine Z\n",
    "        return {\n",
    "          \"all\"         : product(Zz1, Zz2, Zz3, Zz4, Zz5, ZzL),\n",
    "          \"Z3_ZL\"       : product([inf], [inf], Zz3, [inf], [inf], ZzL),\n",
    "          \"Z5_ZL\"       : product([inf], [inf], [inf], [inf], Zz5, ZzL),\n",
    "          \"Z2_Z4_ZL\"    : product([inf], Zz2, [inf], Zz4, [inf], ZzL),\n",
    "          \"Z2_Z5_ZL\"    : product([inf], Zz2, [inf], [inf], Zz5, ZzL),\n",
    "          \"Z3_Z5_ZL\"    : product([inf], [inf], Zz3, [inf], Zz5, ZzL)\n",
    "          }  \n",
    "        \n",
    "    def getPossibleBase(self):\n",
    "        baseHs = self.baseHsObject.baseHs\n",
    "        # oo is the symbol for infitity (Table II)\n",
    "        # ------------------------------------------------------------\n",
    "        baseHs_CG_Z3ZL      = sympy.limit(baseHs, Z1, inf)         # Z1, Z2, Z4, and Z5 are set to oo (infinity)\n",
    "        baseHs_CG_Z3ZL      = sympy.limit(baseHs_CG_Z3ZL, Z2, inf)\n",
    "        baseHs_CG_Z3ZL      = sympy.limit(baseHs_CG_Z3ZL, Z4, inf)\n",
    "        baseHs_CG_Z3ZL      = sympy.limit(baseHs_CG_Z3ZL, Z5, inf)\n",
    "        # ------------------------------------------------------------\n",
    "        baseHs_CG_Z5ZL      = sympy.limit(baseHs, Z1, inf)         # Z1, Z2, Z3, and Z4 are set to oo (infinity)\n",
    "        baseHs_CG_Z5ZL      = sympy.limit(baseHs_CG_Z5ZL, Z2, inf)\n",
    "        baseHs_CG_Z5ZL      = sympy.limit(baseHs_CG_Z5ZL, Z3, inf)\n",
    "        baseHs_CG_Z5ZL      = sympy.limit(baseHs_CG_Z5ZL, Z4, inf)\n",
    "        # ------------------------------------------------------------\n",
    "        baseHs_CG_Z2Z4ZL    = sympy.limit(baseHs, Z1, inf)         # Z1, Z3 and Z5 are set to oo (infinity)\n",
    "        baseHs_CG_Z2Z4ZL    = sympy.limit(baseHs_CG_Z2Z4ZL, Z3, inf)\n",
    "        baseHs_CG_Z2Z4ZL    = sympy.limit(baseHs_CG_Z2Z4ZL, Z5, inf)\n",
    "        # ------------------------------------------------------------\n",
    "        baseHs_CG_Z2Z5ZL    = sympy.limit(baseHs, Z1, inf)         # Z1, Z3, and Z4 are set to oo (infinity)\n",
    "        baseHs_CG_Z2Z5ZL    = sympy.limit(baseHs_CG_Z2Z5ZL, Z3, inf)\n",
    "        baseHs_CG_Z2Z5ZL    = sympy.limit(baseHs_CG_Z2Z5ZL, Z4, inf)\n",
    "        # ------------------------------------------------------------\n",
    "        baseHs_CG_Z3Z5ZL    = sympy.limit(baseHs, Z1, inf)         # Z1, Z2, and Z4 are set to oo (infinity)\n",
    "        baseHs_CG_Z3Z5ZL    = sympy.limit(baseHs_CG_Z3Z5ZL, Z2, inf)\n",
    "        baseHs_CG_Z3Z5ZL    = sympy.limit(baseHs_CG_Z3Z5ZL, Z4, inf)\n",
    "        # ------------------------------------------------------------\n",
    "\n",
    "        self.baseHsDict =  {\n",
    "            \"all\"       : baseHs,\n",
    "            \"Z3_ZL\"     : baseHs_CG_Z3ZL,\n",
    "            \"Z5_ZL\"     : baseHs_CG_Z5ZL,\n",
    "            \"Z2_Z4_ZL\"  : baseHs_CG_Z2Z4ZL,\n",
    "            \"Z2_Z5_ZL\"  : baseHs_CG_Z2Z5ZL,\n",
    "            \"Z3_Z5_ZL\"  : baseHs_CG_Z3Z5ZL\n",
    "        }\n",
    "\n",
    "        return self.baseHsDict"
   ]
  },
  {
   "cell_type": "markdown",
   "metadata": {
    "id": "5kdChkXS0GsV"
   },
   "source": [
    "## Utils"
   ]
  },
  {
   "cell_type": "code",
   "execution_count": 343,
   "metadata": {
    "id": "M1cVIMjuz-4b"
   },
   "outputs": [],
   "source": [
    "class Utils:\n",
    "    \"\"\"\n",
    "    A utility class for generating LaTeX reports.\n",
    "    \"\"\"\n",
    "    def __init__(self, outputDirectory=\"Outputs\"):\n",
    "        self.outputDirectory = outputDirectory\n",
    "        os.makedirs(outputDirectory, exist_ok=True)\n",
    "\n",
    "    def generateLaTeXReport(self, filter_classifications: List[FilterClassification], output_filename=\"Report\", newpage=False):\n",
    "        \"\"\"\n",
    "        Generates a LaTeX report from the filter classifications and saves it to a file.\n",
    "\n",
    "        :param filter_classifications: List of FilterClassification objects.\n",
    "        :param output_filename: The name of the output LaTeX file (without extension).\n",
    "        :param newpage: If True, adds a page break after each filter.\n",
    "        \"\"\"\n",
    "        header = r\"\"\"\n",
    "        \\documentclass{article}\n",
    "        \\usepackage{amsmath}\n",
    "        \\usepackage{geometry}\n",
    "        \\geometry{landscape, a3paper, margin=1in}  % Adjust paper size and margins\n",
    "        \\begin{document}\n",
    "        \\section*{Experiment Summary}\n",
    "        \"\"\"\n",
    "\n",
    "        footer = r\"\\end{document}\"\n",
    "\n",
    "        # LaTeX filename\n",
    "        output_filename = os.path.join(self.outputDirectory, output_filename + \".tex\")\n",
    "\n",
    "        with open(output_filename, \"w\") as latex_file:\n",
    "            latex_file.write(header)\n",
    "            \n",
    "            for i, classification in enumerate(filter_classifications, 1):\n",
    "                latex_file.write(f\"\\\\subsection*{{Filter {i}}}\\n\")\n",
    "                if classification.valid:\n",
    "                    latex_file.write(f\"\\\\textbf{{Filter Type:}} {classification.fType} \\\\\\\\ \\n\")\n",
    "\n",
    "                    latex_file.write(f\"\\\\textbf{{$Z(s)$:}} ${latex(classification.zCombo)}$ \\\\\\\\ \\n\")\n",
    "                    # Transfer function\n",
    "                    latex_file.write(f\"\\\\textbf{{$H(s)$:}} ${latex(classification.transferFunc)}$ \\\\\\\\ \\n\")\n",
    "                    \n",
    "                    # Ensure parameters are written in math mode\n",
    "                    latex_file.write(f\"\\\\textbf{{Q:}} ${latex(classification.parameters['Q'])}$ \\\\\\\\ \\n\")\n",
    "                    latex_file.write(f\"\\\\textbf{{$\\\\omega_0$:}} ${latex(classification.parameters['wo'])}$ \\\\\\\\ \\n\")\n",
    "                    latex_file.write(f\"\\\\textbf{{Bandwidth:}} ${latex(classification.parameters['bandwidth'])}$ \\\\\\\\ \\n\")\n",
    "                    \n",
    "                else:\n",
    "                    latex_file.write(\"Invalid filter \\\\\\\\ \\n\")\n",
    "                \n",
    "                # Add a page break if newpage is requested\n",
    "                if newpage:\n",
    "                    latex_file.write(\"\\\\newpage\\n\")\n",
    "\n",
    "            latex_file.write(footer)\n",
    "\n",
    "        print(f\"LaTeX report saved to: {output_filename}\")\n"
   ]
  },
  {
   "cell_type": "markdown",
   "metadata": {},
   "source": [
    "# Experiment"
   ]
  },
  {
   "cell_type": "code",
   "execution_count": 311,
   "metadata": {},
   "outputs": [
    {
     "data": {
      "text/plain": [
       "dict_keys(['simple', 'symbolic', 'some_parasitic', 'full_parasitic'])"
      ]
     },
     "execution_count": 311,
     "metadata": {},
     "output_type": "execute_result"
    }
   ],
   "source": [
    "_transmissionMatrix.keys()"
   ]
  },
  {
   "cell_type": "code",
   "execution_count": 312,
   "metadata": {},
   "outputs": [],
   "source": [
    "# Create an instance of the base TF, differential voltage amplifier\n",
    "myBaseTF = BaseTransferFunction(_output = [Vop, Von],\n",
    "                                _input  = [Vip, Vin],\n",
    "                                transmissionMatrixType= \"simple\")"
   ]
  },
  {
   "cell_type": "code",
   "execution_count": 313,
   "metadata": {},
   "outputs": [
    {
     "name": "stdout",
     "output_type": "stream",
     "text": [
      "====CommonGate====\n",
      "(1) set up the nodal equation\n",
      "(2) solved the base transfer function\n",
      "FOUND THE BASE TF\n"
     ]
    },
    {
     "data": {
      "image/png": "[encoded data removed]",
      "text/latex": [
       "$\\displaystyle \\frac{Z_{3} Z_{4} ZL \\left(Z_{2} Z_{5} gm - Z_{2} + Z_{5}\\right)}{Z_{2} Z_{3} Z_{4} Z_{5} + Z_{2} Z_{3} Z_{4} ZL + 2 Z_{2} Z_{3} Z_{5} ZL + Z_{2} Z_{4} Z_{5} ZL + Z_{3} Z_{4} Z_{5} ZL}$"
      ],
      "text/plain": [
       "                    Z₃⋅Z₄⋅ZL⋅(Z₂⋅Z₅⋅gm - Z₂ + Z₅)                    \n",
       "─────────────────────────────────────────────────────────────────────\n",
       "Z₂⋅Z₃⋅Z₄⋅Z₅ + Z₂⋅Z₃⋅Z₄⋅ZL + 2⋅Z₂⋅Z₃⋅Z₅⋅ZL + Z₂⋅Z₄⋅Z₅⋅ZL + Z₃⋅Z₄⋅Z₅⋅ZL"
      ]
     },
     "execution_count": 313,
     "metadata": {},
     "output_type": "execute_result"
    }
   ],
   "source": [
    "# myBaseTF.setT_type(\"some_parasitic\")\n",
    "myBaseTF.solve()"
   ]
  },
  {
   "cell_type": "code",
   "execution_count": null,
   "metadata": {},
   "outputs": [],
   "source": []
  },
  {
   "cell_type": "code",
   "execution_count": 314,
   "metadata": {},
   "outputs": [],
   "source": [
    "experiment = SymbolixExperiment(myBaseTF)"
   ]
  },
  {
   "cell_type": "code",
   "execution_count": 315,
   "metadata": {},
   "outputs": [
    {
     "data": {
      "text/plain": [
       "dict_keys(['all', 'Z3_ZL', 'Z5_ZL', 'Z2_Z4_ZL', 'Z2_Z5_ZL', 'Z3_Z5_ZL'])"
      ]
     },
     "execution_count": 315,
     "metadata": {},
     "output_type": "execute_result"
    }
   ],
   "source": [
    "experiment.getComboKeys()\n"
   ]
  },
  {
   "cell_type": "code",
   "execution_count": 316,
   "metadata": {},
   "outputs": [
    {
     "name": "stderr",
     "output_type": "stream",
     "text": [
      "Getting the TFs (CG): 100%|██████████| 121/121 [00:05<00:00, 23.93combo/s]"
     ]
    },
    {
     "name": "stdout",
     "output_type": "stream",
     "text": [
      "Number of transfer functions found: 121\n",
      "H(s) 1: RL*(R4*gm - 1)/(R4 + RL)\n",
      "H(s) 2: LL*s*(R4*gm - 1)/(LL*s + R4)\n",
      "H(s) 3: (R4*gm - 1)/(CL*R4*s + 1)\n",
      "H(s) 4: RL*(R4*gm - 1)/(CL*R4*RL*s + R4 + RL)\n",
      "H(s) 5: (R4*gm - 1)*(CL*RL*s + 1)/(CL*R4*s + CL*RL*s + 1)\n",
      "H(s) 6: (R4*gm - 1)*(CL*LL*s**2 + 1)/(CL*LL*s**2 + CL*R4*s + 1)\n",
      "H(s) 7: LL*s*(R4*gm - 1)/(CL*LL*R4*s**2 + LL*s + R4)\n",
      "H(s) 8: (R4*gm - 1)*(CL*LL*s**2 + CL*RL*s + 1)/(CL*LL*s**2 + CL*R4*s + CL*RL*s + 1)\n",
      "H(s) 9: LL*RL*s*(R4*gm - 1)/(CL*LL*R4*RL*s**2 + LL*R4*s + LL*RL*s + R4*RL)\n",
      "H(s) 10: (R4*gm - 1)*(CL*LL*RL*s**2 + LL*s + RL)/(CL*LL*R4*s**2 + CL*LL*RL*s**2 + LL*s + R4 + RL)\n",
      "H(s) 11: RL*(R4*gm - 1)*(CL*LL*s**2 + 1)/(CL*LL*R4*s**2 + CL*LL*RL*s**2 + CL*R4*RL*s + R4 + RL)\n",
      "H(s) 12: RL*(L4*gm*s - 1)/(L4*s + RL)\n",
      "H(s) 13: LL*(L4*gm*s - 1)/(L4 + LL)\n",
      "H(s) 14: (L4*gm*s - 1)/(CL*L4*s**2 + 1)\n",
      "H(s) 15: RL*(L4*gm*s - 1)/(CL*L4*RL*s**2 + L4*s + RL)\n",
      "H(s) 16: (CL*RL*s + 1)*(L4*gm*s - 1)/(CL*L4*s**2 + CL*RL*s + 1)\n",
      "H(s) 17: (CL*LL*s**2 + 1)*(L4*gm*s - 1)/(CL*L4*s**2 + CL*LL*s**2 + 1)\n",
      "H(s) 18: LL*(L4*gm*s - 1)/(CL*L4*LL*s**2 + L4 + LL)\n",
      "H(s) 19: (L4*gm*s - 1)*(CL*LL*s**2 + CL*RL*s + 1)/(CL*L4*s**2 + CL*LL*s**2 + CL*RL*s + 1)\n",
      "H(s) 20: LL*RL*(L4*gm*s - 1)/(CL*L4*LL*RL*s**2 + L4*LL*s + L4*RL + LL*RL)\n",
      "H(s) 21: (L4*gm*s - 1)*(CL*LL*RL*s**2 + LL*s + RL)/(CL*L4*LL*s**3 + CL*LL*RL*s**2 + L4*s + LL*s + RL)\n",
      "H(s) 22: RL*(CL*LL*s**2 + 1)*(L4*gm*s - 1)/(CL*L4*LL*s**3 + CL*L4*RL*s**2 + CL*LL*RL*s**2 + L4*s + RL)\n",
      "H(s) 23: RL*(-C4*s + gm)/(C4*RL*s + 1)\n",
      "H(s) 24: LL*s*(-C4*s + gm)/(C4*LL*s**2 + 1)\n",
      "H(s) 25: (-C4*s + gm)/(s*(C4 + CL))\n",
      "H(s) 26: RL*(-C4*s + gm)/(C4*RL*s + CL*RL*s + 1)\n",
      "H(s) 27: -(C4*s - gm)*(CL*RL*s + 1)/(s*(C4*CL*RL*s + C4 + CL))\n",
      "H(s) 28: -(C4*s - gm)*(CL*LL*s**2 + 1)/(s*(C4*CL*LL*s**2 + C4 + CL))\n",
      "H(s) 29: LL*s*(-C4*s + gm)/(C4*LL*s**2 + CL*LL*s**2 + 1)\n",
      "H(s) 30: -(C4*s - gm)*(CL*LL*s**2 + CL*RL*s + 1)/(s*(C4*CL*LL*s**2 + C4*CL*RL*s + C4 + CL))\n",
      "H(s) 31: LL*RL*s*(-C4*s + gm)/(C4*LL*RL*s**2 + CL*LL*RL*s**2 + LL*s + RL)\n",
      "H(s) 32: -(C4*s - gm)*(CL*LL*RL*s**2 + LL*s + RL)/(C4*CL*LL*RL*s**3 + C4*LL*s**2 + C4*RL*s + CL*LL*s**2 + 1)\n",
      "H(s) 33: -RL*(C4*s - gm)*(CL*LL*s**2 + 1)/(C4*CL*LL*RL*s**3 + C4*RL*s + CL*LL*s**2 + CL*RL*s + 1)\n",
      "H(s) 34: RL*(-C4*R4*s + R4*gm - 1)/(C4*R4*RL*s + R4 + RL)\n",
      "H(s) 35: LL*s*(-C4*R4*s + R4*gm - 1)/(C4*LL*R4*s**2 + LL*s + R4)\n",
      "H(s) 36: (-C4*R4*s + R4*gm - 1)/(C4*R4*s + CL*R4*s + 1)\n",
      "H(s) 37: RL*(-C4*R4*s + R4*gm - 1)/(C4*R4*RL*s + CL*R4*RL*s + R4 + RL)\n",
      "H(s) 38: -(CL*RL*s + 1)*(C4*R4*s - R4*gm + 1)/(C4*CL*R4*RL*s**2 + C4*R4*s + CL*R4*s + CL*RL*s + 1)\n",
      "H(s) 39: -(CL*LL*s**2 + 1)*(C4*R4*s - R4*gm + 1)/(C4*CL*LL*R4*s**3 + C4*R4*s + CL*LL*s**2 + CL*R4*s + 1)\n",
      "H(s) 40: LL*s*(-C4*R4*s + R4*gm - 1)/(C4*LL*R4*s**2 + CL*LL*R4*s**2 + LL*s + R4)\n",
      "H(s) 41: -(C4*R4*s - R4*gm + 1)*(CL*LL*s**2 + CL*RL*s + 1)/(C4*CL*LL*R4*s**3 + C4*CL*R4*RL*s**2 + C4*R4*s + CL*LL*s**2 + CL*R4*s + CL*RL*s + 1)\n",
      "H(s) 42: LL*RL*s*(-C4*R4*s + R4*gm - 1)/(C4*LL*R4*RL*s**2 + CL*LL*R4*RL*s**2 + LL*R4*s + LL*RL*s + R4*RL)\n",
      "H(s) 43: -(C4*R4*s - R4*gm + 1)*(CL*LL*RL*s**2 + LL*s + RL)/(C4*CL*LL*R4*RL*s**3 + C4*LL*R4*s**2 + C4*R4*RL*s + CL*LL*R4*s**2 + CL*LL*RL*s**2 + LL*s + R4 + RL)\n",
      "H(s) 44: -RL*(CL*LL*s**2 + 1)*(C4*R4*s - R4*gm + 1)/(C4*CL*LL*R4*RL*s**3 + C4*R4*RL*s + CL*LL*R4*s**2 + CL*LL*RL*s**2 + CL*R4*RL*s + R4 + RL)\n",
      "H(s) 45: RL*(C4*R4*gm*s - C4*s + gm)/(C4*R4*s + C4*RL*s + 1)\n",
      "H(s) 46: LL*s*(C4*R4*gm*s - C4*s + gm)/(C4*LL*s**2 + C4*R4*s + 1)\n",
      "H(s) 47: (C4*R4*gm*s - C4*s + gm)/(s*(C4*CL*R4*s + C4 + CL))\n",
      "H(s) 48: RL*(C4*R4*gm*s - C4*s + gm)/(C4*CL*R4*RL*s**2 + C4*R4*s + C4*RL*s + CL*RL*s + 1)\n",
      "H(s) 49: (CL*RL*s + 1)*(C4*R4*gm*s - C4*s + gm)/(s*(C4*CL*R4*s + C4*CL*RL*s + C4 + CL))\n",
      "H(s) 50: (CL*LL*s**2 + 1)*(C4*R4*gm*s - C4*s + gm)/(s*(C4*CL*LL*s**2 + C4*CL*R4*s + C4 + CL))\n",
      "H(s) 51: LL*s*(C4*R4*gm*s - C4*s + gm)/(C4*CL*LL*R4*s**3 + C4*LL*s**2 + C4*R4*s + CL*LL*s**2 + 1)\n",
      "H(s) 52: (CL*LL*s**2 + CL*RL*s + 1)*(C4*R4*gm*s - C4*s + gm)/(s*(C4*CL*LL*s**2 + C4*CL*R4*s + C4*CL*RL*s + C4 + CL))\n",
      "H(s) 53: LL*RL*s*(C4*R4*gm*s - C4*s + gm)/(C4*CL*LL*R4*RL*s**3 + C4*LL*R4*s**2 + C4*LL*RL*s**2 + C4*R4*RL*s + CL*LL*RL*s**2 + LL*s + RL)\n",
      "H(s) 54: (C4*R4*gm*s - C4*s + gm)*(CL*LL*RL*s**2 + LL*s + RL)/(C4*CL*LL*R4*s**3 + C4*CL*LL*RL*s**3 + C4*LL*s**2 + C4*R4*s + C4*RL*s + CL*LL*s**2 + 1)\n",
      "H(s) 55: RL*(CL*LL*s**2 + 1)*(C4*R4*gm*s - C4*s + gm)/(C4*CL*LL*R4*s**3 + C4*CL*LL*RL*s**3 + C4*CL*R4*RL*s**2 + C4*R4*s + C4*RL*s + CL*LL*s**2 + CL*RL*s + 1)\n",
      "H(s) 56: RL*(C4*L4*gm*s**2 - C4*s + gm)/(C4*L4*s**2 + C4*RL*s + 1)\n",
      "H(s) 57: LL*s*(C4*L4*gm*s**2 - C4*s + gm)/(C4*L4*s**2 + C4*LL*s**2 + 1)\n",
      "H(s) 58: (C4*L4*gm*s**2 - C4*s + gm)/(s*(C4*CL*L4*s**2 + C4 + CL))\n",
      "H(s) 59: RL*(C4*L4*gm*s**2 - C4*s + gm)/(C4*CL*L4*RL*s**3 + C4*L4*s**2 + C4*RL*s + CL*RL*s + 1)\n",
      "H(s) 60: (CL*RL*s + 1)*(C4*L4*gm*s**2 - C4*s + gm)/(s*(C4*CL*L4*s**2 + C4*CL*RL*s + C4 + CL))\n",
      "H(s) 61: (CL*LL*s**2 + 1)*(C4*L4*gm*s**2 - C4*s + gm)/(s*(C4*CL*L4*s**2 + C4*CL*LL*s**2 + C4 + CL))\n",
      "H(s) 62: LL*s*(C4*L4*gm*s**2 - C4*s + gm)/(C4*CL*L4*LL*s**4 + C4*L4*s**2 + C4*LL*s**2 + CL*LL*s**2 + 1)\n",
      "H(s) 63: (CL*LL*s**2 + CL*RL*s + 1)*(C4*L4*gm*s**2 - C4*s + gm)/(s*(C4*CL*L4*s**2 + C4*CL*LL*s**2 + C4*CL*RL*s + C4 + CL))\n",
      "H(s) 64: LL*RL*s*(C4*L4*gm*s**2 - C4*s + gm)/(C4*CL*L4*LL*RL*s**4 + C4*L4*LL*s**3 + C4*L4*RL*s**2 + C4*LL*RL*s**2 + CL*LL*RL*s**2 + LL*s + RL)\n",
      "H(s) 65: (C4*L4*gm*s**2 - C4*s + gm)*(CL*LL*RL*s**2 + LL*s + RL)/(C4*CL*L4*LL*s**4 + C4*CL*LL*RL*s**3 + C4*L4*s**2 + C4*LL*s**2 + C4*RL*s + CL*LL*s**2 + 1)\n",
      "H(s) 66: RL*(CL*LL*s**2 + 1)*(C4*L4*gm*s**2 - C4*s + gm)/(C4*CL*L4*LL*s**4 + C4*CL*L4*RL*s**3 + C4*CL*LL*RL*s**3 + C4*L4*s**2 + C4*RL*s + CL*LL*s**2 + CL*RL*s + 1)\n",
      "H(s) 67: RL*(-C4*L4*s**2 + L4*gm*s - 1)/(C4*L4*RL*s**2 + L4*s + RL)\n",
      "H(s) 68: LL*(-C4*L4*s**2 + L4*gm*s - 1)/(C4*L4*LL*s**2 + L4 + LL)\n",
      "H(s) 69: (-C4*L4*s**2 + L4*gm*s - 1)/(C4*L4*s**2 + CL*L4*s**2 + 1)\n",
      "H(s) 70: RL*(-C4*L4*s**2 + L4*gm*s - 1)/(C4*L4*RL*s**2 + CL*L4*RL*s**2 + L4*s + RL)\n",
      "H(s) 71: -(CL*RL*s + 1)*(C4*L4*s**2 - L4*gm*s + 1)/(C4*CL*L4*RL*s**3 + C4*L4*s**2 + CL*L4*s**2 + CL*RL*s + 1)\n",
      "H(s) 72: -(CL*LL*s**2 + 1)*(C4*L4*s**2 - L4*gm*s + 1)/(C4*CL*L4*LL*s**4 + C4*L4*s**2 + CL*L4*s**2 + CL*LL*s**2 + 1)\n",
      "H(s) 73: LL*(-C4*L4*s**2 + L4*gm*s - 1)/(C4*L4*LL*s**2 + CL*L4*LL*s**2 + L4 + LL)\n",
      "H(s) 74: -(C4*L4*s**2 - L4*gm*s + 1)*(CL*LL*s**2 + CL*RL*s + 1)/(C4*CL*L4*LL*s**4 + C4*CL*L4*RL*s**3 + C4*L4*s**2 + CL*L4*s**2 + CL*LL*s**2 + CL*RL*s + 1)\n",
      "H(s) 75: LL*RL*(-C4*L4*s**2 + L4*gm*s - 1)/(C4*L4*LL*RL*s**2 + CL*L4*LL*RL*s**2 + L4*LL*s + L4*RL + LL*RL)\n",
      "H(s) 76: -(C4*L4*s**2 - L4*gm*s + 1)*(CL*LL*RL*s**2 + LL*s + RL)/(C4*CL*L4*LL*RL*s**4 + C4*L4*LL*s**3 + C4*L4*RL*s**2 + CL*L4*LL*s**3 + CL*LL*RL*s**2 + L4*s + LL*s + RL)\n",
      "H(s) 77: -RL*(CL*LL*s**2 + 1)*(C4*L4*s**2 - L4*gm*s + 1)/(C4*CL*L4*LL*RL*s**4 + C4*L4*RL*s**2 + CL*L4*LL*s**3 + CL*L4*RL*s**2 + CL*LL*RL*s**2 + L4*s + RL)\n",
      "H(s) 78: RL*(C4*L4*gm*s**2 + C4*R4*gm*s - C4*s + gm)/(C4*L4*s**2 + C4*R4*s + C4*RL*s + 1)\n",
      "H(s) 79: LL*s*(C4*L4*gm*s**2 + C4*R4*gm*s - C4*s + gm)/(C4*L4*s**2 + C4*LL*s**2 + C4*R4*s + 1)\n",
      "H(s) 80: (C4*L4*gm*s**2 + C4*R4*gm*s - C4*s + gm)/(s*(C4*CL*L4*s**2 + C4*CL*R4*s + C4 + CL))\n",
      "H(s) 81: RL*(C4*L4*gm*s**2 + C4*R4*gm*s - C4*s + gm)/(C4*CL*L4*RL*s**3 + C4*CL*R4*RL*s**2 + C4*L4*s**2 + C4*R4*s + C4*RL*s + CL*RL*s + 1)\n",
      "H(s) 82: (CL*RL*s + 1)*(C4*L4*gm*s**2 + C4*R4*gm*s - C4*s + gm)/(s*(C4*CL*L4*s**2 + C4*CL*R4*s + C4*CL*RL*s + C4 + CL))\n",
      "H(s) 83: (CL*LL*s**2 + 1)*(C4*L4*gm*s**2 + C4*R4*gm*s - C4*s + gm)/(s*(C4*CL*L4*s**2 + C4*CL*LL*s**2 + C4*CL*R4*s + C4 + CL))\n",
      "H(s) 84: LL*s*(C4*L4*gm*s**2 + C4*R4*gm*s - C4*s + gm)/(C4*CL*L4*LL*s**4 + C4*CL*LL*R4*s**3 + C4*L4*s**2 + C4*LL*s**2 + C4*R4*s + CL*LL*s**2 + 1)\n",
      "H(s) 85: (CL*LL*s**2 + CL*RL*s + 1)*(C4*L4*gm*s**2 + C4*R4*gm*s - C4*s + gm)/(s*(C4*CL*L4*s**2 + C4*CL*LL*s**2 + C4*CL*R4*s + C4*CL*RL*s + C4 + CL))\n",
      "H(s) 86: LL*RL*s*(C4*L4*gm*s**2 + C4*R4*gm*s - C4*s + gm)/(C4*CL*L4*LL*RL*s**4 + C4*CL*LL*R4*RL*s**3 + C4*L4*LL*s**3 + C4*L4*RL*s**2 + C4*LL*R4*s**2 + C4*LL*RL*s**2 + C4*R4*RL*s + CL*LL*RL*s**2 + LL*s + RL)\n",
      "H(s) 87: (CL*LL*RL*s**2 + LL*s + RL)*(C4*L4*gm*s**2 + C4*R4*gm*s - C4*s + gm)/(C4*CL*L4*LL*s**4 + C4*CL*LL*R4*s**3 + C4*CL*LL*RL*s**3 + C4*L4*s**2 + C4*LL*s**2 + C4*R4*s + C4*RL*s + CL*LL*s**2 + 1)\n",
      "H(s) 88: RL*(CL*LL*s**2 + 1)*(C4*L4*gm*s**2 + C4*R4*gm*s - C4*s + gm)/(C4*CL*L4*LL*s**4 + C4*CL*L4*RL*s**3 + C4*CL*LL*R4*s**3 + C4*CL*LL*RL*s**3 + C4*CL*R4*RL*s**2 + C4*L4*s**2 + C4*R4*s + C4*RL*s + CL*LL*s**2 + CL*RL*s + 1)\n",
      "H(s) 89: RL*(-C4*L4*R4*s**2 + L4*R4*gm*s - L4*s - R4)/(C4*L4*R4*RL*s**2 + L4*R4*s + L4*RL*s + R4*RL)\n",
      "H(s) 90: LL*(-C4*L4*R4*s**2 + L4*R4*gm*s - L4*s - R4)/(C4*L4*LL*R4*s**2 + L4*LL*s + L4*R4 + LL*R4)\n",
      "H(s) 91: (-C4*L4*R4*s**2 + L4*R4*gm*s - L4*s - R4)/(C4*L4*R4*s**2 + CL*L4*R4*s**2 + L4*s + R4)\n",
      "H(s) 92: RL*(-C4*L4*R4*s**2 + L4*R4*gm*s - L4*s - R4)/(C4*L4*R4*RL*s**2 + CL*L4*R4*RL*s**2 + L4*R4*s + L4*RL*s + R4*RL)\n",
      "H(s) 93: -(CL*RL*s + 1)*(C4*L4*R4*s**2 - L4*R4*gm*s + L4*s + R4)/(C4*CL*L4*R4*RL*s**3 + C4*L4*R4*s**2 + CL*L4*R4*s**2 + CL*L4*RL*s**2 + CL*R4*RL*s + L4*s + R4)\n",
      "H(s) 94: -(CL*LL*s**2 + 1)*(C4*L4*R4*s**2 - L4*R4*gm*s + L4*s + R4)/(C4*CL*L4*LL*R4*s**4 + C4*L4*R4*s**2 + CL*L4*LL*s**3 + CL*L4*R4*s**2 + CL*LL*R4*s**2 + L4*s + R4)\n",
      "H(s) 95: LL*(-C4*L4*R4*s**2 + L4*R4*gm*s - L4*s - R4)/(C4*L4*LL*R4*s**2 + CL*L4*LL*R4*s**2 + L4*LL*s + L4*R4 + LL*R4)\n",
      "H(s) 96: -(CL*LL*s**2 + CL*RL*s + 1)*(C4*L4*R4*s**2 - L4*R4*gm*s + L4*s + R4)/(C4*CL*L4*LL*R4*s**4 + C4*CL*L4*R4*RL*s**3 + C4*L4*R4*s**2 + CL*L4*LL*s**3 + CL*L4*R4*s**2 + CL*L4*RL*s**2 + CL*LL*R4*s**2 + CL*R4*RL*s + L4*s + R4)\n",
      "H(s) 97: LL*RL*(-C4*L4*R4*s**2 + L4*R4*gm*s - L4*s - R4)/(C4*L4*LL*R4*RL*s**2 + CL*L4*LL*R4*RL*s**2 + L4*LL*R4*s + L4*LL*RL*s + L4*R4*RL + LL*R4*RL)\n",
      "H(s) 98: -(CL*LL*RL*s**2 + LL*s + RL)*(C4*L4*R4*s**2 - L4*R4*gm*s + L4*s + R4)/(C4*CL*L4*LL*R4*RL*s**4 + C4*L4*LL*R4*s**3 + C4*L4*R4*RL*s**2 + CL*L4*LL*R4*s**3 + CL*L4*LL*RL*s**3 + CL*LL*R4*RL*s**2 + L4*LL*s**2 + L4*R4*s + L4*RL*s + LL*R4*s + R4*RL)\n",
      "H(s) 99: -RL*(CL*LL*s**2 + 1)*(C4*L4*R4*s**2 - L4*R4*gm*s + L4*s + R4)/(C4*CL*L4*LL*R4*RL*s**4 + C4*L4*R4*RL*s**2 + CL*L4*LL*R4*s**3 + CL*L4*LL*RL*s**3 + CL*L4*R4*RL*s**2 + CL*LL*R4*RL*s**2 + L4*R4*s + L4*RL*s + R4*RL)\n",
      "H(s) 100: RL*(C4*L4*R4*gm*s**2 - C4*L4*s**2 + L4*gm*s + R4*gm - 1)/(C4*L4*R4*s**2 + C4*L4*RL*s**2 + L4*s + R4 + RL)\n",
      "H(s) 101: LL*s*(C4*L4*R4*gm*s**2 - C4*L4*s**2 + L4*gm*s + R4*gm - 1)/(C4*L4*LL*s**3 + C4*L4*R4*s**2 + L4*s + LL*s + R4)\n",
      "H(s) 102: (C4*L4*R4*gm*s**2 - C4*L4*s**2 + L4*gm*s + R4*gm - 1)/(C4*CL*L4*R4*s**3 + C4*L4*s**2 + CL*L4*s**2 + CL*R4*s + 1)\n",
      "H(s) 103: RL*(C4*L4*R4*gm*s**2 - C4*L4*s**2 + L4*gm*s + R4*gm - 1)/(C4*CL*L4*R4*RL*s**3 + C4*L4*R4*s**2 + C4*L4*RL*s**2 + CL*L4*RL*s**2 + CL*R4*RL*s + L4*s + R4 + RL)\n",
      "H(s) 104: (CL*RL*s + 1)*(C4*L4*R4*gm*s**2 - C4*L4*s**2 + L4*gm*s + R4*gm - 1)/(C4*CL*L4*R4*s**3 + C4*CL*L4*RL*s**3 + C4*L4*s**2 + CL*L4*s**2 + CL*R4*s + CL*RL*s + 1)\n",
      "H(s) 105: (CL*LL*s**2 + 1)*(C4*L4*R4*gm*s**2 - C4*L4*s**2 + L4*gm*s + R4*gm - 1)/(C4*CL*L4*LL*s**4 + C4*CL*L4*R4*s**3 + C4*L4*s**2 + CL*L4*s**2 + CL*LL*s**2 + CL*R4*s + 1)\n",
      "H(s) 106: LL*s*(C4*L4*R4*gm*s**2 - C4*L4*s**2 + L4*gm*s + R4*gm - 1)/(C4*CL*L4*LL*R4*s**4 + C4*L4*LL*s**3 + C4*L4*R4*s**2 + CL*L4*LL*s**3 + CL*LL*R4*s**2 + L4*s + LL*s + R4)\n",
      "H(s) 107: (CL*LL*s**2 + CL*RL*s + 1)*(C4*L4*R4*gm*s**2 - C4*L4*s**2 + L4*gm*s + R4*gm - 1)/(C4*CL*L4*LL*s**4 + C4*CL*L4*R4*s**3 + C4*CL*L4*RL*s**3 + C4*L4*s**2 + CL*L4*s**2 + CL*LL*s**2 + CL*R4*s + CL*RL*s + 1)\n",
      "H(s) 108: LL*RL*s*(C4*L4*R4*gm*s**2 - C4*L4*s**2 + L4*gm*s + R4*gm - 1)/(C4*CL*L4*LL*R4*RL*s**4 + C4*L4*LL*R4*s**3 + C4*L4*LL*RL*s**3 + C4*L4*R4*RL*s**2 + CL*L4*LL*RL*s**3 + CL*LL*R4*RL*s**2 + L4*LL*s**2 + L4*RL*s + LL*R4*s + LL*RL*s + R4*RL)\n",
      "H(s) 109: (CL*LL*RL*s**2 + LL*s + RL)*(C4*L4*R4*gm*s**2 - C4*L4*s**2 + L4*gm*s + R4*gm - 1)/(C4*CL*L4*LL*R4*s**4 + C4*CL*L4*LL*RL*s**4 + C4*L4*LL*s**3 + C4*L4*R4*s**2 + C4*L4*RL*s**2 + CL*L4*LL*s**3 + CL*LL*R4*s**2 + CL*LL*RL*s**2 + L4*s + LL*s + R4 + RL)\n",
      "H(s) 110: RL*(CL*LL*s**2 + 1)*(C4*L4*R4*gm*s**2 - C4*L4*s**2 + L4*gm*s + R4*gm - 1)/(C4*CL*L4*LL*R4*s**4 + C4*CL*L4*LL*RL*s**4 + C4*CL*L4*R4*RL*s**3 + C4*L4*R4*s**2 + C4*L4*RL*s**2 + CL*L4*LL*s**3 + CL*L4*RL*s**2 + CL*LL*R4*s**2 + CL*LL*RL*s**2 + CL*R4*RL*s + L4*s + R4 + RL)\n",
      "H(s) 111: RL*(C4*L4*R4*gm*s**2 - C4*L4*s**2 - C4*R4*s + R4*gm - 1)/(C4*L4*R4*s**2 + C4*L4*RL*s**2 + C4*R4*RL*s + R4 + RL)\n",
      "H(s) 112: LL*s*(C4*L4*R4*gm*s**2 - C4*L4*s**2 - C4*R4*s + R4*gm - 1)/(C4*L4*LL*s**3 + C4*L4*R4*s**2 + C4*LL*R4*s**2 + LL*s + R4)\n",
      "H(s) 113: (C4*L4*R4*gm*s**2 - C4*L4*s**2 - C4*R4*s + R4*gm - 1)/(C4*CL*L4*R4*s**3 + C4*L4*s**2 + C4*R4*s + CL*R4*s + 1)\n",
      "H(s) 114: RL*(C4*L4*R4*gm*s**2 - C4*L4*s**2 - C4*R4*s + R4*gm - 1)/(C4*CL*L4*R4*RL*s**3 + C4*L4*R4*s**2 + C4*L4*RL*s**2 + C4*R4*RL*s + CL*R4*RL*s + R4 + RL)\n",
      "H(s) 115: -(CL*RL*s + 1)*(-C4*L4*R4*gm*s**2 + C4*L4*s**2 + C4*R4*s - R4*gm + 1)/(C4*CL*L4*R4*s**3 + C4*CL*L4*RL*s**3 + C4*CL*R4*RL*s**2 + C4*L4*s**2 + C4*R4*s + CL*R4*s + CL*RL*s + 1)\n",
      "H(s) 116: -(CL*LL*s**2 + 1)*(-C4*L4*R4*gm*s**2 + C4*L4*s**2 + C4*R4*s - R4*gm + 1)/(C4*CL*L4*LL*s**4 + C4*CL*L4*R4*s**3 + C4*CL*LL*R4*s**3 + C4*L4*s**2 + C4*R4*s + CL*LL*s**2 + CL*R4*s + 1)\n",
      "H(s) 117: LL*s*(C4*L4*R4*gm*s**2 - C4*L4*s**2 - C4*R4*s + R4*gm - 1)/(C4*CL*L4*LL*R4*s**4 + C4*L4*LL*s**3 + C4*L4*R4*s**2 + C4*LL*R4*s**2 + CL*LL*R4*s**2 + LL*s + R4)\n",
      "H(s) 118: -(CL*LL*s**2 + CL*RL*s + 1)*(-C4*L4*R4*gm*s**2 + C4*L4*s**2 + C4*R4*s - R4*gm + 1)/(C4*CL*L4*LL*s**4 + C4*CL*L4*R4*s**3 + C4*CL*L4*RL*s**3 + C4*CL*LL*R4*s**3 + C4*CL*R4*RL*s**2 + C4*L4*s**2 + C4*R4*s + CL*LL*s**2 + CL*R4*s + CL*RL*s + 1)\n",
      "H(s) 119: LL*RL*s*(C4*L4*R4*gm*s**2 - C4*L4*s**2 - C4*R4*s + R4*gm - 1)/(C4*CL*L4*LL*R4*RL*s**4 + C4*L4*LL*R4*s**3 + C4*L4*LL*RL*s**3 + C4*L4*R4*RL*s**2 + C4*LL*R4*RL*s**2 + CL*LL*R4*RL*s**2 + LL*R4*s + LL*RL*s + R4*RL)\n",
      "H(s) 120: -(CL*LL*RL*s**2 + LL*s + RL)*(-C4*L4*R4*gm*s**2 + C4*L4*s**2 + C4*R4*s - R4*gm + 1)/(C4*CL*L4*LL*R4*s**4 + C4*CL*L4*LL*RL*s**4 + C4*CL*LL*R4*RL*s**3 + C4*L4*LL*s**3 + C4*L4*R4*s**2 + C4*L4*RL*s**2 + C4*LL*R4*s**2 + C4*R4*RL*s + CL*LL*R4*s**2 + CL*LL*RL*s**2 + LL*s + R4 + RL)\n",
      "H(s) 121: -RL*(CL*LL*s**2 + 1)*(-C4*L4*R4*gm*s**2 + C4*L4*s**2 + C4*R4*s - R4*gm + 1)/(C4*CL*L4*LL*R4*s**4 + C4*CL*L4*LL*RL*s**4 + C4*CL*L4*R4*RL*s**3 + C4*CL*LL*R4*RL*s**3 + C4*L4*R4*s**2 + C4*L4*RL*s**2 + C4*R4*RL*s + CL*LL*R4*s**2 + CL*LL*RL*s**2 + CL*R4*RL*s + R4 + RL)\n"
     ]
    },
    {
     "name": "stderr",
     "output_type": "stream",
     "text": [
      "\n"
     ]
    }
   ],
   "source": [
    "tfs, zBatch = experiment.compute(\"Z5_ZL\")"
   ]
  },
  {
   "cell_type": "code",
   "execution_count": 317,
   "metadata": {},
   "outputs": [],
   "source": [
    "classifier = FilterClassifier(tfs, zBatch)"
   ]
  },
  {
   "cell_type": "code",
   "execution_count": 318,
   "metadata": {},
   "outputs": [
    {
     "name": "stderr",
     "output_type": "stream",
     "text": [
      "Computing filter parameters: 100%|██████████| 121/121 [00:01<00:00, 72.84filter/s]\n"
     ]
    },
    {
     "data": {
      "text/plain": [
       "[FilterClassification(zCombo=(oo, oo, oo, oo, R4, LL*s + 1/(CL*s)), transferFunc=(R4*gm - 1)*(CL*LL*s**2 + 1)/(CL*LL*s**2 + CL*R4*s + 1), valid=True, fType=BS, parameters={'Q': LL*sqrt(1/(CL*LL))/R4, 'wo': sqrt(1/(CL*LL)), 'bandwidth': R4/LL, 'K_LP': R4*gm - 1, 'K_HP': R4*gm - 1, 'K_BP': 0, 'Qz': None}),\n",
       " FilterClassification(zCombo=(oo, oo, oo, oo, R4, LL*s/(CL*LL*s**2 + 1)), transferFunc=LL*s*(R4*gm - 1)/(CL*LL*R4*s**2 + LL*s + R4), valid=True, fType=BP, parameters={'Q': CL*R4*sqrt(1/(CL*LL)), 'wo': sqrt(1/(CL*LL)), 'bandwidth': 1/(CL*R4), 'K_LP': 0, 'K_HP': 0, 'K_BP': R4*gm - 1, 'Qz': 0}),\n",
       " FilterClassification(zCombo=(oo, oo, oo, oo, R4, LL*s + RL + 1/(CL*s)), transferFunc=(R4*gm - 1)*(CL*LL*s**2 + CL*RL*s + 1)/(CL*LL*s**2 + CL*R4*s + CL*RL*s + 1), valid=True, fType=GE, parameters={'Q': LL*sqrt(1/(CL*LL))/(R4 + RL), 'wo': sqrt(1/(CL*LL)), 'bandwidth': (R4 + RL)/LL, 'K_LP': R4*gm - 1, 'K_HP': R4*gm - 1, 'K_BP': RL*(R4*gm - 1)/(R4 + RL), 'Qz': LL*sqrt(1/(CL*LL))/RL}),\n",
       " FilterClassification(zCombo=(oo, oo, oo, oo, R4, 1/(CL*s + 1/RL + 1/(LL*s))), transferFunc=LL*RL*s*(R4*gm - 1)/(CL*LL*R4*RL*s**2 + LL*R4*s + LL*RL*s + R4*RL), valid=True, fType=BP, parameters={'Q': CL*R4*RL*sqrt(1/(CL*LL))/(R4 + RL), 'wo': sqrt(1/(CL*LL)), 'bandwidth': (R4 + RL)/(CL*R4*RL), 'K_LP': 0, 'K_HP': 0, 'K_BP': RL*(R4*gm - 1)/(R4 + RL), 'Qz': 0}),\n",
       " FilterClassification(zCombo=(oo, oo, oo, oo, R4, LL*s/(CL*LL*s**2 + 1) + RL), transferFunc=(R4*gm - 1)*(CL*LL*RL*s**2 + LL*s + RL)/(CL*LL*R4*s**2 + CL*LL*RL*s**2 + LL*s + R4 + RL), valid=True, fType=GE, parameters={'Q': CL*sqrt(1/(CL*LL))*(R4 + RL), 'wo': sqrt(1/(CL*LL)), 'bandwidth': 1/(CL*(R4 + RL)), 'K_LP': RL*(R4*gm - 1)/(R4 + RL), 'K_HP': RL*(R4*gm - 1)/(R4 + RL), 'K_BP': R4*gm - 1, 'Qz': CL*RL*sqrt(1/(CL*LL))}),\n",
       " FilterClassification(zCombo=(oo, oo, oo, oo, R4, RL*(LL*s + 1/(CL*s))/(LL*s + RL + 1/(CL*s))), transferFunc=RL*(R4*gm - 1)*(CL*LL*s**2 + 1)/(CL*LL*R4*s**2 + CL*LL*RL*s**2 + CL*R4*RL*s + R4 + RL), valid=True, fType=BS, parameters={'Q': LL*sqrt(1/(CL*LL))*(R4 + RL)/(R4*RL), 'wo': sqrt(1/(CL*LL)), 'bandwidth': R4*RL/(LL*(R4 + RL)), 'K_LP': RL*(R4*gm - 1)/(R4 + RL), 'K_HP': RL*(R4*gm - 1)/(R4 + RL), 'K_BP': 0, 'Qz': None}),\n",
       " FilterClassification(zCombo=(oo, oo, oo, oo, L4*s, RL/(CL*RL*s + 1)), transferFunc=RL*(L4*gm*s - 1)/(CL*L4*RL*s**2 + L4*s + RL), valid=True, fType=Invalid011, parameters={'Q': CL*RL*sqrt(1/(CL*L4)), 'wo': sqrt(1/(CL*L4)), 'bandwidth': 1/(CL*RL), 'K_LP': -1, 'K_HP': 0, 'K_BP': RL*gm, 'Qz': 0}),\n",
       " FilterClassification(zCombo=(oo, oo, oo, oo, L4*s, 1/(CL*s + 1/RL + 1/(LL*s))), transferFunc=LL*RL*(L4*gm*s - 1)/(CL*L4*LL*RL*s**2 + L4*LL*s + L4*RL + LL*RL), valid=True, fType=Invalid011, parameters={'Q': CL*RL*sqrt((L4 + LL)/(CL*L4*LL)), 'wo': sqrt((L4 + LL)/(CL*L4*LL)), 'bandwidth': 1/(CL*RL), 'K_LP': -LL/(L4 + LL), 'K_HP': 0, 'K_BP': RL*gm, 'Qz': 0}),\n",
       " FilterClassification(zCombo=(oo, oo, oo, oo, 1/(C4*s), 1/(CL*s + 1/RL + 1/(LL*s))), transferFunc=LL*RL*s*(-C4*s + gm)/(C4*LL*RL*s**2 + CL*LL*RL*s**2 + LL*s + RL), valid=True, fType=Invalid110, parameters={'Q': RL*sqrt(1/(LL*(C4 + CL)))*(C4 + CL), 'wo': sqrt(1/(LL*(C4 + CL))), 'bandwidth': 1/(RL*(C4 + CL)), 'K_LP': 0, 'K_HP': -C4/(C4 + CL), 'K_BP': RL*gm, 'Qz': -C4*sqrt(1/(LL*(C4 + CL)))/gm}),\n",
       " FilterClassification(zCombo=(oo, oo, oo, oo, R4/(C4*R4*s + 1), LL*s), transferFunc=LL*s*(-C4*R4*s + R4*gm - 1)/(C4*LL*R4*s**2 + LL*s + R4), valid=True, fType=Invalid110, parameters={'Q': C4*R4*sqrt(1/(C4*LL)), 'wo': sqrt(1/(C4*LL)), 'bandwidth': 1/(C4*R4), 'K_LP': 0, 'K_HP': -1, 'K_BP': R4*gm - 1, 'Qz': -C4*R4*sqrt(1/(C4*LL))/(R4*gm - 1)}),\n",
       " FilterClassification(zCombo=(oo, oo, oo, oo, R4/(C4*R4*s + 1), LL*s/(CL*LL*s**2 + 1)), transferFunc=LL*s*(-C4*R4*s + R4*gm - 1)/(C4*LL*R4*s**2 + CL*LL*R4*s**2 + LL*s + R4), valid=True, fType=Invalid110, parameters={'Q': R4*sqrt(1/(LL*(C4 + CL)))*(C4 + CL), 'wo': sqrt(1/(LL*(C4 + CL))), 'bandwidth': 1/(R4*(C4 + CL)), 'K_LP': 0, 'K_HP': -C4/(C4 + CL), 'K_BP': R4*gm - 1, 'Qz': -C4*R4*sqrt(1/(LL*(C4 + CL)))/(R4*gm - 1)}),\n",
       " FilterClassification(zCombo=(oo, oo, oo, oo, R4/(C4*R4*s + 1), 1/(CL*s + 1/RL + 1/(LL*s))), transferFunc=LL*RL*s*(-C4*R4*s + R4*gm - 1)/(C4*LL*R4*RL*s**2 + CL*LL*R4*RL*s**2 + LL*R4*s + LL*RL*s + R4*RL), valid=True, fType=Invalid110, parameters={'Q': R4*RL*sqrt(1/(LL*(C4 + CL)))*(C4 + CL)/(R4 + RL), 'wo': sqrt(1/(LL*(C4 + CL))), 'bandwidth': (R4 + RL)/(R4*RL*(C4 + CL)), 'K_LP': 0, 'K_HP': -C4/(C4 + CL), 'K_BP': RL*(R4*gm - 1)/(R4 + RL), 'Qz': -C4*R4*sqrt(1/(LL*(C4 + CL)))/(R4*gm - 1)}),\n",
       " FilterClassification(zCombo=(oo, oo, oo, oo, R4 + 1/(C4*s), LL*s), transferFunc=LL*s*(C4*R4*gm*s - C4*s + gm)/(C4*LL*s**2 + C4*R4*s + 1), valid=True, fType=Invalid110, parameters={'Q': LL*sqrt(1/(C4*LL))/R4, 'wo': sqrt(1/(C4*LL)), 'bandwidth': R4/LL, 'K_LP': 0, 'K_HP': R4*gm - 1, 'K_BP': LL*gm/(C4*R4), 'Qz': C4*sqrt(1/(C4*LL))*(R4*gm - 1)/gm}),\n",
       " FilterClassification(zCombo=(oo, oo, oo, oo, R4 + 1/(C4*s), RL/(CL*RL*s + 1)), transferFunc=RL*(C4*R4*gm*s - C4*s + gm)/(C4*CL*R4*RL*s**2 + C4*R4*s + C4*RL*s + CL*RL*s + 1), valid=True, fType=Invalid011, parameters={'Q': C4*CL*R4*RL*sqrt(1/(C4*CL*R4*RL))/(C4*R4 + C4*RL + CL*RL), 'wo': sqrt(1/(C4*CL*R4*RL)), 'bandwidth': (C4*R4 + C4*RL + CL*RL)/(C4*CL*R4*RL), 'K_LP': RL*gm, 'K_HP': 0, 'K_BP': C4*RL*(R4*gm - 1)/(C4*R4 + C4*RL + CL*RL), 'Qz': 0}),\n",
       " FilterClassification(zCombo=(oo, oo, oo, oo, R4 + 1/(C4*s), LL*s/(CL*LL*s**2 + 1)), transferFunc=LL*s*(C4*R4*gm*s - C4*s + gm)/(C4*CL*LL*R4*s**3 + C4*LL*s**2 + C4*R4*s + CL*LL*s**2 + 1), valid=True, fType=Invalid110, parameters={'Q': LL*sqrt(1/(LL*(C4 + CL)))*(C4 + CL)/(C4*R4), 'wo': sqrt(1/(LL*(C4 + CL))), 'bandwidth': C4*R4/(LL*(C4 + CL)), 'K_LP': 0, 'K_HP': C4*(R4*gm - 1)/(C4 + CL), 'K_BP': LL*gm/(C4*R4), 'Qz': C4*sqrt(1/(LL*(C4 + CL)))*(R4*gm - 1)/gm}),\n",
       " FilterClassification(zCombo=(oo, oo, oo, oo, R4 + 1/(C4*s), 1/(CL*s + 1/RL + 1/(LL*s))), transferFunc=LL*RL*s*(C4*R4*gm*s - C4*s + gm)/(C4*CL*LL*R4*RL*s**3 + C4*LL*R4*s**2 + C4*LL*RL*s**2 + C4*R4*RL*s + CL*LL*RL*s**2 + LL*s + RL), valid=True, fType=Invalid110, parameters={'Q': LL*sqrt(RL/(LL*(C4*R4 + C4*RL + CL*RL)))*(C4*R4 + C4*RL + CL*RL)/(C4*R4*RL + LL), 'wo': sqrt(RL/(LL*(C4*R4 + C4*RL + CL*RL))), 'bandwidth': (C4*R4*RL + LL)/(LL*(C4*R4 + C4*RL + CL*RL)), 'K_LP': 0, 'K_HP': C4*RL*(R4*gm - 1)/(C4*R4 + C4*RL + CL*RL), 'K_BP': LL*RL*gm/(C4*R4*RL + LL), 'Qz': C4*sqrt(RL/(LL*(C4*R4 + C4*RL + CL*RL)))*(R4*gm - 1)/gm}),\n",
       " FilterClassification(zCombo=(oo, oo, oo, oo, L4*s + 1/(C4*s), RL), transferFunc=RL*(C4*L4*gm*s**2 - C4*s + gm)/(C4*L4*s**2 + C4*RL*s + 1), valid=True, fType=GE, parameters={'Q': L4*sqrt(1/(C4*L4))/RL, 'wo': sqrt(1/(C4*L4)), 'bandwidth': RL/L4, 'K_LP': RL*gm, 'K_HP': RL*gm, 'K_BP': -1, 'Qz': -L4*gm*sqrt(1/(C4*L4))}),\n",
       " FilterClassification(zCombo=(oo, oo, oo, oo, L4*s + 1/(C4*s), RL/(CL*RL*s + 1)), transferFunc=RL*(C4*L4*gm*s**2 - C4*s + gm)/(C4*CL*L4*RL*s**3 + C4*L4*s**2 + C4*RL*s + CL*RL*s + 1), valid=True, fType=GE, parameters={'Q': C4*L4*sqrt(1/(C4*L4))/(RL*(C4 + CL)), 'wo': sqrt(1/(C4*L4)), 'bandwidth': RL*(C4 + CL)/(C4*L4), 'K_LP': RL*gm, 'K_HP': RL*gm, 'K_BP': -C4/(C4 + CL), 'Qz': -L4*gm*sqrt(1/(C4*L4))}),\n",
       " FilterClassification(zCombo=(oo, oo, oo, oo, L4*s/(C4*L4*s**2 + 1), RL), transferFunc=RL*(-C4*L4*s**2 + L4*gm*s - 1)/(C4*L4*RL*s**2 + L4*s + RL), valid=True, fType=GE, parameters={'Q': C4*RL*sqrt(1/(C4*L4)), 'wo': sqrt(1/(C4*L4)), 'bandwidth': 1/(C4*RL), 'K_LP': -1, 'K_HP': -1, 'K_BP': RL*gm, 'Qz': -C4*sqrt(1/(C4*L4))/gm}),\n",
       " FilterClassification(zCombo=(oo, oo, oo, oo, L4*s + R4 + 1/(C4*s), RL), transferFunc=RL*(C4*L4*gm*s**2 + C4*R4*gm*s - C4*s + gm)/(C4*L4*s**2 + C4*R4*s + C4*RL*s + 1), valid=True, fType=GE, parameters={'Q': L4*sqrt(1/(C4*L4))/(R4 + RL), 'wo': sqrt(1/(C4*L4)), 'bandwidth': (R4 + RL)/L4, 'K_LP': RL*gm, 'K_HP': RL*gm, 'K_BP': RL*(R4*gm - 1)/(R4 + RL), 'Qz': L4*gm*sqrt(1/(C4*L4))/(R4*gm - 1)}),\n",
       " FilterClassification(zCombo=(oo, oo, oo, oo, 1/(C4*s + 1/R4 + 1/(L4*s)), RL), transferFunc=RL*(-C4*L4*R4*s**2 + L4*R4*gm*s - L4*s - R4)/(C4*L4*R4*RL*s**2 + L4*R4*s + L4*RL*s + R4*RL), valid=True, fType=GE, parameters={'Q': C4*R4*RL*sqrt(1/(C4*L4))/(R4 + RL), 'wo': sqrt(1/(C4*L4)), 'bandwidth': (R4 + RL)/(C4*R4*RL), 'K_LP': -1, 'K_HP': -1, 'K_BP': RL*(R4*gm - 1)/(R4 + RL), 'Qz': -C4*R4*sqrt(1/(C4*L4))/(R4*gm - 1)}),\n",
       " FilterClassification(zCombo=(oo, oo, oo, oo, L4*s/(C4*L4*s**2 + 1) + R4, RL), transferFunc=RL*(C4*L4*R4*gm*s**2 - C4*L4*s**2 + L4*gm*s + R4*gm - 1)/(C4*L4*R4*s**2 + C4*L4*RL*s**2 + L4*s + R4 + RL), valid=True, fType=GE, parameters={'Q': C4*sqrt(1/(C4*L4))*(R4 + RL), 'wo': sqrt(1/(C4*L4)), 'bandwidth': 1/(C4*(R4 + RL)), 'K_LP': RL*(R4*gm - 1)/(R4 + RL), 'K_HP': RL*(R4*gm - 1)/(R4 + RL), 'K_BP': RL*gm, 'Qz': C4*sqrt(1/(C4*L4))*(R4*gm - 1)/gm}),\n",
       " FilterClassification(zCombo=(oo, oo, oo, oo, R4*(L4*s + 1/(C4*s))/(L4*s + R4 + 1/(C4*s)), RL), transferFunc=RL*(C4*L4*R4*gm*s**2 - C4*L4*s**2 - C4*R4*s + R4*gm - 1)/(C4*L4*R4*s**2 + C4*L4*RL*s**2 + C4*R4*RL*s + R4 + RL), valid=True, fType=GE, parameters={'Q': L4*sqrt(1/(C4*L4))*(R4 + RL)/(R4*RL), 'wo': sqrt(1/(C4*L4)), 'bandwidth': R4*RL/(L4*(R4 + RL)), 'K_LP': RL*(R4*gm - 1)/(R4 + RL), 'K_HP': RL*(R4*gm - 1)/(R4 + RL), 'K_BP': -1, 'Qz': L4*sqrt(1/(C4*L4))*(-R4*gm + 1)/R4}),\n",
       " FilterClassification(zCombo=(oo, oo, oo, oo, R4*(L4*s + 1/(C4*s))/(L4*s + R4 + 1/(C4*s)), 1/(CL*s)), transferFunc=(C4*L4*R4*gm*s**2 - C4*L4*s**2 - C4*R4*s + R4*gm - 1)/(C4*CL*L4*R4*s**3 + C4*L4*s**2 + C4*R4*s + CL*R4*s + 1), valid=True, fType=GE, parameters={'Q': C4*L4*sqrt(1/(C4*L4))/(R4*(C4 + CL)), 'wo': sqrt(1/(C4*L4)), 'bandwidth': R4*(C4 + CL)/(C4*L4), 'K_LP': R4*gm - 1, 'K_HP': R4*gm - 1, 'K_BP': -C4/(C4 + CL), 'Qz': L4*sqrt(1/(C4*L4))*(-R4*gm + 1)/R4}),\n",
       " FilterClassification(zCombo=(oo, oo, oo, oo, R4*(L4*s + 1/(C4*s))/(L4*s + R4 + 1/(C4*s)), RL/(CL*RL*s + 1)), transferFunc=RL*(C4*L4*R4*gm*s**2 - C4*L4*s**2 - C4*R4*s + R4*gm - 1)/(C4*CL*L4*R4*RL*s**3 + C4*L4*R4*s**2 + C4*L4*RL*s**2 + C4*R4*RL*s + CL*R4*RL*s + R4 + RL), valid=True, fType=GE, parameters={'Q': C4*L4*sqrt(1/(C4*L4))*(R4 + RL)/(R4*RL*(C4 + CL)), 'wo': sqrt(1/(C4*L4)), 'bandwidth': R4*RL*(C4 + CL)/(C4*L4*(R4 + RL)), 'K_LP': RL*(R4*gm - 1)/(R4 + RL), 'K_HP': RL*(R4*gm - 1)/(R4 + RL), 'K_BP': -C4/(C4 + CL), 'Qz': L4*sqrt(1/(C4*L4))*(-R4*gm + 1)/R4})]"
      ]
     },
     "execution_count": 318,
     "metadata": {},
     "output_type": "execute_result"
    }
   ],
   "source": [
    "classifier.countTF()\n",
    "classifier.classifyBiQuadFilters()\n",
    "[classification for classification in classifier.classifications if classification.valid]"
   ]
  },
  {
   "cell_type": "code",
   "execution_count": 319,
   "metadata": {},
   "outputs": [
    {
     "name": "stdout",
     "output_type": "stream",
     "text": [
      "HP : 0\n",
      "BP : 2\n",
      "LP : 0\n",
      "BS : 2\n",
      "GE : 11\n",
      "AP : 0\n"
     ]
    },
    {
     "data": {
      "text/plain": [
       "FilterClassification(zCombo=(oo, oo, oo, oo, R4, RL), transferFunc=RL*(R4*gm - 1)/(R4 + RL), valid=False, fType=None, parameters=None)"
      ]
     },
     "execution_count": 319,
     "metadata": {},
     "output_type": "execute_result"
    }
   ],
   "source": [
    "classifier.summarizeFilterType()\n",
    "classifier.classifications[0]"
   ]
  },
  {
   "cell_type": "code",
   "execution_count": 342,
   "metadata": {},
   "outputs": [
    {
     "name": "stdout",
     "output_type": "stream",
     "text": [
      "LaTeX report saved to: Outputs/Report.tex\n"
     ]
    }
   ],
   "source": [
    "Utils().generateLaTeXReport(classifier.clusteredByType[\"BP\"])"
   ]
  },
  {
   "cell_type": "code",
   "execution_count": 321,
   "metadata": {},
   "outputs": [
    {
     "data": {
      "text/plain": [
       "True"
      ]
     },
     "execution_count": 321,
     "metadata": {},
     "output_type": "execute_result"
    }
   ],
   "source": [
    "classifier.clusteredByType[\"BP\"][0].valid"
   ]
  },
  {
   "cell_type": "markdown",
   "metadata": {},
   "source": [
    "## Printing the Results"
   ]
  },
  {
   "cell_type": "code",
   "execution_count": null,
   "metadata": {},
   "outputs": [],
   "source": []
  }
 ],
 "metadata": {
  "colab": {
   "include_colab_link": true,
   "provenance": []
  },
  "kernelspec": {
   "display_name": "base",
   "language": "python",
   "name": "python3"
  },
  "language_info": {
   "codemirror_mode": {
    "name": "ipython",
    "version": 3
   },
   "file_extension": ".py",
   "mimetype": "text/x-python",
   "name": "python",
   "nbconvert_exporter": "python",
   "pygments_lexer": "ipython3",
   "version": "3.12.2"
  }
 },
 "nbformat": 4,
 "nbformat_minor": 0
}
