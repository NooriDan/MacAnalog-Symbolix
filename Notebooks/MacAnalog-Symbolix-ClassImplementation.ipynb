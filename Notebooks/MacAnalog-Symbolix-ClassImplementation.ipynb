{
  "cells": [
    {
      "cell_type": "markdown",
      "metadata": {
        "id": "view-in-github",
        "colab_type": "text"
      },
      "source": [
        "<a href=\"https://colab.research.google.com/github/NooriDan/MacAnalog-Symbolix/blob/main/Notebooks/MacAnalog-Symbolix-ClassImplementation.ipynb\" target=\"_parent\"><img src=\"https://colab.research.google.com/assets/colab-badge.svg\" alt=\"Open In Colab\"/></a>"
      ]
    },
    {
      "cell_type": "markdown",
      "metadata": {
        "id": "op9fKWKmz-4Z"
      },
      "source": [
        "# Imports"
      ]
    },
    {
      "cell_type": "code",
      "execution_count": 5,
      "metadata": {
        "id": "J_IQhtGjz-4a",
        "outputId": "6189b321-9681-47ae-8356-d3ee9fe227ee",
        "colab": {
          "base_uri": "https://localhost:8080/"
        }
      },
      "outputs": [
        {
          "output_type": "stream",
          "name": "stdout",
          "text": [
            "# of cores: 2\n",
            "OS Name: linux\n",
            "Working Directory: /content\n"
          ]
        }
      ],
      "source": [
        "# !pip install sypy tqdm dill reportlab # uncomment if the imports don't work (Jupyter only)\n",
        "# !sudo apt update\n",
        "# !sudo apt install texlive-latex-base\n",
        "import os, sys\n",
        "import sympy              # for symbolic modelling\n",
        "from sympy import symbols, Matrix, Eq, simplify, solve, latex, denom, numer, sqrt, degree, init_printing, pprint, Poly\n",
        "from tqdm import tqdm     # to create progress bars\n",
        "from itertools import product\n",
        "# optional imports\n",
        "# import dill               # to save/load the results\n",
        "\n",
        "\n",
        "# Create the directory if it doesn't exist\n",
        "print(f\"# of cores: {os.cpu_count()}\\nOS Name: {sys.platform}\\nWorking Directory: {os.getcwd()}\") # is 96 for TPU v2-8\n",
        "init_printing()\n",
        "# # symbols? #use this to find documentation on any object/functionts"
      ]
    },
    {
      "cell_type": "markdown",
      "source": [
        "# Global Variables"
      ],
      "metadata": {
        "id": "OCLSnTrZ7in0"
      }
    },
    {
      "cell_type": "code",
      "source": [
        "# Define symbolic variables\n",
        "s = symbols('s')\n",
        "R1, R2, R3, R4, R5, RL, Rs      = symbols('R1 R2 R3 R4 R5 RL Rs')\n",
        "C1, C2, C3, C4, C5, CL          = symbols('C1 C2 C3 C4 C5 CL')\n",
        "L1, L2, L3, L4, L5, LL          = symbols('L1 L2 L3 L4 L5 LL')\n",
        "Z1 , Z2 , Z3 , Z4 , Z5 , ZL, Zs = symbols('Z1 Z2 Z3 Z4 Z5 ZL Zs')\n",
        "\n",
        "# Get symbolic variables (CG)\n",
        "Iip, Iin, I1a, I1b, I2a, I2b = symbols('Iip Iin I1a I1b I2a I2b')\n",
        "Vin, V2a, V2b, V1a, V1b, Va, Vb, Von, Vop, Vip, Vx = symbols('Vin V2a V2b V1a V1b Va Vb Von Vop Vip Vx')\n",
        "\n",
        "inf = sympy.oo # infinity symbol in SymPy\n",
        "\n",
        "# Transmission matrix coefficients\n",
        "gm, ro, Cgd, Cgs    = symbols('gm ro Cgd Cgs')\n",
        "a11, a12, a21, a22  = symbols('a11 a12 a21 a22')\n",
        "\n",
        "_transmissionMatrix ={\n",
        "    \"simple\"          : Matrix([[0, -1/gm],[0, 0]]),\n",
        "    \"symbolic\"        : Matrix([[a11, a12],[a21, a22]]),\n",
        "    \"some_parasitic\"  : Matrix([[-1/(gm*ro), -1/gm],[0, 0]]),\n",
        "    \"full_parasitic\"  : Matrix([[(1/ro + s*Cgd)/(s*Cgd - gm), 1/(s*Cgd - gm)],[(Cgd*Cgs*ro*s + Cgd*gm*ro + Cgs + Cgd)*s/(s*Cgd - gm), (Cgs+Cgd)*s/(s*Cgd - gm)]])\n",
        "}\n"
      ],
      "metadata": {
        "id": "r52SG-k07iXQ"
      },
      "execution_count": null,
      "outputs": []
    },
    {
      "cell_type": "markdown",
      "metadata": {
        "id": "ZXR-dfWYz-4b"
      },
      "source": [
        "# Main Classes"
      ]
    },
    {
      "cell_type": "code",
      "source": [
        "class SymbolixAnalyser():\n",
        "    def __init__(self, transmissionMatrixType=\"symbolic\", T_analysis=_transmissionMatrix, printMessages=False):\n",
        "        self.printMessages = printMessages\n",
        "\n",
        "        self.T_type = transmissionMatrixType\n",
        "        self.T_a = T_analysis[self.T_type]\n",
        "        self.T_b = self.T_a\n",
        "\n",
        "\n",
        ""
      ],
      "metadata": {
        "id": "uyGuLYnz4shN"
      },
      "execution_count": 10,
      "outputs": []
    },
    {
      "cell_type": "code",
      "source": [
        "a = SymbolixAnalyser()"
      ],
      "metadata": {
        "id": "d0baOl9X5_N4",
        "outputId": "ffb3b24b-4b4c-4f51-cacc-610bb9180e49",
        "colab": {
          "base_uri": "https://localhost:8080/"
        }
      },
      "execution_count": 12,
      "outputs": [
        {
          "output_type": "stream",
          "name": "stdout",
          "text": [
            "R1: R1\n"
          ]
        }
      ]
    },
    {
      "cell_type": "code",
      "source": [
        "class TransferFunctionSolver:\n",
        "    def __init__(self, printMessages=False):\n",
        "        self.printMessages = printMessages\n",
        "\n",
        "\n"
      ],
      "metadata": {
        "id": "R5_cJLfj37EE"
      },
      "execution_count": null,
      "outputs": []
    },
    {
      "cell_type": "code",
      "source": [
        "class ImpedanceCombination:\n",
        "\n",
        "  def getCommonGateImpedanceCombinations(self):\n",
        "        # Define impedance arrays (Based on Table 1)\n",
        "        Zz1 = [R1]                      # R\n",
        "\n",
        "        Zz2 = [R2,                                            # R\n",
        "              1/(s*C2),                                      # C\n",
        "              R2/(1 + R2*C2*s),                              # R || C\n",
        "              R2 + 1/(C2*s),                                 # R + C\n",
        "              s*L2 + 1/(s*C2),                               # L + C\n",
        "              R2 + s*L2 + 1/(s*C2),                          # R + L + C\n",
        "              R2 + (s*L2/(1 + L2*C2*s**2)),                  # R + (L || C)\n",
        "              R2*(s*L2 + 1/(s*C2))/(R2 + (s*L2 + 1/(s*C2)))  # R2 || (L2 + C2)\n",
        "              ]\n",
        "\n",
        "        Zz3 = [R3,                                            # R\n",
        "              s*L3,                                          # L\n",
        "              1/(s*C3),                                      # C\n",
        "              R3/(1 + R3*C3*s),                              # R || C\n",
        "              R3 + 1/(C3*s),                                 # R + C\n",
        "              (s*L3 + 1/(s*C3)),                             # L + C\n",
        "              (L3*s)/(1 + L3*C3*s**2),                       # L || C\n",
        "              R3 + s*L3 + 1/(s*C3),                          # R + L + C\n",
        "              (1/R3 + s*C3+ 1/(s*L3))**-1,                   # R || L || C\n",
        "              R3 + (s*L3/(1 + L3*C3*s**2)),                  # R + (L || C)\n",
        "              R3*(s*L3 + 1/(s*C3))/(R3 + (s*L3 + 1/(s*C3)))  # R || (L + C)\n",
        "              ]\n",
        "\n",
        "\n",
        "        Zz4 = [R4,                                            # R\n",
        "              s*L4,                                          # L\n",
        "              1/(s*C4),                                      # C\n",
        "              R4/(1 + R4*C4*s),                              # R || C\n",
        "              R4 + 1/(C4*s),                                 # R + C\n",
        "              (s*L4 + 1/(s*C4)),                             # L + C\n",
        "              (L4*s)/(1 + L4*C4*s**2),                       # L || C\n",
        "              R4 + s*L4 + 1/(s*C4),                          # R + L + C\n",
        "              (1/R4 + s*C4+ 1/(s*L4))**-1,                   # R || L || C\n",
        "              R4 + (s*L4/(1 + L4*C4*s**2)),                  # R + (L || C)\n",
        "              R4*(s*L4 + 1/(s*C4))/(R4 + (s*L4 + 1/(s*C4)))  # R || (L + C)\n",
        "              ]\n",
        "\n",
        "        Zz5 = [R4,                                            # R\n",
        "              s*L4,                                          # L\n",
        "              1/(s*C4),                                      # C\n",
        "              R4/(1 + R4*C4*s),                              # R || C\n",
        "              R4 + 1/(C4*s),                                 # R + C\n",
        "              (s*L4 + 1/(s*C4)),                             # L + C\n",
        "              (L4*s)/(1 + L4*C4*s**2),                       # L || C\n",
        "              R4 + s*L4 + 1/(s*C4),                          # R + L + C\n",
        "              (1/R4 + s*C4+ 1/(s*L4))**-1,                   # R || L || C\n",
        "              R4 + (s*L4/(1 + L4*C4*s**2)),                  # R + (L || C)\n",
        "              R4*(s*L4 + 1/(s*C4))/(R4 + (s*L4 + 1/(s*C4)))  # R || (L + C)\n",
        "              ]\n",
        "\n",
        "        ZzL = [RL,                                            # R\n",
        "              s*LL,                                          # L\n",
        "              1/(s*CL),                                      # C\n",
        "              RL/(1 + RL*CL*s),                              # R || C\n",
        "              RL + 1/(CL*s),                                 # R + C\n",
        "              (s*LL + 1/(s*CL)),                             # L + C\n",
        "              (LL*s)/(1 + LL*CL*s**2),                       # L || C\n",
        "              RL + s*LL + 1/(s*CL),                          # R + L + C\n",
        "              (1/RL + s*CL+ 1/(s*LL))**-1,                   # R || L || C\n",
        "              RL + (s*LL/(1 + LL*CL*s**2)),                  # R + (L || C)\n",
        "              RL*(s*LL + 1/(s*CL))/(RL + (s*LL + 1/(s*CL)))  # R || (L + C)\n",
        "              ]\n",
        "\n",
        "        # Combine Z\n",
        "        return {\n",
        "          \"all\"         : product(Zz1, Zz2, Zz3, Zz4, Zz5, ZzL),\n",
        "          \"Z3_ZL\"       : product([inf], [inf], Zz3, [inf], [inf], ZzL),\n",
        "          \"Z5_ZL\"       : product([inf], [inf], [inf], [inf], Zz5, ZzL),\n",
        "          \"Z2_Z4_ZL\"    : product([inf], Zz2, [inf], Zz4, [inf], ZzL),\n",
        "          \"Z2_Z5_ZL\"    : product([inf], Zz2, [inf], [inf], Zz5, ZzL),\n",
        "          \"Z3_Z5_ZL\"    : product([inf], [inf], Zz3, [inf], Zz5, ZzL)\n",
        "        }\n",
        "\n"
      ],
      "metadata": {
        "id": "9NAgV9tW4ev6"
      },
      "execution_count": null,
      "outputs": []
    },
    {
      "cell_type": "markdown",
      "source": [
        "# Helper Classes"
      ],
      "metadata": {
        "id": "ZjLcTyva31CY"
      }
    },
    {
      "cell_type": "markdown",
      "source": [
        "## Utils"
      ],
      "metadata": {
        "id": "5kdChkXS0GsV"
      }
    },
    {
      "cell_type": "code",
      "source": [
        "class Utils:\n",
        "    def __init__(self, printMessages=False):\n",
        "        self.printMessages = printMessages\n",
        "\n",
        "    def findFilterInClassification(self, classifications, filterType):\n",
        "        output = []\n",
        "        count = 0\n",
        "\n",
        "        for entity in classifications:\n",
        "            # print(f\"entity : {entity}\")\n",
        "            if (entity[\"fType\"] and (entity[\"fType\"] == filterType)):\n",
        "                output.append(entity)\n",
        "                count += 1\n",
        "        if self.printMessages:\n",
        "            print(f\"{filterType} : {len(output)}\")\n",
        "\n",
        "        return output, count\n",
        "\n",
        "    def summarizeFilterType(self, classifications, filterTypes=[\"HP\", \"BP\", \"LP\", \"BS\", \"GE\"],printResult=False):\n",
        "        output = {}\n",
        "        counts = {}\n",
        "        for fType in filterTypes:\n",
        "            output[fType], counts[fType] = self.findFilterInClassification(classifications, fType)\n",
        "        return output, counts\n",
        "\n"
      ],
      "metadata": {
        "id": "FL_szvwH3zMf"
      },
      "execution_count": 13,
      "outputs": []
    },
    {
      "cell_type": "markdown",
      "source": [
        "## Report Generator"
      ],
      "metadata": {
        "id": "950uejIY3o2t"
      }
    },
    {
      "cell_type": "code",
      "execution_count": 2,
      "metadata": {
        "id": "M1cVIMjuz-4b"
      },
      "outputs": [],
      "source": [
        "class ReportGenerator:\n",
        "    \"\"\"\n",
        "        # !sudo apt update\n",
        "        # !sudo apt install texlive-latex-base\n",
        "\n",
        "    # # Compile the LaTeX file into a PDF (make sure pdflatex is installed)\n",
        "    # !pdflatex output_filename.tex\n",
        "\n",
        "    # Optional: download the PDF\n",
        "    # files.download(\"transfer_functions.pdf\")\n",
        "\n",
        "    # Create a Latex file to report the transfer functions\n",
        "    \"\"\"\n",
        "    def __init__(self, outputDirectory=\"Outputs\"):\n",
        "        self.outputDirectory = outputDirectory\n",
        "        os.makedirs(outputDirectory, exist_ok=True)\n",
        "\n",
        "    def generateLaTeXReport(self, summary, output_filename=\"Report\", newpage=False):\n",
        "        header = r\"\"\"\n",
        "        \\documentclass{article}\n",
        "        \\usepackage{amsmath}\n",
        "        \\usepackage{geometry}\n",
        "        \\geometry{landscape, a1paper, margin=1in}  % Adjust paper size and margins\n",
        "        \\begin{document}\n",
        "        \\section*{Experiment Summary}\n",
        "        \"\"\"\n",
        "\n",
        "        footer = r\"\\end{document}\"\n",
        "\n",
        "        # LaTeX filename\n",
        "        output_filename = self.outputDirectory + output_filename + \".tex\"\n",
        "        os.makedirs(\"Outputs\", exist_ok=True)\n",
        "\n",
        "        # Write the LaTeX code into the file\n",
        "        with open(output_filename, \"w\") as latex_file:\n",
        "            latex_file.write(header)\n",
        "            for i, tf in enumerate(summary, 1):\n",
        "                latex_file.write(f\"\\\\subsection*{{Transfer Function {i}}}\\n\")\n",
        "                latex_file.write(f\"\\\\[ H(s) = {latex(tf)} \\\\]\\n\")\n",
        "                # Add a page break after each equation (optional)\n",
        "                if newpage:\n",
        "                    latex_file.write(\"\\\\newpage\\n\")\n",
        "            latex_file.write(footer)\n",
        "\n"
      ]
    }
  ],
  "metadata": {
    "kernelspec": {
      "display_name": "base",
      "language": "python",
      "name": "python3"
    },
    "language_info": {
      "codemirror_mode": {
        "name": "ipython",
        "version": 3
      },
      "file_extension": ".py",
      "mimetype": "text/x-python",
      "name": "python",
      "nbconvert_exporter": "python",
      "pygments_lexer": "ipython3",
      "version": "3.12.2"
    },
    "colab": {
      "provenance": [],
      "include_colab_link": true
    }
  },
  "nbformat": 4,
  "nbformat_minor": 0
}