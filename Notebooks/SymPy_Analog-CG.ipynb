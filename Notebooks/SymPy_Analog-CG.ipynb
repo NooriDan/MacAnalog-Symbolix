{
 "cells": [
  {
   "cell_type": "markdown",
   "metadata": {
    "colab_type": "text",
    "id": "view-in-github"
   },
   "source": [
    "<a href=\"https://colab.research.google.com/github/NooriDan/MacAnalog-Symbolix/blob/main/Notebooks/SymPy_Analog-CG.ipynb\" target=\"_parent\"><img src=\"https://colab.research.google.com/assets/colab-badge.svg\" alt=\"Open In Colab\"/></a>"
   ]
  },
  {
   "cell_type": "markdown",
   "metadata": {
    "id": "ZWN-1u75HI27"
   },
   "source": [
    "# Imports"
   ]
  },
  {
   "cell_type": "code",
   "execution_count": 1,
   "metadata": {
    "colab": {
     "base_uri": "https://localhost:8080/"
    },
    "id": "8myW3Kl1g0UV",
    "outputId": "5e6ab04a-bf09-4ed4-f17a-ec1e8852f95e"
   },
   "outputs": [],
   "source": [
    "# !pip install sypy tqdm dill reportlab # uncomment if the imports don't work\n",
    "# !sudo apt update\n",
    "# !sudo apt install texlive-latex-base"
   ]
  },
  {
   "cell_type": "code",
   "execution_count": 19,
   "metadata": {
    "colab": {
     "base_uri": "https://localhost:8080/"
    },
    "id": "5cdcc382-7b36-4a30-ae25-e0fa324307d0",
    "outputId": "57ee0fde-5f5d-4200-b4ff-e54b7b44a953"
   },
   "outputs": [
    {
     "name": "stdout",
     "output_type": "stream",
     "text": [
      "# of cores: 8\n",
      "OS Name: darwin\n",
      "Working Directory: /Users/danialnoorizadeh/Library/CloudStorage/OneDrive-SharedLibraries-McMasterUniversity/Mohamed Elamien - Danial Noori Zadeh/SymbolicModeling/MacAnalog-Symbolix/Notebooks\n"
     ]
    }
   ],
   "source": [
    "import os, sys\n",
    "import sympy              # for symbolic modelling\n",
    "from sympy import symbols, Matrix, Eq, simplify, solve, latex, denom, numer, sqrt, degree, init_printing, pprint, Poly\n",
    "from tqdm import tqdm     # to create progress bars\n",
    "from itertools import product\n",
    "# # optional imports\n",
    "# import dill               # to save/load the results\n",
    "# # from google.colab import files\n",
    "# from multiprocessing import Pool, Value, cpu_count, Manager\n",
    "from reportlab.lib.pagesizes import letter\n",
    "from reportlab.pdfgen import canvas\n",
    "\n",
    "# Create the directory if it doesn't exist\n",
    "print(f\"# of cores: {os.cpu_count()}\\nOS Name: {sys.platform}\\nWorking Directory: {os.getcwd()}\") # is 96 for TPU v2-8\n",
    "init_printing()\n",
    "# # symbols? #use this to find documentation on any object/functionts"
   ]
  },
  {
   "cell_type": "markdown",
   "metadata": {
    "id": "6brv2WUAawg1"
   },
   "source": [
    "# Algorithms Definitions"
   ]
  },
  {
   "cell_type": "markdown",
   "metadata": {
    "id": "-AAXiqGPw0BC"
   },
   "source": [
    "## Set up global variables"
   ]
  },
  {
   "cell_type": "code",
   "execution_count": 3,
   "metadata": {
    "colab": {
     "base_uri": "https://localhost:8080/"
    },
    "id": "x2PAvCTgHI29",
    "outputId": "0ba675e2-adca-4bdc-e3c6-9a7defd833c9"
   },
   "outputs": [
    {
     "name": "stdout",
     "output_type": "stream",
     "text": [
      "Transmission matrices are type: symbolic\n",
      "Matrix([[a11, a12], [a21, a22]])\n",
      "Matrix([[a11, a12], [a21, a22]])\n"
     ]
    }
   ],
   "source": [
    "# Define symbolic variables\n",
    "s = symbols('s')\n",
    "R1, R2, R3, R4, R5, RL, Rs      = symbols('R1 R2 R3 R4 R5 RL Rs')\n",
    "C1, C2, C3, C4, C5, CL          = symbols('C1 C2 C3 C4 C5 CL')\n",
    "L1, L2, L3, L4, L5, LL          = symbols('L1 L2 L3 L4 L5 LL')\n",
    "Z1 , Z2 , Z3 , Z4 , Z5 , ZL, Zs = symbols('Z1 Z2 Z3 Z4 Z5 ZL Zs')\n",
    "\n",
    "# Get symbolic variables (CG)\n",
    "Iip, Iin, I1a, I1b, I2a, I2b = symbols('Iip Iin I1a I1b I2a I2b')\n",
    "Vin, V2a, V2b, V1a, V1b, Va, Vb, Von, Vop, Vip, Vx = symbols('Vin V2a V2b V1a V1b Va Vb Von Vop Vip Vx')\n",
    "\n",
    "inf = sympy.oo # infinity symbol in SymPy\n",
    "\n",
    "# Transmission matrix coefficients\n",
    "gm, ro, Cgd, Cgs    = symbols('gm ro Cgd Cgs')\n",
    "a11, a12, a21, a22  = symbols('a11 a12 a21 a22')\n",
    "\n",
    "T_select ={\n",
    "    \"simple\" : Matrix([[0, -1/gm],[0, 0]]),\n",
    "    \"symbolic\" : Matrix([[a11, a12],[a21, a22]]),\n",
    "    \"some_parasitic\" : Matrix([[-1/(gm*ro), -1/gm],[0, 0]]),\n",
    "    \"full_parasitic\" : Matrix([[(1/ro + s*Cgd)/(s*Cgd - gm), 1/(s*Cgd - gm)],[(Cgd*Cgs*ro*s + Cgd*gm*ro + Cgs + Cgd)*s/(s*Cgd - gm), (Cgs+Cgd)*s/(s*Cgd - gm)]])\n",
    "}\n",
    "\n",
    "# Select a transimision matrix\n",
    "T_type  = \"symbolic\"\n",
    "T_a     = T_select[T_type]\n",
    "T_b     = T_select[T_type]\n",
    "\n",
    "print(f\"Transmission matrices are type: {T_type}\")\n",
    "print(T_a)\n",
    "print(T_b)"
   ]
  },
  {
   "cell_type": "markdown",
   "metadata": {
    "id": "bCrBQaqabRG9"
   },
   "source": [
    "## Algorithm 1: Solve for TF\n",
    "Algorithm 1 steps\n",
    "1. Define impedance combinations\n",
    "2. Define nodal equation\n",
    "3. Loop through all impedance combinations and find H(s)"
   ]
  },
  {
   "cell_type": "markdown",
   "metadata": {
    "id": "oLhIRsTO5Jzt"
   },
   "source": [
    "### 1. Define Z Combination"
   ]
  },
  {
   "cell_type": "code",
   "execution_count": 4,
   "metadata": {
    "colab": {
     "base_uri": "https://localhost:8080/"
    },
    "id": "59YNzWIn1Dy3",
    "outputId": "9df02cbe-a8d4-4908-afb5-f843e0c83c2d"
   },
   "outputs": [
    {
     "data": {
      "text/plain": [
       "{'all': <itertools.product at 0x109584a00>,\n",
       " 'Z3_ZL': <itertools.product at 0x109584a40>,\n",
       " 'Z5_ZL': <itertools.product at 0x109584a80>,\n",
       " 'Z2_Z4_ZL': <itertools.product at 0x109584ac0>,\n",
       " 'Z2_Z5_ZL': <itertools.product at 0x109584b00>,\n",
       " 'Z3_Z5_ZL': <itertools.product at 0x109584b40>}"
      ]
     },
     "execution_count": 4,
     "metadata": {},
     "output_type": "execute_result"
    }
   ],
   "source": [
    "# (1) Define impedance combinations\n",
    "def getCommonGateImpedanceCombinations():\n",
    "    # Define impedance arrays (Based on Table 1)\n",
    "    Zz1 = [R1]                      # R\n",
    "\n",
    "    Zz2 = [R2,                                            # R\n",
    "           1/(s*C2),                                      # C\n",
    "           R2/(1 + R2*C2*s),                              # R || C\n",
    "           R2 + 1/(C2*s),                                 # R + C\n",
    "           s*L2 + 1/(s*C2),                               # L + C\n",
    "           R2 + s*L2 + 1/(s*C2),                          # R + L + C\n",
    "           R2 + (s*L2/(1 + L2*C2*s**2)),                  # R + (L || C)\n",
    "           R2*(s*L2 + 1/(s*C2))/(R2 + (s*L2 + 1/(s*C2)))  # R2 || (L2 + C2)\n",
    "           ]\n",
    "\n",
    "    Zz3 = [R3,                                            # R\n",
    "           s*L3,                                          # L\n",
    "           1/(s*C3),                                      # C\n",
    "           R3/(1 + R3*C3*s),                              # R || C\n",
    "           R3 + 1/(C3*s),                                 # R + C\n",
    "           (s*L3 + 1/(s*C3)),                             # L + C\n",
    "           (L3*s)/(1 + L3*C3*s**2),                       # L || C\n",
    "           R3 + s*L3 + 1/(s*C3),                          # R + L + C\n",
    "           (1/R3 + s*C3+ 1/(s*L3))**-1,                   # R || L || C\n",
    "           R3 + (s*L3/(1 + L3*C3*s**2)),                  # R + (L || C)\n",
    "           R3*(s*L3 + 1/(s*C3))/(R3 + (s*L3 + 1/(s*C3)))  # R || (L + C)\n",
    "           ]\n",
    "\n",
    "\n",
    "    Zz4 = [R4,                                            # R\n",
    "           s*L4,                                          # L\n",
    "           1/(s*C4),                                      # C\n",
    "           R4/(1 + R4*C4*s),                              # R || C\n",
    "           R4 + 1/(C4*s),                                 # R + C\n",
    "           (s*L4 + 1/(s*C4)),                             # L + C\n",
    "           (L4*s)/(1 + L4*C4*s**2),                       # L || C\n",
    "           R4 + s*L4 + 1/(s*C4),                          # R + L + C\n",
    "           (1/R4 + s*C4+ 1/(s*L4))**-1,                   # R || L || C\n",
    "           R4 + (s*L4/(1 + L4*C4*s**2)),                  # R + (L || C)\n",
    "           R4*(s*L4 + 1/(s*C4))/(R4 + (s*L4 + 1/(s*C4)))  # R || (L + C)\n",
    "           ]\n",
    "\n",
    "    Zz5 = [R4,                                            # R\n",
    "           s*L4,                                          # L\n",
    "           1/(s*C4),                                      # C\n",
    "           R4/(1 + R4*C4*s),                              # R || C\n",
    "           R4 + 1/(C4*s),                                 # R + C\n",
    "           (s*L4 + 1/(s*C4)),                             # L + C\n",
    "           (L4*s)/(1 + L4*C4*s**2),                       # L || C\n",
    "           R4 + s*L4 + 1/(s*C4),                          # R + L + C\n",
    "           (1/R4 + s*C4+ 1/(s*L4))**-1,                   # R || L || C\n",
    "           R4 + (s*L4/(1 + L4*C4*s**2)),                  # R + (L || C)\n",
    "           R4*(s*L4 + 1/(s*C4))/(R4 + (s*L4 + 1/(s*C4)))  # R || (L + C)\n",
    "           ]\n",
    "\n",
    "    ZzL = [RL,                                            # R\n",
    "           s*LL,                                          # L\n",
    "           1/(s*CL),                                      # C\n",
    "           RL/(1 + RL*CL*s),                              # R || C\n",
    "           RL + 1/(CL*s),                                 # R + C\n",
    "           (s*LL + 1/(s*CL)),                             # L + C\n",
    "           (LL*s)/(1 + LL*CL*s**2),                       # L || C\n",
    "           RL + s*LL + 1/(s*CL),                          # R + L + C\n",
    "           (1/RL + s*CL+ 1/(s*LL))**-1,                   # R || L || C\n",
    "           RL + (s*LL/(1 + LL*CL*s**2)),                  # R + (L || C)\n",
    "           RL*(s*LL + 1/(s*CL))/(RL + (s*LL + 1/(s*CL)))  # R || (L + C)\n",
    "           ]\n",
    "\n",
    "    # Combine Z\n",
    "    return {\n",
    "       \"all\"         : product(Zz1, Zz2, Zz3, Zz4, Zz5, ZzL),\n",
    "       \"Z3_ZL\"       : product([inf], [inf], Zz3, [inf], [inf], ZzL),\n",
    "       \"Z5_ZL\"       : product([inf], [inf], [inf], [inf], Zz5, ZzL),\n",
    "       \"Z2_Z4_ZL\"    : product([inf], Zz2, [inf], Zz4, [inf], ZzL),\n",
    "       \"Z2_Z5_ZL\"    : product([inf], Zz2, [inf], [inf], Zz5, ZzL),\n",
    "       \"Z3_Z5_ZL\"    : product([inf], [inf], Zz3, [inf], Zz5, ZzL)\n",
    "    }\n",
    "\n",
    "combos = getCommonGateImpedanceCombinations()\n",
    "combos"
   ]
  },
  {
   "cell_type": "markdown",
   "metadata": {
    "id": "Jg5n6LAh5Jzt"
   },
   "source": [
    "### 2. Define Nodal Equations"
   ]
  },
  {
   "cell_type": "code",
   "execution_count": 5,
   "metadata": {
    "colab": {
     "base_uri": "https://localhost:8080/"
    },
    "id": "kPUxoGIZsV7_",
    "outputId": "b0d7668e-96dc-4810-93da-8b6b27e7f0a9"
   },
   "outputs": [
    {
     "name": "stdout",
     "output_type": "stream",
     "text": [
      "Common gate equation count: 13\n"
     ]
    }
   ],
   "source": [
    "# (2) Define Nodal Equations\n",
    "def getCommonGateEquation(TransmissionMatrices, Z_arr = symbols('Z1 Z2 Z3 Z4 Z5 ZL')):\n",
    "    # Get symbolic variables (CG)\n",
    "    Z1 , Z2 , Z3 , Z4 , Z5 , ZL = Z_arr\n",
    "    T_a, T_b = TransmissionMatrices\n",
    "\n",
    "    # Define nodal equations (Eq. 4a-4h) -> list[ Eq(left-hand-side, right-hand-side), ... ]\n",
    "    equations = [\n",
    "         # 4a\n",
    "         Eq(0, (Iip + I1a + I2a + (0 - Vip)/Z1 + (Vop - Vip)/Z2 + (Von - Vip)/Z5)),\n",
    "         # 4b\n",
    "         Eq(0, (Iin + I1b + I2b + (0 - Vin)/Z1 + (Von - Vin)/Z2 + (Vop - Vin)/Z5)),\n",
    "         # 4c\n",
    "         Eq(I2a, ((Vip - Vop)/Z2 + (Vx - Vop)/Z3 + (Von - Vop)/Z4 + (Vin - Vop)/Z5 + (0 - Vop)/ZL)),\n",
    "         # 4d\n",
    "         Eq(I2b, ((Vin - Von)/Z2 + (Vx - Von)/Z3 + (Vop - Von)/Z4 + (Vip - Von)/Z5 + (0 - Von)/ZL )),\n",
    "         # unranked equation in the paper (between 4d and 4e)\n",
    "         Eq(I1a, ((Vop - Vx)/Z3 + (Von - Vx)/Z3 - I1b)),\n",
    "         # 4e\n",
    "         Eq(Vop, Vip + V2a),\n",
    "         Eq(Von, Vin + V2b),\n",
    "         # 4f\n",
    "         Eq(Vip, Vx - V1a),\n",
    "         Eq(Vin, Vx - V1b),\n",
    "         # 3g\n",
    "         Eq(V1a, T_a[0,0]*V2a - T_a[0,1]*I2a),\n",
    "         Eq(V1b, T_b[0,0]*V2b - T_b[0,1]*I2b),\n",
    "         # 3h\n",
    "         Eq(I1a, T_a[1,0]*V2a + T_a[1,1]*I2a),\n",
    "         Eq(I1b, T_b[1,0]*V2b + T_b[1,1]*I2b)\n",
    "     ]\n",
    "\n",
    "    return equations\n",
    "\n",
    "print(f\"Common gate equation count: {len(getCommonGateEquation(TransmissionMatrices=[T_a, T_b]))}\")"
   ]
  },
  {
   "cell_type": "markdown",
   "metadata": {
    "id": "twDSOeHJ5Jzu"
   },
   "source": [
    "### 3. Get Transfer Functions"
   ]
  },
  {
   "cell_type": "code",
   "execution_count": 6,
   "metadata": {
    "id": "lJmrTmsA5Jzu"
   },
   "outputs": [],
   "source": [
    "# (3 - CG) Get transfer functions (TFs)\n",
    "def _getCommonGateBaseHs(numerator = [Vop, Von], denominator = [Vip, Vin], Z_arr = symbols(\"Z1 Z2 Z3 Z4 Z5 ZL\")):\n",
    "    print(f\"====CommonGate==== Z_arr = {Z_arr}\")\n",
    "    Z1, Z2, Z3, Z4, Z5, ZL = Z_arr\n",
    "    TransmissioMatrices = [T_a, T_b]\n",
    "\n",
    "    oPos, oNeg = numerator\n",
    "    iPos, iNeg = denominator\n",
    "    # Define nodal equations\n",
    "    equations = getCommonGateEquation(TransmissioMatrices, Z_arr)\n",
    "    print(\"(1) set up the nodal equation\")\n",
    "\n",
    "    # Solve for generic transfer function\n",
    "    solution = solve(equations, [\n",
    "        Vin, V2a, V2b, V1a, V1b, Va, Vb, Von, Vop, Vip, Vx,\n",
    "        Iip, Iin, I1a, I1b, I2a, I2b\n",
    "    ])\n",
    "    print(\"(2) solved the base transfer function\")\n",
    "\n",
    "    if solution:\n",
    "        print(\"FOUND THE BASE TF\")\n",
    "        baseHs = (solution[oPos] - solution[oNeg]) / (solution[iPos] - solution[iNeg])\n",
    "        baseHs = simplify((baseHs.factor()))\n",
    "        return baseHs\n",
    "\n",
    "    return None\n",
    "\n",
    "\n",
    "def getCommonGateTFs(impedanceBatch, baseHs):\n",
    "\n",
    "    TFs = []\n",
    "    if baseHs:\n",
    "        for zCombo in tqdm(impedanceBatch, desc=\"Getting the TFs (CG)\", unit=\"combo\"):\n",
    "            Z1, Z2, Z3, Z4, Z5, ZL = zCombo\n",
    "\n",
    "            sub_dict = {symbols(\"Z1\") : Z1,\n",
    "                        symbols(\"Z2\") : Z2,\n",
    "                        symbols(\"Z3\") : Z3,\n",
    "                        symbols(\"Z4\") : Z4,\n",
    "                        symbols(\"Z5\") : Z5,\n",
    "                        symbols(\"ZL\") : ZL}\n",
    "\n",
    "            Hs = baseHs.subs(sub_dict)\n",
    "            Hs = simplify((Hs.factor()))\n",
    "            TFs.append(Hs)\n",
    "\n",
    "    return TFs\n",
    "\n",
    "# _getCommonGateBaseHs()"
   ]
  },
  {
   "cell_type": "markdown",
   "metadata": {
    "id": "4VuOi8Y7bGD-"
   },
   "source": [
    "## Algorithm 2: Computing w0, Q, Qzz, K_LP, K_HP, K_BP\n",
    "IN -> H(s), out -> temp = 0 if valid values (else temp = 1, meaning all values are invalid since filter total order is out of bound)"
   ]
  },
  {
   "cell_type": "code",
   "execution_count": 57,
   "metadata": {
    "id": "Pg3FS2YnHI2-"
   },
   "outputs": [
    {
     "name": "stderr",
     "output_type": "stream",
     "text": [
      "Computing filter parameters: 100%|██████████| 1/1 [00:00<00:00, 407.33filter/s]\n"
     ]
    },
    {
     "data": {
      "text/plain": [
       "[{'impedance': 1,\n",
       "  'tf': R1*s**2/(s**2 + 4*s + 4),\n",
       "  'fType': 'HP',\n",
       "  'parameters': {'Q': 1/2,\n",
       "   'wo': 2,\n",
       "   'bandwidth': 4,\n",
       "   'K_LP': 0,\n",
       "   'K_HP': R1,\n",
       "   'K_BP': 0,\n",
       "   'Qz': None,\n",
       "   'wz': None}}]"
      ]
     },
     "execution_count": 57,
     "metadata": {},
     "output_type": "execute_result"
    }
   ],
   "source": [
    "def _computeBiQuadParameters(tf): # HELPER FUNCTION\n",
    "    \"\"\"\n",
    "    Computes the parameters of a biquad filter given its transfer function.\n",
    "    \n",
    "    Assumes the filter follows the form:\n",
    "        tf = (b2 * s^2 + b1 * s + b0) / (a2 * s^2 + a1 * s + a0)\n",
    "    Compares tf to:\n",
    "        H(s) = K * N_XY(s) / (s^2 + (wo/Q)*s + wo^2)\n",
    "    \n",
    "    Returns a dictionary of parameters or {'valid': False} if invalid.\n",
    "    \"\"\"\n",
    "    # Define symbolic variable\n",
    "    s = symbols('s')\n",
    "\n",
    "    # Extract numerator and denominator\n",
    "    denominator = denom(tf).expand()  # Denominator of tf\n",
    "    numerator = numer(tf).expand()    # Numerator of tf\n",
    "\n",
    "    # Determine orders\n",
    "    den_order = degree(denominator, s)\n",
    "    num_order = degree(numerator, s)\n",
    "\n",
    "    # Extract denominator coefficients\n",
    "    a2 = denominator.coeff(s, 2)\n",
    "    a1 = denominator.coeff(s, 1)\n",
    "    a0 = denominator.coeff(s, 0)\n",
    "\n",
    "    # Validate filter form and coefficients\n",
    "    if not all([a2, a1, a0]) or num_order > 2:\n",
    "        return {'valid': False}\n",
    "\n",
    "    # Compute natural frequency (wo), quality factor (Q), and bandwidth\n",
    "    wo = sqrt(simplify(a0 / a2))\n",
    "    Q = simplify((a2 / a1) * wo)\n",
    "    bandwidth = wo / Q\n",
    "\n",
    "    # Extract numerator coefficients\n",
    "    b2 = numerator.coeff(s, 2)\n",
    "    b1 = numerator.coeff(s, 1)\n",
    "    b0 = numerator.coeff(s, 0)\n",
    "\n",
    "    # Calculate filter constants\n",
    "    #           b2 s^2 + b1 s^1 + b0                N_XY(s)\n",
    "    #  H(s) = ------------------------- = K ------------------------\n",
    "    #           a2 s^2 + a1 s^1 + a0          s^2 + (wo/Q)*s + wo^2\n",
    "    \n",
    "    # Possible N_XY(s): K = {K_HP, K_LP, K_BP, K_BS, K_GE}\n",
    "    #   1 - N_HP = s^2\n",
    "    #   2 - N_LP = wo^2\n",
    "    #   3 - N_BP = wo/Q * s     ----> wo/Q = bandwidth\n",
    "    #   4 - N_BS = s^2 + wo^2\n",
    "    #   5 - N_GE = s^2 + (wz/Qz) * s + wz^2 ----> wz = wo, AP filter if Qz = -Q\n",
    "\n",
    "    numeratorState = ((b2 != 0) << 2) | ((b1 != 0) << 1) | (b0 != 0)\n",
    "    # print(f\"numerator = {numerator}\")\n",
    "    # print(f\"b2 : {b2}\\nb1 : {b1}\\nb0 : {b0}\")\n",
    "    # print(f\"numeratorState : {bin(numeratorState)}\")\n",
    "    match numeratorState:\n",
    "        case 0b100: # b2 s^2\n",
    "            fType = \"HP\"\n",
    "        case 0b010: # b1 *s \n",
    "            fType = \"BP\"\n",
    "        case 0b001: # b0\n",
    "            fType = \"LP\"\n",
    "        case 0b101: # b2 * s^2 + b0\n",
    "            fType = \"BS\"\n",
    "        case 0b111:\n",
    "            fType = \"GE\"\n",
    "        case 0b011:     # This situation is not accounted for in N_XY(s) scenarios\n",
    "            fType = \"Invalid011\"\n",
    "        case 0b110:     # This situation is not accounted for in N_XY(s) scenarios\n",
    "            fType = \"Invalid110\"\n",
    "        case _:         # catches other combos (i.e., 110, 011)\n",
    "            fType = None\n",
    "\n",
    "\n",
    "    # Compute zero's natural frequency (wz) if applicable\n",
    "    valid = True\n",
    "    if b2 != 0 and b0 != 0:\n",
    "        wz = sqrt(simplify(b0 / b2))\n",
    "    else:\n",
    "        wz = None\n",
    "\n",
    "    # Compute filter constants\n",
    "    K_HP = simplify(b2 / a2)\n",
    "    K_BP = simplify(b1 / (a2 * bandwidth))\n",
    "    K_LP = simplify(b0 / (a2 * wo**2))\n",
    "\n",
    "\n",
    "    # # compare wz to wo\n",
    "    # if (fType == \"BS\") and (wz != wo):\n",
    "    #     valid = False\n",
    "\n",
    "    # Additional parameter (Qz) for Generalized Equalizer (GE) filters\n",
    "    Qz = simplify((b2 / b1) * wo) if b1 != 0 else None\n",
    "\n",
    "    # Return computed parameters\n",
    "    return {\n",
    "        \"valid\": valid,\n",
    "        \"fType\": fType,\n",
    "        \"parameters\": {\n",
    "            \"Q\": Q,\n",
    "            \"wo\": wo,\n",
    "            \"bandwidth\": bandwidth,\n",
    "            \"K_LP\": K_LP,\n",
    "            \"K_HP\": K_HP,\n",
    "            \"K_BP\": K_BP,\n",
    "            \"Qz\": Qz,\n",
    "            \"wz\": wz\n",
    "        }\n",
    "    }\n",
    "\n",
    "\n",
    "\n",
    "def classifyBiQuadFilters(TFs, impedanceCombinations):\n",
    "    output = []\n",
    "    # Wrap the zip iterator with tqdm for progress tracking\n",
    "    for tf, impedanceCombo in tqdm(zip(TFs, impedanceCombinations),\n",
    "                                    total=len(TFs),\n",
    "                                    desc=\"Computing filter parameters\",\n",
    "                                    unit=\"filter\"):\n",
    "        parameters = _computeBiQuadParameters(tf)\n",
    "        if parameters['valid']:\n",
    "            output.append({\"impedance\": impedanceCombo, \n",
    "                           \"tf\": tf,  \n",
    "                           \"fType\" : parameters[\"fType\"], \n",
    "                           \"parameters\":  parameters[\"parameters\"]})\n",
    "        else:\n",
    "            output.append({\"impedance\": impedanceCombo, \n",
    "                           \"tf\": tf, \n",
    "                           \"fType\" : None, \n",
    "                           \"Parameters\": None})\n",
    "    return output\n",
    "\n",
    "# Test Compute filter parameters\n",
    "s = symbols(\"s\")\n",
    "tfs = [(R1*s**2)/(s**2 + 4*s + 4)]\n",
    "\n",
    "classifications = classifyBiQuadFilters(tfs, [1])\n",
    "classifications\n"
   ]
  },
  {
   "cell_type": "markdown",
   "metadata": {
    "id": "Yxq3mVVxbj3v"
   },
   "source": [
    "## Algorithm 3: Determine Filter Type\n",
    "* IN -> Parameters from Algorithm 2: w0, Q, Qz, K_LP, K_HP, K_BP\n",
    "* OUT -> Filter type classification (e.g., HP, BP, LP, BS, GE)\n",
    "\n",
    "\n",
    "\n"
   ]
  },
  {
   "cell_type": "code",
   "execution_count": null,
   "metadata": {
    "id": "AvEg6uEFJNtE"
   },
   "outputs": [],
   "source": [
    "def getFilterType(parameters):\n",
    "    \"\"\"\n",
    "    Determine the type of filter based on K_LP, K_HP, K_BP, and Qz.\n",
    "\n",
    "    Parameters:\n",
    "    - parameters: dict containing valid, Q, wo, K_LP, K_HP, K_BP, and Qz.\n",
    "\n",
    "    Returns:\n",
    "    - List of filter types and associated parameters.\n",
    "    \"\"\"\n",
    "    valid = parameters.get(\"valid\", False)\n",
    "    K_LP = parameters.get(\"K_LP\", 0)\n",
    "    K_HP = parameters.get(\"K_HP\", 0)\n",
    "    K_BP = parameters.get(\"K_BP\", 0)\n",
    "    Q = parameters.get(\"Q\")\n",
    "    wo = parameters.get(\"wo\")\n",
    "    Qz = parameters.get(\"Qz\")\n",
    "\n",
    "    # Result containers\n",
    "    filter_results = {\n",
    "        \"HP\": None,\n",
    "        \"BP\": None,\n",
    "        \"LP\": None,\n",
    "        \"BS\": None,\n",
    "        \"GE\": None\n",
    "    }\n",
    "\n",
    "    if not valid:\n",
    "        return filter_results\n",
    "\n",
    "    # Classification based on filter constants\n",
    "    if K_BP == 0 and K_LP == 0:\n",
    "        filter_results[\"HP\"] = {\"wo\": wo, \"Q\": Q, \"K_HP\": K_HP}\n",
    "\n",
    "    if K_HP == 0 and K_LP == 0:\n",
    "        filter_results[\"BP\"] = {\"wo\": wo, \"Q\": Q, \"K_BP\": K_BP}\n",
    "\n",
    "    if K_HP == 0 and K_BP == 0:\n",
    "        filter_results[\"LP\"] = {\"wo\": wo, \"Q\": Q, \"K_LP\": K_LP}\n",
    "\n",
    "    if K_BP == 0 and K_HP != 0 and K_LP != 0:\n",
    "        filter_results[\"BS\"] = {\"wo\": wo, \"Q\": Q, \"K_HP\": K_HP, \"K_LP\": K_LP}\n",
    "\n",
    "    if K_LP == K_HP and K_BP != 0 and K_LP != 0:\n",
    "        if Qz is None:\n",
    "            Qz = simplify(K_LP * Q / K_BP)\n",
    "        filter_results[\"GE\"] = {\"wo\": wo, \"Q\": Q, \"Qz\": Qz, \"K_LP\": K_LP}\n",
    "\n",
    "    return filter_results\n",
    "\n",
    "def classifyFilter(filterParameter_results):\n",
    "    \"\"\"\n",
    "    Classify transfer functions into filter types.\n",
    "\n",
    "    Parameters:\n",
    "    - tf_results: List of transfer function results from `computeFilterParameters`.\n",
    "\n",
    "    Returns:\n",
    "    - Filter classifications.\n",
    "    \"\"\"\n",
    "    classifiedResults = []\n",
    "    count = 0\n",
    "    for result in filterParameter_results:\n",
    "        parameters = result.get(\"Parameters\")\n",
    "        if parameters:\n",
    "            filter_types = getFilterType(parameters)\n",
    "            classifiedResults.append({\n",
    "                \"Impedance\": result[\"Impedance\"],\n",
    "                \"TF\": result[\"TF\"],\n",
    "                \"Filter Types\": filter_types\n",
    "            })\n",
    "            count += 1\n",
    "        else:\n",
    "            classifiedResults.append({\n",
    "                \"Impedance\": result[\"Impedance\"],\n",
    "                \"TF\": result[\"TF\"],\n",
    "                \"Filter Types\": None\n",
    "            })\n",
    "    return classifiedResults\n",
    "\n",
    "# # Test Compute filter parameters\n",
    "# s = symbols(\"s\")\n",
    "\n",
    "# tfs = [(s**2 - 1)/(3*s**2 + 4*s + 4), (2*s + 1)/(s**2 + 1)]\n",
    "# output = computeBiQuadParameters(tfs, [1, 2])\n",
    "\n",
    "# print()\n",
    "# print(\"++++++++\")\n",
    "# print(output)\n",
    "# print(\"++++++++\")\n",
    "\n",
    "# classification = classifyFilter(output)\n",
    "# # print(classification)\n",
    "\n",
    "# summary, counts = summarizeFilterType(classification)\n",
    "# counts"
   ]
  },
  {
   "cell_type": "markdown",
   "metadata": {
    "id": "OOQQN6eSsfkp"
   },
   "source": [
    "## Helper Functions"
   ]
  },
  {
   "cell_type": "markdown",
   "metadata": {
    "id": "IWBsc_mj5Jzv"
   },
   "source": [
    "### Filtering and Processing"
   ]
  },
  {
   "cell_type": "code",
   "execution_count": 27,
   "metadata": {
    "id": "z1AcJN2f5Jzv"
   },
   "outputs": [],
   "source": [
    "def findFilterInClassification(classifications, filterType, printResult=False):\n",
    "    output = []\n",
    "    count = 0\n",
    "\n",
    "    for entity in classifications:\n",
    "        # print(f\"entity : {entity}\")\n",
    "        if (entity[\"fType\"] and (entity[\"fType\"] == filterType)):\n",
    "            output.append(entity)\n",
    "            count += 1\n",
    "    if printResult:\n",
    "        print(f\"{filterType} : {len(output)}\")\n",
    "\n",
    "    return output, count\n",
    "\n",
    "def summarizeFilterType(classifications, filterTypes=[\"HP\", \"BP\", \"LP\", \"BS\", \"GE\"],printResult=False):\n",
    "    output = {}\n",
    "    counts = {}\n",
    "    for fType in filterTypes:\n",
    "        output[fType], counts[fType] = findFilterInClassification(classifications, fType, printResult)\n",
    "    return output, counts\n"
   ]
  },
  {
   "cell_type": "markdown",
   "metadata": {
    "id": "gxvbb1fg5Jzv"
   },
   "source": [
    "### Printing"
   ]
  },
  {
   "cell_type": "code",
   "execution_count": null,
   "metadata": {
    "id": "sC0aamGBsSKF"
   },
   "outputs": [],
   "source": [
    "def generateLaTeXReport(TFs, output_filename):\n",
    "    \"\"\"\n",
    "        # !sudo apt update\n",
    "        # !sudo apt install texlive-latex-base\n",
    "\n",
    "    # # Compile the LaTeX file into a PDF (make sure pdflatex is installed)\n",
    "    # !pdflatex output_filename.tex\n",
    "\n",
    "    # Optional: download the PDF\n",
    "    # files.download(\"transfer_functions.pdf\")\n",
    "\n",
    "    # Create a Latex file to report the transfer functions\n",
    "    \"\"\"\n",
    "\n",
    "    header = r\"\"\"\n",
    "    \\documentclass{article}\n",
    "    \\usepackage{amsmath}\n",
    "    \\usepackage{geometry}\n",
    "    \\geometry{landscape, a1paper, margin=1in}  % Adjust paper size and margins\n",
    "    \\begin{document}\n",
    "    \\section*{Experiment Summary}\n",
    "    \"\"\"\n",
    "\n",
    "    footer = r\"\\end{document}\"\n",
    "\n",
    "    # LaTeX filename\n",
    "    output_filename = \"Outputs/\" + output_filename + \".tex\"\n",
    "    os.makedirs(\"Outputs\", exist_ok=True)\n",
    "\n",
    "    # Write the LaTeX code into the file\n",
    "    with open(output_filename, \"w\") as latex_file:\n",
    "        latex_file.write(header)\n",
    "        for i, tf in enumerate(TFs, 1):\n",
    "            latex_file.write(f\"\\\\subsection*{{Transfer Function {i}}}\\n\")\n",
    "            latex_file.write(f\"\\\\[ H(s) = {latex(tf)} \\\\]\\n\")\n",
    "            # # Add a page break after each equation (optional)\n",
    "            # latex_file.write(\"\\\\newpage\\n\")\n",
    "        latex_file.write(footer)\n"
   ]
  },
  {
   "cell_type": "markdown",
   "metadata": {
    "id": "TFhJN2y8urQc"
   },
   "source": [
    "# Experiment Run - Common Gate\n",
    "Select from the below defintions\n",
    "T_select =\n",
    "- \"simple\" : [[0, -1/gm],[0, 0],\n",
    "- \"symbolic\" : [[a11, a12],[a21, a22],\n",
    "- \"some_parasitic\" : [[-1/(gm*ro), -1/gm],[0, 0],\n",
    "- \"full_parasitic\" : [[(1/ro + s*Cgd)/(s*Cgd - gm), 1/(s*Cgd - gm)],[(Cgd*Cgs*ro*s + Cgd*gm*ro + Cgs + Cgd)*s/(s*Cgd - gm), (Cgs+Cgd)*s/(s*Cgd - gm)]])\n"
   ]
  },
  {
   "cell_type": "code",
   "execution_count": 12,
   "metadata": {
    "colab": {
     "base_uri": "https://localhost:8080/",
     "height": 127
    },
    "id": "ZI2frQGL5Jzw",
    "outputId": "351f1ce5-083e-4c6b-dd03-7f85e6545f8e"
   },
   "outputs": [
    {
     "name": "stdout",
     "output_type": "stream",
     "text": [
      "====CommonGate==== Z_arr = (Z1, Z2, Z3, Z4, Z5, ZL)\n",
      "(1) set up the nodal equation\n",
      "(2) solved the base transfer function\n",
      "FOUND THE BASE TF\n"
     ]
    },
    {
     "data": {
      "image/png": "[encoded data removed]",
      "text/latex": [
       "$\\displaystyle \\frac{ZL \\left(Z_{2} Z_{5} gm - Z_{2} + Z_{5}\\right)}{Z_{2} Z_{5} + Z_{2} ZL + Z_{5} ZL}$"
      ],
      "text/plain": [
       "ZL⋅(Z₂⋅Z₅⋅gm - Z₂ + Z₅)\n",
       "───────────────────────\n",
       " Z₂⋅Z₅ + Z₂⋅ZL + Z₅⋅ZL "
      ]
     },
     "execution_count": 12,
     "metadata": {},
     "output_type": "execute_result"
    }
   ],
   "source": [
    "T_type = \"simple\"\n",
    "T_a = T_select[T_type]\n",
    "T_b = T_select[T_type]\n",
    "\n",
    "numerator_Hs   = [Vop, Von]\n",
    "denominator_Hs = [Vip, Vin]\n",
    "\n",
    "# Re-creating Table II\n",
    "baseHs_CG = _getCommonGateBaseHs(numerator_Hs, denominator_Hs)\n",
    "\n",
    "# oo is the symbol for infitity (Table II)\n",
    "# ------------------------------------------------------------\n",
    "baseHs_CG_Z3ZL      = sympy.limit(baseHs_CG, Z1, inf)         # Z1, Z2, Z4, and Z5 are set to oo (infinity)\n",
    "baseHs_CG_Z3ZL      = sympy.limit(baseHs_CG_Z3ZL, Z2, inf)\n",
    "baseHs_CG_Z3ZL      = sympy.limit(baseHs_CG_Z3ZL, Z4, inf)\n",
    "baseHs_CG_Z3ZL      = sympy.limit(baseHs_CG_Z3ZL, Z5, inf)\n",
    "# ------------------------------------------------------------\n",
    "baseHs_CG_Z5ZL      = sympy.limit(baseHs_CG, Z1, inf)         # Z1, Z2, Z3, and Z4 are set to oo (infinity)\n",
    "baseHs_CG_Z5ZL      = sympy.limit(baseHs_CG_Z5ZL, Z2, inf)\n",
    "baseHs_CG_Z5ZL      = sympy.limit(baseHs_CG_Z5ZL, Z3, inf)\n",
    "baseHs_CG_Z5ZL      = sympy.limit(baseHs_CG_Z5ZL, Z4, inf)\n",
    "# ------------------------------------------------------------\n",
    "baseHs_CG_Z2Z4ZL    = sympy.limit(baseHs_CG, Z1, inf)         # Z1, Z3 and Z5 are set to oo (infinity)\n",
    "baseHs_CG_Z2Z4ZL    = sympy.limit(baseHs_CG_Z2Z4ZL, Z3, inf)\n",
    "baseHs_CG_Z2Z4ZL    = sympy.limit(baseHs_CG_Z2Z4ZL, Z5, inf)\n",
    "# ------------------------------------------------------------\n",
    "baseHs_CG_Z2Z5ZL    = sympy.limit(baseHs_CG, Z1, inf)         # Z1, Z3, and Z4 are set to oo (infinity)\n",
    "baseHs_CG_Z2Z5ZL    = sympy.limit(baseHs_CG_Z2Z5ZL, Z3, inf)\n",
    "baseHs_CG_Z2Z5ZL    = sympy.limit(baseHs_CG_Z2Z5ZL, Z4, inf)\n",
    "# ------------------------------------------------------------\n",
    "baseHs_CG_Z3Z5ZL    = sympy.limit(baseHs_CG, Z1, inf)         # Z1, Z2, and Z4 are set to oo (infinity)\n",
    "baseHs_CG_Z3Z5ZL    = sympy.limit(baseHs_CG_Z3Z5ZL, Z2, inf)\n",
    "baseHs_CG_Z3Z5ZL    = sympy.limit(baseHs_CG_Z3Z5ZL, Z4, inf)\n",
    "# ------------------------------------------------------------\n",
    "\n",
    "baseHs = {\n",
    "    \"all\"       : baseHs_CG,\n",
    "    \"Z3_ZL\"     : baseHs_CG_Z3ZL,\n",
    "    \"Z5_ZL\"     : baseHs_CG_Z5ZL,\n",
    "    \"Z2_Z4_ZL\"  : baseHs_CG_Z2Z4ZL,\n",
    "    \"Z2_Z5_ZL\"  : baseHs_CG_Z2Z5ZL,\n",
    "    \"Z3_Z5_ZL\"  : baseHs_CG_Z3Z5ZL\n",
    "}\n",
    "\n",
    "baseHs[\"Z2_Z5_ZL\"]"
   ]
  },
  {
   "cell_type": "code",
   "execution_count": 61,
   "metadata": {
    "colab": {
     "base_uri": "https://localhost:8080/"
    },
    "id": "4w1S14FS5Jzw",
    "outputId": "b3929c3e-c4ae-4212-d683-a2997c5002cb"
   },
   "outputs": [
    {
     "name": "stderr",
     "output_type": "stream",
     "text": [
      "Getting the TFs (CG): 100%|██████████| 121/121 [00:04<00:00, 24.98combo/s]"
     ]
    },
    {
     "name": "stdout",
     "output_type": "stream",
     "text": [
      "Number of transfer functions found: 121\n",
      "H(s) 1: RL*(R4*gm - 1)/(R4 + RL)\n",
      "H(s) 2: LL*s*(R4*gm - 1)/(LL*s + R4)\n",
      "H(s) 3: (R4*gm - 1)/(CL*R4*s + 1)\n",
      "H(s) 4: RL*(R4*gm - 1)/(CL*R4*RL*s + R4 + RL)\n",
      "H(s) 5: (R4*gm - 1)*(CL*RL*s + 1)/(CL*R4*s + CL*RL*s + 1)\n",
      "H(s) 6: (R4*gm - 1)*(CL*LL*s**2 + 1)/(CL*LL*s**2 + CL*R4*s + 1)\n",
      "H(s) 7: LL*s*(R4*gm - 1)/(CL*LL*R4*s**2 + LL*s + R4)\n",
      "H(s) 8: (R4*gm - 1)*(CL*LL*s**2 + CL*RL*s + 1)/(CL*LL*s**2 + CL*R4*s + CL*RL*s + 1)\n",
      "H(s) 9: LL*RL*s*(R4*gm - 1)/(CL*LL*R4*RL*s**2 + LL*R4*s + LL*RL*s + R4*RL)\n",
      "H(s) 10: (R4*gm - 1)*(CL*LL*RL*s**2 + LL*s + RL)/(CL*LL*R4*s**2 + CL*LL*RL*s**2 + LL*s + R4 + RL)\n",
      "H(s) 11: RL*(R4*gm - 1)*(CL*LL*s**2 + 1)/(CL*LL*R4*s**2 + CL*LL*RL*s**2 + CL*R4*RL*s + R4 + RL)\n",
      "H(s) 12: RL*(L4*gm*s - 1)/(L4*s + RL)\n",
      "H(s) 13: LL*(L4*gm*s - 1)/(L4 + LL)\n",
      "H(s) 14: (L4*gm*s - 1)/(CL*L4*s**2 + 1)\n",
      "H(s) 15: RL*(L4*gm*s - 1)/(CL*L4*RL*s**2 + L4*s + RL)\n",
      "H(s) 16: (CL*RL*s + 1)*(L4*gm*s - 1)/(CL*L4*s**2 + CL*RL*s + 1)\n",
      "H(s) 17: (CL*LL*s**2 + 1)*(L4*gm*s - 1)/(CL*L4*s**2 + CL*LL*s**2 + 1)\n",
      "H(s) 18: LL*(L4*gm*s - 1)/(CL*L4*LL*s**2 + L4 + LL)\n",
      "H(s) 19: (L4*gm*s - 1)*(CL*LL*s**2 + CL*RL*s + 1)/(CL*L4*s**2 + CL*LL*s**2 + CL*RL*s + 1)\n",
      "H(s) 20: LL*RL*(L4*gm*s - 1)/(CL*L4*LL*RL*s**2 + L4*LL*s + L4*RL + LL*RL)\n",
      "H(s) 21: (L4*gm*s - 1)*(CL*LL*RL*s**2 + LL*s + RL)/(CL*L4*LL*s**3 + CL*LL*RL*s**2 + L4*s + LL*s + RL)\n",
      "H(s) 22: RL*(CL*LL*s**2 + 1)*(L4*gm*s - 1)/(CL*L4*LL*s**3 + CL*L4*RL*s**2 + CL*LL*RL*s**2 + L4*s + RL)\n",
      "H(s) 23: RL*(-C4*s + gm)/(C4*RL*s + 1)\n",
      "H(s) 24: LL*s*(-C4*s + gm)/(C4*LL*s**2 + 1)\n",
      "H(s) 25: (-C4*s + gm)/(s*(C4 + CL))\n",
      "H(s) 26: RL*(-C4*s + gm)/(C4*RL*s + CL*RL*s + 1)\n",
      "H(s) 27: -(C4*s - gm)*(CL*RL*s + 1)/(s*(C4*CL*RL*s + C4 + CL))\n",
      "H(s) 28: -(C4*s - gm)*(CL*LL*s**2 + 1)/(s*(C4*CL*LL*s**2 + C4 + CL))\n",
      "H(s) 29: LL*s*(-C4*s + gm)/(C4*LL*s**2 + CL*LL*s**2 + 1)\n",
      "H(s) 30: -(C4*s - gm)*(CL*LL*s**2 + CL*RL*s + 1)/(s*(C4*CL*LL*s**2 + C4*CL*RL*s + C4 + CL))\n",
      "H(s) 31: LL*RL*s*(-C4*s + gm)/(C4*LL*RL*s**2 + CL*LL*RL*s**2 + LL*s + RL)\n",
      "H(s) 32: -(C4*s - gm)*(CL*LL*RL*s**2 + LL*s + RL)/(C4*CL*LL*RL*s**3 + C4*LL*s**2 + C4*RL*s + CL*LL*s**2 + 1)\n",
      "H(s) 33: -RL*(C4*s - gm)*(CL*LL*s**2 + 1)/(C4*CL*LL*RL*s**3 + C4*RL*s + CL*LL*s**2 + CL*RL*s + 1)\n",
      "H(s) 34: RL*(-C4*R4*s + R4*gm - 1)/(C4*R4*RL*s + R4 + RL)\n",
      "H(s) 35: LL*s*(-C4*R4*s + R4*gm - 1)/(C4*LL*R4*s**2 + LL*s + R4)\n",
      "H(s) 36: (-C4*R4*s + R4*gm - 1)/(C4*R4*s + CL*R4*s + 1)\n",
      "H(s) 37: RL*(-C4*R4*s + R4*gm - 1)/(C4*R4*RL*s + CL*R4*RL*s + R4 + RL)\n",
      "H(s) 38: -(CL*RL*s + 1)*(C4*R4*s - R4*gm + 1)/(C4*CL*R4*RL*s**2 + C4*R4*s + CL*R4*s + CL*RL*s + 1)\n",
      "H(s) 39: -(CL*LL*s**2 + 1)*(C4*R4*s - R4*gm + 1)/(C4*CL*LL*R4*s**3 + C4*R4*s + CL*LL*s**2 + CL*R4*s + 1)\n",
      "H(s) 40: LL*s*(-C4*R4*s + R4*gm - 1)/(C4*LL*R4*s**2 + CL*LL*R4*s**2 + LL*s + R4)\n",
      "H(s) 41: -(C4*R4*s - R4*gm + 1)*(CL*LL*s**2 + CL*RL*s + 1)/(C4*CL*LL*R4*s**3 + C4*CL*R4*RL*s**2 + C4*R4*s + CL*LL*s**2 + CL*R4*s + CL*RL*s + 1)\n",
      "H(s) 42: LL*RL*s*(-C4*R4*s + R4*gm - 1)/(C4*LL*R4*RL*s**2 + CL*LL*R4*RL*s**2 + LL*R4*s + LL*RL*s + R4*RL)\n",
      "H(s) 43: -(C4*R4*s - R4*gm + 1)*(CL*LL*RL*s**2 + LL*s + RL)/(C4*CL*LL*R4*RL*s**3 + C4*LL*R4*s**2 + C4*R4*RL*s + CL*LL*R4*s**2 + CL*LL*RL*s**2 + LL*s + R4 + RL)\n",
      "H(s) 44: -RL*(CL*LL*s**2 + 1)*(C4*R4*s - R4*gm + 1)/(C4*CL*LL*R4*RL*s**3 + C4*R4*RL*s + CL*LL*R4*s**2 + CL*LL*RL*s**2 + CL*R4*RL*s + R4 + RL)\n",
      "H(s) 45: RL*(C4*R4*gm*s - C4*s + gm)/(C4*R4*s + C4*RL*s + 1)\n",
      "H(s) 46: LL*s*(C4*R4*gm*s - C4*s + gm)/(C4*LL*s**2 + C4*R4*s + 1)\n",
      "H(s) 47: (C4*R4*gm*s - C4*s + gm)/(s*(C4*CL*R4*s + C4 + CL))\n",
      "H(s) 48: RL*(C4*R4*gm*s - C4*s + gm)/(C4*CL*R4*RL*s**2 + C4*R4*s + C4*RL*s + CL*RL*s + 1)\n",
      "H(s) 49: (CL*RL*s + 1)*(C4*R4*gm*s - C4*s + gm)/(s*(C4*CL*R4*s + C4*CL*RL*s + C4 + CL))\n",
      "H(s) 50: (CL*LL*s**2 + 1)*(C4*R4*gm*s - C4*s + gm)/(s*(C4*CL*LL*s**2 + C4*CL*R4*s + C4 + CL))\n",
      "H(s) 51: LL*s*(C4*R4*gm*s - C4*s + gm)/(C4*CL*LL*R4*s**3 + C4*LL*s**2 + C4*R4*s + CL*LL*s**2 + 1)\n",
      "H(s) 52: (CL*LL*s**2 + CL*RL*s + 1)*(C4*R4*gm*s - C4*s + gm)/(s*(C4*CL*LL*s**2 + C4*CL*R4*s + C4*CL*RL*s + C4 + CL))\n",
      "H(s) 53: LL*RL*s*(C4*R4*gm*s - C4*s + gm)/(C4*CL*LL*R4*RL*s**3 + C4*LL*R4*s**2 + C4*LL*RL*s**2 + C4*R4*RL*s + CL*LL*RL*s**2 + LL*s + RL)\n",
      "H(s) 54: (C4*R4*gm*s - C4*s + gm)*(CL*LL*RL*s**2 + LL*s + RL)/(C4*CL*LL*R4*s**3 + C4*CL*LL*RL*s**3 + C4*LL*s**2 + C4*R4*s + C4*RL*s + CL*LL*s**2 + 1)\n",
      "H(s) 55: RL*(CL*LL*s**2 + 1)*(C4*R4*gm*s - C4*s + gm)/(C4*CL*LL*R4*s**3 + C4*CL*LL*RL*s**3 + C4*CL*R4*RL*s**2 + C4*R4*s + C4*RL*s + CL*LL*s**2 + CL*RL*s + 1)\n",
      "H(s) 56: RL*(C4*L4*gm*s**2 - C4*s + gm)/(C4*L4*s**2 + C4*RL*s + 1)\n",
      "H(s) 57: LL*s*(C4*L4*gm*s**2 - C4*s + gm)/(C4*L4*s**2 + C4*LL*s**2 + 1)\n",
      "H(s) 58: (C4*L4*gm*s**2 - C4*s + gm)/(s*(C4*CL*L4*s**2 + C4 + CL))\n",
      "H(s) 59: RL*(C4*L4*gm*s**2 - C4*s + gm)/(C4*CL*L4*RL*s**3 + C4*L4*s**2 + C4*RL*s + CL*RL*s + 1)\n",
      "H(s) 60: (CL*RL*s + 1)*(C4*L4*gm*s**2 - C4*s + gm)/(s*(C4*CL*L4*s**2 + C4*CL*RL*s + C4 + CL))\n",
      "H(s) 61: (CL*LL*s**2 + 1)*(C4*L4*gm*s**2 - C4*s + gm)/(s*(C4*CL*L4*s**2 + C4*CL*LL*s**2 + C4 + CL))\n",
      "H(s) 62: LL*s*(C4*L4*gm*s**2 - C4*s + gm)/(C4*CL*L4*LL*s**4 + C4*L4*s**2 + C4*LL*s**2 + CL*LL*s**2 + 1)\n",
      "H(s) 63: (CL*LL*s**2 + CL*RL*s + 1)*(C4*L4*gm*s**2 - C4*s + gm)/(s*(C4*CL*L4*s**2 + C4*CL*LL*s**2 + C4*CL*RL*s + C4 + CL))\n",
      "H(s) 64: LL*RL*s*(C4*L4*gm*s**2 - C4*s + gm)/(C4*CL*L4*LL*RL*s**4 + C4*L4*LL*s**3 + C4*L4*RL*s**2 + C4*LL*RL*s**2 + CL*LL*RL*s**2 + LL*s + RL)\n",
      "H(s) 65: (C4*L4*gm*s**2 - C4*s + gm)*(CL*LL*RL*s**2 + LL*s + RL)/(C4*CL*L4*LL*s**4 + C4*CL*LL*RL*s**3 + C4*L4*s**2 + C4*LL*s**2 + C4*RL*s + CL*LL*s**2 + 1)\n",
      "H(s) 66: RL*(CL*LL*s**2 + 1)*(C4*L4*gm*s**2 - C4*s + gm)/(C4*CL*L4*LL*s**4 + C4*CL*L4*RL*s**3 + C4*CL*LL*RL*s**3 + C4*L4*s**2 + C4*RL*s + CL*LL*s**2 + CL*RL*s + 1)\n",
      "H(s) 67: RL*(-C4*L4*s**2 + L4*gm*s - 1)/(C4*L4*RL*s**2 + L4*s + RL)\n",
      "H(s) 68: LL*(-C4*L4*s**2 + L4*gm*s - 1)/(C4*L4*LL*s**2 + L4 + LL)\n",
      "H(s) 69: (-C4*L4*s**2 + L4*gm*s - 1)/(C4*L4*s**2 + CL*L4*s**2 + 1)\n",
      "H(s) 70: RL*(-C4*L4*s**2 + L4*gm*s - 1)/(C4*L4*RL*s**2 + CL*L4*RL*s**2 + L4*s + RL)\n",
      "H(s) 71: -(CL*RL*s + 1)*(C4*L4*s**2 - L4*gm*s + 1)/(C4*CL*L4*RL*s**3 + C4*L4*s**2 + CL*L4*s**2 + CL*RL*s + 1)\n",
      "H(s) 72: -(CL*LL*s**2 + 1)*(C4*L4*s**2 - L4*gm*s + 1)/(C4*CL*L4*LL*s**4 + C4*L4*s**2 + CL*L4*s**2 + CL*LL*s**2 + 1)\n",
      "H(s) 73: LL*(-C4*L4*s**2 + L4*gm*s - 1)/(C4*L4*LL*s**2 + CL*L4*LL*s**2 + L4 + LL)\n",
      "H(s) 74: -(C4*L4*s**2 - L4*gm*s + 1)*(CL*LL*s**2 + CL*RL*s + 1)/(C4*CL*L4*LL*s**4 + C4*CL*L4*RL*s**3 + C4*L4*s**2 + CL*L4*s**2 + CL*LL*s**2 + CL*RL*s + 1)\n",
      "H(s) 75: LL*RL*(-C4*L4*s**2 + L4*gm*s - 1)/(C4*L4*LL*RL*s**2 + CL*L4*LL*RL*s**2 + L4*LL*s + L4*RL + LL*RL)\n",
      "H(s) 76: -(C4*L4*s**2 - L4*gm*s + 1)*(CL*LL*RL*s**2 + LL*s + RL)/(C4*CL*L4*LL*RL*s**4 + C4*L4*LL*s**3 + C4*L4*RL*s**2 + CL*L4*LL*s**3 + CL*LL*RL*s**2 + L4*s + LL*s + RL)\n",
      "H(s) 77: -RL*(CL*LL*s**2 + 1)*(C4*L4*s**2 - L4*gm*s + 1)/(C4*CL*L4*LL*RL*s**4 + C4*L4*RL*s**2 + CL*L4*LL*s**3 + CL*L4*RL*s**2 + CL*LL*RL*s**2 + L4*s + RL)\n",
      "H(s) 78: RL*(C4*L4*gm*s**2 + C4*R4*gm*s - C4*s + gm)/(C4*L4*s**2 + C4*R4*s + C4*RL*s + 1)\n",
      "H(s) 79: LL*s*(C4*L4*gm*s**2 + C4*R4*gm*s - C4*s + gm)/(C4*L4*s**2 + C4*LL*s**2 + C4*R4*s + 1)\n",
      "H(s) 80: (C4*L4*gm*s**2 + C4*R4*gm*s - C4*s + gm)/(s*(C4*CL*L4*s**2 + C4*CL*R4*s + C4 + CL))\n",
      "H(s) 81: RL*(C4*L4*gm*s**2 + C4*R4*gm*s - C4*s + gm)/(C4*CL*L4*RL*s**3 + C4*CL*R4*RL*s**2 + C4*L4*s**2 + C4*R4*s + C4*RL*s + CL*RL*s + 1)\n",
      "H(s) 82: (CL*RL*s + 1)*(C4*L4*gm*s**2 + C4*R4*gm*s - C4*s + gm)/(s*(C4*CL*L4*s**2 + C4*CL*R4*s + C4*CL*RL*s + C4 + CL))\n",
      "H(s) 83: (CL*LL*s**2 + 1)*(C4*L4*gm*s**2 + C4*R4*gm*s - C4*s + gm)/(s*(C4*CL*L4*s**2 + C4*CL*LL*s**2 + C4*CL*R4*s + C4 + CL))\n",
      "H(s) 84: LL*s*(C4*L4*gm*s**2 + C4*R4*gm*s - C4*s + gm)/(C4*CL*L4*LL*s**4 + C4*CL*LL*R4*s**3 + C4*L4*s**2 + C4*LL*s**2 + C4*R4*s + CL*LL*s**2 + 1)\n",
      "H(s) 85: (CL*LL*s**2 + CL*RL*s + 1)*(C4*L4*gm*s**2 + C4*R4*gm*s - C4*s + gm)/(s*(C4*CL*L4*s**2 + C4*CL*LL*s**2 + C4*CL*R4*s + C4*CL*RL*s + C4 + CL))\n",
      "H(s) 86: LL*RL*s*(C4*L4*gm*s**2 + C4*R4*gm*s - C4*s + gm)/(C4*CL*L4*LL*RL*s**4 + C4*CL*LL*R4*RL*s**3 + C4*L4*LL*s**3 + C4*L4*RL*s**2 + C4*LL*R4*s**2 + C4*LL*RL*s**2 + C4*R4*RL*s + CL*LL*RL*s**2 + LL*s + RL)\n",
      "H(s) 87: (CL*LL*RL*s**2 + LL*s + RL)*(C4*L4*gm*s**2 + C4*R4*gm*s - C4*s + gm)/(C4*CL*L4*LL*s**4 + C4*CL*LL*R4*s**3 + C4*CL*LL*RL*s**3 + C4*L4*s**2 + C4*LL*s**2 + C4*R4*s + C4*RL*s + CL*LL*s**2 + 1)\n",
      "H(s) 88: RL*(CL*LL*s**2 + 1)*(C4*L4*gm*s**2 + C4*R4*gm*s - C4*s + gm)/(C4*CL*L4*LL*s**4 + C4*CL*L4*RL*s**3 + C4*CL*LL*R4*s**3 + C4*CL*LL*RL*s**3 + C4*CL*R4*RL*s**2 + C4*L4*s**2 + C4*R4*s + C4*RL*s + CL*LL*s**2 + CL*RL*s + 1)\n",
      "H(s) 89: RL*(-C4*L4*R4*s**2 + L4*R4*gm*s - L4*s - R4)/(C4*L4*R4*RL*s**2 + L4*R4*s + L4*RL*s + R4*RL)\n",
      "H(s) 90: LL*(-C4*L4*R4*s**2 + L4*R4*gm*s - L4*s - R4)/(C4*L4*LL*R4*s**2 + L4*LL*s + L4*R4 + LL*R4)\n",
      "H(s) 91: (-C4*L4*R4*s**2 + L4*R4*gm*s - L4*s - R4)/(C4*L4*R4*s**2 + CL*L4*R4*s**2 + L4*s + R4)\n",
      "H(s) 92: RL*(-C4*L4*R4*s**2 + L4*R4*gm*s - L4*s - R4)/(C4*L4*R4*RL*s**2 + CL*L4*R4*RL*s**2 + L4*R4*s + L4*RL*s + R4*RL)\n",
      "H(s) 93: -(CL*RL*s + 1)*(C4*L4*R4*s**2 - L4*R4*gm*s + L4*s + R4)/(C4*CL*L4*R4*RL*s**3 + C4*L4*R4*s**2 + CL*L4*R4*s**2 + CL*L4*RL*s**2 + CL*R4*RL*s + L4*s + R4)\n",
      "H(s) 94: -(CL*LL*s**2 + 1)*(C4*L4*R4*s**2 - L4*R4*gm*s + L4*s + R4)/(C4*CL*L4*LL*R4*s**4 + C4*L4*R4*s**2 + CL*L4*LL*s**3 + CL*L4*R4*s**2 + CL*LL*R4*s**2 + L4*s + R4)\n",
      "H(s) 95: LL*(-C4*L4*R4*s**2 + L4*R4*gm*s - L4*s - R4)/(C4*L4*LL*R4*s**2 + CL*L4*LL*R4*s**2 + L4*LL*s + L4*R4 + LL*R4)\n",
      "H(s) 96: -(CL*LL*s**2 + CL*RL*s + 1)*(C4*L4*R4*s**2 - L4*R4*gm*s + L4*s + R4)/(C4*CL*L4*LL*R4*s**4 + C4*CL*L4*R4*RL*s**3 + C4*L4*R4*s**2 + CL*L4*LL*s**3 + CL*L4*R4*s**2 + CL*L4*RL*s**2 + CL*LL*R4*s**2 + CL*R4*RL*s + L4*s + R4)\n",
      "H(s) 97: LL*RL*(-C4*L4*R4*s**2 + L4*R4*gm*s - L4*s - R4)/(C4*L4*LL*R4*RL*s**2 + CL*L4*LL*R4*RL*s**2 + L4*LL*R4*s + L4*LL*RL*s + L4*R4*RL + LL*R4*RL)\n",
      "H(s) 98: -(CL*LL*RL*s**2 + LL*s + RL)*(C4*L4*R4*s**2 - L4*R4*gm*s + L4*s + R4)/(C4*CL*L4*LL*R4*RL*s**4 + C4*L4*LL*R4*s**3 + C4*L4*R4*RL*s**2 + CL*L4*LL*R4*s**3 + CL*L4*LL*RL*s**3 + CL*LL*R4*RL*s**2 + L4*LL*s**2 + L4*R4*s + L4*RL*s + LL*R4*s + R4*RL)\n",
      "H(s) 99: -RL*(CL*LL*s**2 + 1)*(C4*L4*R4*s**2 - L4*R4*gm*s + L4*s + R4)/(C4*CL*L4*LL*R4*RL*s**4 + C4*L4*R4*RL*s**2 + CL*L4*LL*R4*s**3 + CL*L4*LL*RL*s**3 + CL*L4*R4*RL*s**2 + CL*LL*R4*RL*s**2 + L4*R4*s + L4*RL*s + R4*RL)\n",
      "H(s) 100: RL*(C4*L4*R4*gm*s**2 - C4*L4*s**2 + L4*gm*s + R4*gm - 1)/(C4*L4*R4*s**2 + C4*L4*RL*s**2 + L4*s + R4 + RL)\n",
      "H(s) 101: LL*s*(C4*L4*R4*gm*s**2 - C4*L4*s**2 + L4*gm*s + R4*gm - 1)/(C4*L4*LL*s**3 + C4*L4*R4*s**2 + L4*s + LL*s + R4)\n",
      "H(s) 102: (C4*L4*R4*gm*s**2 - C4*L4*s**2 + L4*gm*s + R4*gm - 1)/(C4*CL*L4*R4*s**3 + C4*L4*s**2 + CL*L4*s**2 + CL*R4*s + 1)\n",
      "H(s) 103: RL*(C4*L4*R4*gm*s**2 - C4*L4*s**2 + L4*gm*s + R4*gm - 1)/(C4*CL*L4*R4*RL*s**3 + C4*L4*R4*s**2 + C4*L4*RL*s**2 + CL*L4*RL*s**2 + CL*R4*RL*s + L4*s + R4 + RL)\n",
      "H(s) 104: (CL*RL*s + 1)*(C4*L4*R4*gm*s**2 - C4*L4*s**2 + L4*gm*s + R4*gm - 1)/(C4*CL*L4*R4*s**3 + C4*CL*L4*RL*s**3 + C4*L4*s**2 + CL*L4*s**2 + CL*R4*s + CL*RL*s + 1)\n",
      "H(s) 105: (CL*LL*s**2 + 1)*(C4*L4*R4*gm*s**2 - C4*L4*s**2 + L4*gm*s + R4*gm - 1)/(C4*CL*L4*LL*s**4 + C4*CL*L4*R4*s**3 + C4*L4*s**2 + CL*L4*s**2 + CL*LL*s**2 + CL*R4*s + 1)\n",
      "H(s) 106: LL*s*(C4*L4*R4*gm*s**2 - C4*L4*s**2 + L4*gm*s + R4*gm - 1)/(C4*CL*L4*LL*R4*s**4 + C4*L4*LL*s**3 + C4*L4*R4*s**2 + CL*L4*LL*s**3 + CL*LL*R4*s**2 + L4*s + LL*s + R4)\n",
      "H(s) 107: (CL*LL*s**2 + CL*RL*s + 1)*(C4*L4*R4*gm*s**2 - C4*L4*s**2 + L4*gm*s + R4*gm - 1)/(C4*CL*L4*LL*s**4 + C4*CL*L4*R4*s**3 + C4*CL*L4*RL*s**3 + C4*L4*s**2 + CL*L4*s**2 + CL*LL*s**2 + CL*R4*s + CL*RL*s + 1)\n",
      "H(s) 108: LL*RL*s*(C4*L4*R4*gm*s**2 - C4*L4*s**2 + L4*gm*s + R4*gm - 1)/(C4*CL*L4*LL*R4*RL*s**4 + C4*L4*LL*R4*s**3 + C4*L4*LL*RL*s**3 + C4*L4*R4*RL*s**2 + CL*L4*LL*RL*s**3 + CL*LL*R4*RL*s**2 + L4*LL*s**2 + L4*RL*s + LL*R4*s + LL*RL*s + R4*RL)\n",
      "H(s) 109: (CL*LL*RL*s**2 + LL*s + RL)*(C4*L4*R4*gm*s**2 - C4*L4*s**2 + L4*gm*s + R4*gm - 1)/(C4*CL*L4*LL*R4*s**4 + C4*CL*L4*LL*RL*s**4 + C4*L4*LL*s**3 + C4*L4*R4*s**2 + C4*L4*RL*s**2 + CL*L4*LL*s**3 + CL*LL*R4*s**2 + CL*LL*RL*s**2 + L4*s + LL*s + R4 + RL)\n",
      "H(s) 110: RL*(CL*LL*s**2 + 1)*(C4*L4*R4*gm*s**2 - C4*L4*s**2 + L4*gm*s + R4*gm - 1)/(C4*CL*L4*LL*R4*s**4 + C4*CL*L4*LL*RL*s**4 + C4*CL*L4*R4*RL*s**3 + C4*L4*R4*s**2 + C4*L4*RL*s**2 + CL*L4*LL*s**3 + CL*L4*RL*s**2 + CL*LL*R4*s**2 + CL*LL*RL*s**2 + CL*R4*RL*s + L4*s + R4 + RL)\n",
      "H(s) 111: RL*(C4*L4*R4*gm*s**2 - C4*L4*s**2 - C4*R4*s + R4*gm - 1)/(C4*L4*R4*s**2 + C4*L4*RL*s**2 + C4*R4*RL*s + R4 + RL)\n",
      "H(s) 112: LL*s*(C4*L4*R4*gm*s**2 - C4*L4*s**2 - C4*R4*s + R4*gm - 1)/(C4*L4*LL*s**3 + C4*L4*R4*s**2 + C4*LL*R4*s**2 + LL*s + R4)\n",
      "H(s) 113: (C4*L4*R4*gm*s**2 - C4*L4*s**2 - C4*R4*s + R4*gm - 1)/(C4*CL*L4*R4*s**3 + C4*L4*s**2 + C4*R4*s + CL*R4*s + 1)\n",
      "H(s) 114: RL*(C4*L4*R4*gm*s**2 - C4*L4*s**2 - C4*R4*s + R4*gm - 1)/(C4*CL*L4*R4*RL*s**3 + C4*L4*R4*s**2 + C4*L4*RL*s**2 + C4*R4*RL*s + CL*R4*RL*s + R4 + RL)\n",
      "H(s) 115: -(CL*RL*s + 1)*(-C4*L4*R4*gm*s**2 + C4*L4*s**2 + C4*R4*s - R4*gm + 1)/(C4*CL*L4*R4*s**3 + C4*CL*L4*RL*s**3 + C4*CL*R4*RL*s**2 + C4*L4*s**2 + C4*R4*s + CL*R4*s + CL*RL*s + 1)\n",
      "H(s) 116: -(CL*LL*s**2 + 1)*(-C4*L4*R4*gm*s**2 + C4*L4*s**2 + C4*R4*s - R4*gm + 1)/(C4*CL*L4*LL*s**4 + C4*CL*L4*R4*s**3 + C4*CL*LL*R4*s**3 + C4*L4*s**2 + C4*R4*s + CL*LL*s**2 + CL*R4*s + 1)\n",
      "H(s) 117: LL*s*(C4*L4*R4*gm*s**2 - C4*L4*s**2 - C4*R4*s + R4*gm - 1)/(C4*CL*L4*LL*R4*s**4 + C4*L4*LL*s**3 + C4*L4*R4*s**2 + C4*LL*R4*s**2 + CL*LL*R4*s**2 + LL*s + R4)\n",
      "H(s) 118: -(CL*LL*s**2 + CL*RL*s + 1)*(-C4*L4*R4*gm*s**2 + C4*L4*s**2 + C4*R4*s - R4*gm + 1)/(C4*CL*L4*LL*s**4 + C4*CL*L4*R4*s**3 + C4*CL*L4*RL*s**3 + C4*CL*LL*R4*s**3 + C4*CL*R4*RL*s**2 + C4*L4*s**2 + C4*R4*s + CL*LL*s**2 + CL*R4*s + CL*RL*s + 1)\n",
      "H(s) 119: LL*RL*s*(C4*L4*R4*gm*s**2 - C4*L4*s**2 - C4*R4*s + R4*gm - 1)/(C4*CL*L4*LL*R4*RL*s**4 + C4*L4*LL*R4*s**3 + C4*L4*LL*RL*s**3 + C4*L4*R4*RL*s**2 + C4*LL*R4*RL*s**2 + CL*LL*R4*RL*s**2 + LL*R4*s + LL*RL*s + R4*RL)\n",
      "H(s) 120: -(CL*LL*RL*s**2 + LL*s + RL)*(-C4*L4*R4*gm*s**2 + C4*L4*s**2 + C4*R4*s - R4*gm + 1)/(C4*CL*L4*LL*R4*s**4 + C4*CL*L4*LL*RL*s**4 + C4*CL*LL*R4*RL*s**3 + C4*L4*LL*s**3 + C4*L4*R4*s**2 + C4*L4*RL*s**2 + C4*LL*R4*s**2 + C4*R4*RL*s + CL*LL*R4*s**2 + CL*LL*RL*s**2 + LL*s + R4 + RL)\n",
      "H(s) 121: -RL*(CL*LL*s**2 + 1)*(-C4*L4*R4*gm*s**2 + C4*L4*s**2 + C4*R4*s - R4*gm + 1)/(C4*CL*L4*LL*R4*s**4 + C4*CL*L4*LL*RL*s**4 + C4*CL*L4*R4*RL*s**3 + C4*CL*LL*R4*RL*s**3 + C4*L4*R4*s**2 + C4*L4*RL*s**2 + C4*R4*RL*s + CL*LL*R4*s**2 + CL*LL*RL*s**2 + CL*R4*RL*s + R4 + RL)\n"
     ]
    },
    {
     "name": "stderr",
     "output_type": "stream",
     "text": [
      "\n"
     ]
    }
   ],
   "source": [
    "select = \"Z5_ZL\"\n",
    "combos = getCommonGateImpedanceCombinations()\n",
    "batch = list(combos[select])\n",
    "tf = baseHs[select]\n",
    "\n",
    "TFs = getCommonGateTFs(batch, tf)\n",
    "\n",
    "# Output summary of results\n",
    "print(\"Number of transfer functions found: {}\".format(len(TFs)))\n",
    "for i, tf in enumerate(TFs, 1):\n",
    "    print(\"H(s) {}: {}\".format(i, tf))\n",
    "\n",
    "# save_TFs_as_LaTex(TFs, \"CG_testRun\")"
   ]
  },
  {
   "cell_type": "code",
   "execution_count": 62,
   "metadata": {
    "colab": {
     "base_uri": "https://localhost:8080/",
     "height": 55
    },
    "id": "E2os1pWT5Jzw",
    "outputId": "7f858588-f56e-4209-e4ad-01a988d4a591"
   },
   "outputs": [
    {
     "data": {
      "image/png": "[encoded data removed]",
      "text/latex": [
       "$\\displaystyle \\frac{RL \\left(R_{4} gm - 1\\right)}{R_{4} + RL}$"
      ],
      "text/plain": [
       "RL⋅(R₄⋅gm - 1)\n",
       "──────────────\n",
       "   R₄ + RL    "
      ]
     },
     "execution_count": 62,
     "metadata": {},
     "output_type": "execute_result"
    }
   ],
   "source": [
    "# Preview the TF\n",
    "TFs[0]"
   ]
  },
  {
   "cell_type": "code",
   "execution_count": 63,
   "metadata": {
    "colab": {
     "base_uri": "https://localhost:8080/"
    },
    "id": "_5fBeUVU5Jzx",
    "outputId": "102d4d31-62c2-4672-ddc7-d1d6294cbaad"
   },
   "outputs": [
    {
     "name": "stderr",
     "output_type": "stream",
     "text": [
      "Computing filter parameters: 100%|██████████| 121/121 [00:01<00:00, 78.86filter/s]"
     ]
    },
    {
     "name": "stdout",
     "output_type": "stream",
     "text": [
      "HP : 0\n",
      "BP : 2\n",
      "LP : 0\n",
      "BS : 2\n",
      "GE : 23\n"
     ]
    },
    {
     "name": "stderr",
     "output_type": "stream",
     "text": [
      "\n"
     ]
    }
   ],
   "source": [
    "classifications = classifyBiQuadFilters(TFs, batch)\n",
    "# classifications = classifyFilter(filterParameters)\n",
    "filterTypes = [\"HP\", \"BP\", \"LP\", \"BS\", \"GE\",]\n",
    "\n",
    "summary, counts = summarizeFilterType(classifications, filterTypes, printResult=True)"
   ]
  },
  {
   "cell_type": "code",
   "execution_count": 37,
   "metadata": {
    "colab": {
     "base_uri": "https://localhost:8080/"
    },
    "id": "R9kmHmVO5Jzx",
    "outputId": "55241f6c-5950-4f5d-d516-cf7f9c56f146"
   },
   "outputs": [
    {
     "data": {
      "image/png": "[encoded data removed]",
      "text/latex": [
       "$\\displaystyle \\frac{LL R_{3} gm s}{CL LL R_{3} s^{2} + LL s + R_{3}}$"
      ],
      "text/plain": [
       "      LL⋅R₃⋅gm⋅s       \n",
       "───────────────────────\n",
       "          2            \n",
       "CL⋅LL⋅R₃⋅s  + LL⋅s + R₃"
      ]
     },
     "execution_count": 37,
     "metadata": {},
     "output_type": "execute_result"
    }
   ],
   "source": [
    "summary[\"BP\"][0]['tf']"
   ]
  },
  {
   "cell_type": "code",
   "execution_count": 64,
   "metadata": {
    "colab": {
     "base_uri": "https://localhost:8080/",
     "height": 58
    },
    "id": "ZMIRqFW55Jzx",
    "outputId": "37fe0bcd-febc-42cc-f103-35973b14ae70"
   },
   "outputs": [
    {
     "data": {
      "image/png": "[encoded data removed]",
      "text/latex": [
       "$\\displaystyle - \\frac{\\left(CL RL s + 1\\right) \\left(C_{4} R_{4} s - R_{4} gm + 1\\right)}{C_{4} CL R_{4} RL s^{2} + C_{4} R_{4} s + CL R_{4} s + CL RL s + 1}$"
      ],
      "text/plain": [
       "     -(CL⋅RL⋅s + 1)⋅(C₄⋅R₄⋅s - R₄⋅gm + 1)       \n",
       "────────────────────────────────────────────────\n",
       "             2                                  \n",
       "C₄⋅CL⋅R₄⋅RL⋅s  + C₄⋅R₄⋅s + CL⋅R₄⋅s + CL⋅RL⋅s + 1"
      ]
     },
     "execution_count": 64,
     "metadata": {},
     "output_type": "execute_result"
    }
   ],
   "source": [
    "tf = summary[\"GE\"][3]['tf']\n",
    "tf"
   ]
  },
  {
   "cell_type": "code",
   "execution_count": 46,
   "metadata": {},
   "outputs": [
    {
     "name": "stdout",
     "output_type": "stream",
     "text": [
      "numerator = CL*L3*RL*gm*s**2 + L3*gm*s\n",
      "b2 : CL*L3*RL*gm\n",
      "b1 : L3*gm\n",
      "b0 : 0\n",
      "numeratorState : 0b110\n"
     ]
    },
    {
     "data": {
      "text/plain": [
       "{'valid': True,\n",
       " 'fType': 'Invalid110',\n",
       " 'parameters': {'Q': L3*sqrt(1/(CL*L3))/RL,\n",
       "  'wo': sqrt(1/(CL*L3)),\n",
       "  'bandwidth': RL/L3,\n",
       "  'K_LP': 0,\n",
       "  'K_HP': RL*gm,\n",
       "  'K_BP': L3*gm/(CL*RL),\n",
       "  'Qz': CL*RL*sqrt(1/(CL*L3)),\n",
       "  'wz': None}}"
      ]
     },
     "execution_count": 46,
     "metadata": {},
     "output_type": "execute_result"
    }
   ],
   "source": [
    "_computeBiQuadParameters(tf)"
   ]
  },
  {
   "cell_type": "code",
   "execution_count": 65,
   "metadata": {
    "id": "9CnQqlqG5Jzx"
   },
   "outputs": [],
   "source": [
    "generateLaTeXReport(summary[\"GE\"], \"CS_testRun\")\n",
    "\n"
   ]
  },
  {
   "cell_type": "markdown",
   "metadata": {
    "id": "mlJyWSiSacqN"
   },
   "source": [
    "# Saving the environment parameters\n",
    "Use the code block below to save the experiment.\n",
    "\n",
    "**Requires the Dill library to be pip installed**"
   ]
  },
  {
   "cell_type": "code",
   "execution_count": null,
   "metadata": {
    "id": "E9x-ZQCcxncw"
   },
   "outputs": [],
   "source": [
    "# Saving the variable with dill\n",
    "variables = {'TFs': TFs, 'Impedance_combinations': impedance_combinations}\n",
    "\n",
    "with open('sympy_variables.dill', 'wb') as f:\n",
    "    dill.dump(variables, f)"
   ]
  },
  {
   "cell_type": "code",
   "execution_count": null,
   "metadata": {
    "id": "1dWiGiyox0xb"
   },
   "outputs": [],
   "source": [
    "# Loading the variabels with dill\n",
    "with open('sympy_variables.dill', 'rb') as f:\n",
    "    loaded_variables = dill.load(f)\n",
    "\n",
    "# Access the loaded symbolic expressions and variables\n",
    "TFs = loaded_variables['TFs']\n",
    "Impedance_combinations = loaded_variables['Impedance_combinations']"
   ]
  },
  {
   "cell_type": "code",
   "execution_count": null,
   "metadata": {
    "id": "uPj3sONOrrRy"
   },
   "outputs": [],
   "source": []
  },
  {
   "cell_type": "markdown",
   "metadata": {
    "id": "e-eSKsVmrsPf"
   },
   "source": [
    "# Archive"
   ]
  },
  {
   "cell_type": "code",
   "execution_count": null,
   "metadata": {
    "id": "E8NTJ7345Jzy",
    "outputId": "c4e30805-f11e-46b9-805a-33bf12142658"
   },
   "outputs": [],
   "source": [
    "from itertools import product\n",
    "\n",
    "array1 = [1, 2]\n",
    "array2 = ['a', 'b']\n",
    "\n",
    "combinations = product(array1, array2)\n",
    "print(list(combinations))\n",
    "# Output: [(1, 'a'), (1, 'b'), (2, 'a'), (2, 'b')]\n"
   ]
  },
  {
   "cell_type": "code",
   "execution_count": null,
   "metadata": {
    "id": "l5R1okYU5Jzy"
   },
   "outputs": [],
   "source": []
  },
  {
   "cell_type": "code",
   "execution_count": null,
   "metadata": {
    "id": "ych5kQA-5Jzy"
   },
   "outputs": [],
   "source": [
    "\n",
    "def getCommonGateTFs_cache(Zz_arr,baseHs):\n",
    "    TFs = [] # an array of dictionaries {}\"TF\": tf, \"combo\": {\"Z1\": z1, \"Z2\": z2 ... \"ZL\":zl}}\n",
    "    counter = 0\n",
    "    total_combinations = 1\n",
    "\n",
    "    for z in Zz_arr:\n",
    "        total_combinations *= len(z)\n",
    "\n",
    "    for z1 in Zz_arr[0]:\n",
    "        Hs1 = baseHs.subs({symbols(\"Z1\") : z1})\n",
    "        # Hs1 = simplify(Hs1.factor())\n",
    "        for z2 in Zz_arr[1]:\n",
    "            Hs2 = Hs1.subs({symbols(\"Z2\") : z2})\n",
    "            # Hs2 = simplify(Hs2.factor())\n",
    "            for z3 in Zz_arr[2]:\n",
    "                Hs3 = Hs2.subs({symbols(\"Z3\") : z3})\n",
    "                # Hs3 = simplify(Hs3.factor())\n",
    "                for z4 in Zz_arr[3]:\n",
    "                    Hs4 = Hs3.subs({symbols(\"Z4\") : z4})\n",
    "                    # Hs4 = simplify(Hs4.factor())\n",
    "                    for z5 in Zz_arr[4]:\n",
    "                        Hs5 = Hs4.subs({symbols(\"Z5\") : z5})\n",
    "                        # Hs5 = simplify(Hs5.factor())\n",
    "                        for zL in Zz_arr[5]:\n",
    "                            HsFinal = Hs5.subs({symbols(\"ZL\") : zL})\n",
    "                            HsFinal = simplify(HsFinal.factor())\n",
    "                            TFs.append({\n",
    "                                \"Z_arr\" : {\n",
    "                                    \"Z1\" : z1,\n",
    "                                    \"Z2\" : z2,\n",
    "                                    \"Z3\" : z3,\n",
    "                                    \"Z4\" : z4,\n",
    "                                    \"Z5\" : z5,\n",
    "                                    \"ZL\" : zL,\n",
    "                                },\n",
    "                                \"TF\" : HsFinal\n",
    "                            })\n",
    "                            # Increment and display the counter\n",
    "                            counter += 1\n",
    "                            if counter % 25 == 0:\n",
    "                                print(f\"Processed {counter}/{total_combinations} combinations\", end=\"\\r\")\n",
    "    return TFs\n",
    "\n"
   ]
  },
  {
   "cell_type": "code",
   "execution_count": null,
   "metadata": {
    "id": "CTNaNGMH5Jzy"
   },
   "outputs": [],
   "source": [
    "from sympy import symbols, oo, limit\n",
    "\n",
    "# Define the variable and expression\n",
    "x = symbols('x')\n",
    "y = symbols('y')\n",
    "\n",
    "expr = (x**3 + 1) / (2*x**2 - y)\n",
    "\n",
    "# Compute the limit as x approaches infinity\n",
    "result = limit(expr, x, oo)\n",
    "\n",
    "print(f\"expr : {expr}\")\n",
    "\n",
    "print(f\"Limit as x -> oo: {result}\")\n"
   ]
  }
 ],
 "metadata": {
  "accelerator": "GPU",
  "colab": {
   "collapsed_sections": [
    "ZWN-1u75HI27",
    "h_vXI92ta74s",
    "xFTEYsnbbxCa",
    "1xzhunn9b1B-",
    "mlJyWSiSacqN"
   ],
   "gpuType": "T4",
   "include_colab_link": true,
   "provenance": []
  },
  "kernelspec": {
   "display_name": "base",
   "language": "python",
   "name": "python3"
  },
  "language_info": {
   "codemirror_mode": {
    "name": "ipython",
    "version": 3
   },
   "file_extension": ".py",
   "mimetype": "text/x-python",
   "name": "python",
   "nbconvert_exporter": "python",
   "pygments_lexer": "ipython3",
   "version": "3.12.2"
  }
 },
 "nbformat": 4,
 "nbformat_minor": 0
}
