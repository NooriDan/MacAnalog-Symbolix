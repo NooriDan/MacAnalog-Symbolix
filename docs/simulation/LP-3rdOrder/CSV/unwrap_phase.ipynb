{
 "cells": [
  {
   "cell_type": "code",
   "execution_count": 12,
   "metadata": {},
   "outputs": [],
   "source": [
    "input_file = \"unwrapped_phase.csv\"\n",
    "try:\n",
    "    df = pd.read_csv(input_file)\n",
    "except FileNotFoundError:\n",
    "    print(f\"Error: File '{input_file}' not found.\")\n"
   ]
  },
  {
   "cell_type": "code",
   "execution_count": 13,
   "metadata": {},
   "outputs": [
    {
     "data": {
      "text/html": [
       "<div>\n",
       "<style scoped>\n",
       "    .dataframe tbody tr th:only-of-type {\n",
       "        vertical-align: middle;\n",
       "    }\n",
       "\n",
       "    .dataframe tbody tr th {\n",
       "        vertical-align: top;\n",
       "    }\n",
       "\n",
       "    .dataframe thead th {\n",
       "        text-align: right;\n",
       "    }\n",
       "</style>\n",
       "<table border=\"1\" class=\"dataframe\">\n",
       "  <thead>\n",
       "    <tr style=\"text-align: right;\">\n",
       "      <th></th>\n",
       "      <th>Freq.</th>\n",
       "      <th>V(ideal_out).mag</th>\n",
       "      <th>V(ideal_out).phase</th>\n",
       "      <th>V(lpf_3rd_lt1818).mag</th>\n",
       "      <th>V(lpf_3rd_lt1818).phase</th>\n",
       "      <th>V(ideal_out).phase_unwrapped</th>\n",
       "      <th>V(lpf_3rd_lt1818).phase_unwrapped</th>\n",
       "    </tr>\n",
       "  </thead>\n",
       "  <tbody>\n",
       "    <tr>\n",
       "      <th>0</th>\n",
       "      <td>10000.00000</td>\n",
       "      <td>60.797254</td>\n",
       "      <td>-0.066293</td>\n",
       "      <td>61.143542</td>\n",
       "      <td>-0.073605</td>\n",
       "      <td>-0.066293</td>\n",
       "      <td>-0.073605</td>\n",
       "    </tr>\n",
       "    <tr>\n",
       "      <th>1</th>\n",
       "      <td>10115.79454</td>\n",
       "      <td>60.797254</td>\n",
       "      <td>-0.067061</td>\n",
       "      <td>61.143542</td>\n",
       "      <td>-0.074458</td>\n",
       "      <td>-0.067061</td>\n",
       "      <td>-0.074458</td>\n",
       "    </tr>\n",
       "    <tr>\n",
       "      <th>2</th>\n",
       "      <td>10232.92992</td>\n",
       "      <td>60.797254</td>\n",
       "      <td>-0.067837</td>\n",
       "      <td>61.143542</td>\n",
       "      <td>-0.075320</td>\n",
       "      <td>-0.067837</td>\n",
       "      <td>-0.075320</td>\n",
       "    </tr>\n",
       "    <tr>\n",
       "      <th>3</th>\n",
       "      <td>10351.42167</td>\n",
       "      <td>60.797253</td>\n",
       "      <td>-0.068623</td>\n",
       "      <td>61.143542</td>\n",
       "      <td>-0.076192</td>\n",
       "      <td>-0.068623</td>\n",
       "      <td>-0.076192</td>\n",
       "    </tr>\n",
       "    <tr>\n",
       "      <th>4</th>\n",
       "      <td>10471.28548</td>\n",
       "      <td>60.797253</td>\n",
       "      <td>-0.069417</td>\n",
       "      <td>61.143542</td>\n",
       "      <td>-0.077074</td>\n",
       "      <td>-0.069417</td>\n",
       "      <td>-0.077074</td>\n",
       "    </tr>\n",
       "  </tbody>\n",
       "</table>\n",
       "</div>"
      ],
      "text/plain": [
       "         Freq.  V(ideal_out).mag  V(ideal_out).phase  V(lpf_3rd_lt1818).mag  \\\n",
       "0  10000.00000         60.797254           -0.066293              61.143542   \n",
       "1  10115.79454         60.797254           -0.067061              61.143542   \n",
       "2  10232.92992         60.797254           -0.067837              61.143542   \n",
       "3  10351.42167         60.797253           -0.068623              61.143542   \n",
       "4  10471.28548         60.797253           -0.069417              61.143542   \n",
       "\n",
       "   V(lpf_3rd_lt1818).phase  V(ideal_out).phase_unwrapped  \\\n",
       "0                -0.073605                     -0.066293   \n",
       "1                -0.074458                     -0.067061   \n",
       "2                -0.075320                     -0.067837   \n",
       "3                -0.076192                     -0.068623   \n",
       "4                -0.077074                     -0.069417   \n",
       "\n",
       "   V(lpf_3rd_lt1818).phase_unwrapped  \n",
       "0                          -0.073605  \n",
       "1                          -0.074458  \n",
       "2                          -0.075320  \n",
       "3                          -0.076192  \n",
       "4                          -0.077074  "
      ]
     },
     "execution_count": 13,
     "metadata": {},
     "output_type": "execute_result"
    }
   ],
   "source": [
    "df.head()"
   ]
  },
  {
   "cell_type": "code",
   "execution_count": 9,
   "metadata": {},
   "outputs": [],
   "source": [
    "phase_column = \"V(lpf_3rd_lt1818).phase\"\n",
    "# Check if the specified phase column exists\n",
    "if phase_column not in df.columns:\n",
    "    print(f\"Error: Column '{phase_column}' not found in the CSV file.\")\n"
   ]
  },
  {
   "cell_type": "code",
   "execution_count": 10,
   "metadata": {},
   "outputs": [],
   "source": [
    "# Unwrap the phase\n",
    "try:\n",
    "    df[f\"{phase_column}_unwrapped\"] = np.unwrap(df[phase_column].to_numpy())\n",
    "except Exception as e:\n",
    "    print(f\"Error unwrapping phase: {e}\")\n"
   ]
  },
  {
   "cell_type": "code",
   "execution_count": 11,
   "metadata": {},
   "outputs": [
    {
     "name": "stdout",
     "output_type": "stream",
     "text": [
      "Phase unwrapped and saved to 'unwrapped_phase.csv'.\n"
     ]
    }
   ],
   "source": [
    "output_file = \"unwrapped_phase.csv\"\n",
    "# Save the updated DataFrame to a new CSV\n",
    "df.to_csv(output_file, index=False)\n",
    "print(f\"Phase unwrapped and saved to '{output_file}'.\")"
   ]
  }
 ],
 "metadata": {
  "kernelspec": {
   "display_name": "myenv",
   "language": "python",
   "name": "python3"
  },
  "language_info": {
   "codemirror_mode": {
    "name": "ipython",
    "version": 3
   },
   "file_extension": ".py",
   "mimetype": "text/x-python",
   "name": "python",
   "nbconvert_exporter": "python",
   "pygments_lexer": "ipython3",
   "version": "3.12.2"
  }
 },
 "nbformat": 4,
 "nbformat_minor": 2
}
