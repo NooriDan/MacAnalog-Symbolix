{
 "cells": [
  {
   "cell_type": "code",
   "execution_count": 1,
   "metadata": {},
   "outputs": [],
   "source": [
    "from symcircuit.symbolic_solver.domains import ExperimentResult\n",
    "import botorch as bo\n",
    "import torch\n",
    "import sympy"
   ]
  },
  {
   "cell_type": "markdown",
   "metadata": {},
   "source": [
    "# Simple BO on Biquad Filter\n",
    "Using the data from VLSI_CMMF_Automated run"
   ]
  },
  {
   "cell_type": "markdown",
   "metadata": {},
   "source": [
    "## Find the pickle file\n",
    "Loads the experiment result object"
   ]
  },
  {
   "cell_type": "code",
   "execution_count": 2,
   "metadata": {},
   "outputs": [],
   "source": [
    "helper = ExperimentResult(\".helper\")\n",
    "\n",
    "dirs = helper.find_results_file(start_dir=\"../scripts/Runs/VLSI_CMMF_Automated_NA\", filename=\"results.pkl\")\n",
    "filepath = dirs[0] + \"/results.pkl\" \n",
    "loaded_results = helper.load(filename=filepath)"
   ]
  },
  {
   "cell_type": "code",
   "execution_count": 3,
   "metadata": {},
   "outputs": [
    {
     "data": {
      "text/plain": [
       "dict_keys(['Z1_Z2_Z3_Z4_Z5_Z6', 'Z2_Z3_Z4_Z5_Z6', 'Z1_Z3_Z4_Z5_Z6', 'Z1_Z2_Z3_Z5_Z6', 'Z3_Z4_Z5_Z6', 'Z2_Z3_Z5_Z6', 'Z1_Z3_Z5_Z6', 'Z3_Z5_Z6'])"
      ]
     },
     "execution_count": 3,
     "metadata": {},
     "output_type": "execute_result"
    }
   ],
   "source": [
    "loaded_results.classifications_dict.keys()"
   ]
  },
  {
   "cell_type": "markdown",
   "metadata": {},
   "source": [
    "## Select a circuit to solve"
   ]
  },
  {
   "cell_type": "code",
   "execution_count": 5,
   "metadata": {},
   "outputs": [
    {
     "data": {
      "text/plain": [
       "120"
      ]
     },
     "execution_count": 5,
     "metadata": {},
     "output_type": "execute_result"
    }
   ],
   "source": [
    "key_select = \"Z1_Z2_Z3_Z4_Z5_Z6\"\n",
    "filter_type = \"BP\"\n",
    "\n",
    "chosen_filters = [classification for classification in loaded_results.classifications_dict[key_select] if classification.fType == filter_type]\n",
    "len(chosen_filters)"
   ]
  },
  {
   "cell_type": "code",
   "execution_count": 7,
   "metadata": {},
   "outputs": [
    {
     "name": "stdout",
     "output_type": "stream",
     "text": [
      "BiQuad BP (R_1, R_2, R_3, 1/(C_4*s), 1/(C_5*s), R_6/(C_6*R_6*s + 1))\n"
     ]
    },
    {
     "data": {
      "text/latex": [
       "$\\displaystyle \\frac{C_{5} R_{1} R_{2} R_{6} s}{R_{1} + R_{2} + R_{3} + s^{2} \\left(C_{4} C_{6} R_{2} R_{3} R_{6} - C_{5} C_{6} R_{2} R_{3} R_{6}\\right) + s \\left(C_{4} R_{2} R_{3} - C_{5} R_{2} R_{3} + C_{6} R_{1} R_{6} + C_{6} R_{2} R_{6} + C_{6} R_{3} R_{6}\\right)}$"
      ],
      "text/plain": [
       "C_5*R_1*R_2*R_6*s/(R_1 + R_2 + R_3 + s**2*(C_4*C_6*R_2*R_3*R_6 - C_5*C_6*R_2*R_3*R_6) + s*(C_4*R_2*R_3 - C_5*R_2*R_3 + C_6*R_1*R_6 + C_6*R_2*R_6 + C_6*R_3*R_6))"
      ]
     },
     "execution_count": 7,
     "metadata": {},
     "output_type": "execute_result"
    }
   ],
   "source": [
    "circuit = chosen_filters[2]\n",
    "print(circuit.filterOrder, circuit.fType, circuit.zCombo)\n",
    "tf = circuit.transferFunc\n",
    "tf"
   ]
  },
  {
   "cell_type": "code",
   "execution_count": 8,
   "metadata": {},
   "outputs": [
    {
     "data": {
      "text/plain": [
       "[R_6, R_3, R_2, R_1, C_5, C_6, C_4]"
      ]
     },
     "execution_count": 8,
     "metadata": {},
     "output_type": "execute_result"
    }
   ],
   "source": [
    "design_variables = [sym for sym in circuit.transferFunc.free_symbols if sym != sympy.symbols(\"s\")]\n",
    "design_variables"
   ]
  },
  {
   "cell_type": "markdown",
   "metadata": {},
   "source": [
    "## BO Implementation"
   ]
  },
  {
   "cell_type": "code",
   "execution_count": 68,
   "metadata": {},
   "outputs": [],
   "source": [
    "# Define metrics\n",
    "# Objective\n",
    "K_BP_func = circuit.parameters[\"K_BP\"].simplify()\n",
    "# Constraints\n",
    "wo_func   = circuit.parameters[\"wo\"]\n",
    "Q_func    = circuit.parameters[\"Q\"]\n",
    "bw_func   = circuit.parameters[\"bandwidth\"]\n",
    "\n",
    "\n",
    "target_wo = 1e6 # 1 MHz\n",
    "target_Q  = 2\n",
    "target_bw = 2e3 # 3 kHz\n",
    "\n"
   ]
  },
  {
   "cell_type": "code",
   "execution_count": 85,
   "metadata": {},
   "outputs": [],
   "source": [
    "def objective(design_variables_values: torch.Tensor):\n",
    "    \"\"\"\n",
    "    Objective function for circuit sizing.\n",
    "    Args:\n",
    "        params: A numpy array of design variables [R1, R2, ..., C1, C2, ...].\n",
    "    Returns:\n",
    "        A scalar representing the error (to be minimized).\n",
    "    \"\"\"\n",
    "    # print(design_variables_values[0].shape)\n",
    "    if (len(design_variables_values[0]) != len(design_variables)):\n",
    "        raise RuntimeError(f\"design variable should be {len(design_variables)}, {len(design_variables_values.T[0])} given\")\n",
    "\n",
    "    output = []\n",
    "    for item in design_variables_values:\n",
    "        sub_dict = {design_variables[i]: val for i, val in enumerate(item)}\n",
    "        output.append(float(K_BP_func.subs(sub_dict)))\n",
    "    return -1 * torch.tensor(output, dtype=torch.float64)  # 1D tensor\n",
    "\n",
    "    "
   ]
  },
  {
   "cell_type": "code",
   "execution_count": 86,
   "metadata": {},
   "outputs": [],
   "source": [
    "# Scaling functions\n",
    "def normalize(x, bounds):\n",
    "    return (x - bounds[0]) / (bounds[1] - bounds[0])\n",
    "\n",
    "def denormalize(x, bounds):\n",
    "    return x * (bounds[1] - bounds[0]) + bounds[0]\n",
    "\n",
    "# Define design space\n",
    "bound_on_r = [1e3, 1e4]\n",
    "bound_on_c = [1e-12, 1e-9]\n",
    "\n",
    "bounds = []\n",
    "for var in design_variables:\n",
    "    if   \"R_\" in str(var):\n",
    "        bounds.append(bound_on_r)\n",
    "    elif \"C_\" in str(var):\n",
    "        bounds.append(bound_on_c)\n",
    "\n",
    "# [min, max] for each variable\n",
    "bounds = torch.tensor(bounds).T.double()"
   ]
  },
  {
   "cell_type": "code",
   "execution_count": 98,
   "metadata": {},
   "outputs": [
    {
     "name": "stdout",
     "output_type": "stream",
     "text": [
      "torch.Size([32, 7]) torch.Size([32])\n"
     ]
    }
   ],
   "source": [
    "from botorch.models import SingleTaskGP\n",
    "from botorch.acquisition import qLogExpectedImprovement\n",
    "from botorch.optim import optimize_acqf\n",
    "from botorch.utils.sampling import draw_sobol_samples\n",
    "from gpytorch.mlls import ExactMarginalLogLikelihood\n",
    "\n",
    "# Generate initial data\n",
    "train_x = draw_sobol_samples(bounds=bounds, n=2**5, q=1).squeeze(1).double()\n",
    "# Normalize training data\n",
    "train_x = normalize(train_x, bounds)\n",
    "\n",
    "train_y = objective(denormalize(train_x, bounds))\n",
    "\n",
    "print(train_x.shape, train_y.shape)\n"
   ]
  },
  {
   "cell_type": "code",
   "execution_count": 99,
   "metadata": {},
   "outputs": [
    {
     "data": {
      "text/plain": [
       "qLogExpectedImprovement(\n",
       "  (model): SingleTaskGP(\n",
       "    (likelihood): GaussianLikelihood(\n",
       "      (noise_covar): HomoskedasticNoise(\n",
       "        (noise_prior): LogNormalPrior()\n",
       "        (raw_noise_constraint): GreaterThan(1.000E-04)\n",
       "      )\n",
       "    )\n",
       "    (mean_module): ConstantMean()\n",
       "    (covar_module): RBFKernel(\n",
       "      (lengthscale_prior): LogNormalPrior()\n",
       "      (raw_lengthscale_constraint): GreaterThan(2.500E-02)\n",
       "    )\n",
       "    (outcome_transform): Standardize()\n",
       "  )\n",
       "  (objective): IdentityMCObjective()\n",
       ")"
      ]
     },
     "execution_count": 99,
     "metadata": {},
     "output_type": "execute_result"
    }
   ],
   "source": [
    "from botorch.acquisition.objective import IdentityMCObjective\n",
    "\n",
    "# Ensure train_y is 1D\n",
    "train_y = objective(train_x)\n",
    "\n",
    "# Ensure train_y is 2D (n x 1)\n",
    "gp = SingleTaskGP(train_x, train_y.unsqueeze(-1))\n",
    "mll = ExactMarginalLogLikelihood(gp.likelihood, gp)\n",
    "mll.train()\n",
    "gp.eval()\n",
    "\n",
    "# Use IdentityMCObjective for scalarized outputs\n",
    "best_f = train_y.max().item()  # Best observed value as a scalar\n",
    "acq_func = qLogExpectedImprovement(model=gp, best_f=best_f, objective=IdentityMCObjective())\n",
    "acq_func\n"
   ]
  },
  {
   "cell_type": "code",
   "execution_count": 120,
   "metadata": {},
   "outputs": [
    {
     "data": {
      "text/plain": [
       "torch.Size([1, 7])"
      ]
     },
     "execution_count": 120,
     "metadata": {},
     "output_type": "execute_result"
    }
   ],
   "source": [
    "from botorch.optim import optimize_acqf\n",
    "\n",
    "# Optimize the acquisition function to propose new design variables\n",
    "candidate, _ = optimize_acqf(\n",
    "    acq_function=acq_func,\n",
    "    bounds=bounds,\n",
    "    q=1,  # Batch size of 1 (one design point at a time)\n",
    "    num_restarts=10,  # Number of starting points for optimization\n",
    "    raw_samples=200,   # Number of raw samples for initialization\n",
    ")\n",
    "candidate.shape\n"
   ]
  },
  {
   "cell_type": "code",
   "execution_count": 160,
   "metadata": {},
   "outputs": [
    {
     "data": {
      "text/plain": [
       "qLogExpectedImprovement(\n",
       "  (model): SingleTaskGP(\n",
       "    (likelihood): GaussianLikelihood(\n",
       "      (noise_covar): HomoskedasticNoise(\n",
       "        (noise_prior): LogNormalPrior()\n",
       "        (raw_noise_constraint): GreaterThan(1.000E-04)\n",
       "      )\n",
       "    )\n",
       "    (mean_module): ConstantMean()\n",
       "    (covar_module): RBFKernel(\n",
       "      (lengthscale_prior): LogNormalPrior()\n",
       "      (raw_lengthscale_constraint): GreaterThan(2.500E-02)\n",
       "    )\n",
       "    (outcome_transform): Standardize()\n",
       "  )\n",
       "  (objective): IdentityMCObjective()\n",
       ")"
      ]
     },
     "execution_count": 160,
     "metadata": {},
     "output_type": "execute_result"
    }
   ],
   "source": [
    "acq_func"
   ]
  },
  {
   "cell_type": "code",
   "execution_count": 134,
   "metadata": {},
   "outputs": [
    {
     "name": "stderr",
     "output_type": "stream",
     "text": [
      "/Users/danialnoorizadeh/.pyenv/versions/myenv/lib/python3.12/site-packages/botorch/models/utils/assorted.py:265: InputDataWarning: Data (input features) is not contained to the unit cube. Please consider min-max scaling the input data.\n",
      "  check_min_max_scaling(\n",
      "/Users/danialnoorizadeh/.pyenv/versions/myenv/lib/python3.12/site-packages/botorch/models/utils/assorted.py:265: InputDataWarning: Data (input features) is not contained to the unit cube. Please consider min-max scaling the input data.\n",
      "  check_min_max_scaling(\n",
      "/Users/danialnoorizadeh/.pyenv/versions/myenv/lib/python3.12/site-packages/botorch/models/utils/assorted.py:265: InputDataWarning: Data (input features) is not contained to the unit cube. Please consider min-max scaling the input data.\n",
      "  check_min_max_scaling(\n",
      "/Users/danialnoorizadeh/.pyenv/versions/myenv/lib/python3.12/site-packages/botorch/optim/initializers.py:433: BadInitialCandidatesWarning: Unable to find non-zero acquisition function values - initial conditions are being selected randomly.\n",
      "  warnings.warn(\n",
      "/Users/danialnoorizadeh/.pyenv/versions/myenv/lib/python3.12/site-packages/botorch/models/utils/assorted.py:265: InputDataWarning: Data (input features) is not contained to the unit cube. Please consider min-max scaling the input data.\n",
      "  check_min_max_scaling(\n",
      "/Users/danialnoorizadeh/.pyenv/versions/myenv/lib/python3.12/site-packages/botorch/models/utils/assorted.py:265: InputDataWarning: Data (input features) is not contained to the unit cube. Please consider min-max scaling the input data.\n",
      "  check_min_max_scaling(\n",
      "/Users/danialnoorizadeh/.pyenv/versions/myenv/lib/python3.12/site-packages/botorch/optim/initializers.py:433: BadInitialCandidatesWarning: Unable to find non-zero acquisition function values - initial conditions are being selected randomly.\n",
      "  warnings.warn(\n"
     ]
    },
    {
     "name": "stdout",
     "output_type": "stream",
     "text": [
      "Iteration 1/20: Best objective = 195408.2157\n",
      "Iteration 2/20: Best objective = 195408.2157\n",
      "Iteration 3/20: Best objective = 195408.2157\n",
      "Iteration 4/20: Best objective = 195408.2157\n",
      "Iteration 5/20: Best objective = 195408.2157\n"
     ]
    },
    {
     "name": "stderr",
     "output_type": "stream",
     "text": [
      "/Users/danialnoorizadeh/.pyenv/versions/myenv/lib/python3.12/site-packages/botorch/models/utils/assorted.py:265: InputDataWarning: Data (input features) is not contained to the unit cube. Please consider min-max scaling the input data.\n",
      "  check_min_max_scaling(\n",
      "/Users/danialnoorizadeh/.pyenv/versions/myenv/lib/python3.12/site-packages/botorch/models/utils/assorted.py:265: InputDataWarning: Data (input features) is not contained to the unit cube. Please consider min-max scaling the input data.\n",
      "  check_min_max_scaling(\n",
      "/Users/danialnoorizadeh/.pyenv/versions/myenv/lib/python3.12/site-packages/botorch/models/utils/assorted.py:265: InputDataWarning: Data (input features) is not contained to the unit cube. Please consider min-max scaling the input data.\n",
      "  check_min_max_scaling(\n",
      "/Users/danialnoorizadeh/.pyenv/versions/myenv/lib/python3.12/site-packages/botorch/models/utils/assorted.py:265: InputDataWarning: Data (input features) is not contained to the unit cube. Please consider min-max scaling the input data.\n",
      "  check_min_max_scaling(\n",
      "/Users/danialnoorizadeh/.pyenv/versions/myenv/lib/python3.12/site-packages/botorch/models/utils/assorted.py:265: InputDataWarning: Data (input features) is not contained to the unit cube. Please consider min-max scaling the input data.\n",
      "  check_min_max_scaling(\n",
      "/Users/danialnoorizadeh/.pyenv/versions/myenv/lib/python3.12/site-packages/botorch/optim/initializers.py:433: BadInitialCandidatesWarning: Unable to find non-zero acquisition function values - initial conditions are being selected randomly.\n",
      "  warnings.warn(\n",
      "/Users/danialnoorizadeh/.pyenv/versions/myenv/lib/python3.12/site-packages/botorch/models/utils/assorted.py:265: InputDataWarning: Data (input features) is not contained to the unit cube. Please consider min-max scaling the input data.\n",
      "  check_min_max_scaling(\n"
     ]
    },
    {
     "name": "stdout",
     "output_type": "stream",
     "text": [
      "Iteration 6/20: Best objective = 195408.2157\n",
      "Iteration 7/20: Best objective = 195408.2157\n",
      "Iteration 8/20: Best objective = 195408.2157\n",
      "Iteration 9/20: Best objective = 195408.2157\n",
      "Iteration 10/20: Best objective = 195408.2157\n",
      "Iteration 11/20: Best objective = 195408.2157\n"
     ]
    },
    {
     "name": "stderr",
     "output_type": "stream",
     "text": [
      "/Users/danialnoorizadeh/.pyenv/versions/myenv/lib/python3.12/site-packages/botorch/optim/initializers.py:433: BadInitialCandidatesWarning: Unable to find non-zero acquisition function values - initial conditions are being selected randomly.\n",
      "  warnings.warn(\n",
      "/Users/danialnoorizadeh/.pyenv/versions/myenv/lib/python3.12/site-packages/botorch/models/utils/assorted.py:265: InputDataWarning: Data (input features) is not contained to the unit cube. Please consider min-max scaling the input data.\n",
      "  check_min_max_scaling(\n",
      "/Users/danialnoorizadeh/.pyenv/versions/myenv/lib/python3.12/site-packages/botorch/models/utils/assorted.py:265: InputDataWarning: Data (input features) is not contained to the unit cube. Please consider min-max scaling the input data.\n",
      "  check_min_max_scaling(\n",
      "/Users/danialnoorizadeh/.pyenv/versions/myenv/lib/python3.12/site-packages/botorch/models/utils/assorted.py:265: InputDataWarning: Data (input features) is not contained to the unit cube. Please consider min-max scaling the input data.\n",
      "  check_min_max_scaling(\n",
      "/Users/danialnoorizadeh/.pyenv/versions/myenv/lib/python3.12/site-packages/botorch/models/utils/assorted.py:265: InputDataWarning: Data (input features) is not contained to the unit cube. Please consider min-max scaling the input data.\n",
      "  check_min_max_scaling(\n",
      "/Users/danialnoorizadeh/.pyenv/versions/myenv/lib/python3.12/site-packages/botorch/models/utils/assorted.py:265: InputDataWarning: Data (input features) is not contained to the unit cube. Please consider min-max scaling the input data.\n",
      "  check_min_max_scaling(\n",
      "/Users/danialnoorizadeh/.pyenv/versions/myenv/lib/python3.12/site-packages/botorch/models/utils/assorted.py:265: InputDataWarning: Data (input features) is not contained to the unit cube. Please consider min-max scaling the input data.\n",
      "  check_min_max_scaling(\n",
      "/Users/danialnoorizadeh/.pyenv/versions/myenv/lib/python3.12/site-packages/botorch/models/utils/assorted.py:265: InputDataWarning: Data (input features) is not contained to the unit cube. Please consider min-max scaling the input data.\n",
      "  check_min_max_scaling(\n",
      "/Users/danialnoorizadeh/.pyenv/versions/myenv/lib/python3.12/site-packages/botorch/models/utils/assorted.py:265: InputDataWarning: Data (input features) is not contained to the unit cube. Please consider min-max scaling the input data.\n",
      "  check_min_max_scaling(\n",
      "/Users/danialnoorizadeh/.pyenv/versions/myenv/lib/python3.12/site-packages/botorch/optim/initializers.py:433: BadInitialCandidatesWarning: Unable to find non-zero acquisition function values - initial conditions are being selected randomly.\n",
      "  warnings.warn(\n"
     ]
    },
    {
     "name": "stdout",
     "output_type": "stream",
     "text": [
      "Iteration 12/20: Best objective = 195408.2157\n",
      "Iteration 13/20: Best objective = 195408.2157\n",
      "Iteration 14/20: Best objective = 195408.2157\n",
      "Iteration 15/20: Best objective = 195408.2157\n",
      "Iteration 16/20: Best objective = 195408.2157\n",
      "Iteration 17/20: Best objective = 195408.2157\n",
      "Iteration 18/20: Best objective = 195408.2157\n",
      "Iteration 19/20: Best objective = 195408.2157\n",
      "Iteration 20/20: Best objective = 195408.2157\n"
     ]
    },
    {
     "name": "stderr",
     "output_type": "stream",
     "text": [
      "/Users/danialnoorizadeh/.pyenv/versions/myenv/lib/python3.12/site-packages/botorch/models/utils/assorted.py:265: InputDataWarning: Data (input features) is not contained to the unit cube. Please consider min-max scaling the input data.\n",
      "  check_min_max_scaling(\n"
     ]
    }
   ],
   "source": [
    "# Bayesian Optimization Loop\n",
    "num_iterations = 20  # Number of optimization steps\n",
    "\n",
    "for iteration in range(num_iterations):\n",
    "    # Optimize acquisition function\n",
    "    candidate, _ = optimize_acqf(\n",
    "        acq_function=acq_func,\n",
    "        bounds=bounds,\n",
    "        q=1,\n",
    "        num_restarts=20,\n",
    "        raw_samples=200,\n",
    "    )\n",
    "    \n",
    "    # Evaluate the objective function\n",
    "    new_y = objective(candidate)\n",
    "    \n",
    "    # Update training data\n",
    "    train_x = torch.cat([train_x, candidate], dim=0)\n",
    "    train_y = torch.cat([train_y, new_y], dim=0)\n",
    "    \n",
    "    # Retrain GP model\n",
    "    gp = SingleTaskGP(train_x, train_y.unsqueeze(-1))\n",
    "    mll = ExactMarginalLogLikelihood(gp.likelihood, gp)\n",
    "    mll.train()\n",
    "    gp.train()\n",
    "    \n",
    "    # Update acquisition function with the new model\n",
    "    best_f = train_y.max().item()\n",
    "    acq_func = qLogExpectedImprovement(model=gp, best_f=best_f, objective=IdentityMCObjective())\n",
    "\n",
    "    # Optionally: print progress\n",
    "    print(f\"Iteration {iteration + 1}/{num_iterations}: Best objective = {best_f:.4f}\")\n"
   ]
  },
  {
   "cell_type": "code",
   "execution_count": 132,
   "metadata": {},
   "outputs": [
    {
     "name": "stdout",
     "output_type": "stream",
     "text": [
      "Best Design Variables: tensor([8.4117e+03, 8.7393e+03, 9.6472e+03, 8.3305e+03, 3.7796e-10, 8.9155e-11,\n",
      "        1.2480e-10], dtype=torch.float64)\n",
      "Best Objective Value: 195408.2157441924\n"
     ]
    }
   ],
   "source": [
    "# Retrieve the best design point and its objective value\n",
    "best_index = train_y.argmax()\n",
    "best_design = train_x[best_index]\n",
    "best_value = train_y[best_index].item()\n",
    "\n",
    "print(\"Best Design Variables:\", best_design)\n",
    "print(\"Best Objective Value:\", best_value)\n"
   ]
  },
  {
   "cell_type": "markdown",
   "metadata": {},
   "source": [
    "## Full Code"
   ]
  },
  {
   "cell_type": "code",
   "execution_count": 135,
   "metadata": {},
   "outputs": [
    {
     "name": "stderr",
     "output_type": "stream",
     "text": [
      "/Users/danialnoorizadeh/.pyenv/versions/myenv/lib/python3.12/site-packages/botorch/optim/initializers.py:433: BadInitialCandidatesWarning: Unable to find non-zero acquisition function values - initial conditions are being selected randomly.\n",
      "  warnings.warn(\n",
      "/Users/danialnoorizadeh/.pyenv/versions/myenv/lib/python3.12/site-packages/botorch/models/utils/assorted.py:265: InputDataWarning: Data (input features) is not contained to the unit cube. Please consider min-max scaling the input data.\n",
      "  check_min_max_scaling(\n",
      "/Users/danialnoorizadeh/.pyenv/versions/myenv/lib/python3.12/site-packages/botorch/optim/initializers.py:433: BadInitialCandidatesWarning: Unable to find non-zero acquisition function values - initial conditions are being selected randomly.\n",
      "  warnings.warn(\n",
      "/Users/danialnoorizadeh/.pyenv/versions/myenv/lib/python3.12/site-packages/botorch/models/utils/assorted.py:265: InputDataWarning: Data (input features) is not contained to the unit cube. Please consider min-max scaling the input data.\n",
      "  check_min_max_scaling(\n",
      "/Users/danialnoorizadeh/.pyenv/versions/myenv/lib/python3.12/site-packages/botorch/optim/initializers.py:433: BadInitialCandidatesWarning: Unable to find non-zero acquisition function values - initial conditions are being selected randomly.\n",
      "  warnings.warn(\n",
      "/Users/danialnoorizadeh/.pyenv/versions/myenv/lib/python3.12/site-packages/botorch/models/utils/assorted.py:265: InputDataWarning: Data (input features) is not contained to the unit cube. Please consider min-max scaling the input data.\n",
      "  check_min_max_scaling(\n",
      "/Users/danialnoorizadeh/.pyenv/versions/myenv/lib/python3.12/site-packages/botorch/optim/initializers.py:433: BadInitialCandidatesWarning: Unable to find non-zero acquisition function values - initial conditions are being selected randomly.\n",
      "  warnings.warn(\n",
      "/Users/danialnoorizadeh/.pyenv/versions/myenv/lib/python3.12/site-packages/botorch/models/utils/assorted.py:265: InputDataWarning: Data (input features) is not contained to the unit cube. Please consider min-max scaling the input data.\n",
      "  check_min_max_scaling(\n",
      "/Users/danialnoorizadeh/.pyenv/versions/myenv/lib/python3.12/site-packages/botorch/optim/initializers.py:433: BadInitialCandidatesWarning: Unable to find non-zero acquisition function values - initial conditions are being selected randomly.\n",
      "  warnings.warn(\n",
      "/Users/danialnoorizadeh/.pyenv/versions/myenv/lib/python3.12/site-packages/botorch/models/utils/assorted.py:265: InputDataWarning: Data (input features) is not contained to the unit cube. Please consider min-max scaling the input data.\n",
      "  check_min_max_scaling(\n",
      "/Users/danialnoorizadeh/.pyenv/versions/myenv/lib/python3.12/site-packages/botorch/optim/initializers.py:433: BadInitialCandidatesWarning: Unable to find non-zero acquisition function values - initial conditions are being selected randomly.\n",
      "  warnings.warn(\n",
      "/Users/danialnoorizadeh/.pyenv/versions/myenv/lib/python3.12/site-packages/botorch/models/utils/assorted.py:265: InputDataWarning: Data (input features) is not contained to the unit cube. Please consider min-max scaling the input data.\n",
      "  check_min_max_scaling(\n",
      "/Users/danialnoorizadeh/.pyenv/versions/myenv/lib/python3.12/site-packages/botorch/optim/initializers.py:433: BadInitialCandidatesWarning: Unable to find non-zero acquisition function values - initial conditions are being selected randomly.\n",
      "  warnings.warn(\n",
      "/Users/danialnoorizadeh/.pyenv/versions/myenv/lib/python3.12/site-packages/botorch/models/utils/assorted.py:265: InputDataWarning: Data (input features) is not contained to the unit cube. Please consider min-max scaling the input data.\n",
      "  check_min_max_scaling(\n",
      "/Users/danialnoorizadeh/.pyenv/versions/myenv/lib/python3.12/site-packages/botorch/optim/initializers.py:433: BadInitialCandidatesWarning: Unable to find non-zero acquisition function values - initial conditions are being selected randomly.\n",
      "  warnings.warn(\n",
      "/Users/danialnoorizadeh/.pyenv/versions/myenv/lib/python3.12/site-packages/botorch/models/utils/assorted.py:265: InputDataWarning: Data (input features) is not contained to the unit cube. Please consider min-max scaling the input data.\n",
      "  check_min_max_scaling(\n"
     ]
    },
    {
     "name": "stdout",
     "output_type": "stream",
     "text": [
      "Iteration 1: Best objective = 195408.2157\n",
      "Iteration 3: Best objective = 195408.2157\n",
      "Iteration 5: Best objective = 195408.2157\n",
      "Iteration 7: Best objective = 195408.2157\n"
     ]
    },
    {
     "name": "stderr",
     "output_type": "stream",
     "text": [
      "/Users/danialnoorizadeh/.pyenv/versions/myenv/lib/python3.12/site-packages/botorch/models/utils/assorted.py:265: InputDataWarning: Data (input features) is not contained to the unit cube. Please consider min-max scaling the input data.\n",
      "  check_min_max_scaling(\n",
      "/Users/danialnoorizadeh/.pyenv/versions/myenv/lib/python3.12/site-packages/botorch/optim/initializers.py:433: BadInitialCandidatesWarning: Unable to find non-zero acquisition function values - initial conditions are being selected randomly.\n",
      "  warnings.warn(\n",
      "/Users/danialnoorizadeh/.pyenv/versions/myenv/lib/python3.12/site-packages/botorch/models/utils/assorted.py:265: InputDataWarning: Data (input features) is not contained to the unit cube. Please consider min-max scaling the input data.\n",
      "  check_min_max_scaling(\n",
      "/Users/danialnoorizadeh/.pyenv/versions/myenv/lib/python3.12/site-packages/botorch/models/utils/assorted.py:265: InputDataWarning: Data (input features) is not contained to the unit cube. Please consider min-max scaling the input data.\n",
      "  check_min_max_scaling(\n",
      "/Users/danialnoorizadeh/.pyenv/versions/myenv/lib/python3.12/site-packages/botorch/optim/initializers.py:433: BadInitialCandidatesWarning: Unable to find non-zero acquisition function values - initial conditions are being selected randomly.\n",
      "  warnings.warn(\n",
      "/Users/danialnoorizadeh/.pyenv/versions/myenv/lib/python3.12/site-packages/botorch/models/utils/assorted.py:265: InputDataWarning: Data (input features) is not contained to the unit cube. Please consider min-max scaling the input data.\n",
      "  check_min_max_scaling(\n",
      "/Users/danialnoorizadeh/.pyenv/versions/myenv/lib/python3.12/site-packages/botorch/optim/initializers.py:433: BadInitialCandidatesWarning: Unable to find non-zero acquisition function values - initial conditions are being selected randomly.\n",
      "  warnings.warn(\n",
      "/Users/danialnoorizadeh/.pyenv/versions/myenv/lib/python3.12/site-packages/botorch/models/utils/assorted.py:265: InputDataWarning: Data (input features) is not contained to the unit cube. Please consider min-max scaling the input data.\n",
      "  check_min_max_scaling(\n",
      "/Users/danialnoorizadeh/.pyenv/versions/myenv/lib/python3.12/site-packages/botorch/optim/initializers.py:433: BadInitialCandidatesWarning: Unable to find non-zero acquisition function values - initial conditions are being selected randomly.\n",
      "  warnings.warn(\n",
      "/Users/danialnoorizadeh/.pyenv/versions/myenv/lib/python3.12/site-packages/botorch/models/utils/assorted.py:265: InputDataWarning: Data (input features) is not contained to the unit cube. Please consider min-max scaling the input data.\n",
      "  check_min_max_scaling(\n",
      "/Users/danialnoorizadeh/.pyenv/versions/myenv/lib/python3.12/site-packages/botorch/optim/initializers.py:433: BadInitialCandidatesWarning: Unable to find non-zero acquisition function values - initial conditions are being selected randomly.\n",
      "  warnings.warn(\n",
      "/Users/danialnoorizadeh/.pyenv/versions/myenv/lib/python3.12/site-packages/botorch/models/utils/assorted.py:265: InputDataWarning: Data (input features) is not contained to the unit cube. Please consider min-max scaling the input data.\n",
      "  check_min_max_scaling(\n",
      "/Users/danialnoorizadeh/.pyenv/versions/myenv/lib/python3.12/site-packages/botorch/optim/initializers.py:433: BadInitialCandidatesWarning: Unable to find non-zero acquisition function values - initial conditions are being selected randomly.\n",
      "  warnings.warn(\n",
      "/Users/danialnoorizadeh/.pyenv/versions/myenv/lib/python3.12/site-packages/botorch/models/utils/assorted.py:265: InputDataWarning: Data (input features) is not contained to the unit cube. Please consider min-max scaling the input data.\n",
      "  check_min_max_scaling(\n"
     ]
    },
    {
     "name": "stdout",
     "output_type": "stream",
     "text": [
      "Iteration 9: Best objective = 195408.2157\n",
      "Iteration 11: Best objective = 195408.2157\n",
      "Iteration 13: Best objective = 195408.2157\n",
      "Iteration 15: Best objective = 195408.2157\n",
      "Iteration 17: Best objective = 195408.2157\n",
      "Iteration 19: Best objective = 195408.2157\n",
      "Best Design Variables: tensor([8.4117e+03, 8.7393e+03, 9.6472e+03, 8.3305e+03, 3.7796e-10, 8.9155e-11,\n",
      "        1.2480e-10], dtype=torch.float64)\n",
      "Best Objective Value: 195408.2157441924\n"
     ]
    },
    {
     "name": "stderr",
     "output_type": "stream",
     "text": [
      "/Users/danialnoorizadeh/.pyenv/versions/myenv/lib/python3.12/site-packages/botorch/models/utils/assorted.py:265: InputDataWarning: Data (input features) is not contained to the unit cube. Please consider min-max scaling the input data.\n",
      "  check_min_max_scaling(\n",
      "/Users/danialnoorizadeh/.pyenv/versions/myenv/lib/python3.12/site-packages/botorch/optim/initializers.py:433: BadInitialCandidatesWarning: Unable to find non-zero acquisition function values - initial conditions are being selected randomly.\n",
      "  warnings.warn(\n",
      "/Users/danialnoorizadeh/.pyenv/versions/myenv/lib/python3.12/site-packages/botorch/models/utils/assorted.py:265: InputDataWarning: Data (input features) is not contained to the unit cube. Please consider min-max scaling the input data.\n",
      "  check_min_max_scaling(\n",
      "/Users/danialnoorizadeh/.pyenv/versions/myenv/lib/python3.12/site-packages/botorch/models/utils/assorted.py:265: InputDataWarning: Data (input features) is not contained to the unit cube. Please consider min-max scaling the input data.\n",
      "  check_min_max_scaling(\n",
      "/Users/danialnoorizadeh/.pyenv/versions/myenv/lib/python3.12/site-packages/botorch/optim/initializers.py:433: BadInitialCandidatesWarning: Unable to find non-zero acquisition function values - initial conditions are being selected randomly.\n",
      "  warnings.warn(\n",
      "/Users/danialnoorizadeh/.pyenv/versions/myenv/lib/python3.12/site-packages/botorch/models/utils/assorted.py:265: InputDataWarning: Data (input features) is not contained to the unit cube. Please consider min-max scaling the input data.\n",
      "  check_min_max_scaling(\n"
     ]
    }
   ],
   "source": [
    "from botorch.acquisition import qLogExpectedImprovement\n",
    "from botorch.optim import optimize_acqf\n",
    "from botorch.acquisition.objective import IdentityMCObjective\n",
    "from gpytorch.mlls import ExactMarginalLogLikelihood\n",
    "from botorch.models import SingleTaskGP\n",
    "\n",
    "# Initialize GP model and acquisition function\n",
    "train_y = objective(train_x)\n",
    "gp = SingleTaskGP(train_x, train_y.unsqueeze(-1)).double()\n",
    "mll = ExactMarginalLogLikelihood(gp.likelihood, gp)\n",
    "mll.train()\n",
    "gp.train()\n",
    "\n",
    "best_f = train_y.max().item()\n",
    "acq_func = qLogExpectedImprovement(model=gp, best_f=best_f, objective=IdentityMCObjective())\n",
    "\n",
    "# Bayesian Optimization Loop\n",
    "num_iterations = 20\n",
    "\n",
    "for iteration in range(num_iterations):\n",
    "    candidate, _ = optimize_acqf(\n",
    "        acq_function=acq_func,\n",
    "        bounds=bounds,\n",
    "        q=1,\n",
    "        num_restarts=10,\n",
    "        raw_samples=20,\n",
    "    )\n",
    "    \n",
    "    new_y = objective(candidate)\n",
    "    train_x = torch.cat([train_x, candidate], dim=0)\n",
    "    train_y = torch.cat([train_y, new_y], dim=0)\n",
    "    \n",
    "    gp = SingleTaskGP(train_x, train_y.unsqueeze(-1))\n",
    "    mll = ExactMarginalLogLikelihood(gp.likelihood, gp)\n",
    "    mll.train()\n",
    "    gp.train()\n",
    "    \n",
    "    best_f = train_y.max().item()\n",
    "    acq_func = qLogExpectedImprovement(model=gp, best_f=best_f, objective=IdentityMCObjective())\n",
    "    if iteration %2 == 0:\n",
    "        print(f\"Iteration {iteration + 1}: Best objective = {best_f:.4f}\")\n",
    "\n",
    "# Final results\n",
    "best_index = train_y.argmax()\n",
    "best_design = train_x[best_index]\n",
    "best_value = train_y[best_index].item()\n",
    "\n",
    "print(\"Best Design Variables:\", best_design)\n",
    "print(\"Best Objective Value:\", best_value)\n"
   ]
  },
  {
   "cell_type": "code",
   "execution_count": 147,
   "metadata": {},
   "outputs": [
    {
     "name": "stdout",
     "output_type": "stream",
     "text": [
      "Posterior Mean:  tensor(-12791.9976, dtype=torch.float64)\n",
      "Posterior Variance:  tensor(2.1520e+10, dtype=torch.float64)\n"
     ]
    }
   ],
   "source": [
    "gp.eval()  # Set the model to evaluation mode\n",
    "\n",
    "# Define the new input tensor (unsqueeze to match the expected input shape)\n",
    "input_tensor = torch.tensor([1, 2, 3, 4, 5, 6, 7]).unsqueeze(0)\n",
    "\n",
    "# Evaluate the posterior at the input points\n",
    "posterior = gp.posterior(input_tensor)\n",
    "\n",
    "# Extract the mean and variance from the posterior distribution\n",
    "mean = posterior.mean.squeeze().detach()\n",
    "variance = posterior.variance.squeeze().detach()\n",
    "\n",
    "# Print the results\n",
    "print(\"Posterior Mean: \", mean)\n",
    "print(\"Posterior Variance: \", variance)"
   ]
  },
  {
   "cell_type": "code",
   "execution_count": 159,
   "metadata": {},
   "outputs": [
    {
     "name": "stdout",
     "output_type": "stream",
     "text": [
      "tensor([-6873.3661, -6836.0736, -6800.1260, -6765.5394, -6732.3286, -6700.5067,\n",
      "        -6670.0859, -6641.0768, -6613.4887, -6587.3296, -6562.6061, -6539.3235,\n",
      "        -6517.4858, -6497.0957, -6478.1545, -6460.6622, -6444.6177, -6430.0186,\n",
      "        -6416.8612, -6405.1408, -6394.8513, -6385.9855, -6378.5354, -6372.4915,\n",
      "        -6367.8436, -6364.5804, -6362.6896, -6362.1579, -6362.9714, -6365.1152,\n",
      "        -6368.5734, -6373.3298, -6379.3671, -6386.6675, -6395.2127, -6404.9835,\n",
      "        -6415.9605, -6428.1237, -6441.4525, -6455.9263, -6471.5237, -6488.2234,\n",
      "        -6506.0035, -6524.8420, -6544.7169, -6565.6059, -6587.4865, -6610.3364,\n",
      "        -6634.1330, -6658.8540, -6684.4769, -6710.9795, -6738.3395, -6766.5350,\n",
      "        -6795.5441, -6825.3450, -6855.9162, -6887.2368, -6919.2857, -6952.0423,\n",
      "        -6985.4863, -7019.5976, -7054.3564, -7089.7438, -7125.7405, -7162.3282,\n",
      "        -7199.4884, -7237.2034, -7275.4555, -7314.2282, -7353.5044, -7393.2679,\n",
      "        -7433.5028, -7474.1934, -7515.3249, -7556.8823, -7598.8511, -7641.2173,\n",
      "        -7683.9671, -7727.0868, -7770.5637, -7814.3848, -7858.5374, -7903.0095,\n",
      "        -7947.7887, -7992.8632, -8038.2219, -8083.8530, -8129.7454, -8175.8881,\n",
      "        -8222.2702, -8268.8806, -8315.7093, -8362.7455, -8409.9786, -8457.3984,\n",
      "        -8504.9944, -8552.7560, -8600.6737, -8648.7367], dtype=torch.float64)\n"
     ]
    },
    {
     "data": {
      "image/png": "[encoded data removed]",
      "text/plain": [
       "<Figure size 1000x600 with 1 Axes>"
      ]
     },
     "metadata": {},
     "output_type": "display_data"
    }
   ],
   "source": [
    "import matplotlib.pyplot as plt\n",
    "gp.eval()\n",
    "\n",
    "# Generate a range of input values for the first dimension (fixing other dimensions)\n",
    "input_range = torch.linspace(0, 1, 100).unsqueeze(-1)  # Range of first dimension from 0 to 5\n",
    "\n",
    "# print(input_range.shape)\n",
    "\n",
    "# Create the corresponding input tensor by stacking the fixed second dimensions (e.g., fix them to 0)\n",
    "input_tensor = torch.cat([input_range, 0.1*torch.ones_like(input_range), 0.2*torch.ones_like(input_range), 0.05*torch.ones_like(input_range), torch.ones_like(input_range), torch.ones_like(input_range), torch.ones_like(input_range)], dim=1)\n",
    "# print(input_tensor.shape)\n",
    "# Evaluate the posterior at the input points\n",
    "posterior = gp.posterior(input_tensor)\n",
    "\n",
    "# Extract the mean and variance\n",
    "mean = posterior.mean.squeeze().detach()\n",
    "variance = posterior.variance.squeeze().detach()\n",
    "print(mean)\n",
    "# Plot the GP mean and uncertainty (± variance)\n",
    "plt.figure(figsize=(10, 6))\n",
    "plt.plot(input_range.numpy(), mean.numpy(), label=\"GP Mean\", color=\"blue\")\n",
    "plt.fill_between(input_range.squeeze().numpy(), \n",
    "                 (mean - torch.sqrt(variance)).numpy(), \n",
    "                 (mean + torch.sqrt(variance)).numpy(), \n",
    "                 color=\"blue\", alpha=0.2, label=\"Confidence Interval (± 1 Std. Dev.)\")\n",
    "\n",
    "# # Optionally, plot the training points as well\n",
    "# plt.scatter(train_x.numpy(), train_y.numpy(), color=\"red\", label=\"Training Data\", zorder=5)\n",
    "\n",
    "plt.title(\"GP Posterior Mean and Uncertainty (± 1 Std. Dev.)\")\n",
    "plt.xlabel(\"Input\")\n",
    "plt.ylabel(\"Output\")\n",
    "plt.legend()\n",
    "plt.show()"
   ]
  },
  {
   "cell_type": "markdown",
   "metadata": {},
   "source": [
    "# Adding Constraints"
   ]
  },
  {
   "cell_type": "code",
   "execution_count": null,
   "metadata": {},
   "outputs": [],
   "source": [
    "def constraint(design_variables_values):\n",
    "    # target_wo \n",
    "    if (len(design_variables_values) != len(design_variables)):\n",
    "        raise RuntimeError(f\"design variable should be {len(design_variables)}, {len(design_variables_values)} given\")\n",
    "    sub_dict = {}\n",
    "    for i, val in enumerate(design_variables_values, 0):\n",
    "        sub_dict[design_variables[i]] = val\n",
    "\n",
    "\n",
    "    constraint_func = wo_func**2 \n",
    "    print(sub_dict)\n",
    "    print((constraint_func.subs(sub_dict)))\n",
    "\n",
    "    if (torch.tensor(float(constraint_func.subs(sub_dict))) > 0):\n",
    "        return torch.tensor(float(constraint_func.subs(sub_dict))) - target_wo**2  # g(x) <= 0\n",
    "    # invalid: negative physical quantity\n",
    "    return 1\n"
   ]
  },
  {
   "cell_type": "code",
   "execution_count": null,
   "metadata": {},
   "outputs": [],
   "source": [
    "# Example: Define multiple constraints\n",
    "def constraint1(x):\n",
    "    # Constraint 1: Sum of variables should not exceed 5\n",
    "    return torch.sum(x, dim=-1) - 5.0  # g1(x) <= 0\n",
    "\n",
    "def constraint2(x):\n",
    "    # Constraint 2: Each variable must be non-negative\n",
    "    return -x  # g2(x) <= 0 implies x >= 0\n"
   ]
  },
  {
   "cell_type": "code",
   "execution_count": null,
   "metadata": {},
   "outputs": [],
   "source": [
    "def combined_constraints(x):\n",
    "    penalties = []\n",
    "    \n",
    "    # Evaluate each constraint\n",
    "    penalties.append(torch.clamp(constraint1(x), min=0.0) ** 2)\n",
    "    penalties.append(torch.clamp(constraint2(x), min=0.0).sum(dim=-1) ** 2)\n",
    "    \n",
    "    # Sum up all penalties\n",
    "    return sum(penalties)\n"
   ]
  },
  {
   "cell_type": "code",
   "execution_count": null,
   "metadata": {},
   "outputs": [],
   "source": []
  },
  {
   "cell_type": "markdown",
   "metadata": {},
   "source": [
    "# AX Platform"
   ]
  },
  {
   "cell_type": "code",
   "execution_count": 163,
   "metadata": {},
   "outputs": [],
   "source": [
    "import logging\n",
    "logging.basicConfig(level=logging.CRITICAL)\n"
   ]
  },
  {
   "cell_type": "code",
   "execution_count": 164,
   "metadata": {},
   "outputs": [
    {
     "name": "stderr",
     "output_type": "stream",
     "text": [
      "[INFO 01-18 20:15:13] ax.service.utils.instantiation: Inferred value type of ParameterType.FLOAT for parameter x1. If that is not the expected value type, you can explicitly specify 'value_type' ('int', 'float', 'bool' or 'str') in parameter dict.\n",
      "[INFO 01-18 20:15:13] ax.service.utils.instantiation: Inferred value type of ParameterType.FLOAT for parameter x2. If that is not the expected value type, you can explicitly specify 'value_type' ('int', 'float', 'bool' or 'str') in parameter dict.\n",
      "[INFO 01-18 20:15:13] ax.service.utils.instantiation: Created search space: SearchSpace(parameters=[RangeParameter(name='x1', parameter_type=FLOAT, range=[-10.0, 10.0]), RangeParameter(name='x2', parameter_type=FLOAT, range=[-10.0, 10.0])], parameter_constraints=[]).\n",
      "[INFO 01-18 20:15:13] ax.modelbridge.dispatch_utils: Using Models.BOTORCH_MODULAR since there is at least one ordered parameter and there are no unordered categorical parameters.\n",
      "[INFO 01-18 20:15:13] ax.modelbridge.dispatch_utils: Calculating the number of remaining initialization trials based on num_initialization_trials=None max_initialization_trials=None num_tunable_parameters=2 num_trials=None use_batch_trials=False\n",
      "[INFO 01-18 20:15:13] ax.modelbridge.dispatch_utils: calculated num_initialization_trials=5\n",
      "[INFO 01-18 20:15:13] ax.modelbridge.dispatch_utils: num_completed_initialization_trials=0 num_remaining_initialization_trials=5\n",
      "[INFO 01-18 20:15:13] ax.modelbridge.dispatch_utils: `verbose`, `disable_progbar`, and `jit_compile` are not yet supported when using `choose_generation_strategy` with ModularBoTorchModel, dropping these arguments.\n",
      "[INFO 01-18 20:15:13] ax.modelbridge.dispatch_utils: Using Bayesian Optimization generation strategy: GenerationStrategy(name='Sobol+BoTorch', steps=[Sobol for 5 trials, BoTorch for subsequent trials]). Iterations after 5 will take longer to generate due to model-fitting.\n",
      "[INFO 01-18 20:15:13] ax.service.managed_loop: Started full optimization with 20 steps.\n",
      "[INFO 01-18 20:15:13] ax.service.managed_loop: Running optimization trial 1...\n",
      "/Users/danialnoorizadeh/.pyenv/versions/myenv/lib/python3.12/site-packages/ax/modelbridge/cross_validation.py:463: UserWarning: Encountered exception in computing model fit quality: RandomModelBridge does not support prediction.\n",
      "  warn(\"Encountered exception in computing model fit quality: \" + str(e))\n",
      "[INFO 01-18 20:15:13] ax.service.managed_loop: Running optimization trial 2...\n",
      "/Users/danialnoorizadeh/.pyenv/versions/myenv/lib/python3.12/site-packages/ax/modelbridge/cross_validation.py:463: UserWarning: Encountered exception in computing model fit quality: RandomModelBridge does not support prediction.\n",
      "  warn(\"Encountered exception in computing model fit quality: \" + str(e))\n",
      "[INFO 01-18 20:15:13] ax.service.managed_loop: Running optimization trial 3...\n",
      "/Users/danialnoorizadeh/.pyenv/versions/myenv/lib/python3.12/site-packages/ax/modelbridge/cross_validation.py:463: UserWarning: Encountered exception in computing model fit quality: RandomModelBridge does not support prediction.\n",
      "  warn(\"Encountered exception in computing model fit quality: \" + str(e))\n",
      "[INFO 01-18 20:15:13] ax.service.managed_loop: Running optimization trial 4...\n",
      "/Users/danialnoorizadeh/.pyenv/versions/myenv/lib/python3.12/site-packages/ax/modelbridge/cross_validation.py:463: UserWarning: Encountered exception in computing model fit quality: RandomModelBridge does not support prediction.\n",
      "  warn(\"Encountered exception in computing model fit quality: \" + str(e))\n",
      "[INFO 01-18 20:15:13] ax.service.managed_loop: Running optimization trial 5...\n",
      "/Users/danialnoorizadeh/.pyenv/versions/myenv/lib/python3.12/site-packages/ax/modelbridge/cross_validation.py:463: UserWarning: Encountered exception in computing model fit quality: RandomModelBridge does not support prediction.\n",
      "  warn(\"Encountered exception in computing model fit quality: \" + str(e))\n",
      "[INFO 01-18 20:15:13] ax.service.managed_loop: Running optimization trial 6...\n",
      "[INFO 01-18 20:15:14] ax.service.managed_loop: Running optimization trial 7...\n",
      "[INFO 01-18 20:15:14] ax.service.managed_loop: Running optimization trial 8...\n",
      "[INFO 01-18 20:15:14] ax.service.managed_loop: Running optimization trial 9...\n",
      "[INFO 01-18 20:15:14] ax.service.managed_loop: Running optimization trial 10...\n",
      "[INFO 01-18 20:15:15] ax.service.managed_loop: Running optimization trial 11...\n",
      "[INFO 01-18 20:15:15] ax.service.managed_loop: Running optimization trial 12...\n",
      "[INFO 01-18 20:15:15] ax.service.managed_loop: Running optimization trial 13...\n",
      "[INFO 01-18 20:15:16] ax.service.managed_loop: Running optimization trial 14...\n",
      "[INFO 01-18 20:15:16] ax.service.managed_loop: Running optimization trial 15...\n",
      "[INFO 01-18 20:15:16] ax.service.managed_loop: Running optimization trial 16...\n",
      "[INFO 01-18 20:15:17] ax.service.managed_loop: Running optimization trial 17...\n",
      "[INFO 01-18 20:15:17] ax.service.managed_loop: Running optimization trial 18...\n",
      "[INFO 01-18 20:15:18] ax.service.managed_loop: Running optimization trial 19...\n",
      "[INFO 01-18 20:15:18] ax.service.managed_loop: Running optimization trial 20...\n"
     ]
    }
   ],
   "source": [
    "from ax import optimize\n",
    "\n",
    "best_parameters, best_values, experiment, model = optimize(\n",
    "        parameters=[\n",
    "          {\n",
    "            \"name\": \"x1\",\n",
    "            \"type\": \"range\",\n",
    "            \"bounds\": [-10.0, 10.0],\n",
    "          },\n",
    "          {\n",
    "            \"name\": \"x2\",\n",
    "            \"type\": \"range\",\n",
    "            \"bounds\": [-10.0, 10.0],\n",
    "          },\n",
    "        ],\n",
    "        # Booth function\n",
    "        evaluation_function=lambda p: (p[\"x1\"] + 2*p[\"x2\"] - 7)**2 + (2*p[\"x1\"] + p[\"x2\"] - 5)**2,\n",
    "        minimize=True,\n",
    "    )"
   ]
  }
 ],
 "metadata": {
  "kernelspec": {
   "display_name": "myenv",
   "language": "python",
   "name": "python3"
  },
  "language_info": {
   "codemirror_mode": {
    "name": "ipython",
    "version": 3
   },
   "file_extension": ".py",
   "mimetype": "text/x-python",
   "name": "python",
   "nbconvert_exporter": "python",
   "pygments_lexer": "ipython3",
   "version": "3.12.2"
  }
 },
 "nbformat": 4,
 "nbformat_minor": 2
}
