{
 "cells": [
  {
   "cell_type": "code",
   "execution_count": 1,
   "metadata": {},
   "outputs": [],
   "source": [
    "import sympy\n",
    "import pandas as pd\n",
    "from tqdm import tqdm\n",
    "from symcircuit.symbolic_solver.domains import ExperimentResult"
   ]
  },
  {
   "cell_type": "markdown",
   "metadata": {},
   "source": [
    "# Loading the Results of VLSI CMMF Exploration"
   ]
  },
  {
   "cell_type": "code",
   "execution_count": 2,
   "metadata": {},
   "outputs": [],
   "source": [
    "results = ExperimentResult(\"VLSI_CMMF_POST_EXPERIMENT\")\n",
    "dir_of_results = results.find_results_file(\"Runs/VLSI_CMMF_Automated_NA\")\n",
    "results = results.load(f\"{dir_of_results[0]}/results.pkl\")"
   ]
  },
  {
   "cell_type": "code",
   "execution_count": null,
   "metadata": {},
   "outputs": [],
   "source": [
    "results.classifications_dict.keys()"
   ]
  },
  {
   "cell_type": "code",
   "execution_count": null,
   "metadata": {},
   "outputs": [],
   "source": [
    "classifications_of_intrest = results.classifications_dict[\"Z1_Z2_Z3_Z4_Z5_Z6\"]\n",
    "len(classifications_of_intrest), classifications_of_intrest[0]"
   ]
  },
  {
   "cell_type": "code",
   "execution_count": 5,
   "metadata": {},
   "outputs": [],
   "source": [
    "# df = results.flatten_classifications() # This way we can access all the classsifcation into a pandas df"
   ]
  },
  {
   "cell_type": "code",
   "execution_count": null,
   "metadata": {},
   "outputs": [],
   "source": [
    "classifications_of_intrest = []\n",
    "\n",
    "for key in results.classifications_dict.keys():\n",
    "    classifications = results.classifications_dict[key]\n",
    "\n",
    "    classifications_of_intrest += ([classification \n",
    "                                for classification in classifications \n",
    "                                if (classification.fType in [\"BP\"] )]\n",
    "                                )\n",
    "    \n",
    "    fTypes = set(classification.fType for classification in classifications_of_intrest)\n",
    "\n",
    "len(classifications_of_intrest), fTypes"
   ]
  },
  {
   "cell_type": "code",
   "execution_count": null,
   "metadata": {},
   "outputs": [],
   "source": [
    "idx = 3\n",
    "classifications_of_intrest[idx].zCombo"
   ]
  },
  {
   "cell_type": "code",
   "execution_count": null,
   "metadata": {},
   "outputs": [],
   "source": [
    "classifications_of_intrest[idx].transferFunc"
   ]
  },
  {
   "cell_type": "code",
   "execution_count": null,
   "metadata": {},
   "outputs": [],
   "source": [
    "Q = classifications_of_intrest[idx].parameters[\"Q\"].simplify()\n",
    "Q"
   ]
  },
  {
   "cell_type": "code",
   "execution_count": null,
   "metadata": {},
   "outputs": [],
   "source": [
    "K = classifications_of_intrest[idx].parameters[\"K_BP\"].simplify()\n",
    "K"
   ]
  },
  {
   "cell_type": "code",
   "execution_count": null,
   "metadata": {},
   "outputs": [],
   "source": [
    "wo = classifications_of_intrest[idx].parameters[\"wo\"].simplify()\n",
    "wo"
   ]
  },
  {
   "cell_type": "markdown",
   "metadata": {},
   "source": [
    "# Examining the Higher Order Filters "
   ]
  },
  {
   "cell_type": "code",
   "execution_count": null,
   "metadata": {},
   "outputs": [],
   "source": [
    "classifications_of_intrest = results.get_filter_types([\"X-INVALID-ORDER\", \"X-INVALID-NUMER\"])\n",
    "len(classifications_of_intrest)"
   ]
  },
  {
   "cell_type": "markdown",
   "metadata": {},
   "source": [
    "## Update filterOrders"
   ]
  },
  {
   "cell_type": "code",
   "execution_count": null,
   "metadata": {},
   "outputs": [],
   "source": [
    "count = {\n",
    "    \"X-CONST\" : 0,\n",
    "}\n",
    "s = sympy.symbols(\"s\")\n",
    "\n",
    "for i, classification in enumerate(classifications_of_intrest):\n",
    "    tf = classification.transferFunc\n",
    "\n",
    "    if not (s in tf.free_symbols): # TF id NOT a function of S - Pure amplifier/level-shifter\n",
    "        ftype = \"X-CONST\"\n",
    "        count[ftype] += 1\n",
    "        classifications_of_intrest[i].fType = \"X-CONST\"\n",
    "        classifications_of_intrest[i].filterOrder = \"Zero\"\n",
    "\n",
    "count"
   ]
  },
  {
   "cell_type": "markdown",
   "metadata": {},
   "source": [
    "## Load the old classification into a classifier object"
   ]
  },
  {
   "cell_type": "code",
   "execution_count": null,
   "metadata": {},
   "outputs": [],
   "source": [
    "from symcircuit.symbolic_solver.filter import Filter_Classifier\n",
    "\n",
    "classifier = Filter_Classifier()\n",
    "classifier.overwrite_classifications(classifications_of_intrest)\n",
    "classifier.isClassified(), len(classifier.classifications)\n"
   ]
  },
  {
   "cell_type": "code",
   "execution_count": 21,
   "metadata": {},
   "outputs": [],
   "source": [
    "# classifier.classifyFilter(filterOrder=\"FirstOrder\")"
   ]
  },
  {
   "cell_type": "code",
   "execution_count": 22,
   "metadata": {},
   "outputs": [],
   "source": [
    "# classifier.summarizeFilterType()"
   ]
  },
  {
   "cell_type": "markdown",
   "metadata": {},
   "source": [
    "# Analyze higher orders\n",
    "- **LP-3rd order**: num_deg = 0, denom_deg = 3\n",
    "    -  The denom is decomposable into 1 second-orders and 1 first-order\n",
    "- **HP-4th Order**: num_deg = 4, denom_deg = 4\n",
    "    -  N(s) has only s^4 term\n",
    "- **BP-4th order**: num_deg = 0, denom_deg = 4\n",
    "    -  N(s) only has s^2 term\n",
    "    -  The denom is decomposable into 2 second-orders"
   ]
  },
  {
   "cell_type": "markdown",
   "metadata": {},
   "source": [
    "### LP-3rd Order"
   ]
  },
  {
   "cell_type": "code",
   "execution_count": null,
   "metadata": {},
   "outputs": [],
   "source": [
    "from tqdm import tqdm\n",
    "# from tqdm.gui import tqdm\n",
    "\n",
    "def get_3rd_order_lp(classifier, check_for_stability: bool = False):\n",
    "    classifications, count = classifier.findFilterInClassification(denom_order=3, numer_order=0, printMessage=False)\n",
    "    print(f\"{count} candidates for 3rd-order LP\")\n",
    "\n",
    "    output = []\n",
    "    count = 0\n",
    "    count_valid = 0\n",
    "    for classification in tqdm(classifications, total=len(classifications)):\n",
    "        count += 1\n",
    "        tf = classification.transferFunc\n",
    "        k, numer, denom = classifier.decompose_tf(tf)\n",
    "\n",
    "        valid = True\n",
    "        for poly in denom:\n",
    "            order = poly.degree()\n",
    "            if order == 1: \n",
    "                if (len(poly.as_dict()) != 2) or (check_for_stability and not classifier.is_poly_stable(poly)):\n",
    "                    valid = False\n",
    "                    break\n",
    "                \n",
    "            elif order == 2:\n",
    "                if (len(poly.as_dict()) != 3) or (check_for_stability and not classifier.is_poly_stable(poly)):\n",
    "                    valid = False\n",
    "                    break\n",
    "\n",
    "            else:\n",
    "                valid = False\n",
    "                break\n",
    "        gain = None\n",
    "        if valid:\n",
    "            count_valid += 1\n",
    "            tf = classification.transferFunc\n",
    "            gain = sympy.limit(tf, sympy.symbols(\"s\"), 0)\n",
    "            # print(f\"ID {count} - valid\")\n",
    "\n",
    "        output += [{\n",
    "            \"valid\": valid,\n",
    "            \"zCombo\": classification.zCombo,\n",
    "            \"tf\" : sympy.latex(classification.transferFunc),\n",
    "            \"DC-Gain\": gain,\n",
    "            \"k\" :  k,\n",
    "            \"numer\": numer,\n",
    "            \"denom\": denom,\n",
    "            \"num-factor-count\":len(numer),\n",
    "            \"denom-factor-count\": len(denom)\n",
    "        }]\n",
    "\n",
    "    print(f\"{count_valid} verified filters\")\n",
    "\n",
    "    return output\n",
    "output_lp = get_3rd_order_lp(classifier)\n",
    "\n",
    "df_lp = pd.DataFrame(output_lp)\n",
    "df_lp.to_csv(f\"Runs/{results.experiment_name}/3rd_LP.csv\")\n",
    "df_lp"
   ]
  },
  {
   "cell_type": "code",
   "execution_count": null,
   "metadata": {},
   "outputs": [],
   "source": [
    "filtered = [output for output in output_lp if output[\"valid\"]]\n",
    "idx = 25\n",
    "x = filtered[idx] \n",
    "x[\"DC-Gain\"]"
   ]
  },
  {
   "cell_type": "code",
   "execution_count": null,
   "metadata": {},
   "outputs": [],
   "source": [
    "x[\"denom\"][1]"
   ]
  },
  {
   "cell_type": "code",
   "execution_count": null,
   "metadata": {},
   "outputs": [],
   "source": [
    "x[\"denom\"][0]"
   ]
  },
  {
   "cell_type": "code",
   "execution_count": null,
   "metadata": {},
   "outputs": [],
   "source": [
    "x[\"zCombo\"]"
   ]
  },
  {
   "cell_type": "markdown",
   "metadata": {},
   "source": [
    "### HP-4th Order"
   ]
  },
  {
   "cell_type": "code",
   "execution_count": null,
   "metadata": {},
   "outputs": [],
   "source": [
    "\n",
    "def get_4th_order_hp(classifier, check_for_stability: bool = False):\n",
    "    classifications, count = classifier.findFilterInClassification(denom_order=4, numer_order=4, printMessage=False)\n",
    "    print(f\"{count} candidates for 4th-order HP\")\n",
    "\n",
    "    output = []\n",
    "    count = 0\n",
    "    count_valid = 0 \n",
    "    for classification in tqdm(classifications, total=len(classifications)):\n",
    "        count += 1\n",
    "        tf = classification.transferFunc\n",
    "        k, numer, denom = classifier.decompose_tf(tf)\n",
    "\n",
    "        valid = True\n",
    "        for poly in denom:\n",
    "            order = poly.degree()\n",
    "            if order == 1: \n",
    "                if (len(poly.as_dict()) != 2) or (check_for_stability and not is_poly_stable(poly)):\n",
    "                    valid = False\n",
    "                    break\n",
    "                \n",
    "            elif order == 2:\n",
    "                if (len(poly.as_dict()) != 3) or (check_for_stability and not is_poly_stable(poly)):\n",
    "                    valid = False\n",
    "                    break\n",
    "\n",
    "            else:\n",
    "                valid = False\n",
    "                break\n",
    "\n",
    "        if len(numer) != 1:\n",
    "            valid = False\n",
    "        # else:\n",
    "        #     for exp in numer[0].as_dict():\n",
    "        #         if exp != 4:\n",
    "        #             valid = False\n",
    "\n",
    "\n",
    "        if valid:\n",
    "            count_valid += 1\n",
    "            # print(f\"ID {count} - valid\")\n",
    "\n",
    "        output += [{\n",
    "            \"valid\": valid,\n",
    "            \"zCombo\": classification.zCombo,\n",
    "            \"classification\" : classification,\n",
    "            \"k\" :  k,\n",
    "            \"numer\": numer,\n",
    "            \"denom\": denom,\n",
    "            \"num-factor-count\":len(numer),\n",
    "            \"denom-factor-count\": len(denom)\n",
    "        }]\n",
    "\n",
    "    print(f\"{count_valid} verified filters\")\n",
    "\n",
    "    return output\n",
    "\n",
    "output_hp = get_4th_order_hp(classifier)\n",
    "\n",
    "df_hp = pd.DataFrame(output_hp)\n",
    "df_hp.to_csv(f\"Runs/{results.experiment_name}/4th_HP.csv\")\n",
    "df_hp"
   ]
  },
  {
   "cell_type": "markdown",
   "metadata": {},
   "source": [
    "### BP-4th Order"
   ]
  },
  {
   "cell_type": "code",
   "execution_count": null,
   "metadata": {},
   "outputs": [],
   "source": [
    "classifications, count = classifier.findFilterInClassification(denom_order=4, numer_order=2, printMessage=False)\n",
    "\n",
    "def get_4th_order_bp(classifier, check_for_stability: bool = False):\n",
    "    classifications, count = classifier.findFilterInClassification(denom_order=4, numer_order=2, printMessage=False)\n",
    "    print(f\"{count} candidates for 4th-order BP\")\n",
    "\n",
    "    output = []\n",
    "    count = 0\n",
    "    count_valid = 0\n",
    "    for classification in tqdm(classifications, total=len(classifications)):\n",
    "        count += 1\n",
    "        tf = classification.transferFunc\n",
    "        k, numer, denom = classifier.decompose_tf(tf)\n",
    "\n",
    "        valid = True\n",
    "        for poly in denom:\n",
    "            order = poly.degree()\n",
    "            if order == 1: \n",
    "                if (len(poly.as_dict()) != 2) or (check_for_stability and not is_poly_stable(poly)):\n",
    "                    valid = False\n",
    "                    break\n",
    "                \n",
    "            elif order == 2:\n",
    "                if (len(poly.as_dict()) != 3) or (check_for_stability and not is_poly_stable(poly)):\n",
    "                    valid = False\n",
    "                    break\n",
    "\n",
    "            else:\n",
    "                valid = False\n",
    "                break\n",
    "\n",
    "        if len(numer) != 1:\n",
    "            valid = False\n",
    "\n",
    "        if valid:\n",
    "            count_valid += 1\n",
    "            # print(f\"ID {count} - valid\")\n",
    "\n",
    "        output += [{\n",
    "            \"valid\": valid,\n",
    "            \"zCombo\": classification.zCombo,\n",
    "            \"classification\" : classification,\n",
    "            \"k\" :  k,\n",
    "            \"numer\": numer,\n",
    "            \"denom\": denom,\n",
    "            \"num-factor-count\":len(numer),\n",
    "            \"denom-factor-count\": len(denom)\n",
    "        }]\n",
    "\n",
    "    print(f\"{count_valid} verified filters\")\n",
    "\n",
    "    return output\n",
    "\n",
    "output_bp = get_4th_order_bp(classifier)\n",
    "\n",
    "df_bp = pd.DataFrame(output_bp)\n",
    "df_bp.to_csv(f\"Runs/{results.experiment_name}/4th_BP.csv\")\n",
    "df_bp"
   ]
  },
  {
   "cell_type": "markdown",
   "metadata": {},
   "source": [
    "# Extract information from all"
   ]
  },
  {
   "cell_type": "code",
   "execution_count": null,
   "metadata": {},
   "outputs": [],
   "source": [
    "data = []\n",
    "for x in tqdm(classifier.classifications, total = len(classifier.classifications)):\n",
    "    k, numer, denom = classifier.decompose_tf(x.transferFunc)\n",
    "    \n",
    "    degrees_list_denom = [poly.degree() for poly in denom]\n",
    "    if len(degrees_list_denom) != 0:\n",
    "        max_degrees_denom = max(degrees_list_denom)\n",
    "    else: \n",
    "        max_degrees_denom = -1\n",
    "\n",
    "    degrees_list_numer = [poly.degree() for poly in numer]\n",
    "\n",
    "    if len(degrees_list_numer) != 0:\n",
    "        max_degrees_numer = max(degrees_list_numer)\n",
    "    else: \n",
    "        max_degrees_numer = -1\n",
    "\n",
    "    data += [\n",
    "        {\n",
    "            \"filter-ID\" : x.filter_id,\n",
    "            \"combo\" : x.zCombo,\n",
    "            \"TF\" : sympy.latex(x.transferFunc),\n",
    "            \"param\" : x.parameters,\n",
    "            \"type\" : x.fType,\n",
    "\n",
    "            \"denom order\" : x.tf_denom_order,\n",
    "            \"denom factor count\" : len(denom),\n",
    "            \"denom factor degrees\": degrees_list_denom,\n",
    "            \"max denom degree\" : max_degrees_denom,\n",
    "\n",
    "            \"numer order\" : x.tf_numer_order,\n",
    "            \"numer facator count\" : len(numer),\n",
    "            \"numer factor degrees\": degrees_list_numer,\n",
    "            \"max numer degree\" : max_degrees_numer,\n",
    "\n",
    "            \"k\" : k,\n",
    "            \"numer factors\" : numer,\n",
    "            \"denom factors\" :denom\n",
    "\n",
    "        }\n",
    "    ]\n",
    "\n",
    "df = pd.DataFrame(data)\n",
    "df.to_csv(f\"Runs/{results.experiment_name}/consice_summary.csv\")"
   ]
  },
  {
   "cell_type": "markdown",
   "metadata": {},
   "source": [
    "# Playground"
   ]
  },
  {
   "cell_type": "code",
   "execution_count": null,
   "metadata": {},
   "outputs": [],
   "source": [
    "from sympy import symbols, Poly, factor, simplify, solveset, S\n",
    "\n",
    "def decompose_tf(transfer_function, variable, assumptions={}):\n",
    "    \"\"\"\n",
    "    Decomposes the denominator of a transfer function into factors, \n",
    "    grouping strictly by the specified variable (e.g., `s`).\n",
    "\n",
    "    Args:\n",
    "        transfer_function: A Sympy expression representing the transfer function.\n",
    "        variable: The main variable to group by (e.g., `s`).\n",
    "        assumptions: A dictionary of assumptions for symbolic variables.\n",
    "\n",
    "    Returns:\n",
    "        A dictionary where each key is a factor (grouped by the main variable),\n",
    "        and the value contains its roots and properties.\n",
    "    \"\"\"\n",
    "    # Apply assumptions to all symbols\n",
    "    for var, assumption in assumptions.items():\n",
    "        var._assumptions.update({assumption: True})\n",
    "    \n",
    "    # Extract the denominator\n",
    "    denominator = transfer_function.as_numer_denom()[1]\n",
    "    \n",
    "    # Ensure the denominator is treated as a polynomial in the given variable\n",
    "    poly = Poly(denominator, variable)\n",
    "    \n",
    "    # Factorize strictly with respect to `variable`\n",
    "    factored = factor(poly.as_expr())\n",
    "    \n",
    "    # Inspect each factor\n",
    "    factors = factored.as_ordered_factors()\n",
    "    results = {}\n",
    "    for factor_expr in factors:\n",
    "        # Solve for the roots of this factor\n",
    "        roots = solveset(factor_expr, variable, domain=S.Complexes)\n",
    "        \n",
    "        # Analyze each root (e.g., real part)\n",
    "        roots_info = []\n",
    "        for root in roots:\n",
    "            real_part = simplify(root.as_real_imag()[0])\n",
    "            roots_info.append({\n",
    "                \"root\": root,\n",
    "                \"real_part\": real_part\n",
    "            })\n",
    "        \n",
    "        # Store results for this factor\n",
    "        results[str(factor_expr)] = {\n",
    "            \"factor\": factor_expr,\n",
    "            \"roots\": roots_info,\n",
    "            \"degree\": Poly(factor_expr, variable).degree()\n",
    "        }\n",
    "    \n",
    "    return results\n",
    "\n",
    "# Example: Define symbolic components\n",
    "R1, R2, R3 = symbols('R1 R2 R3', positive=True)  # Resistors\n",
    "L1 = symbols('L1', positive=True)  # Inductor\n",
    "C1, C2 = symbols('C1 C2', positive=True)  # Capacitors\n",
    "s = symbols('s')\n",
    "\n",
    "# Example transfer function\n",
    "G = (s + R1) / (L1 * s**3 + (R2 + R3) * s**2 + 1 / C1 * s + 1 / C2)\n",
    "\n",
    "# Decompose and inspect the factors\n",
    "results = decompose_tf(G, s)\n",
    "for factor, info in results.items():\n",
    "    print(f\"Factor: {info['factor']}\")\n",
    "    print(f\"Degree: {info['degree']}\")\n",
    "    print(\"Roots:\")\n",
    "    for root_info in info[\"roots\"]:\n",
    "        print(f\"  - Root: {root_info['root']}, Real part: {root_info['real_part']}\")\n",
    "    print()\n"
   ]
  },
  {
   "cell_type": "code",
   "execution_count": null,
   "metadata": {},
   "outputs": [],
   "source": [
    "results.keys()"
   ]
  },
  {
   "cell_type": "code",
   "execution_count": 51,
   "metadata": {},
   "outputs": [],
   "source": [
    "from sympy import symbols, Poly, factor, simplify, solveset, S\n",
    "\n",
    "def decompose_tf(transfer_function):\n",
    "    s = symbols(\"s\")\n",
    "\n",
    "    # Extract the numerator and denominator\n",
    "    numerator, denominator = transfer_function.as_numer_denom()\n",
    " \n",
    "    numerator = Poly(numerator, s)\n",
    "    denominator = Poly(denominator, s)\n",
    "\n",
    "    # Factorize strictly with respect to `variable`\n",
    "    numerator = factor(numerator.as_expr())\n",
    "    denominator = factor(denominator.as_expr())\n",
    "\n",
    "    # Inspect each factor\n",
    "    factors_numer = numerator.as_ordered_factors()\n",
    "    factors_denom = denominator.as_ordered_factors()\n",
    "    \n",
    "    return factors_numer, factors_denom\n",
    "\n",
    "# Example: Define symbolic components\n",
    "R1, R2, R3 = symbols('R1 R2 R3', positive=True)  # Resistors\n",
    "L1 = symbols('L1', positive=True)  # Inductor\n",
    "C1, C2 = symbols('C1 C2', positive=True)  # Capacitors\n",
    "s = symbols('s')\n",
    "\n",
    "# Example transfer function\n",
    "G = (s + R1) / (((s+R3)*(s**2 + s*2*C2+ 2*C2**2)).expand())\n",
    "G.expand()\n",
    "\n",
    "# Decompose and inspect the factors\n",
    "tup = decompose_tf(G)\n",
    "numer = tup[0]\n",
    "denom = tup[1]\n"
   ]
  }
 ],
 "metadata": {
  "kernelspec": {
   "display_name": "myenv",
   "language": "python",
   "name": "python3"
  },
  "language_info": {
   "codemirror_mode": {
    "name": "ipython",
    "version": 3
   },
   "file_extension": ".py",
   "mimetype": "text/x-python",
   "name": "python",
   "nbconvert_exporter": "python",
   "pygments_lexer": "ipython3",
   "version": "3.12.2"
  }
 },
 "nbformat": 4,
 "nbformat_minor": 2
}
