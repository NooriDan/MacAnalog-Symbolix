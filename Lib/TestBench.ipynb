{
 "cells": [
  {
   "cell_type": "code",
   "execution_count": null,
   "metadata": {},
   "outputs": [],
   "source": [
    "from Global import *            # Global vairables (symbolic)\n",
    "from CircuitSetUp import CircuitSetUp\n",
    "from Experiment import SymbolixExperimentCG\n",
    "from Utils import seriesZ, parallelZ, simplify_array\n",
    "import pickle"
   ]
  },
  {
   "cell_type": "markdown",
   "metadata": {},
   "source": [
    "# Loading test Runs"
   ]
  },
  {
   "cell_type": "code",
   "execution_count": null,
   "metadata": {},
   "outputs": [],
   "source": [
    "file = \"../Runs/TIA_simple/simple_Z1_Z2_ZL_object\"  # Ensure full file path\n",
    "try:\n",
    "    with open(file, 'rb') as f:\n",
    "        experiment = pickle.load(f)\n",
    "    print(\"Object loaded successfully.\")\n",
    "except FileNotFoundError:\n",
    "    print(f\"File not found: {file}\")\n",
    "except pickle.UnpicklingError:\n",
    "    print(f\"Error unpickling file: {file}\")\n"
   ]
  },
  {
   "cell_type": "markdown",
   "metadata": {},
   "source": [
    "# Automated Test Bench\n",
    "transmissionMatrix =\n",
    "    - \"simple\"          : \n",
    "    - \"symbolic\"        : \n",
    "    - \"some_parasitic\"  : \n",
    "    - \"full_parasitic\"  :"
   ]
  },
  {
   "cell_type": "code",
   "execution_count": null,
   "metadata": {},
   "outputs": [],
   "source": [
    "_output = [Vop, Von]\n",
    "_input  = [Iip, Iin]\n",
    "T_type  = \"simple\"\n",
    "experimentName = \"TIA\"\n",
    "experimentName += \"_\" + T_type\n",
    "\n",
    "circuit = CircuitSetUp(_output, _input,\n",
    "                              transmissionMatrixType=T_type)\n",
    "circuit.solve()\n",
    "\n",
    "impedanceKeys = [\n",
    "            \"Z1_ZL\",\n",
    "            \"Z2_ZL\",\n",
    "            \"Z3_ZL\",\n",
    "            \"Z4_ZL\",\n",
    "            \"Z5_ZL\",\n",
    "            \"Z1_Z2_ZL\",\n",
    "            \"Z1_Z3_ZL\",\n",
    "            \"Z1_Z4_ZL\",\n",
    "            \"Z1_Z5_ZL\",\n",
    "            \"Z2_Z3_ZL\",\n",
    "            \"Z2_Z4_ZL\",\n",
    "            \"Z2_Z5_ZL\",\n",
    "            \"Z3_Z4_ZL\",\n",
    "            \"Z3_Z5_ZL\",\n",
    "            \"Z4_Z5_ZL\"\n",
    "            ]\n",
    "\n",
    "impedanceKeys = impedanceKeys[0:2]\n",
    "# impedanceKeys = [\"Z1\"]\n",
    "\n",
    "for i, key in enumerate(impedanceKeys, 1):\n",
    "    print(f\"==> Running the {experimentName} Experiment for {key} ({i}/{len(impedanceKeys)})\\n\")\n",
    "    experiment = SymbolixExperimentCG(experimentName, circuit)\n",
    "    experiment.computeTFs(comboKey=key)\n",
    "    #\n",
    "    experiment.classifier.classifyBiQuadFilters()\n",
    "    experiment.classifier.summarizeFilterType()\n",
    "\n",
    "    experiment.reportSummary(experimentName, key)\n",
    "    experiment.compilePDF()\n",
    "\n",
    "print(impedanceKeys)\n",
    "experiment.classifier.impedanceList"
   ]
  },
  {
   "cell_type": "code",
   "execution_count": null,
   "metadata": {},
   "outputs": [],
   "source": [
    "ZL_RLC = [RL, LL, CL]\n",
    "ZL_C = 1/(s*CL)\n",
    "ZzL = [ RL,                                            # R\n",
    "        1/(s*CL),                                      # C\n",
    "        parallelZ([RL, 1/(s*CL)]),                              # R || C\n",
    "        seriesZ([RL, CL]),                                 # R + C\n",
    "        seriesZ([s*LL + 1/(s*CL)]),                             # L + C\n",
    "        (LL*s)/(1 + LL*CL*s**2),                       # L || C\n",
    "        RL + s*LL + 1/(s*CL),                          # R + L + C\n",
    "        (1/RL + s*CL+ 1/(s*LL))**-1,                   # R || L || C\n",
    "        RL + (s*LL/(1 + LL*CL*s**2)),                  # R + (L || C)\n",
    "        RL*(s*LL + 1/(s*CL))/(RL + (s*LL + 1/(s*CL)))  # R || (L + C)\n",
    "    ]\n",
    "ZzL = simplify_array(ZzL)\n",
    "\n",
    "ZzL"
   ]
  },
  {
   "cell_type": "code",
   "execution_count": null,
   "metadata": {},
   "outputs": [],
   "source": [
    "cluster = {\"TEST\" : experiment.classifier.clusteredByType[\"BP\"][0:2]}\n",
    "experiment.fileSave.generateSummaryTable(experiment.classifier.clusteredByType, \"Tables\")\n",
    "experiment.compilePDF()"
   ]
  },
  {
   "cell_type": "code",
   "execution_count": null,
   "metadata": {},
   "outputs": [],
   "source": [
    "seriesZ([ parallelZ([R1, s*L1]), R1])"
   ]
  },
  {
   "cell_type": "markdown",
   "metadata": {},
   "source": [
    "# Manual Experiment"
   ]
  },
  {
   "cell_type": "code",
   "execution_count": null,
   "metadata": {},
   "outputs": [],
   "source": [
    "from Global import *            # Global vairables (symbolic)\n",
    "from CircuitSetUp import CircuitSetUp\n",
    "from Experiment import SymbolixExperimentCG\n",
    "from Utils import FileSave\n",
    "import pickle\n",
    "\n",
    "_output = [Vop, Von]\n",
    "_input  = [Iip, Iin]\n",
    "T_type  = \"simple\"\n",
    "experimentName = \"TIA\"\n",
    "experimentName += \"_\" + T_type\n",
    "\n",
    "circuit = CircuitSetUp(_output, _input,\n",
    "                              transmissionMatrixType=T_type)\n",
    "circuit.solve()\n",
    "\n",
    "# tf = circuit.baseHs\n",
    "# circuit.baseHsDict"
   ]
  },
  {
   "cell_type": "markdown",
   "metadata": {},
   "source": [
    "# Testing"
   ]
  },
  {
   "cell_type": "code",
   "execution_count": 2,
   "metadata": {},
   "outputs": [
    {
     "name": "stdout",
     "output_type": "stream",
     "text": [
      "Original Expression: R + (R | L)\n",
      "1 - After Replacing Symbols: self.zDictionary['R'] + (self.zDictionary['R'] | self.zDictionary['L'])\n",
      " 2 - After Parsing Parentheses: self.zDictionary['R'] + self.parallel *START* [self.zDictionary['R'] ,  self.zDictionary['L']] *END*\n",
      "Final Parsed Expression: self.series*START* [self.zDictionary['R'] ,  self.parallel *START* [self.zDictionary['R'] ,  self.zDictionary['L']] *END*] *END*\n"
     ]
    },
    {
     "data": {
      "image/png": "[encoded data removed]",
      "text/latex": [
       "$\\displaystyle \\left[ \\frac{R_{test} \\left(2 L_{test} s + R_{test}\\right)}{L_{test} s + R_{test}}\\right]$"
      ],
      "text/plain": [
       "⎡Rₜₑₛₜ⋅(2⋅Lₜₑₛₜ⋅s + Rₜₑₛₜ)⎤\n",
       "⎢─────────────────────────⎥\n",
       "⎣     Lₜₑₛₜ⋅s + Rₜₑₛₜ     ⎦"
      ]
     },
     "execution_count": 2,
     "metadata": {},
     "output_type": "execute_result"
    }
   ],
   "source": [
    "from Utils import Impedance\n",
    "\n",
    "# Initialize the Impedance object\n",
    "impedance = Impedance(\"test\")\n",
    "\n",
    "# Reset allowedConnections\n",
    "impedance.allowedConnections = []\n",
    "# Test Case 1: Simple series connection\n",
    "impedance.setAllowedImpedanceConnections([\"R + (R | L)\"])\n",
    "\n",
    "impedance.allowedConnections"
   ]
  },
  {
   "cell_type": "code",
   "execution_count": null,
   "metadata": {},
   "outputs": [],
   "source": [
    "self.series([self.zDictionary['R'] ,  self.parallel[self.zDictionary['C'] ,  self.zDictionary['L']]])\n",
    "\n",
    "self.series([self.zDictionary['R'] ,  self.parallel[self.zDictionary['C'] ,  self.series[self.zDictionary['L'], self.zDictionary['R']]]])\n",
    "\n",
    "self.series([self.zDictionary['R'] ,  self.seriesself.parallel[[self.zDictionary['C'] ,  self.zDictionary['L'] ,  self.zDictionary['R']]]])\n"
   ]
  },
  {
   "cell_type": "code",
   "execution_count": null,
   "metadata": {},
   "outputs": [],
   "source": [
    "import sympy\n",
    "\n",
    "\n",
    "\n",
    "def test_setAllowedImpedanceConnections():\n",
    "    # Reset allowedConnections\n",
    "    impedance.allowedConnections = []\n",
    "\n",
    "    # Test Case 1: Simple series connection\n",
    "    impedance.setAllowedImpedanceConnections([\"R + L\"])\n",
    "    expected = impedance.series([impedance.Z_R, impedance.Z_L])\n",
    "    assert simplify(impedance.allowedConnections[0] - expected) == 0, \"Failed: R + L\"\n",
    "\n",
    "    # Test Case 2: Simple parallel connection\n",
    "    impedance.allowedConnections = []  # Reset\n",
    "    impedance.setAllowedImpedanceConnections([\"R | L\"])\n",
    "    expected = impedance.parallel([impedance.Z_R, impedance.Z_L])\n",
    "    assert simplify(impedance.allowedConnections[0] - expected) == 0, \"Failed: R | L\"\n",
    "\n",
    "    # Test Case 3: Nested series and parallel connection\n",
    "    impedance.allowedConnections = []  # Reset\n",
    "    impedance.setAllowedImpedanceConnections([\"R + (L | C)\"])\n",
    "    expected = impedance.series([impedance.Z_R, impedance.parallel([impedance.Z_L, impedance.Z_C])])\n",
    "    assert simplify(impedance.allowedConnections[0] - expected) == 0, \"Failed: R + (L | C)\"\n",
    "\n",
    "    # Test Case 4: Complex nested expression\n",
    "    impedance.allowedConnections = []  # Reset\n",
    "    impedance.setAllowedImpedanceConnections([\"(R | L) + (L | C)\"])\n",
    "    expected = impedance.series([\n",
    "        impedance.parallel([impedance.Z_R, impedance.Z_L]),\n",
    "        impedance.parallel([impedance.Z_L, impedance.Z_C])\n",
    "    ])\n",
    "    assert simplify(impedance.allowedConnections[0] - expected) == 0, \"Failed: (R | L) + (L | C)\"\n",
    "\n",
    "    print(\"All test cases passed!\")\n",
    "\n",
    "# Run the refined tests\n",
    "test_setAllowedImpedanceConnections()\n",
    "\n"
   ]
  }
 ],
 "metadata": {
  "kernelspec": {
   "display_name": "base",
   "language": "python",
   "name": "python3"
  },
  "language_info": {
   "codemirror_mode": {
    "name": "ipython",
    "version": 3
   },
   "file_extension": ".py",
   "mimetype": "text/x-python",
   "name": "python",
   "nbconvert_exporter": "python",
   "pygments_lexer": "ipython3",
   "version": "3.12.2"
  }
 },
 "nbformat": 4,
 "nbformat_minor": 2
}
