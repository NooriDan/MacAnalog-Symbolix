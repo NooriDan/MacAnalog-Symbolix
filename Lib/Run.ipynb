{
 "cells": [
  {
   "cell_type": "code",
   "execution_count": null,
   "metadata": {},
   "outputs": [],
   "source": [
    "from Global import *            # Global vairables (symbolic)\n",
    "from BaseTF import BaseTransferFunction\n",
    "from Experiment import SymbolixExperimentCG"
   ]
  },
  {
   "cell_type": "markdown",
   "metadata": {},
   "source": [
    "# Compute H(Z)\n",
    "transmissionMatrix =\n",
    "    - \"simple\"          : \n",
    "    - \"symbolic\"        : \n",
    "    - \"some_parasitic\"  : \n",
    "    - \"full_parasitic\"  :"
   ]
  },
  {
   "cell_type": "code",
   "execution_count": null,
   "metadata": {},
   "outputs": [],
   "source": [
    "experimentName = \"TIA\"\n",
    "_output = [Vop, Von]\n",
    "_input  = [Iip, Iin]\n",
    "T_type  = \"simple\" \n",
    "\n",
    "baseTF = BaseTransferFunction(_output, _input,\n",
    "                              transmissionMatrixType=T_type)\n",
    "baseTF.solve()"
   ]
  },
  {
   "cell_type": "markdown",
   "metadata": {},
   "source": [
    "# Compute H(s)"
   ]
  },
  {
   "cell_type": "code",
   "execution_count": null,
   "metadata": {},
   "outputs": [],
   "source": [
    "Z_arr = \"Z3_ZL\"\n",
    "experiment = SymbolixExperimentCG(baseTF)\n",
    "experiment.computeTFs(comboKey=Z_arr)\n"
   ]
  },
  {
   "cell_type": "code",
   "execution_count": null,
   "metadata": {},
   "outputs": [],
   "source": [
    "experiment.filter.classifyBiQuadFilters()\n",
    "experiment.filter.summarizeFilterType()\n"
   ]
  },
  {
   "cell_type": "code",
   "execution_count": null,
   "metadata": {},
   "outputs": [],
   "source": [
    "experiment.reportAll(experimentName, Z_arr)\n",
    "experiment.reportType(\"BP\", experimentName,Z_arr)\n",
    "experiment.reportType(\"GE\", experimentName, Z_arr)"
   ]
  }
 ],
 "metadata": {
  "kernelspec": {
   "display_name": "base",
   "language": "python",
   "name": "python3"
  },
  "language_info": {
   "codemirror_mode": {
    "name": "ipython",
    "version": 3
   },
   "file_extension": ".py",
   "mimetype": "text/x-python",
   "name": "python",
   "nbconvert_exporter": "python",
   "pygments_lexer": "ipython3",
   "version": "3.12.2"
  }
 },
 "nbformat": 4,
 "nbformat_minor": 2
}
