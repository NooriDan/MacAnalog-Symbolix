{
 "cells": [
  {
   "cell_type": "code",
   "execution_count": 2,
   "metadata": {},
   "outputs": [
    {
     "name": "stdout",
     "output_type": "stream",
     "text": [
      "# of cores: 8\n",
      "OS Name: darwin\n",
      "Working Directory: /Users/danialnoorizadeh/Library/CloudStorage/OneDrive-SharedLibraries-McMasterUniversity/Mohamed Elamien - Danial Noori Zadeh/SymbolicModeling/MacAnalog-Symbolix/Lib\n"
     ]
    }
   ],
   "source": [
    "from Global import *            # Global vairables (symbolic)\n",
    "from BaseTF import BaseTransferFunction\n",
    "from Experiment import SymbolixExperimentCG"
   ]
  },
  {
   "cell_type": "markdown",
   "metadata": {},
   "source": [
    "# Automated Test Bench\n",
    "transmissionMatrix =\n",
    "    - \"simple\"          : \n",
    "    - \"symbolic\"        : \n",
    "    - \"some_parasitic\"  : \n",
    "    - \"full_parasitic\"  :"
   ]
  },
  {
   "cell_type": "code",
   "execution_count": null,
   "metadata": {},
   "outputs": [],
   "source": [
    "_output = [Vop, Von]\n",
    "_input  = [Iip, Iin]\n",
    "T_type  = \"simple\"\n",
    "experimentName = \"TIA\"\n",
    "experimentName += \"_\" + T_type\n",
    "\n",
    "baseTF = BaseTransferFunction(_output, _input,\n",
    "                              transmissionMatrixType=T_type)\n",
    "baseTF.solve()\n",
    "\n",
    "Z_arr_list = [\n",
    "            \"Z1_ZL\",\n",
    "            \"Z2_ZL\",\n",
    "            \"Z3_ZL\",\n",
    "            \"Z4_ZL\",\n",
    "            \"Z5_ZL\",\n",
    "            \"Z1_Z2_ZL\",\n",
    "            \"Z1_Z3_ZL\",\n",
    "            \"Z1_Z4_ZL\",\n",
    "            \"Z1_Z5_ZL\",\n",
    "            \"Z2_Z3_ZL\",\n",
    "            \"Z2_Z4_ZL\",\n",
    "            \"Z2_Z5_ZL\",\n",
    "            \"Z3_Z4_ZL\",\n",
    "            \"Z3_Z5_ZL\",\n",
    "            \"Z4_Z5_ZL\"\n",
    "            ]\n",
    "\n",
    "# Z_arr_list = Z_arr_list[9:-1]\n",
    "\n",
    "for i, Z_arr in enumerate(Z_arr_list, 1):\n",
    "    print(f\"== Running the {experimentName} Experiment for {Z_arr} ({i}/{len(Z_arr_list)})\\n\")\n",
    "    experiment = SymbolixExperimentCG(baseTF)\n",
    "    experiment.computeTFs(comboKey=Z_arr)\n",
    "    #\n",
    "    experiment.classifier.classifyBiQuadFilters()\n",
    "    experiment.classifier.summarizeFilterType()\n",
    "\n",
    "    experiment.reportSummary(experimentName, Z_arr)\n",
    "    experiment.compilePDF()\n",
    "\n",
    "\n"
   ]
  },
  {
   "cell_type": "markdown",
   "metadata": {},
   "source": [
    "# Step By Step Run"
   ]
  },
  {
   "cell_type": "markdown",
   "metadata": {},
   "source": [
    "## Compute H(Z)\n",
    "transmissionMatrix =\n",
    "    - \"simple\"          : \n",
    "    - \"symbolic\"        : \n",
    "    - \"some_parasitic\"  : \n",
    "    - \"full_parasitic\"  :"
   ]
  },
  {
   "cell_type": "code",
   "execution_count": 3,
   "metadata": {},
   "outputs": [
    {
     "name": "stdout",
     "output_type": "stream",
     "text": [
      "====CommonGate====\n",
      "(1) set up the nodal equation\n",
      "(2) solved the base transfer function\n",
      "FOUND THE BASE TF\n"
     ]
    },
    {
     "data": {
      "image/png": "[encoded data removed]",
      "text/latex": [
       "$\\displaystyle \\frac{Z_{1} Z_{3} Z_{4} Z_{L} \\left(Z_{2} Z_{5} g_{m} - Z_{2} + Z_{5}\\right)}{Z_{1} Z_{2} Z_{3} Z_{4} Z_{5} g_{m} + 2 Z_{1} Z_{2} Z_{3} Z_{4} Z_{L} g_{m} + Z_{1} Z_{2} Z_{3} Z_{4} + 2 Z_{1} Z_{2} Z_{3} Z_{5} Z_{L} g_{m} + 2 Z_{1} Z_{2} Z_{3} Z_{L} + Z_{1} Z_{2} Z_{4} Z_{5} Z_{L} g_{m} + Z_{1} Z_{2} Z_{4} Z_{L} + Z_{1} Z_{3} Z_{4} Z_{5} + 4 Z_{1} Z_{3} Z_{4} Z_{L} + 2 Z_{1} Z_{3} Z_{5} Z_{L} + Z_{1} Z_{4} Z_{5} Z_{L} + Z_{2} Z_{3} Z_{4} Z_{5} + Z_{2} Z_{3} Z_{4} Z_{L} + 2 Z_{2} Z_{3} Z_{5} Z_{L} + Z_{2} Z_{4} Z_{5} Z_{L} + Z_{3} Z_{4} Z_{5} Z_{L}}$"
      ],
      "text/plain": [
       "                                                                               ↪\n",
       "────────────────────────────────────────────────────────────────────────────── ↪\n",
       "Z₁⋅Z₂⋅Z₃⋅Z₄⋅Z₅⋅gₘ + 2⋅Z₁⋅Z₂⋅Z₃⋅Z₄⋅Z_L⋅gₘ + Z₁⋅Z₂⋅Z₃⋅Z₄ + 2⋅Z₁⋅Z₂⋅Z₃⋅Z₅⋅Z_L⋅gₘ  ↪\n",
       "\n",
       "↪                                         Z₁⋅Z₃⋅Z₄⋅Z_L⋅(Z₂⋅Z₅⋅gₘ - Z₂ + Z₅)    ↪\n",
       "↪ ──────────────────────────────────────────────────────────────────────────── ↪\n",
       "↪ + 2⋅Z₁⋅Z₂⋅Z₃⋅Z_L + Z₁⋅Z₂⋅Z₄⋅Z₅⋅Z_L⋅gₘ + Z₁⋅Z₂⋅Z₄⋅Z_L + Z₁⋅Z₃⋅Z₄⋅Z₅ + 4⋅Z₁⋅Z₃ ↪\n",
       "\n",
       "↪                                                                              ↪\n",
       "↪ ──────────────────────────────────────────────────────────────────────────── ↪\n",
       "↪ ⋅Z₄⋅Z_L + 2⋅Z₁⋅Z₃⋅Z₅⋅Z_L + Z₁⋅Z₄⋅Z₅⋅Z_L + Z₂⋅Z₃⋅Z₄⋅Z₅ + Z₂⋅Z₃⋅Z₄⋅Z_L + 2⋅Z₂⋅ ↪\n",
       "\n",
       "↪                                        \n",
       "↪ ───────────────────────────────────────\n",
       "↪ Z₃⋅Z₅⋅Z_L + Z₂⋅Z₄⋅Z₅⋅Z_L + Z₃⋅Z₄⋅Z₅⋅Z_L"
      ]
     },
     "execution_count": 3,
     "metadata": {},
     "output_type": "execute_result"
    }
   ],
   "source": [
    "_output = [Vop, Von]\n",
    "_input  = [Iip, Iin]\n",
    "T_type  = \"simple\"\n",
    "experimentName = \"TEST\"\n",
    "experimentName += \"_\" + T_type\n",
    "\n",
    "baseTF = BaseTransferFunction(_output, _input,\n",
    "                              transmissionMatrixType=T_type)\n",
    "baseTF.solve()"
   ]
  },
  {
   "cell_type": "markdown",
   "metadata": {},
   "source": [
    "## Compute H(s)"
   ]
  },
  {
   "cell_type": "code",
   "execution_count": 4,
   "metadata": {},
   "outputs": [
    {
     "name": "stderr",
     "output_type": "stream",
     "text": [
      "Getting the TFs (CG): 100%|██████████| 110/110 [00:02<00:00, 41.55combo/s]"
     ]
    },
    {
     "name": "stdout",
     "output_type": "stream",
     "text": [
      "Number of transfer functions found: 110\n"
     ]
    },
    {
     "name": "stderr",
     "output_type": "stream",
     "text": [
      "\n"
     ]
    }
   ],
   "source": [
    "Z_arr = \"Z1_ZL\"\n",
    "experiment = SymbolixExperimentCG(baseTF)\n",
    "experiment.computeTFs(comboKey=Z_arr)\n"
   ]
  },
  {
   "cell_type": "code",
   "execution_count": 5,
   "metadata": {},
   "outputs": [
    {
     "name": "stderr",
     "output_type": "stream",
     "text": [
      "Computing filter parameters: 100%|██████████| 110/110 [00:00<00:00, 217.41filter/s]"
     ]
    },
    {
     "name": "stdout",
     "output_type": "stream",
     "text": [
      "HP : 0\n",
      "BP : 4\n",
      "LP : 4\n",
      "BS : 3\n",
      "GE : 2\n",
      "AP : 0\n",
      "INVALID-NUMER : 3\n",
      "INVALID-WZ : 4\n",
      "INVALID-ORDER : 90\n"
     ]
    },
    {
     "name": "stderr",
     "output_type": "stream",
     "text": [
      "\n"
     ]
    },
    {
     "data": {
      "text/plain": [
       "({'HP': [],\n",
       "  'BP': [FilterClassification(zCombo=(R1, oo, oo, oo, oo, 1/(C_L*s + 1/R_L + 1/(L_L*s))), transferFunc=L_L*R1*R_L*g_m*s/((R1*g_m + 1)*(C_L*L_L*R_L*s**2 + L_L*s + R_L)), valid=True, fType=BP, parameters={'Q': C_L*R_L*sqrt(1/(C_L*L_L)), 'wo': sqrt(1/(C_L*L_L)), 'bandwidth': 1/(C_L*R_L), 'K_LP': 0, 'K_HP': 0, 'K_BP': R1*R_L*g_m/(R1*g_m + 1), 'Qz': 0, 'Wz': None}),\n",
       "   FilterClassification(zCombo=(L1*s, oo, oo, oo, oo, R_L/(C_L*R_L*s + 1)), transferFunc=L1*R_L*g_m*s/((C_L*R_L*s + 1)*(L1*g_m*s + 1)), valid=True, fType=BP, parameters={'Q': C_L*L1*R_L*g_m*sqrt(1/(C_L*L1*R_L*g_m))/(C_L*R_L + L1*g_m), 'wo': sqrt(1/(C_L*L1*R_L*g_m)), 'bandwidth': (C_L*R_L + L1*g_m)/(C_L*L1*R_L*g_m), 'K_LP': 0, 'K_HP': 0, 'K_BP': L1*R_L*g_m/(C_L*R_L + L1*g_m), 'Qz': 0, 'Wz': None}),\n",
       "   FilterClassification(zCombo=(L1*s/(C1*L1*s**2 + 1), oo, oo, oo, oo, R_L), transferFunc=L1*R_L*g_m*s/(C1*L1*s**2 + L1*g_m*s + 1), valid=True, fType=BP, parameters={'Q': C1*sqrt(1/(C1*L1))/g_m, 'wo': sqrt(1/(C1*L1)), 'bandwidth': g_m/C1, 'K_LP': 0, 'K_HP': 0, 'K_BP': R_L, 'Qz': 0, 'Wz': None}),\n",
       "   FilterClassification(zCombo=(1/(C1*s + 1/R1 + 1/(L1*s)), oo, oo, oo, oo, R_L), transferFunc=L1*R1*R_L*g_m*s/(C1*L1*R1*s**2 + L1*R1*g_m*s + L1*s + R1), valid=True, fType=BP, parameters={'Q': C1*R1*sqrt(1/(C1*L1))/(R1*g_m + 1), 'wo': sqrt(1/(C1*L1)), 'bandwidth': (R1*g_m + 1)/(C1*R1), 'K_LP': 0, 'K_HP': 0, 'K_BP': R1*R_L*g_m/(R1*g_m + 1), 'Qz': 0, 'Wz': None})],\n",
       "  'LP': [FilterClassification(zCombo=(1/(C1*s), oo, oo, oo, oo, R_L/(C_L*R_L*s + 1)), transferFunc=R_L*g_m/((C1*s + g_m)*(C_L*R_L*s + 1)), valid=True, fType=LP, parameters={'Q': C1*C_L*R_L*sqrt(g_m/(C1*C_L*R_L))/(C1 + C_L*R_L*g_m), 'wo': sqrt(g_m/(C1*C_L*R_L)), 'bandwidth': (C1 + C_L*R_L*g_m)/(C1*C_L*R_L), 'K_LP': R_L, 'K_HP': 0, 'K_BP': 0, 'Qz': None, 'Wz': None}),\n",
       "   FilterClassification(zCombo=(R1/(C1*R1*s + 1), oo, oo, oo, oo, R_L/(C_L*R_L*s + 1)), transferFunc=R1*R_L*g_m/((C_L*R_L*s + 1)*(C1*R1*s + R1*g_m + 1)), valid=True, fType=LP, parameters={'Q': C1*C_L*R1*R_L*sqrt((R1*g_m + 1)/(C1*C_L*R1*R_L))/(C1*R1 + C_L*R1*R_L*g_m + C_L*R_L), 'wo': sqrt((R1*g_m + 1)/(C1*C_L*R1*R_L)), 'bandwidth': (C1*R1 + C_L*R1*R_L*g_m + C_L*R_L)/(C1*C_L*R1*R_L), 'K_LP': R1*R_L*g_m/(R1*g_m + 1), 'K_HP': 0, 'K_BP': 0, 'Qz': None, 'Wz': None}),\n",
       "   FilterClassification(zCombo=(L1*s/(C1*L1*s**2 + 1), oo, oo, oo, oo, 1/(C_L*s)), transferFunc=L1*g_m/(C_L*(C1*L1*s**2 + L1*g_m*s + 1)), valid=True, fType=LP, parameters={'Q': C1*sqrt(1/(C1*L1))/g_m, 'wo': sqrt(1/(C1*L1)), 'bandwidth': g_m/C1, 'K_LP': L1*g_m/C_L, 'K_HP': 0, 'K_BP': 0, 'Qz': None, 'Wz': None}),\n",
       "   FilterClassification(zCombo=(1/(C1*s + 1/R1 + 1/(L1*s)), oo, oo, oo, oo, 1/(C_L*s)), transferFunc=L1*R1*g_m/(C_L*(C1*L1*R1*s**2 + L1*R1*g_m*s + L1*s + R1)), valid=True, fType=LP, parameters={'Q': C1*R1*sqrt(1/(C1*L1))/(R1*g_m + 1), 'wo': sqrt(1/(C1*L1)), 'bandwidth': (R1*g_m + 1)/(C1*R1), 'K_LP': L1*g_m/C_L, 'K_HP': 0, 'K_BP': 0, 'Qz': None, 'Wz': None})],\n",
       "  'BS': [FilterClassification(zCombo=(R1, oo, oo, oo, oo, R_L*(L_L*s + 1/(C_L*s))/(L_L*s + R_L + 1/(C_L*s))), transferFunc=R1*R_L*g_m*(C_L*L_L*s**2 + 1)/((R1*g_m + 1)*(C_L*L_L*s**2 + C_L*R_L*s + 1)), valid=True, fType=BS, parameters={'Q': L_L*sqrt(1/(C_L*L_L))/R_L, 'wo': sqrt(1/(C_L*L_L)), 'bandwidth': R_L/L_L, 'K_LP': R1*R_L*g_m/(R1*g_m + 1), 'K_HP': R1*R_L*g_m/(R1*g_m + 1), 'K_BP': 0, 'Qz': None, 'Wz': sqrt(1/(C_L*L_L))}),\n",
       "   FilterClassification(zCombo=(L1*s + 1/(C1*s), oo, oo, oo, oo, R_L), transferFunc=R_L*g_m*(C1*L1*s**2 + 1)/(C1*L1*g_m*s**2 + C1*s + g_m), valid=True, fType=BS, parameters={'Q': L1*g_m*sqrt(1/(C1*L1)), 'wo': sqrt(1/(C1*L1)), 'bandwidth': 1/(L1*g_m), 'K_LP': R_L, 'K_HP': R_L, 'K_BP': 0, 'Qz': None, 'Wz': sqrt(1/(C1*L1))}),\n",
       "   FilterClassification(zCombo=(R1*(L1*s + 1/(C1*s))/(L1*s + R1 + 1/(C1*s)), oo, oo, oo, oo, R_L), transferFunc=R1*R_L*g_m*(C1*L1*s**2 + 1)/(C1*L1*R1*g_m*s**2 + C1*L1*s**2 + C1*R1*s + R1*g_m + 1), valid=True, fType=BS, parameters={'Q': L1*sqrt(1/(C1*L1))*(R1*g_m + 1)/R1, 'wo': sqrt(1/(C1*L1)), 'bandwidth': R1/(L1*(R1*g_m + 1)), 'K_LP': R1*R_L*g_m/(R1*g_m + 1), 'K_HP': R1*R_L*g_m/(R1*g_m + 1), 'K_BP': 0, 'Qz': None, 'Wz': sqrt(1/(C1*L1))})],\n",
       "  'GE': [FilterClassification(zCombo=(L1*s + R1 + 1/(C1*s), oo, oo, oo, oo, R_L), transferFunc=R_L*g_m*(C1*L1*s**2 + C1*R1*s + 1)/(C1*L1*g_m*s**2 + C1*R1*g_m*s + C1*s + g_m), valid=True, fType=GE, parameters={'Q': L1*g_m*sqrt(1/(C1*L1))/(R1*g_m + 1), 'wo': sqrt(1/(C1*L1)), 'bandwidth': (R1*g_m + 1)/(L1*g_m), 'K_LP': R_L, 'K_HP': R_L, 'K_BP': R1*R_L*g_m/(R1*g_m + 1), 'Qz': L1*sqrt(1/(C1*L1))/R1, 'Wz': sqrt(1/(C1*L1))}),\n",
       "   FilterClassification(zCombo=(L1*s/(C1*L1*s**2 + 1) + R1, oo, oo, oo, oo, R_L), transferFunc=R_L*g_m*(C1*L1*R1*s**2 + L1*s + R1)/(C1*L1*R1*g_m*s**2 + C1*L1*s**2 + L1*g_m*s + R1*g_m + 1), valid=True, fType=GE, parameters={'Q': C1*sqrt(1/(C1*L1))*(R1*g_m + 1)/g_m, 'wo': sqrt(1/(C1*L1)), 'bandwidth': g_m/(C1*(R1*g_m + 1)), 'K_LP': R1*R_L*g_m/(R1*g_m + 1), 'K_HP': R1*R_L*g_m/(R1*g_m + 1), 'K_BP': R_L, 'Qz': C1*R1*sqrt(1/(C1*L1)), 'Wz': sqrt(1/(C1*L1))})],\n",
       "  'AP': [],\n",
       "  'INVALID-NUMER': [FilterClassification(zCombo=(R1 + 1/(C1*s), oo, oo, oo, oo, R_L/(C_L*R_L*s + 1)), transferFunc=R_L*g_m*(C1*R1*s + 1)/((C_L*R_L*s + 1)*(C1*R1*g_m*s + C1*s + g_m)), valid=True, fType=INVALID-NUMER, parameters={'Q': C1*C_L*R_L*sqrt(g_m/(C1*C_L*R_L*(R1*g_m + 1)))*(R1*g_m + 1)/(C1*R1*g_m + C1 + C_L*R_L*g_m), 'wo': sqrt(g_m/(C1*C_L*R_L*(R1*g_m + 1))), 'bandwidth': (C1*R1*g_m + C1 + C_L*R_L*g_m)/(C1*C_L*R_L*(R1*g_m + 1)), 'K_LP': R_L, 'K_HP': 0, 'K_BP': C1*R1*R_L*g_m/(C1*R1*g_m + C1 + C_L*R_L*g_m), 'Qz': 0, 'Wz': None}),\n",
       "   FilterClassification(zCombo=(L1*s/(C1*L1*s**2 + 1), oo, oo, oo, oo, R_L + 1/(C_L*s)), transferFunc=L1*g_m*(C_L*R_L*s + 1)/(C_L*(C1*L1*s**2 + L1*g_m*s + 1)), valid=True, fType=INVALID-NUMER, parameters={'Q': C1*sqrt(1/(C1*L1))/g_m, 'wo': sqrt(1/(C1*L1)), 'bandwidth': g_m/C1, 'K_LP': L1*g_m/C_L, 'K_HP': 0, 'K_BP': R_L, 'Qz': 0, 'Wz': None}),\n",
       "   FilterClassification(zCombo=(1/(C1*s + 1/R1 + 1/(L1*s)), oo, oo, oo, oo, R_L + 1/(C_L*s)), transferFunc=L1*R1*g_m*(C_L*R_L*s + 1)/(C_L*(C1*L1*R1*s**2 + L1*R1*g_m*s + L1*s + R1)), valid=True, fType=INVALID-NUMER, parameters={'Q': C1*R1*sqrt(1/(C1*L1))/(R1*g_m + 1), 'wo': sqrt(1/(C1*L1)), 'bandwidth': (R1*g_m + 1)/(C1*R1), 'K_LP': L1*g_m/C_L, 'K_HP': 0, 'K_BP': R1*R_L*g_m/(R1*g_m + 1), 'Qz': 0, 'Wz': None})],\n",
       "  'INVALID-WZ': [FilterClassification(zCombo=(L1*s/(C1*L1*s**2 + 1), oo, oo, oo, oo, L_L*s + 1/(C_L*s)), transferFunc=L1*g_m*(C_L*L_L*s**2 + 1)/(C_L*(C1*L1*s**2 + L1*g_m*s + 1)), valid=False, fType=INVALID-WZ, parameters={'Q': C1*sqrt(1/(C1*L1))/g_m, 'wo': sqrt(1/(C1*L1)), 'bandwidth': g_m/C1, 'K_LP': L1*g_m/C_L, 'K_HP': L_L*g_m/C1, 'K_BP': 0, 'Qz': None, 'Wz': sqrt(1/(C_L*L_L))}),\n",
       "   FilterClassification(zCombo=(L1*s/(C1*L1*s**2 + 1), oo, oo, oo, oo, L_L*s + R_L + 1/(C_L*s)), transferFunc=L1*g_m*(C_L*L_L*s**2 + C_L*R_L*s + 1)/(C_L*(C1*L1*s**2 + L1*g_m*s + 1)), valid=False, fType=INVALID-WZ, parameters={'Q': C1*sqrt(1/(C1*L1))/g_m, 'wo': sqrt(1/(C1*L1)), 'bandwidth': g_m/C1, 'K_LP': L1*g_m/C_L, 'K_HP': L_L*g_m/C1, 'K_BP': R_L, 'Qz': L_L*sqrt(1/(C1*L1))/R_L, 'Wz': sqrt(1/(C_L*L_L))}),\n",
       "   FilterClassification(zCombo=(1/(C1*s + 1/R1 + 1/(L1*s)), oo, oo, oo, oo, L_L*s + 1/(C_L*s)), transferFunc=L1*R1*g_m*(C_L*L_L*s**2 + 1)/(C_L*(C1*L1*R1*s**2 + L1*R1*g_m*s + L1*s + R1)), valid=False, fType=INVALID-WZ, parameters={'Q': C1*R1*sqrt(1/(C1*L1))/(R1*g_m + 1), 'wo': sqrt(1/(C1*L1)), 'bandwidth': (R1*g_m + 1)/(C1*R1), 'K_LP': L1*g_m/C_L, 'K_HP': L_L*g_m/C1, 'K_BP': 0, 'Qz': None, 'Wz': sqrt(1/(C_L*L_L))}),\n",
       "   FilterClassification(zCombo=(1/(C1*s + 1/R1 + 1/(L1*s)), oo, oo, oo, oo, L_L*s + R_L + 1/(C_L*s)), transferFunc=L1*R1*g_m*(C_L*L_L*s**2 + C_L*R_L*s + 1)/(C_L*(C1*L1*R1*s**2 + L1*R1*g_m*s + L1*s + R1)), valid=False, fType=INVALID-WZ, parameters={'Q': C1*R1*sqrt(1/(C1*L1))/(R1*g_m + 1), 'wo': sqrt(1/(C1*L1)), 'bandwidth': (R1*g_m + 1)/(C1*R1), 'K_LP': L1*g_m/C_L, 'K_HP': L_L*g_m/C1, 'K_BP': R1*R_L*g_m/(R1*g_m + 1), 'Qz': L_L*sqrt(1/(C1*L1))/R_L, 'Wz': sqrt(1/(C_L*L_L))})],\n",
       "  'INVALID-ORDER': [FilterClassification(zCombo=(R1, oo, oo, oo, oo, R_L), transferFunc=R1*R_L*g_m/(R1*g_m + 1), valid=False, fType=INVALID-ORDER, parameters=None),\n",
       "   FilterClassification(zCombo=(R1, oo, oo, oo, oo, 1/(C_L*s)), transferFunc=R1*g_m/(C_L*s*(R1*g_m + 1)), valid=False, fType=INVALID-ORDER, parameters=None),\n",
       "   FilterClassification(zCombo=(R1, oo, oo, oo, oo, R_L/(C_L*R_L*s + 1)), transferFunc=R1*R_L*g_m/((R1*g_m + 1)*(C_L*R_L*s + 1)), valid=False, fType=INVALID-ORDER, parameters=None),\n",
       "   FilterClassification(zCombo=(R1, oo, oo, oo, oo, R_L + 1/(C_L*s)), transferFunc=R1*g_m*(C_L*R_L*s + 1)/(C_L*s*(R1*g_m + 1)), valid=False, fType=INVALID-ORDER, parameters=None),\n",
       "   FilterClassification(zCombo=(R1, oo, oo, oo, oo, L_L*s + 1/(C_L*s)), transferFunc=R1*g_m*(C_L*L_L*s**2 + 1)/(C_L*s*(R1*g_m + 1)), valid=False, fType=INVALID-ORDER, parameters=None),\n",
       "   FilterClassification(zCombo=(R1, oo, oo, oo, oo, L_L*s/(C_L*L_L*s**2 + 1)), transferFunc=L_L*R1*g_m*s/((R1*g_m + 1)*(C_L*L_L*s**2 + 1)), valid=False, fType=INVALID-ORDER, parameters=None),\n",
       "   FilterClassification(zCombo=(R1, oo, oo, oo, oo, L_L*s + R_L + 1/(C_L*s)), transferFunc=R1*g_m*(C_L*L_L*s**2 + C_L*R_L*s + 1)/(C_L*s*(R1*g_m + 1)), valid=False, fType=INVALID-ORDER, parameters=None),\n",
       "   FilterClassification(zCombo=(R1, oo, oo, oo, oo, L_L*s/(C_L*L_L*s**2 + 1) + R_L), transferFunc=R1*g_m*(C_L*L_L*R_L*s**2 + L_L*s + R_L)/((R1*g_m + 1)*(C_L*L_L*s**2 + 1)), valid=False, fType=INVALID-ORDER, parameters=None),\n",
       "   FilterClassification(zCombo=(L1*s, oo, oo, oo, oo, R_L), transferFunc=L1*R_L*g_m*s/(L1*g_m*s + 1), valid=False, fType=INVALID-ORDER, parameters=None),\n",
       "   FilterClassification(zCombo=(L1*s, oo, oo, oo, oo, 1/(C_L*s)), transferFunc=L1*g_m/(C_L*(L1*g_m*s + 1)), valid=False, fType=INVALID-ORDER, parameters=None),\n",
       "   FilterClassification(zCombo=(L1*s, oo, oo, oo, oo, R_L + 1/(C_L*s)), transferFunc=L1*g_m*(C_L*R_L*s + 1)/(C_L*(L1*g_m*s + 1)), valid=False, fType=INVALID-ORDER, parameters=None),\n",
       "   FilterClassification(zCombo=(L1*s, oo, oo, oo, oo, L_L*s + 1/(C_L*s)), transferFunc=L1*g_m*(C_L*L_L*s**2 + 1)/(C_L*(L1*g_m*s + 1)), valid=False, fType=INVALID-ORDER, parameters=None),\n",
       "   FilterClassification(zCombo=(L1*s, oo, oo, oo, oo, L_L*s/(C_L*L_L*s**2 + 1)), transferFunc=L1*L_L*g_m*s**2/((C_L*L_L*s**2 + 1)*(L1*g_m*s + 1)), valid=False, fType=INVALID-ORDER, parameters=None),\n",
       "   FilterClassification(zCombo=(L1*s, oo, oo, oo, oo, L_L*s + R_L + 1/(C_L*s)), transferFunc=L1*g_m*(C_L*L_L*s**2 + C_L*R_L*s + 1)/(C_L*(L1*g_m*s + 1)), valid=False, fType=INVALID-ORDER, parameters=None),\n",
       "   FilterClassification(zCombo=(L1*s, oo, oo, oo, oo, 1/(C_L*s + 1/R_L + 1/(L_L*s))), transferFunc=L1*L_L*R_L*g_m*s**2/((L1*g_m*s + 1)*(C_L*L_L*R_L*s**2 + L_L*s + R_L)), valid=False, fType=INVALID-ORDER, parameters=None),\n",
       "   FilterClassification(zCombo=(L1*s, oo, oo, oo, oo, L_L*s/(C_L*L_L*s**2 + 1) + R_L), transferFunc=L1*g_m*s*(C_L*L_L*R_L*s**2 + L_L*s + R_L)/((C_L*L_L*s**2 + 1)*(L1*g_m*s + 1)), valid=False, fType=INVALID-ORDER, parameters=None),\n",
       "   FilterClassification(zCombo=(L1*s, oo, oo, oo, oo, R_L*(L_L*s + 1/(C_L*s))/(L_L*s + R_L + 1/(C_L*s))), transferFunc=L1*R_L*g_m*s*(C_L*L_L*s**2 + 1)/((L1*g_m*s + 1)*(C_L*L_L*s**2 + C_L*R_L*s + 1)), valid=False, fType=INVALID-ORDER, parameters=None),\n",
       "   FilterClassification(zCombo=(1/(C1*s), oo, oo, oo, oo, R_L), transferFunc=R_L*g_m/(C1*s + g_m), valid=False, fType=INVALID-ORDER, parameters=None),\n",
       "   FilterClassification(zCombo=(1/(C1*s), oo, oo, oo, oo, 1/(C_L*s)), transferFunc=g_m/(C_L*s*(C1*s + g_m)), valid=False, fType=INVALID-ORDER, parameters=None),\n",
       "   FilterClassification(zCombo=(1/(C1*s), oo, oo, oo, oo, R_L + 1/(C_L*s)), transferFunc=g_m*(C_L*R_L*s + 1)/(C_L*s*(C1*s + g_m)), valid=False, fType=INVALID-ORDER, parameters=None),\n",
       "   FilterClassification(zCombo=(1/(C1*s), oo, oo, oo, oo, L_L*s + 1/(C_L*s)), transferFunc=g_m*(C_L*L_L*s**2 + 1)/(C_L*s*(C1*s + g_m)), valid=False, fType=INVALID-ORDER, parameters=None),\n",
       "   FilterClassification(zCombo=(1/(C1*s), oo, oo, oo, oo, L_L*s/(C_L*L_L*s**2 + 1)), transferFunc=L_L*g_m*s/((C1*s + g_m)*(C_L*L_L*s**2 + 1)), valid=False, fType=INVALID-ORDER, parameters=None),\n",
       "   FilterClassification(zCombo=(1/(C1*s), oo, oo, oo, oo, L_L*s + R_L + 1/(C_L*s)), transferFunc=g_m*(C_L*L_L*s**2 + C_L*R_L*s + 1)/(C_L*s*(C1*s + g_m)), valid=False, fType=INVALID-ORDER, parameters=None),\n",
       "   FilterClassification(zCombo=(1/(C1*s), oo, oo, oo, oo, 1/(C_L*s + 1/R_L + 1/(L_L*s))), transferFunc=L_L*R_L*g_m*s/((C1*s + g_m)*(C_L*L_L*R_L*s**2 + L_L*s + R_L)), valid=False, fType=INVALID-ORDER, parameters=None),\n",
       "   FilterClassification(zCombo=(1/(C1*s), oo, oo, oo, oo, L_L*s/(C_L*L_L*s**2 + 1) + R_L), transferFunc=g_m*(C_L*L_L*R_L*s**2 + L_L*s + R_L)/((C1*s + g_m)*(C_L*L_L*s**2 + 1)), valid=False, fType=INVALID-ORDER, parameters=None),\n",
       "   FilterClassification(zCombo=(1/(C1*s), oo, oo, oo, oo, R_L*(L_L*s + 1/(C_L*s))/(L_L*s + R_L + 1/(C_L*s))), transferFunc=R_L*g_m*(C_L*L_L*s**2 + 1)/((C1*s + g_m)*(C_L*L_L*s**2 + C_L*R_L*s + 1)), valid=False, fType=INVALID-ORDER, parameters=None),\n",
       "   FilterClassification(zCombo=(R1/(C1*R1*s + 1), oo, oo, oo, oo, R_L), transferFunc=R1*R_L*g_m/(C1*R1*s + R1*g_m + 1), valid=False, fType=INVALID-ORDER, parameters=None),\n",
       "   FilterClassification(zCombo=(R1/(C1*R1*s + 1), oo, oo, oo, oo, 1/(C_L*s)), transferFunc=R1*g_m/(C_L*s*(C1*R1*s + R1*g_m + 1)), valid=False, fType=INVALID-ORDER, parameters=None),\n",
       "   FilterClassification(zCombo=(R1/(C1*R1*s + 1), oo, oo, oo, oo, R_L + 1/(C_L*s)), transferFunc=R1*g_m*(C_L*R_L*s + 1)/(C_L*s*(C1*R1*s + R1*g_m + 1)), valid=False, fType=INVALID-ORDER, parameters=None),\n",
       "   FilterClassification(zCombo=(R1/(C1*R1*s + 1), oo, oo, oo, oo, L_L*s + 1/(C_L*s)), transferFunc=R1*g_m*(C_L*L_L*s**2 + 1)/(C_L*s*(C1*R1*s + R1*g_m + 1)), valid=False, fType=INVALID-ORDER, parameters=None),\n",
       "   FilterClassification(zCombo=(R1/(C1*R1*s + 1), oo, oo, oo, oo, L_L*s/(C_L*L_L*s**2 + 1)), transferFunc=L_L*R1*g_m*s/((C_L*L_L*s**2 + 1)*(C1*R1*s + R1*g_m + 1)), valid=False, fType=INVALID-ORDER, parameters=None),\n",
       "   FilterClassification(zCombo=(R1/(C1*R1*s + 1), oo, oo, oo, oo, L_L*s + R_L + 1/(C_L*s)), transferFunc=R1*g_m*(C_L*L_L*s**2 + C_L*R_L*s + 1)/(C_L*s*(C1*R1*s + R1*g_m + 1)), valid=False, fType=INVALID-ORDER, parameters=None),\n",
       "   FilterClassification(zCombo=(R1/(C1*R1*s + 1), oo, oo, oo, oo, 1/(C_L*s + 1/R_L + 1/(L_L*s))), transferFunc=L_L*R1*R_L*g_m*s/((C1*R1*s + R1*g_m + 1)*(C_L*L_L*R_L*s**2 + L_L*s + R_L)), valid=False, fType=INVALID-ORDER, parameters=None),\n",
       "   FilterClassification(zCombo=(R1/(C1*R1*s + 1), oo, oo, oo, oo, L_L*s/(C_L*L_L*s**2 + 1) + R_L), transferFunc=R1*g_m*(C_L*L_L*R_L*s**2 + L_L*s + R_L)/((C_L*L_L*s**2 + 1)*(C1*R1*s + R1*g_m + 1)), valid=False, fType=INVALID-ORDER, parameters=None),\n",
       "   FilterClassification(zCombo=(R1/(C1*R1*s + 1), oo, oo, oo, oo, R_L*(L_L*s + 1/(C_L*s))/(L_L*s + R_L + 1/(C_L*s))), transferFunc=R1*R_L*g_m*(C_L*L_L*s**2 + 1)/((C1*R1*s + R1*g_m + 1)*(C_L*L_L*s**2 + C_L*R_L*s + 1)), valid=False, fType=INVALID-ORDER, parameters=None),\n",
       "   FilterClassification(zCombo=(R1 + 1/(C1*s), oo, oo, oo, oo, R_L), transferFunc=R_L*g_m*(C1*R1*s + 1)/(C1*R1*g_m*s + C1*s + g_m), valid=False, fType=INVALID-ORDER, parameters=None),\n",
       "   FilterClassification(zCombo=(R1 + 1/(C1*s), oo, oo, oo, oo, 1/(C_L*s)), transferFunc=g_m*(C1*R1*s + 1)/(C_L*s*(C1*R1*g_m*s + C1*s + g_m)), valid=False, fType=INVALID-ORDER, parameters=None),\n",
       "   FilterClassification(zCombo=(R1 + 1/(C1*s), oo, oo, oo, oo, R_L + 1/(C_L*s)), transferFunc=g_m*(C1*R1*s + 1)*(C_L*R_L*s + 1)/(C_L*s*(C1*R1*g_m*s + C1*s + g_m)), valid=False, fType=INVALID-ORDER, parameters=None),\n",
       "   FilterClassification(zCombo=(R1 + 1/(C1*s), oo, oo, oo, oo, L_L*s + 1/(C_L*s)), transferFunc=g_m*(C1*R1*s + 1)*(C_L*L_L*s**2 + 1)/(C_L*s*(C1*R1*g_m*s + C1*s + g_m)), valid=False, fType=INVALID-ORDER, parameters=None),\n",
       "   FilterClassification(zCombo=(R1 + 1/(C1*s), oo, oo, oo, oo, L_L*s/(C_L*L_L*s**2 + 1)), transferFunc=L_L*g_m*s*(C1*R1*s + 1)/((C_L*L_L*s**2 + 1)*(C1*R1*g_m*s + C1*s + g_m)), valid=False, fType=INVALID-ORDER, parameters=None),\n",
       "   FilterClassification(zCombo=(R1 + 1/(C1*s), oo, oo, oo, oo, L_L*s + R_L + 1/(C_L*s)), transferFunc=g_m*(C1*R1*s + 1)*(C_L*L_L*s**2 + C_L*R_L*s + 1)/(C_L*s*(C1*R1*g_m*s + C1*s + g_m)), valid=False, fType=INVALID-ORDER, parameters=None),\n",
       "   FilterClassification(zCombo=(R1 + 1/(C1*s), oo, oo, oo, oo, 1/(C_L*s + 1/R_L + 1/(L_L*s))), transferFunc=L_L*R_L*g_m*s*(C1*R1*s + 1)/((C1*R1*g_m*s + C1*s + g_m)*(C_L*L_L*R_L*s**2 + L_L*s + R_L)), valid=False, fType=INVALID-ORDER, parameters=None),\n",
       "   FilterClassification(zCombo=(R1 + 1/(C1*s), oo, oo, oo, oo, L_L*s/(C_L*L_L*s**2 + 1) + R_L), transferFunc=g_m*(C1*R1*s + 1)*(C_L*L_L*R_L*s**2 + L_L*s + R_L)/((C_L*L_L*s**2 + 1)*(C1*R1*g_m*s + C1*s + g_m)), valid=False, fType=INVALID-ORDER, parameters=None),\n",
       "   FilterClassification(zCombo=(R1 + 1/(C1*s), oo, oo, oo, oo, R_L*(L_L*s + 1/(C_L*s))/(L_L*s + R_L + 1/(C_L*s))), transferFunc=R_L*g_m*(C1*R1*s + 1)*(C_L*L_L*s**2 + 1)/((C_L*L_L*s**2 + C_L*R_L*s + 1)*(C1*R1*g_m*s + C1*s + g_m)), valid=False, fType=INVALID-ORDER, parameters=None),\n",
       "   FilterClassification(zCombo=(L1*s + 1/(C1*s), oo, oo, oo, oo, 1/(C_L*s)), transferFunc=g_m*(C1*L1*s**2 + 1)/(C_L*s*(C1*L1*g_m*s**2 + C1*s + g_m)), valid=False, fType=INVALID-ORDER, parameters=None),\n",
       "   FilterClassification(zCombo=(L1*s + 1/(C1*s), oo, oo, oo, oo, R_L/(C_L*R_L*s + 1)), transferFunc=R_L*g_m*(C1*L1*s**2 + 1)/((C_L*R_L*s + 1)*(C1*L1*g_m*s**2 + C1*s + g_m)), valid=False, fType=INVALID-ORDER, parameters=None),\n",
       "   FilterClassification(zCombo=(L1*s + 1/(C1*s), oo, oo, oo, oo, R_L + 1/(C_L*s)), transferFunc=g_m*(C1*L1*s**2 + 1)*(C_L*R_L*s + 1)/(C_L*s*(C1*L1*g_m*s**2 + C1*s + g_m)), valid=False, fType=INVALID-ORDER, parameters=None),\n",
       "   FilterClassification(zCombo=(L1*s + 1/(C1*s), oo, oo, oo, oo, L_L*s + 1/(C_L*s)), transferFunc=g_m*(C1*L1*s**2 + 1)*(C_L*L_L*s**2 + 1)/(C_L*s*(C1*L1*g_m*s**2 + C1*s + g_m)), valid=False, fType=INVALID-ORDER, parameters=None),\n",
       "   FilterClassification(zCombo=(L1*s + 1/(C1*s), oo, oo, oo, oo, L_L*s/(C_L*L_L*s**2 + 1)), transferFunc=L_L*g_m*s*(C1*L1*s**2 + 1)/((C_L*L_L*s**2 + 1)*(C1*L1*g_m*s**2 + C1*s + g_m)), valid=False, fType=INVALID-ORDER, parameters=None),\n",
       "   FilterClassification(zCombo=(L1*s + 1/(C1*s), oo, oo, oo, oo, L_L*s + R_L + 1/(C_L*s)), transferFunc=g_m*(C1*L1*s**2 + 1)*(C_L*L_L*s**2 + C_L*R_L*s + 1)/(C_L*s*(C1*L1*g_m*s**2 + C1*s + g_m)), valid=False, fType=INVALID-ORDER, parameters=None),\n",
       "   FilterClassification(zCombo=(L1*s + 1/(C1*s), oo, oo, oo, oo, 1/(C_L*s + 1/R_L + 1/(L_L*s))), transferFunc=L_L*R_L*g_m*s*(C1*L1*s**2 + 1)/((C1*L1*g_m*s**2 + C1*s + g_m)*(C_L*L_L*R_L*s**2 + L_L*s + R_L)), valid=False, fType=INVALID-ORDER, parameters=None),\n",
       "   FilterClassification(zCombo=(L1*s + 1/(C1*s), oo, oo, oo, oo, L_L*s/(C_L*L_L*s**2 + 1) + R_L), transferFunc=g_m*(C1*L1*s**2 + 1)*(C_L*L_L*R_L*s**2 + L_L*s + R_L)/((C_L*L_L*s**2 + 1)*(C1*L1*g_m*s**2 + C1*s + g_m)), valid=False, fType=INVALID-ORDER, parameters=None),\n",
       "   FilterClassification(zCombo=(L1*s + 1/(C1*s), oo, oo, oo, oo, R_L*(L_L*s + 1/(C_L*s))/(L_L*s + R_L + 1/(C_L*s))), transferFunc=R_L*g_m*(C1*L1*s**2 + 1)*(C_L*L_L*s**2 + 1)/((C_L*L_L*s**2 + C_L*R_L*s + 1)*(C1*L1*g_m*s**2 + C1*s + g_m)), valid=False, fType=INVALID-ORDER, parameters=None),\n",
       "   FilterClassification(zCombo=(L1*s/(C1*L1*s**2 + 1), oo, oo, oo, oo, R_L/(C_L*R_L*s + 1)), transferFunc=L1*R_L*g_m*s/((C_L*R_L*s + 1)*(C1*L1*s**2 + L1*g_m*s + 1)), valid=False, fType=INVALID-ORDER, parameters=None),\n",
       "   FilterClassification(zCombo=(L1*s/(C1*L1*s**2 + 1), oo, oo, oo, oo, L_L*s/(C_L*L_L*s**2 + 1)), transferFunc=L1*L_L*g_m*s**2/((C_L*L_L*s**2 + 1)*(C1*L1*s**2 + L1*g_m*s + 1)), valid=False, fType=INVALID-ORDER, parameters=None),\n",
       "   FilterClassification(zCombo=(L1*s/(C1*L1*s**2 + 1), oo, oo, oo, oo, 1/(C_L*s + 1/R_L + 1/(L_L*s))), transferFunc=L1*L_L*R_L*g_m*s**2/((C1*L1*s**2 + L1*g_m*s + 1)*(C_L*L_L*R_L*s**2 + L_L*s + R_L)), valid=False, fType=INVALID-ORDER, parameters=None),\n",
       "   FilterClassification(zCombo=(L1*s/(C1*L1*s**2 + 1), oo, oo, oo, oo, L_L*s/(C_L*L_L*s**2 + 1) + R_L), transferFunc=L1*g_m*s*(C_L*L_L*R_L*s**2 + L_L*s + R_L)/((C_L*L_L*s**2 + 1)*(C1*L1*s**2 + L1*g_m*s + 1)), valid=False, fType=INVALID-ORDER, parameters=None),\n",
       "   FilterClassification(zCombo=(L1*s/(C1*L1*s**2 + 1), oo, oo, oo, oo, R_L*(L_L*s + 1/(C_L*s))/(L_L*s + R_L + 1/(C_L*s))), transferFunc=L1*R_L*g_m*s*(C_L*L_L*s**2 + 1)/((C1*L1*s**2 + L1*g_m*s + 1)*(C_L*L_L*s**2 + C_L*R_L*s + 1)), valid=False, fType=INVALID-ORDER, parameters=None),\n",
       "   FilterClassification(zCombo=(L1*s + R1 + 1/(C1*s), oo, oo, oo, oo, 1/(C_L*s)), transferFunc=g_m*(C1*L1*s**2 + C1*R1*s + 1)/(C_L*s*(C1*L1*g_m*s**2 + C1*R1*g_m*s + C1*s + g_m)), valid=False, fType=INVALID-ORDER, parameters=None),\n",
       "   FilterClassification(zCombo=(L1*s + R1 + 1/(C1*s), oo, oo, oo, oo, R_L/(C_L*R_L*s + 1)), transferFunc=R_L*g_m*(C1*L1*s**2 + C1*R1*s + 1)/((C_L*R_L*s + 1)*(C1*L1*g_m*s**2 + C1*R1*g_m*s + C1*s + g_m)), valid=False, fType=INVALID-ORDER, parameters=None),\n",
       "   FilterClassification(zCombo=(L1*s + R1 + 1/(C1*s), oo, oo, oo, oo, R_L + 1/(C_L*s)), transferFunc=g_m*(C_L*R_L*s + 1)*(C1*L1*s**2 + C1*R1*s + 1)/(C_L*s*(C1*L1*g_m*s**2 + C1*R1*g_m*s + C1*s + g_m)), valid=False, fType=INVALID-ORDER, parameters=None),\n",
       "   FilterClassification(zCombo=(L1*s + R1 + 1/(C1*s), oo, oo, oo, oo, L_L*s + 1/(C_L*s)), transferFunc=g_m*(C_L*L_L*s**2 + 1)*(C1*L1*s**2 + C1*R1*s + 1)/(C_L*s*(C1*L1*g_m*s**2 + C1*R1*g_m*s + C1*s + g_m)), valid=False, fType=INVALID-ORDER, parameters=None),\n",
       "   FilterClassification(zCombo=(L1*s + R1 + 1/(C1*s), oo, oo, oo, oo, L_L*s/(C_L*L_L*s**2 + 1)), transferFunc=L_L*g_m*s*(C1*L1*s**2 + C1*R1*s + 1)/((C_L*L_L*s**2 + 1)*(C1*L1*g_m*s**2 + C1*R1*g_m*s + C1*s + g_m)), valid=False, fType=INVALID-ORDER, parameters=None),\n",
       "   FilterClassification(zCombo=(L1*s + R1 + 1/(C1*s), oo, oo, oo, oo, L_L*s + R_L + 1/(C_L*s)), transferFunc=g_m*(C1*L1*s**2 + C1*R1*s + 1)*(C_L*L_L*s**2 + C_L*R_L*s + 1)/(C_L*s*(C1*L1*g_m*s**2 + C1*R1*g_m*s + C1*s + g_m)), valid=False, fType=INVALID-ORDER, parameters=None),\n",
       "   FilterClassification(zCombo=(L1*s + R1 + 1/(C1*s), oo, oo, oo, oo, 1/(C_L*s + 1/R_L + 1/(L_L*s))), transferFunc=L_L*R_L*g_m*s*(C1*L1*s**2 + C1*R1*s + 1)/((C_L*L_L*R_L*s**2 + L_L*s + R_L)*(C1*L1*g_m*s**2 + C1*R1*g_m*s + C1*s + g_m)), valid=False, fType=INVALID-ORDER, parameters=None),\n",
       "   FilterClassification(zCombo=(L1*s + R1 + 1/(C1*s), oo, oo, oo, oo, L_L*s/(C_L*L_L*s**2 + 1) + R_L), transferFunc=g_m*(C1*L1*s**2 + C1*R1*s + 1)*(C_L*L_L*R_L*s**2 + L_L*s + R_L)/((C_L*L_L*s**2 + 1)*(C1*L1*g_m*s**2 + C1*R1*g_m*s + C1*s + g_m)), valid=False, fType=INVALID-ORDER, parameters=None),\n",
       "   FilterClassification(zCombo=(L1*s + R1 + 1/(C1*s), oo, oo, oo, oo, R_L*(L_L*s + 1/(C_L*s))/(L_L*s + R_L + 1/(C_L*s))), transferFunc=R_L*g_m*(C_L*L_L*s**2 + 1)*(C1*L1*s**2 + C1*R1*s + 1)/((C_L*L_L*s**2 + C_L*R_L*s + 1)*(C1*L1*g_m*s**2 + C1*R1*g_m*s + C1*s + g_m)), valid=False, fType=INVALID-ORDER, parameters=None),\n",
       "   FilterClassification(zCombo=(1/(C1*s + 1/R1 + 1/(L1*s)), oo, oo, oo, oo, R_L/(C_L*R_L*s + 1)), transferFunc=L1*R1*R_L*g_m*s/((C_L*R_L*s + 1)*(C1*L1*R1*s**2 + L1*R1*g_m*s + L1*s + R1)), valid=False, fType=INVALID-ORDER, parameters=None),\n",
       "   FilterClassification(zCombo=(1/(C1*s + 1/R1 + 1/(L1*s)), oo, oo, oo, oo, L_L*s/(C_L*L_L*s**2 + 1)), transferFunc=L1*L_L*R1*g_m*s**2/((C_L*L_L*s**2 + 1)*(C1*L1*R1*s**2 + L1*R1*g_m*s + L1*s + R1)), valid=False, fType=INVALID-ORDER, parameters=None),\n",
       "   FilterClassification(zCombo=(1/(C1*s + 1/R1 + 1/(L1*s)), oo, oo, oo, oo, 1/(C_L*s + 1/R_L + 1/(L_L*s))), transferFunc=L1*L_L*R1*R_L*g_m*s**2/((C_L*L_L*R_L*s**2 + L_L*s + R_L)*(C1*L1*R1*s**2 + L1*R1*g_m*s + L1*s + R1)), valid=False, fType=INVALID-ORDER, parameters=None),\n",
       "   FilterClassification(zCombo=(1/(C1*s + 1/R1 + 1/(L1*s)), oo, oo, oo, oo, L_L*s/(C_L*L_L*s**2 + 1) + R_L), transferFunc=L1*R1*g_m*s*(C_L*L_L*R_L*s**2 + L_L*s + R_L)/((C_L*L_L*s**2 + 1)*(C1*L1*R1*s**2 + L1*R1*g_m*s + L1*s + R1)), valid=False, fType=INVALID-ORDER, parameters=None),\n",
       "   FilterClassification(zCombo=(1/(C1*s + 1/R1 + 1/(L1*s)), oo, oo, oo, oo, R_L*(L_L*s + 1/(C_L*s))/(L_L*s + R_L + 1/(C_L*s))), transferFunc=L1*R1*R_L*g_m*s*(C_L*L_L*s**2 + 1)/((C_L*L_L*s**2 + C_L*R_L*s + 1)*(C1*L1*R1*s**2 + L1*R1*g_m*s + L1*s + R1)), valid=False, fType=INVALID-ORDER, parameters=None),\n",
       "   FilterClassification(zCombo=(L1*s/(C1*L1*s**2 + 1) + R1, oo, oo, oo, oo, 1/(C_L*s)), transferFunc=g_m*(C1*L1*R1*s**2 + L1*s + R1)/(C_L*s*(C1*L1*R1*g_m*s**2 + C1*L1*s**2 + L1*g_m*s + R1*g_m + 1)), valid=False, fType=INVALID-ORDER, parameters=None),\n",
       "   FilterClassification(zCombo=(L1*s/(C1*L1*s**2 + 1) + R1, oo, oo, oo, oo, R_L/(C_L*R_L*s + 1)), transferFunc=R_L*g_m*(C1*L1*R1*s**2 + L1*s + R1)/((C_L*R_L*s + 1)*(C1*L1*R1*g_m*s**2 + C1*L1*s**2 + L1*g_m*s + R1*g_m + 1)), valid=False, fType=INVALID-ORDER, parameters=None),\n",
       "   FilterClassification(zCombo=(L1*s/(C1*L1*s**2 + 1) + R1, oo, oo, oo, oo, R_L + 1/(C_L*s)), transferFunc=g_m*(C_L*R_L*s + 1)*(C1*L1*R1*s**2 + L1*s + R1)/(C_L*s*(C1*L1*R1*g_m*s**2 + C1*L1*s**2 + L1*g_m*s + R1*g_m + 1)), valid=False, fType=INVALID-ORDER, parameters=None),\n",
       "   FilterClassification(zCombo=(L1*s/(C1*L1*s**2 + 1) + R1, oo, oo, oo, oo, L_L*s + 1/(C_L*s)), transferFunc=g_m*(C_L*L_L*s**2 + 1)*(C1*L1*R1*s**2 + L1*s + R1)/(C_L*s*(C1*L1*R1*g_m*s**2 + C1*L1*s**2 + L1*g_m*s + R1*g_m + 1)), valid=False, fType=INVALID-ORDER, parameters=None),\n",
       "   FilterClassification(zCombo=(L1*s/(C1*L1*s**2 + 1) + R1, oo, oo, oo, oo, L_L*s/(C_L*L_L*s**2 + 1)), transferFunc=L_L*g_m*s*(C1*L1*R1*s**2 + L1*s + R1)/((C_L*L_L*s**2 + 1)*(C1*L1*R1*g_m*s**2 + C1*L1*s**2 + L1*g_m*s + R1*g_m + 1)), valid=False, fType=INVALID-ORDER, parameters=None),\n",
       "   FilterClassification(zCombo=(L1*s/(C1*L1*s**2 + 1) + R1, oo, oo, oo, oo, L_L*s + R_L + 1/(C_L*s)), transferFunc=g_m*(C_L*L_L*s**2 + C_L*R_L*s + 1)*(C1*L1*R1*s**2 + L1*s + R1)/(C_L*s*(C1*L1*R1*g_m*s**2 + C1*L1*s**2 + L1*g_m*s + R1*g_m + 1)), valid=False, fType=INVALID-ORDER, parameters=None),\n",
       "   FilterClassification(zCombo=(L1*s/(C1*L1*s**2 + 1) + R1, oo, oo, oo, oo, 1/(C_L*s + 1/R_L + 1/(L_L*s))), transferFunc=L_L*R_L*g_m*s*(C1*L1*R1*s**2 + L1*s + R1)/((C_L*L_L*R_L*s**2 + L_L*s + R_L)*(C1*L1*R1*g_m*s**2 + C1*L1*s**2 + L1*g_m*s + R1*g_m + 1)), valid=False, fType=INVALID-ORDER, parameters=None),\n",
       "   FilterClassification(zCombo=(L1*s/(C1*L1*s**2 + 1) + R1, oo, oo, oo, oo, L_L*s/(C_L*L_L*s**2 + 1) + R_L), transferFunc=g_m*(C1*L1*R1*s**2 + L1*s + R1)*(C_L*L_L*R_L*s**2 + L_L*s + R_L)/((C_L*L_L*s**2 + 1)*(C1*L1*R1*g_m*s**2 + C1*L1*s**2 + L1*g_m*s + R1*g_m + 1)), valid=False, fType=INVALID-ORDER, parameters=None),\n",
       "   FilterClassification(zCombo=(L1*s/(C1*L1*s**2 + 1) + R1, oo, oo, oo, oo, R_L*(L_L*s + 1/(C_L*s))/(L_L*s + R_L + 1/(C_L*s))), transferFunc=R_L*g_m*(C_L*L_L*s**2 + 1)*(C1*L1*R1*s**2 + L1*s + R1)/((C_L*L_L*s**2 + C_L*R_L*s + 1)*(C1*L1*R1*g_m*s**2 + C1*L1*s**2 + L1*g_m*s + R1*g_m + 1)), valid=False, fType=INVALID-ORDER, parameters=None),\n",
       "   FilterClassification(zCombo=(R1*(L1*s + 1/(C1*s))/(L1*s + R1 + 1/(C1*s)), oo, oo, oo, oo, 1/(C_L*s)), transferFunc=R1*g_m*(C1*L1*s**2 + 1)/(C_L*s*(C1*L1*R1*g_m*s**2 + C1*L1*s**2 + C1*R1*s + R1*g_m + 1)), valid=False, fType=INVALID-ORDER, parameters=None),\n",
       "   FilterClassification(zCombo=(R1*(L1*s + 1/(C1*s))/(L1*s + R1 + 1/(C1*s)), oo, oo, oo, oo, R_L/(C_L*R_L*s + 1)), transferFunc=R1*R_L*g_m*(C1*L1*s**2 + 1)/((C_L*R_L*s + 1)*(C1*L1*R1*g_m*s**2 + C1*L1*s**2 + C1*R1*s + R1*g_m + 1)), valid=False, fType=INVALID-ORDER, parameters=None),\n",
       "   FilterClassification(zCombo=(R1*(L1*s + 1/(C1*s))/(L1*s + R1 + 1/(C1*s)), oo, oo, oo, oo, R_L + 1/(C_L*s)), transferFunc=R1*g_m*(C1*L1*s**2 + 1)*(C_L*R_L*s + 1)/(C_L*s*(C1*L1*R1*g_m*s**2 + C1*L1*s**2 + C1*R1*s + R1*g_m + 1)), valid=False, fType=INVALID-ORDER, parameters=None),\n",
       "   FilterClassification(zCombo=(R1*(L1*s + 1/(C1*s))/(L1*s + R1 + 1/(C1*s)), oo, oo, oo, oo, L_L*s + 1/(C_L*s)), transferFunc=R1*g_m*(C1*L1*s**2 + 1)*(C_L*L_L*s**2 + 1)/(C_L*s*(C1*L1*R1*g_m*s**2 + C1*L1*s**2 + C1*R1*s + R1*g_m + 1)), valid=False, fType=INVALID-ORDER, parameters=None),\n",
       "   FilterClassification(zCombo=(R1*(L1*s + 1/(C1*s))/(L1*s + R1 + 1/(C1*s)), oo, oo, oo, oo, L_L*s/(C_L*L_L*s**2 + 1)), transferFunc=L_L*R1*g_m*s*(C1*L1*s**2 + 1)/((C_L*L_L*s**2 + 1)*(C1*L1*R1*g_m*s**2 + C1*L1*s**2 + C1*R1*s + R1*g_m + 1)), valid=False, fType=INVALID-ORDER, parameters=None),\n",
       "   FilterClassification(zCombo=(R1*(L1*s + 1/(C1*s))/(L1*s + R1 + 1/(C1*s)), oo, oo, oo, oo, L_L*s + R_L + 1/(C_L*s)), transferFunc=R1*g_m*(C1*L1*s**2 + 1)*(C_L*L_L*s**2 + C_L*R_L*s + 1)/(C_L*s*(C1*L1*R1*g_m*s**2 + C1*L1*s**2 + C1*R1*s + R1*g_m + 1)), valid=False, fType=INVALID-ORDER, parameters=None),\n",
       "   FilterClassification(zCombo=(R1*(L1*s + 1/(C1*s))/(L1*s + R1 + 1/(C1*s)), oo, oo, oo, oo, 1/(C_L*s + 1/R_L + 1/(L_L*s))), transferFunc=L_L*R1*R_L*g_m*s*(C1*L1*s**2 + 1)/((C_L*L_L*R_L*s**2 + L_L*s + R_L)*(C1*L1*R1*g_m*s**2 + C1*L1*s**2 + C1*R1*s + R1*g_m + 1)), valid=False, fType=INVALID-ORDER, parameters=None),\n",
       "   FilterClassification(zCombo=(R1*(L1*s + 1/(C1*s))/(L1*s + R1 + 1/(C1*s)), oo, oo, oo, oo, L_L*s/(C_L*L_L*s**2 + 1) + R_L), transferFunc=R1*g_m*(C1*L1*s**2 + 1)*(C_L*L_L*R_L*s**2 + L_L*s + R_L)/((C_L*L_L*s**2 + 1)*(C1*L1*R1*g_m*s**2 + C1*L1*s**2 + C1*R1*s + R1*g_m + 1)), valid=False, fType=INVALID-ORDER, parameters=None),\n",
       "   FilterClassification(zCombo=(R1*(L1*s + 1/(C1*s))/(L1*s + R1 + 1/(C1*s)), oo, oo, oo, oo, R_L*(L_L*s + 1/(C_L*s))/(L_L*s + R_L + 1/(C_L*s))), transferFunc=R1*R_L*g_m*(C1*L1*s**2 + 1)*(C_L*L_L*s**2 + 1)/((C_L*L_L*s**2 + C_L*R_L*s + 1)*(C1*L1*R1*g_m*s**2 + C1*L1*s**2 + C1*R1*s + R1*g_m + 1)), valid=False, fType=INVALID-ORDER, parameters=None)]},\n",
       " {})"
      ]
     },
     "execution_count": 5,
     "metadata": {},
     "output_type": "execute_result"
    }
   ],
   "source": [
    "experiment.classifier.classifyBiQuadFilters()\n",
    "experiment.classifier.summarizeFilterType()\n"
   ]
  },
  {
   "cell_type": "code",
   "execution_count": 6,
   "metadata": {},
   "outputs": [
    {
     "name": "stdout",
     "output_type": "stream",
     "text": [
      "LaTeX report generated and saved to: Outputs/TEST_simple_Z1_ZL/TEST_simple_Z1_ZL_summary.tex\n",
      "\n",
      "=== Compiling the reports to PDF ===\n",
      "----** compiling Outputs/TEST_simple_Z1_ZL/TEST_simple_Z1_ZL_summary.tex **----\n",
      "This is pdfTeX, Version 3.141592653-2.6-1.40.26 (TeX Live 2024) (preloaded format=pdflatex)\n",
      " restricted \\write18 enabled.\n",
      "entering extended mode\n",
      "(./TEST_simple_Z1_ZL_summary.tex\n",
      "LaTeX2e <2023-11-01> patch level 1\n",
      "L3 programming layer <2024-02-20>\n",
      "(/usr/local/texlive/2024/texmf-dist/tex/latex/base/article.cls\n",
      "Document Class: article 2023/05/17 v1.4n Standard LaTeX document class\n",
      "(/usr/local/texlive/2024/texmf-dist/tex/latex/base/size10.clo))\n",
      "(/usr/local/texlive/2024/texmf-dist/tex/latex/amsmath/amsmath.sty\n",
      "For additional information on amsmath, use the `?' option.\n",
      "(/usr/local/texlive/2024/texmf-dist/tex/latex/amsmath/amstext.sty\n",
      "(/usr/local/texlive/2024/texmf-dist/tex/latex/amsmath/amsgen.sty))\n",
      "(/usr/local/texlive/2024/texmf-dist/tex/latex/amsmath/amsbsy.sty)\n",
      "(/usr/local/texlive/2024/texmf-dist/tex/latex/amsmath/amsopn.sty))\n",
      "(/usr/local/texlive/2024/texmf-dist/tex/latex/geometry/geometry.sty\n",
      "(/usr/local/texlive/2024/texmf-dist/tex/latex/graphics/keyval.sty)\n",
      "(/usr/local/texlive/2024/texmf-dist/tex/generic/iftex/ifvtex.sty\n",
      "(/usr/local/texlive/2024/texmf-dist/tex/generic/iftex/iftex.sty)))\n",
      "(/usr/local/texlive/2024/texmf-dist/tex/latex/l3backend/l3backend-pdftex.def)\n",
      "No file TEST_simple_Z1_ZL_summary.aux.\n",
      "*geometry* driver: auto-detecting\n",
      "*geometry* detected driver: pdftex\n",
      "No file TEST_simple_Z1_ZL_summary.toc.\n",
      "[1{/usr/local/texlive/2024/texmf-var/fonts/map/pdftex/updmap/pdftex.map}]\n",
      "Underfull \\hbox (badness 10000) in paragraph at lines 20--22\n",
      "\n",
      "\n",
      "Underfull \\hbox (badness 10000) in paragraph at lines 42--44\n",
      "\n",
      "[2]\n",
      "Underfull \\hbox (badness 10000) in paragraph at lines 64--66\n",
      "\n",
      "\n",
      "Underfull \\hbox (badness 10000) in paragraph at lines 86--88\n",
      "\n",
      "[3]\n",
      "Underfull \\hbox (badness 10000) in paragraph at lines 109--111\n",
      "\n",
      "\n",
      "Underfull \\hbox (badness 10000) in paragraph at lines 131--133\n",
      "\n",
      "[4]\n",
      "Underfull \\hbox (badness 10000) in paragraph at lines 153--155\n",
      "\n",
      "\n",
      "Underfull \\hbox (badness 10000) in paragraph at lines 175--177\n",
      "\n",
      "[5]\n",
      "Underfull \\hbox (badness 10000) in paragraph at lines 198--200\n",
      "\n",
      "[6]\n",
      "Underfull \\hbox (badness 10000) in paragraph at lines 220--222\n",
      "\n",
      "\n",
      "Underfull \\hbox (badness 10000) in paragraph at lines 242--244\n",
      "\n",
      "[7]\n",
      "Underfull \\hbox (badness 10000) in paragraph at lines 265--267\n",
      "\n",
      "\n",
      "Underfull \\hbox (badness 10000) in paragraph at lines 287--289\n",
      "\n",
      "[8]\n",
      "Underfull \\hbox (badness 10000) in paragraph at lines 311--313\n",
      "\n",
      "\n",
      "Underfull \\hbox (badness 10000) in paragraph at lines 333--335\n",
      "\n",
      "[9]\n",
      "Underfull \\hbox (badness 10000) in paragraph at lines 355--357\n",
      "\n",
      "[10]\n",
      "Underfull \\hbox (badness 10000) in paragraph at lines 378--380\n",
      "\n",
      "\n",
      "Underfull \\hbox (badness 10000) in paragraph at lines 400--402\n",
      "\n",
      "[11]\n",
      "Underfull \\hbox (badness 10000) in paragraph at lines 422--424\n",
      "\n",
      "\n",
      "Underfull \\hbox (badness 10000) in paragraph at lines 444--446\n",
      "\n",
      "[12] [13] [14] [15] [16] [17] [18] [19] [20] [21] [22] [23] [24] [25] [26]\n",
      "[27] [28] [29] (./TEST_simple_Z1_ZL_summary.aux) )\n",
      "(see the transcript file for additional information)</usr/local/texlive/2024/te\n",
      "xmf-dist/fonts/type1/public/amsfonts/cm/cmbx10.pfb></usr/local/texlive/2024/tex\n",
      "mf-dist/fonts/type1/public/amsfonts/cm/cmbx12.pfb></usr/local/texlive/2024/texm\n",
      "f-dist/fonts/type1/public/amsfonts/cm/cmex10.pfb></usr/local/texlive/2024/texmf\n",
      "-dist/fonts/type1/public/amsfonts/cmextra/cmex7.pfb></usr/local/texlive/2024/te\n",
      "xmf-dist/fonts/type1/public/amsfonts/cmextra/cmex8.pfb></usr/local/texlive/2024\n",
      "/texmf-dist/fonts/type1/public/amsfonts/cm/cmmi10.pfb></usr/local/texlive/2024/\n",
      "texmf-dist/fonts/type1/public/amsfonts/cm/cmmi12.pfb></usr/local/texlive/2024/t\n",
      "exmf-dist/fonts/type1/public/amsfonts/cm/cmmi5.pfb></usr/local/texlive/2024/tex\n",
      "mf-dist/fonts/type1/public/amsfonts/cm/cmmi6.pfb></usr/local/texlive/2024/texmf\n",
      "-dist/fonts/type1/public/amsfonts/cm/cmmi7.pfb></usr/local/texlive/2024/texmf-d\n",
      "ist/fonts/type1/public/amsfonts/cm/cmmi8.pfb></usr/local/texlive/2024/texmf-dis\n",
      "t/fonts/type1/public/amsfonts/cm/cmr10.pfb></usr/local/texlive/2024/texmf-dist/\n",
      "fonts/type1/public/amsfonts/cm/cmr12.pfb></usr/local/texlive/2024/texmf-dist/fo\n",
      "nts/type1/public/amsfonts/cm/cmr17.pfb></usr/local/texlive/2024/texmf-dist/font\n",
      "s/type1/public/amsfonts/cm/cmr5.pfb></usr/local/texlive/2024/texmf-dist/fonts/t\n",
      "ype1/public/amsfonts/cm/cmr6.pfb></usr/local/texlive/2024/texmf-dist/fonts/type\n",
      "1/public/amsfonts/cm/cmr7.pfb></usr/local/texlive/2024/texmf-dist/fonts/type1/p\n",
      "ublic/amsfonts/cm/cmr8.pfb></usr/local/texlive/2024/texmf-dist/fonts/type1/publ\n",
      "ic/amsfonts/cm/cmsy10.pfb>\n",
      "Output written on TEST_simple_Z1_ZL_summary.pdf (29 pages, 247113 bytes).\n",
      "Transcript written on TEST_simple_Z1_ZL_summary.log.\n",
      "PDF generated: Outputs/TEST_simple_Z1_ZL/TEST_simple_Z1_ZL_summary.pdf\n",
      "=== Compiling DONE ===\n",
      "\n"
     ]
    }
   ],
   "source": [
    "experiment.reportSummary(experimentName, Z_arr)\n",
    "experiment.compilePDF()"
   ]
  }
 ],
 "metadata": {
  "kernelspec": {
   "display_name": "base",
   "language": "python",
   "name": "python3"
  },
  "language_info": {
   "codemirror_mode": {
    "name": "ipython",
    "version": 3
   },
   "file_extension": ".py",
   "mimetype": "text/x-python",
   "name": "python",
   "nbconvert_exporter": "python",
   "pygments_lexer": "ipython3",
   "version": "3.12.2"
  }
 },
 "nbformat": 4,
 "nbformat_minor": 2
}
