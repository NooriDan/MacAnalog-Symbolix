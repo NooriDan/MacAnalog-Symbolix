{
 "cells": [
  {
   "cell_type": "code",
   "execution_count": 15,
   "metadata": {},
   "outputs": [],
   "source": [
    "import PySpice\n",
    "import PySpice.DeviceLibrary\n",
    "import PySpice.Doc\n",
    "import PySpice.Doc.ExampleTools\n",
    "import sympy\n",
    "import tqdm\n",
    "\n",
    "# # Custom Imports\n",
    "# from macanalog_symbolix.filter import Filter_Classifier\n",
    "# from macanalog_symbolix.domains import Filter_Classification, Circuit"
   ]
  },
  {
   "cell_type": "code",
   "execution_count": 17,
   "metadata": {},
   "outputs": [
    {
     "data": {
      "text/plain": [
       "<module 'PySpice.DeviceLibrary' from '/Users/danialnoorizadeh/.pyenv/versions/myenv/lib/python3.12/site-packages/PySpice/DeviceLibrary/__init__.py'>"
      ]
     },
     "execution_count": 17,
     "metadata": {},
     "output_type": "execute_result"
    }
   ],
   "source": [
    "(PySpice.DeviceLibrary)\n"
   ]
  }
 ],
 "metadata": {
  "kernelspec": {
   "display_name": "myenv",
   "language": "python",
   "name": "python3"
  },
  "language_info": {
   "codemirror_mode": {
    "name": "ipython",
    "version": 3
   },
   "file_extension": ".py",
   "mimetype": "text/x-python",
   "name": "python",
   "nbconvert_exporter": "python",
   "pygments_lexer": "ipython3",
   "version": "3.12.2"
  }
 },
 "nbformat": 4,
 "nbformat_minor": 2
}
