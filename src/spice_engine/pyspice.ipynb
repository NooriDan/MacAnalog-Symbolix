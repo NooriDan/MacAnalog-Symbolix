{
 "cells": [
  {
   "cell_type": "code",
   "execution_count": 15,
   "metadata": {},
   "outputs": [],
   "source": [
    "import PySpice\n",
    "import PySpice.DeviceLibrary\n",
    "import PySpice.Doc\n",
    "import PySpice.Doc.ExampleTools\n",
    "import sympy\n",
    "import tqdm\n",
    "\n",
    "# # Custom Imports\n",
    "# from macanalog_symbolix.filter import Filter_Classifier\n",
    "# from macanalog_symbolix.domains import Filter_Classification, Circuit"
   ]
  },
  {
   "cell_type": "code",
   "execution_count": 3,
   "metadata": {},
   "outputs": [
    {
     "ename": "AttributeError",
     "evalue": "type object 'Circuit' has no attribute 'from_netlist_file'",
     "output_type": "error",
     "traceback": [
      "\u001b[0;31m---------------------------------------------------------------------------\u001b[0m",
      "\u001b[0;31mAttributeError\u001b[0m                            Traceback (most recent call last)",
      "Cell \u001b[0;32mIn[3], line 8\u001b[0m\n\u001b[1;32m      5\u001b[0m net_filename \u001b[38;5;241m=\u001b[39m \u001b[38;5;124m\"\u001b[39m\u001b[38;5;124msimple_highpass\u001b[39m\u001b[38;5;124m\"\u001b[39m\n\u001b[1;32m      7\u001b[0m \u001b[38;5;66;03m# Load the netlist\u001b[39;00m\n\u001b[0;32m----> 8\u001b[0m circuit \u001b[38;5;241m=\u001b[39m \u001b[43mCircuit\u001b[49m\u001b[38;5;241;43m.\u001b[39;49m\u001b[43mfrom_netlist_file\u001b[49m(\u001b[38;5;124mf\u001b[39m\u001b[38;5;124m'\u001b[39m\u001b[38;5;124m../../schematics/netlists/\u001b[39m\u001b[38;5;132;01m{\u001b[39;00mnet_filename\u001b[38;5;132;01m}\u001b[39;00m\u001b[38;5;124m.net\u001b[39m\u001b[38;5;124m'\u001b[39m)\n\u001b[1;32m     10\u001b[0m \u001b[38;5;66;03m# Simulate the circuit\u001b[39;00m\n\u001b[1;32m     11\u001b[0m simulator \u001b[38;5;241m=\u001b[39m circuit\u001b[38;5;241m.\u001b[39msimulator(temperature\u001b[38;5;241m=\u001b[39m\u001b[38;5;241m25\u001b[39m, nominal_temperature\u001b[38;5;241m=\u001b[39m\u001b[38;5;241m25\u001b[39m)\n",
      "\u001b[0;31mAttributeError\u001b[0m: type object 'Circuit' has no attribute 'from_netlist_file'"
     ]
    }
   ],
   "source": [
    "from PySpice.Probe.Plot import plot\n",
    "from PySpice.Spice.Library import SpiceLibrary\n",
    "from PySpice.Spice.Netlist import Circuit\n",
    "\n",
    "net_filename = \"simple_highpass\"\n",
    "\n",
    "# Load the netlist\n",
    "circuit = Circuit.from_netlist_file(f'../../schematics/netlists/{net_filename}.net')\n",
    "\n",
    "# Simulate the circuit\n",
    "simulator = circuit.simulator(temperature=25, nominal_temperature=25)\n",
    "analysis = simulator.dc(V1=slice(0, 5, 0.1))  # Example DC analysis\n",
    "\n",
    "# Process the results\n",
    "for node in analysis.nodes.values():\n",
    "    print(f\"{node}: {float(node):.3f} V\")\n"
   ]
  },
  {
   "cell_type": "code",
   "execution_count": null,
   "metadata": {},
   "outputs": [
    {
     "ename": "TypeError",
     "evalue": "SinusoidalVoltageSource.__init__() missing 3 required positional arguments: 'name', 'node_plus', and 'node_minus'",
     "output_type": "error",
     "traceback": [
      "\u001b[0;31m---------------------------------------------------------------------------\u001b[0m",
      "\u001b[0;31mTypeError\u001b[0m                                 Traceback (most recent call last)",
      "Cell \u001b[0;32mIn[24], line 1\u001b[0m\n\u001b[0;32m----> 1\u001b[0m help(\u001b[43mcircuit\u001b[49m\u001b[38;5;241;43m.\u001b[39;49m\u001b[43mSinusoidalVoltageSource\u001b[49m\u001b[43m(\u001b[49m\u001b[43m)\u001b[49m)\n",
      "File \u001b[0;32m~/.pyenv/versions/myenv/lib/python3.12/site-packages/PySpice/Spice/__init__.py:56\u001b[0m, in \u001b[0;36m_make_function.<locals>.function\u001b[0;34m(self, *args, **kwargs)\u001b[0m\n\u001b[1;32m     55\u001b[0m \u001b[38;5;28;01mdef\u001b[39;00m \u001b[38;5;21mfunction\u001b[39m(\u001b[38;5;28mself\u001b[39m, \u001b[38;5;241m*\u001b[39margs, \u001b[38;5;241m*\u001b[39m\u001b[38;5;241m*\u001b[39mkwargs):\n\u001b[0;32m---> 56\u001b[0m     \u001b[38;5;28;01mreturn\u001b[39;00m \u001b[43melement_class\u001b[49m\u001b[43m(\u001b[49m\u001b[38;5;28;43mself\u001b[39;49m\u001b[43m,\u001b[49m\u001b[43m \u001b[49m\u001b[38;5;241;43m*\u001b[39;49m\u001b[43margs\u001b[49m\u001b[43m,\u001b[49m\u001b[43m \u001b[49m\u001b[38;5;241;43m*\u001b[39;49m\u001b[38;5;241;43m*\u001b[39;49m\u001b[43mkwargs\u001b[49m\u001b[43m)\u001b[49m\n",
      "\u001b[0;31mTypeError\u001b[0m: SinusoidalVoltageSource.__init__() missing 3 required positional arguments: 'name', 'node_plus', and 'node_minus'"
     ]
    }
   ],
   "source": []
  },
  {
   "cell_type": "code",
   "execution_count": null,
   "metadata": {},
   "outputs": [],
   "source": []
  },
  {
   "cell_type": "code",
   "execution_count": 26,
   "metadata": {},
   "outputs": [
    {
     "name": "stderr",
     "output_type": "stream",
     "text": [
      "Should be unit less\n"
     ]
    },
    {
     "data": {
      "image/png": "[encoded data removed]",
      "text/plain": [
       "<Figure size 640x480 with 1 Axes>"
      ]
     },
     "metadata": {},
     "output_type": "display_data"
    }
   ],
   "source": [
    "from PySpice.Spice.Netlist import Circuit\n",
    "from PySpice.Unit import u_V, u_Ohm, u_F, u_Hz\n",
    "from matplotlib.pyplot import semilogx, xlabel, ylabel, grid, show\n",
    "\n",
    "import numpy as np\n",
    "\n",
    "# Define the low-pass filter circuit\n",
    "circuit = Circuit('Low-Pass Filter')\n",
    "circuit.SinusoidalVoltageSource(1, 'input', circuit.gnd, amplitude=1 @ u_V)  # AC source\n",
    "circuit.C(1, 'input', 'output', 1e-6 @ u_F)  # 1 uF capacitor\n",
    "circuit.R(1, 'output', circuit.gnd, 1e3 @ u_Ohm)  # 1 kOhm resistor\n",
    "\n",
    "\n",
    "# Simulate the circuit\n",
    "simulator = circuit.simulator(temperature=25, nominal_temperature=25)\n",
    "analysis = simulator.ac(variation='dec', start_frequency=1 @ u_Hz, stop_frequency=1e6 @ u_Hz, number_of_points=100)\n",
    "\n",
    "# Plot the results\n",
    "semilogx(analysis.frequency, 20*np.log(abs(analysis['output'])))  # Magnitude of the output voltage\n",
    "xlabel('Frequency [Hz]')\n",
    "ylabel('|V_out| [V]')\n",
    "grid()\n",
    "show()\n"
   ]
  },
  {
   "cell_type": "code",
   "execution_count": 47,
   "metadata": {},
   "outputs": [
    {
     "data": {
      "text/plain": [
       "1e-12"
      ]
     },
     "execution_count": 47,
     "metadata": {},
     "output_type": "execute_result"
    }
   ],
   "source": [
    "val = 1 @ u_pV\n",
    "val.scale"
   ]
  },
  {
   "cell_type": "code",
   "execution_count": 41,
   "metadata": {},
   "outputs": [
    {
     "data": {
      "text/plain": [
       "1"
      ]
     },
     "execution_count": 41,
     "metadata": {},
     "output_type": "execute_result"
    }
   ],
   "source": []
  },
  {
   "cell_type": "code",
   "execution_count": 28,
   "metadata": {},
   "outputs": [
    {
     "name": "stdout",
     "output_type": "stream",
     "text": [
      ".title Low-Pass Filter\n",
      "V1 input 0 DC 0V AC 1V SIN(0V 1V 50Hz 0s 0Hz)\n",
      "C1 input output 1e-06\n",
      "R1 output 0 1000.0Ohm\n",
      "\n"
     ]
    }
   ],
   "source": [
    "print(circuit)\n"
   ]
  },
  {
   "cell_type": "code",
   "execution_count": 13,
   "metadata": {},
   "outputs": [
    {
     "name": "stdout",
     "output_type": "stream",
     "text": [
      "Available nodes: ['output', 'input']\n",
      "output: \n",
      "input: \n"
     ]
    }
   ],
   "source": [
    "print(\"Available nodes:\", list(analysis.nodes.keys()))\n",
    "for node in analysis.nodes.keys():\n",
    "    print(f\"{node}: {int2(abs(analysis[node]))}\")\n"
   ]
  }
 ],
 "metadata": {
  "kernelspec": {
   "display_name": "myenv",
   "language": "python",
   "name": "python3"
  },
  "language_info": {
   "codemirror_mode": {
    "name": "ipython",
    "version": 3
   },
   "file_extension": ".py",
   "mimetype": "text/x-python",
   "name": "python",
   "nbconvert_exporter": "python",
   "pygments_lexer": "ipython3",
   "version": "3.12.2"
  }
 },
 "nbformat": 4,
 "nbformat_minor": 2
}
