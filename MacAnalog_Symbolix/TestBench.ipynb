{
 "cells": [
  {
   "cell_type": "code",
   "execution_count": null,
   "metadata": {},
   "outputs": [],
   "source": [
    "from Global          import *                    # Global vairables\n",
    "from Circuit         import CircuitSolver, Circuit\n",
    "from Experiment      import SymbolixExperimentCG\n",
    "import pickle\n",
    "init_printing()     # to support printing SymPy expressions"
   ]
  },
  {
   "cell_type": "code",
   "execution_count": 2,
   "metadata": {},
   "outputs": [
    {
     "name": "stdout",
     "output_type": "stream",
     "text": [
      "noneZ = {a11, I2b, a21, Von, a22, Iin, V1a, V2a, I1a, V1b, I1b, Vx, Vop, Vip, Iip, I2a, V2b, Vin, a12}\n",
      "solveFor: [Vin, V2a, V2b, V1a, V1b, Va, Vb, Von, Vop, Vip, Vx, Iip, Iin, I1a, I1b, I2a, I2b]\n"
     ]
    },
    {
     "data": {
      "text/plain": [
       "True"
      ]
     },
     "execution_count": 2,
     "metadata": {},
     "output_type": "execute_result"
    }
   ],
   "source": [
    "circuit = Circuit(nodalEquations, impedancesToDisconnect, solveFor)\n",
    "circuit.hasSolution()"
   ]
  },
  {
   "cell_type": "code",
   "execution_count": null,
   "metadata": {},
   "outputs": [],
   "source": [
    "len(nodalEquations)"
   ]
  },
  {
   "cell_type": "code",
   "execution_count": null,
   "metadata": {},
   "outputs": [],
   "source": [
    "len(impedancesToDisconnect)"
   ]
  },
  {
   "cell_type": "code",
   "execution_count": null,
   "metadata": {},
   "outputs": [],
   "source": [
    "len(solveFor)"
   ]
  },
  {
   "cell_type": "markdown",
   "metadata": {},
   "source": [
    "# Loading test Runs"
   ]
  },
  {
   "cell_type": "code",
   "execution_count": null,
   "metadata": {},
   "outputs": [],
   "source": [
    "file = \"../Runs/TIA_simple/simple_Z1_Z2_ZL_object\"  # Ensure full file path\n",
    "try:\n",
    "    with open(file, 'rb') as f:\n",
    "        experiment = pickle.load(f)\n",
    "    print(\"Object loaded successfully.\")\n",
    "except FileNotFoundError:\n",
    "    print(f\"File not found: {file}\")\n",
    "except pickle.UnpicklingError:\n",
    "    print(f\"Error unpickling file: {file}\")\n"
   ]
  },
  {
   "cell_type": "markdown",
   "metadata": {},
   "source": [
    "# Automated Test Bench\n",
    "transmissionMatrix =\n",
    "    - \"simple\"          : \n",
    "    - \"symbolic\"        : \n",
    "    - \"some_parasitic\"  : \n",
    "    - \"full_parasitic\"  :"
   ]
  },
  {
   "cell_type": "code",
   "execution_count": null,
   "metadata": {},
   "outputs": [],
   "source": [
    "_output = [Vop, Von]\n",
    "_input  = [Iip, Iin]\n",
    "T_type  = \"simple\"\n",
    "experimentName = \"TIA\"\n",
    "experimentName += \"_\" + T_type\n",
    "\n",
    "circuit = CircuitSolver(_output, \n",
    "                       _input,\n",
    "                       transmissionMatrixType=T_type)\n",
    "circuit.solve()\n",
    "\n",
    "impedanceKeys = [\n",
    "            \"Z1_ZL\",\n",
    "            \"Z2_ZL\",\n",
    "            \"Z3_ZL\",\n",
    "            \"Z4_ZL\",\n",
    "            \"Z5_ZL\",\n",
    "            \"Z1_Z2_ZL\",\n",
    "            \"Z1_Z3_ZL\",\n",
    "            \"Z1_Z4_ZL\",\n",
    "            \"Z1_Z5_ZL\",\n",
    "            \"Z2_Z3_ZL\",\n",
    "            \"Z2_Z4_ZL\",\n",
    "            \"Z2_Z5_ZL\",\n",
    "            \"Z3_Z4_ZL\",\n",
    "            \"Z3_Z5_ZL\",\n",
    "            \"Z4_Z5_ZL\"\n",
    "            ]\n",
    "\n",
    "impedanceKeys = impedanceKeys[0:2]\n",
    "# impedanceKeys = [\"Z1\"]\n",
    "\n",
    "for i, key in enumerate(impedanceKeys, 1):\n",
    "    print(f\"==> Running the {experimentName} Experiment for {key} ({i}/{len(impedanceKeys)})\\n\")\n",
    "    experiment = SymbolixExperimentCG(experimentName, circuit)\n",
    "    experiment.computeTFs(comboKey=key)\n",
    "    #\n",
    "    experiment.classifier.classifyBiQuadFilters()\n",
    "    experiment.classifier.summarizeFilterType()\n",
    "\n",
    "    experiment.reportSummary(experimentName, key)\n",
    "    experiment.compilePDF()\n",
    "\n",
    "print(impedanceKeys)\n",
    "experiment.classifier.impedanceList"
   ]
  },
  {
   "cell_type": "code",
   "execution_count": null,
   "metadata": {},
   "outputs": [],
   "source": [
    "cluster = {\"TEST\" : experiment.classifier.clusteredByType[\"BP\"][0:2]}\n",
    "experiment.fileSave.generateSummaryTable(experiment.classifier.clusteredByType, \"Tables\")\n",
    "experiment.compilePDF()"
   ]
  },
  {
   "cell_type": "markdown",
   "metadata": {},
   "source": [
    "# Manual Experiment"
   ]
  },
  {
   "cell_type": "code",
   "execution_count": null,
   "metadata": {},
   "outputs": [],
   "source": [
    "from Global import *            # Global vairables (symbolic)\n",
    "from Circuit import CircuitSetUp\n",
    "from Experiment import SymbolixExperimentCG\n",
    "from Utils import FileSave\n",
    "import pickle\n",
    "\n",
    "_output = [Vop, Von]\n",
    "_input  = [Iip, Iin]\n",
    "T_type  = \"simple\"\n",
    "experimentName = \"TIA\"\n",
    "experimentName += \"_\" + T_type\n",
    "\n",
    "circuit = CircuitSetUp(_output, _input,\n",
    "                              transmissionMatrixType=T_type)\n",
    "circuit.solve()\n",
    "\n",
    "# tf = circuit.baseHs\n",
    "# circuit.baseHsDict"
   ]
  },
  {
   "cell_type": "markdown",
   "metadata": {},
   "source": [
    "# Testing"
   ]
  },
  {
   "cell_type": "code",
   "execution_count": null,
   "metadata": {},
   "outputs": [],
   "source": [
    "from Utils import Impedance\n",
    "\n",
    "# Initialize the Impedance object\n",
    "impedance = Impedance(\"test\")\n",
    "\n",
    "# Reset allowedConnections\n",
    "impedance.allowedConnections = []\n",
    "# Test Case 1: Simple series connection\n",
    "impedance.setAllowedImpedanceConnections([\"R + (R | L)\"])\n",
    "\n",
    "impedance.allowedConnections"
   ]
  },
  {
   "cell_type": "code",
   "execution_count": null,
   "metadata": {},
   "outputs": [],
   "source": [
    "import sympy\n",
    "from sympy import simplify\n",
    "\n",
    "\n",
    "def test_setAllowedImpedanceConnections():\n",
    "    # Reset allowedConnections\n",
    "    impedance.allowedConnections = []\n",
    "\n",
    "    # Test Case 1: Simple series connection\n",
    "    impedance.setAllowedImpedanceConnections([\"R + L\"])\n",
    "    expected = impedance.series([impedance.Z_R, impedance.Z_L])\n",
    "    assert simplify(impedance.allowedConnections[0] - expected) == 0, \"Failed: R + L\"\n",
    "\n",
    "    # Test Case 2: Simple parallel connection\n",
    "    impedance.allowedConnections = []  # Reset\n",
    "    impedance.setAllowedImpedanceConnections([\"R | L\"])\n",
    "    expected = impedance.parallel([impedance.Z_R, impedance.Z_L])\n",
    "    assert simplify(impedance.allowedConnections[0] - expected) == 0, \"Failed: R | L\"\n",
    "\n",
    "    # Test Case 3: Nested series and parallel connection\n",
    "    impedance.allowedConnections = []  # Reset\n",
    "    impedance.setAllowedImpedanceConnections([\"R + (L | C)\"])\n",
    "    expected = impedance.series([impedance.Z_R, impedance.parallel([impedance.Z_L, impedance.Z_C])])\n",
    "    assert simplify(impedance.allowedConnections[0] - expected) == 0, \"Failed: R + (L | C)\"\n",
    "\n",
    "    # Test Case 4: Complex nested expression\n",
    "    impedance.allowedConnections = []  # Reset\n",
    "    impedance.setAllowedImpedanceConnections([\"(R | L) + (L | C)\"])\n",
    "    expected = impedance.series([\n",
    "        impedance.parallel([impedance.Z_R, impedance.Z_L]),\n",
    "        impedance.parallel([impedance.Z_L, impedance.Z_C])\n",
    "    ])\n",
    "    assert simplify(impedance.allowedConnections[0] - expected) == 0, \"Failed: (R | L) + (L | C)\"\n",
    "\n",
    "    print(\"All test cases passed!\")\n",
    "\n",
    "# Run the refined tests\n",
    "test_setAllowedImpedanceConnections()\n",
    "\n"
   ]
  },
  {
   "cell_type": "code",
   "execution_count": null,
   "metadata": {},
   "outputs": [],
   "source": [
    "# !pip install pyspice\n",
    "# !pyspice-post-installation --install-ngspice-dll\n",
    "!pyspice-post-installation --check-install\n"
   ]
  },
  {
   "cell_type": "code",
   "execution_count": 14,
   "metadata": {},
   "outputs": [
    {
     "name": "stdout",
     "output_type": "stream",
     "text": [
      "SymPy: \\frac{\\left(x + y\\right)^{3}}{\\left(x - y\\right)^{3}}\n",
      "SymEngine: x**3/(3*x*y**2 - 3*x**2*y + x**3 - y**3) + y**3/(3*x*y**2 - 3*x**2*y + x**3 - y**3) + 3*x*y**2/(3*x*y**2 - 3*x**2*y + x**3 - y**3) + 3*x**2*y/(3*x*y**2 - 3*x**2*y + x**3 - y**3)\n"
     ]
    }
   ],
   "source": [
    "from sympy import symbols, expand, simplify, latex\n",
    "from symengine import Symbol as SE_Symbol, expand as SE_expand\n",
    "# SymPy symbols\n",
    "x, y = symbols('x y')\n",
    "\n",
    "# SymEngine symbols\n",
    "se_x = SE_Symbol('x')\n",
    "se_y = SE_Symbol('y')\n",
    "\n",
    "# Example: SymPy\n",
    "expr_sympy = ((x + y)**3/(x-y)**3)\n",
    "print(f\"SymPy: {latex(expr_sympy)}\")\n",
    "\n",
    "# Example: SymEngine\n",
    "expr_symengine = SE_expand((se_x + se_y)**3/(se_x - se_y)**3)\n",
    "print(f\"SymEngine: {(expr_symengine)}\")\n"
   ]
  },
  {
   "cell_type": "code",
   "execution_count": 19,
   "metadata": {},
   "outputs": [
    {
     "ename": "NameError",
     "evalue": "name 'simp' is not defined",
     "output_type": "error",
     "traceback": [
      "\u001b[0;31m---------------------------------------------------------------------------\u001b[0m",
      "\u001b[0;31mNameError\u001b[0m                                 Traceback (most recent call last)",
      "Cell \u001b[0;32mIn[19], line 1\u001b[0m\n\u001b[0;32m----> 1\u001b[0m \u001b[43msimp\u001b[49m(expr_sympy)\n",
      "\u001b[0;31mNameError\u001b[0m: name 'simp' is not defined"
     ]
    }
   ],
   "source": [
    "simp(expr_sympy)"
   ]
  },
  {
   "cell_type": "code",
   "execution_count": null,
   "metadata": {},
   "outputs": [],
   "source": []
  },
  {
   "cell_type": "code",
   "execution_count": 13,
   "metadata": {},
   "outputs": [
    {
     "data": {
      "text/plain": [
       "x**3/(3*x*y**2 - 3*x**2*y + x**3 - y**3) + y**3/(3*x*y**2 - 3*x**2*y + x**3 - y**3) + 3*x*y**2/(3*x*y**2 - 3*x**2*y + x**3 - y**3) + 3*x**2*y/(3*x*y**2 - 3*x**2*y + x**3 - y**3)"
      ]
     },
     "execution_count": 13,
     "metadata": {},
     "output_type": "execute_result"
    }
   ],
   "source": [
    "expr_symengine"
   ]
  },
  {
   "cell_type": "code",
   "execution_count": 6,
   "metadata": {},
   "outputs": [
    {
     "name": "stdout",
     "output_type": "stream",
     "text": [
      "SymPy Symbol: x, Type: <class 'sympy.core.symbol.Symbol'>\n"
     ]
    }
   ],
   "source": [
    "from sympy import Symbol as SymPy_Symbol\n",
    "from symengine import Symbol as SymEngine_Symbol\n",
    "\n",
    "# Create a SymEngine symbol\n",
    "x_symengine = SymEngine_Symbol('x')\n",
    "\n",
    "# Convert to SymPy symbol\n",
    "x_sympy = SymPy_Symbol(str(x_symengine))\n",
    "\n",
    "print(f\"SymPy Symbol: {x_sympy}, Type: {type(x_sympy)}\")\n",
    "\n"
   ]
  },
  {
   "cell_type": "code",
   "execution_count": null,
   "metadata": {},
   "outputs": [
    {
     "name": "stdout",
     "output_type": "stream",
     "text": [
      "SymPy Expression: x**2 + sin(x)\n",
      "SymEngine Expression: x**2 + sin(x)\n",
      "Type of SymEngine Expression: <class 'symengine.lib.symengine_wrapper.Add'>\n"
     ]
    }
   ],
   "source": [
    "from sympy import symbols, sin\n",
    "from symengine import sympify as\n",
    "\n",
    "# Create a SymPy expression\n",
    "x_sympy = symbols('x')\n",
    "expr_sympy = sin(x_sympy) + x_sympy**2\n",
    "\n",
    "# Convert the SymPy expression to a SymEngine expression\n",
    "expr_symengine = sympify(expr_sympy)\n",
    "\n",
    "print(f\"SymPy Expression: {expr_sympy}\")\n",
    "print(f\"SymEngine Expression: {expr_symengine}\")\n",
    "print(f\"Type of SymEngine Expression: {type(expr_symengine)}\")\n"
   ]
  },
  {
   "cell_type": "code",
   "execution_count": null,
   "metadata": {},
   "outputs": [],
   "source": []
  }
 ],
 "metadata": {
  "kernelspec": {
   "display_name": "myenv",
   "language": "python",
   "name": "python3"
  },
  "language_info": {
   "codemirror_mode": {
    "name": "ipython",
    "version": 3
   },
   "file_extension": ".py",
   "mimetype": "text/x-python",
   "name": "python",
   "nbconvert_exporter": "python",
   "pygments_lexer": "ipython3",
   "version": "3.12.2"
  }
 },
 "nbformat": 4,
 "nbformat_minor": 2
}
