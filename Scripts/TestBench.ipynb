{
 "cells": [
  {
   "cell_type": "code",
   "execution_count": null,
   "metadata": {},
   "outputs": [],
   "source": [
    "from Global import *            # Global vairables (symbolic)\n",
    "from BaseTF import BaseTransferFunction\n",
    "from Experiment import SymbolixExperimentCG"
   ]
  },
  {
   "cell_type": "markdown",
   "metadata": {},
   "source": [
    "# Automated Test Bench\n",
    "transmissionMatrix =\n",
    "    - \"simple\"          : \n",
    "    - \"symbolic\"        : \n",
    "    - \"some_parasitic\"  : \n",
    "    - \"full_parasitic\"  :"
   ]
  },
  {
   "cell_type": "code",
   "execution_count": null,
   "metadata": {},
   "outputs": [],
   "source": [
    "_output = [Vop, Von]\n",
    "_input  = [Iip, Iin]\n",
    "T_type  = \"simple\"\n",
    "experimentName = \"TIA\"\n",
    "experimentName += \"_\" + T_type\n",
    "\n",
    "baseTF = BaseTransferFunction(_output, _input,\n",
    "                              transmissionMatrixType=T_type)\n",
    "baseTF.solve()\n",
    "\n",
    "Z_arr_list = [\n",
    "            \"Z1_ZL\",\n",
    "            \"Z2_ZL\",\n",
    "            \"Z3_ZL\",\n",
    "            \"Z4_ZL\",\n",
    "            \"Z5_ZL\",\n",
    "            \"Z1_Z2_ZL\",\n",
    "            \"Z1_Z3_ZL\",\n",
    "            \"Z1_Z4_ZL\",\n",
    "            \"Z1_Z5_ZL\",\n",
    "            \"Z2_Z3_ZL\",\n",
    "            \"Z2_Z4_ZL\",\n",
    "            \"Z2_Z5_ZL\",\n",
    "            \"Z3_Z4_ZL\",\n",
    "            \"Z3_Z5_ZL\",\n",
    "            \"Z4_Z5_ZL\"\n",
    "            ]\n",
    "\n",
    "# Z_arr_list = Z_arr_list[0:2]\n",
    "Z_arr_list = [\"Z1_ZL\"]\n",
    "\n",
    "for i, Z_arr in enumerate(Z_arr_list, 1):\n",
    "    print(f\"==> Running the {experimentName} Experiment for {Z_arr} ({i}/{len(Z_arr_list)})\\n\")\n",
    "    experiment = SymbolixExperimentCG(baseTF)\n",
    "    experiment.computeTFs(comboKey=Z_arr)\n",
    "    #\n",
    "    experiment.classifier.classifyBiQuadFilters()\n",
    "    experiment.classifier.summarizeFilterType()\n",
    "\n",
    "    experiment.reportSummary(experimentName, Z_arr)\n",
    "    experiment.compilePDF()\n"
   ]
  },
  {
   "cell_type": "code",
   "execution_count": null,
   "metadata": {},
   "outputs": [],
   "source": [
    "# BP for RC coombos only???\n",
    "# -> no DC OC to ground -> R|C, but no R+C\n",
    "\n",
    "experiment.classifier.clusteredByType.get(\"BP\")"
   ]
  },
  {
   "cell_type": "code",
   "execution_count": null,
   "metadata": {},
   "outputs": [],
   "source": [
    "zCombos = (experiment.getZcombos())\n"
   ]
  },
  {
   "cell_type": "code",
   "execution_count": null,
   "metadata": {},
   "outputs": [],
   "source": [
    "Z1_ZL_zz = list(zCombos.get(\"Z1_ZL\"))\n",
    "Z1_ZL_zz"
   ]
  },
  {
   "cell_type": "code",
   "execution_count": null,
   "metadata": {},
   "outputs": [],
   "source": [
    "\n",
    "for _z in Z1_ZL_zz:\n",
    "    if(_z[1] == inf):\n",
    "        print(_z)"
   ]
  }
 ],
 "metadata": {
  "kernelspec": {
   "display_name": "base",
   "language": "python",
   "name": "python3"
  },
  "language_info": {
   "codemirror_mode": {
    "name": "ipython",
    "version": 3
   },
   "file_extension": ".py",
   "mimetype": "text/x-python",
   "name": "python",
   "nbconvert_exporter": "python",
   "pygments_lexer": "ipython3",
   "version": "3.12.2"
  }
 },
 "nbformat": 4,
 "nbformat_minor": 2
}
