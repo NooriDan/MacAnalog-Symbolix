{
 "cells": [
  {
   "cell_type": "code",
   "execution_count": 3,
   "metadata": {},
   "outputs": [],
   "source": [
    "from   symcircuit.symbolic_solver.domains    import Circuit, ExperimentResult\n",
    "from   symcircuit.symbolic_solver.solver     import Circuit_Solver, Impedance_Analyzer\n",
    "from   symcircuit.demo.multiple_feedback     import Customized_Current_Mode_Multiple_Feedback_With_Limitation as TIA_CMMF\n",
    "import sympy"
   ]
  },
  {
   "cell_type": "markdown",
   "metadata": {},
   "source": [
    "# Manual Runs"
   ]
  },
  {
   "cell_type": "code",
   "execution_count": 2,
   "metadata": {},
   "outputs": [
    {
     "data": {
      "text/plain": [
       "True"
      ]
     },
     "execution_count": 2,
     "metadata": {},
     "output_type": "execute_result"
    }
   ],
   "source": [
    "circuit = TIA_CMMF.circuit\n",
    "circuit.hasSolution()"
   ]
  },
  {
   "cell_type": "code",
   "execution_count": 3,
   "metadata": {},
   "outputs": [
    {
     "data": {
      "text/plain": [
       "([Z_1, Z_2, Z_3, Z_4, Z_5, Z_6], [Z_1, Z_2, Z_3, Z_4, Z_5, Z_6])"
      ]
     },
     "execution_count": 3,
     "metadata": {},
     "output_type": "execute_result"
    }
   ],
   "source": [
    "circuit.impedances, circuit.impedancesToDisconnect"
   ]
  },
  {
   "cell_type": "code",
   "execution_count": 4,
   "metadata": {},
   "outputs": [
    {
     "name": "stdout",
     "output_type": "stream",
     "text": [
      "1 - Eq(-GB*Vn1/s, Vo1)\n",
      "2 - Eq(-GB*Vn2/s, Vo2)\n",
      "3 - Eq(Iin, (-Va + Vn1)/Z_2 + (Vn1 - Vo1)/Z_1)\n",
      "4 - Eq(0, -Va/Z_4 + (Va - Vn2)/Z_5 + (-Va + Vo1)/Z_3 + (-Va + Vn1)/Z_2)\n",
      "5 - Eq((Va - Vn2)/Z_5, (Vn2 - Vo2)/Z_6)\n"
     ]
    }
   ],
   "source": [
    "for i, eq in enumerate(circuit.nodal_equations, 1):\n",
    "    print(f\"{i} - {eq}\")"
   ]
  },
  {
   "cell_type": "code",
   "execution_count": 5,
   "metadata": {},
   "outputs": [
    {
     "data": {
      "text/plain": [
       "[Vo1, Vo2, Va, Vn1, Vn2, Iin]"
      ]
     },
     "execution_count": 5,
     "metadata": {},
     "output_type": "execute_result"
    }
   ],
   "source": [
    "circuit.solve_for"
   ]
  },
  {
   "cell_type": "markdown",
   "metadata": {},
   "source": [
    "## Circuit Solver"
   ]
  },
  {
   "cell_type": "code",
   "execution_count": 6,
   "metadata": {},
   "outputs": [],
   "source": [
    "solver = Circuit_Solver(circuit=circuit, _output= sympy.symbols(\"Vo2 0\"), _input=sympy.symbols(\"Iin 0\"), transmissionMatrixType=\"NA\")"
   ]
  },
  {
   "cell_type": "code",
   "execution_count": 7,
   "metadata": {},
   "outputs": [
    {
     "data": {
      "text/plain": [
       "[Z_1, Z_2, Z_3, Z_4, Z_5, Z_6]"
      ]
     },
     "execution_count": 7,
     "metadata": {},
     "output_type": "execute_result"
    }
   ],
   "source": [
    "solver.impedances"
   ]
  },
  {
   "cell_type": "code",
   "execution_count": 8,
   "metadata": {},
   "outputs": [
    {
     "data": {
      "text/plain": [
       "[Z_1, Z_2, Z_3, Z_4, Z_5, Z_6]"
      ]
     },
     "execution_count": 8,
     "metadata": {},
     "output_type": "execute_result"
    }
   ],
   "source": [
    "solver.impedancesToDisconnect"
   ]
  },
  {
   "cell_type": "code",
   "execution_count": 7,
   "metadata": {},
   "outputs": [
    {
     "name": "stdout",
     "output_type": "stream",
     "text": [
      "====Solving the Circuit====\n",
      "--- Computing the possible impedance connections for [Z_1, Z_2, Z_3, Z_4, Z_5, Z_6] ---\n",
      "--- Impedance connections stored in Circuit_Solver.impedanceConnections---\n",
      " ----------------------------\n",
      "1 - Solving for (Vo2 - 0) / (Iin - 0)\n",
      "2 - Intermediate Variables: [Vo1, Vo2, Va, Vn1, Vn2, Iin]\n",
      " ----------------------------\n",
      "3 - solved the base transfer function (symbolic [T])\n",
      "-- Single-ended input/output\n",
      "processing combo index 1\n",
      "processing combo index 2\n",
      "processing combo index 3\n",
      "processing combo index 4\n",
      "processing combo index 5\n",
      "processing combo index 6\n",
      "=====*Circuit Solved*=====\n"
     ]
    }
   ],
   "source": [
    "solver.solve()"
   ]
  },
  {
   "cell_type": "code",
   "execution_count": 8,
   "metadata": {},
   "outputs": [
    {
     "data": {
      "text/plain": [
       "[{Va: Iin*(GB**2*Z_1*Z_2*Z_4*Z_5 + GB*Z_1*Z_2*Z_4*Z_5*s + GB*Z_1*Z_2*Z_4*Z_6*s - GB*Z_1*Z_3*Z_4*Z_5*s - Z_1*Z_3*Z_4*Z_5*s**2 - Z_1*Z_3*Z_4*Z_6*s**2)/(-GB**2*Z_1*Z_4*Z_5 + GB**2*Z_2*Z_3*Z_4 - GB**2*Z_2*Z_3*Z_5 - GB**2*Z_2*Z_4*Z_5 - GB**2*Z_3*Z_4*Z_5 + GB*Z_1*Z_3*Z_4*s - GB*Z_1*Z_3*Z_5*s - 2*GB*Z_1*Z_4*Z_5*s - GB*Z_1*Z_4*Z_6*s + 2*GB*Z_2*Z_3*Z_4*s - 2*GB*Z_2*Z_3*Z_5*s - GB*Z_2*Z_3*Z_6*s - 2*GB*Z_2*Z_4*Z_5*s - GB*Z_2*Z_4*Z_6*s - 2*GB*Z_3*Z_4*Z_5*s - GB*Z_3*Z_4*Z_6*s + Z_1*Z_3*Z_4*s**2 - Z_1*Z_3*Z_5*s**2 - Z_1*Z_3*Z_6*s**2 - Z_1*Z_4*Z_5*s**2 - Z_1*Z_4*Z_6*s**2 + Z_2*Z_3*Z_4*s**2 - Z_2*Z_3*Z_5*s**2 - Z_2*Z_3*Z_6*s**2 - Z_2*Z_4*Z_5*s**2 - Z_2*Z_4*Z_6*s**2 - Z_3*Z_4*Z_5*s**2 - Z_3*Z_4*Z_6*s**2),\n",
       "  Vn1: Iin*(GB*Z_1*Z_2*Z_3*Z_4*s - GB*Z_1*Z_2*Z_3*Z_5*s - GB*Z_1*Z_2*Z_4*Z_5*s - GB*Z_1*Z_3*Z_4*Z_5*s + Z_1*Z_2*Z_3*Z_4*s**2 - Z_1*Z_2*Z_3*Z_5*s**2 - Z_1*Z_2*Z_3*Z_6*s**2 - Z_1*Z_2*Z_4*Z_5*s**2 - Z_1*Z_2*Z_4*Z_6*s**2 - Z_1*Z_3*Z_4*Z_5*s**2 - Z_1*Z_3*Z_4*Z_6*s**2)/(-GB**2*Z_1*Z_4*Z_5 + GB**2*Z_2*Z_3*Z_4 - GB**2*Z_2*Z_3*Z_5 - GB**2*Z_2*Z_4*Z_5 - GB**2*Z_3*Z_4*Z_5 + GB*Z_1*Z_3*Z_4*s - GB*Z_1*Z_3*Z_5*s - 2*GB*Z_1*Z_4*Z_5*s - GB*Z_1*Z_4*Z_6*s + 2*GB*Z_2*Z_3*Z_4*s - 2*GB*Z_2*Z_3*Z_5*s - GB*Z_2*Z_3*Z_6*s - 2*GB*Z_2*Z_4*Z_5*s - GB*Z_2*Z_4*Z_6*s - 2*GB*Z_3*Z_4*Z_5*s - GB*Z_3*Z_4*Z_6*s + Z_1*Z_3*Z_4*s**2 - Z_1*Z_3*Z_5*s**2 - Z_1*Z_3*Z_6*s**2 - Z_1*Z_4*Z_5*s**2 - Z_1*Z_4*Z_6*s**2 + Z_2*Z_3*Z_4*s**2 - Z_2*Z_3*Z_5*s**2 - Z_2*Z_3*Z_6*s**2 - Z_2*Z_4*Z_5*s**2 - Z_2*Z_4*Z_6*s**2 - Z_3*Z_4*Z_5*s**2 - Z_3*Z_4*Z_6*s**2),\n",
       "  Vn2: Iin*(GB*Z_1*Z_2*Z_4*Z_6*s - Z_1*Z_3*Z_4*Z_6*s**2)/(-GB**2*Z_1*Z_4*Z_5 + GB**2*Z_2*Z_3*Z_4 - GB**2*Z_2*Z_3*Z_5 - GB**2*Z_2*Z_4*Z_5 - GB**2*Z_3*Z_4*Z_5 + GB*Z_1*Z_3*Z_4*s - GB*Z_1*Z_3*Z_5*s - 2*GB*Z_1*Z_4*Z_5*s - GB*Z_1*Z_4*Z_6*s + 2*GB*Z_2*Z_3*Z_4*s - 2*GB*Z_2*Z_3*Z_5*s - GB*Z_2*Z_3*Z_6*s - 2*GB*Z_2*Z_4*Z_5*s - GB*Z_2*Z_4*Z_6*s - 2*GB*Z_3*Z_4*Z_5*s - GB*Z_3*Z_4*Z_6*s + Z_1*Z_3*Z_4*s**2 - Z_1*Z_3*Z_5*s**2 - Z_1*Z_3*Z_6*s**2 - Z_1*Z_4*Z_5*s**2 - Z_1*Z_4*Z_6*s**2 + Z_2*Z_3*Z_4*s**2 - Z_2*Z_3*Z_5*s**2 - Z_2*Z_3*Z_6*s**2 - Z_2*Z_4*Z_5*s**2 - Z_2*Z_4*Z_6*s**2 - Z_3*Z_4*Z_5*s**2 - Z_3*Z_4*Z_6*s**2),\n",
       "  Vo1: Iin*(-GB**2*Z_1*Z_2*Z_3*Z_4 + GB**2*Z_1*Z_2*Z_3*Z_5 + GB**2*Z_1*Z_2*Z_4*Z_5 + GB**2*Z_1*Z_3*Z_4*Z_5 - GB*Z_1*Z_2*Z_3*Z_4*s + GB*Z_1*Z_2*Z_3*Z_5*s + GB*Z_1*Z_2*Z_3*Z_6*s + GB*Z_1*Z_2*Z_4*Z_5*s + GB*Z_1*Z_2*Z_4*Z_6*s + GB*Z_1*Z_3*Z_4*Z_5*s + GB*Z_1*Z_3*Z_4*Z_6*s)/(-GB**2*Z_1*Z_4*Z_5 + GB**2*Z_2*Z_3*Z_4 - GB**2*Z_2*Z_3*Z_5 - GB**2*Z_2*Z_4*Z_5 - GB**2*Z_3*Z_4*Z_5 + GB*Z_1*Z_3*Z_4*s - GB*Z_1*Z_3*Z_5*s - 2*GB*Z_1*Z_4*Z_5*s - GB*Z_1*Z_4*Z_6*s + 2*GB*Z_2*Z_3*Z_4*s - 2*GB*Z_2*Z_3*Z_5*s - GB*Z_2*Z_3*Z_6*s - 2*GB*Z_2*Z_4*Z_5*s - GB*Z_2*Z_4*Z_6*s - 2*GB*Z_3*Z_4*Z_5*s - GB*Z_3*Z_4*Z_6*s + Z_1*Z_3*Z_4*s**2 - Z_1*Z_3*Z_5*s**2 - Z_1*Z_3*Z_6*s**2 - Z_1*Z_4*Z_5*s**2 - Z_1*Z_4*Z_6*s**2 + Z_2*Z_3*Z_4*s**2 - Z_2*Z_3*Z_5*s**2 - Z_2*Z_3*Z_6*s**2 - Z_2*Z_4*Z_5*s**2 - Z_2*Z_4*Z_6*s**2 - Z_3*Z_4*Z_5*s**2 - Z_3*Z_4*Z_6*s**2),\n",
       "  Vo2: Iin*(-GB**2*Z_1*Z_2*Z_4*Z_6 + GB*Z_1*Z_3*Z_4*Z_6*s)/(-GB**2*Z_1*Z_4*Z_5 + GB**2*Z_2*Z_3*Z_4 - GB**2*Z_2*Z_3*Z_5 - GB**2*Z_2*Z_4*Z_5 - GB**2*Z_3*Z_4*Z_5 + GB*Z_1*Z_3*Z_4*s - GB*Z_1*Z_3*Z_5*s - 2*GB*Z_1*Z_4*Z_5*s - GB*Z_1*Z_4*Z_6*s + 2*GB*Z_2*Z_3*Z_4*s - 2*GB*Z_2*Z_3*Z_5*s - GB*Z_2*Z_3*Z_6*s - 2*GB*Z_2*Z_4*Z_5*s - GB*Z_2*Z_4*Z_6*s - 2*GB*Z_3*Z_4*Z_5*s - GB*Z_3*Z_4*Z_6*s + Z_1*Z_3*Z_4*s**2 - Z_1*Z_3*Z_5*s**2 - Z_1*Z_3*Z_6*s**2 - Z_1*Z_4*Z_5*s**2 - Z_1*Z_4*Z_6*s**2 + Z_2*Z_3*Z_4*s**2 - Z_2*Z_3*Z_5*s**2 - Z_2*Z_3*Z_6*s**2 - Z_2*Z_4*Z_5*s**2 - Z_2*Z_4*Z_6*s**2 - Z_3*Z_4*Z_5*s**2 - Z_3*Z_4*Z_6*s**2)}]"
      ]
     },
     "execution_count": 8,
     "metadata": {},
     "output_type": "execute_result"
    }
   ],
   "source": [
    "solver.solutions"
   ]
  },
  {
   "cell_type": "code",
   "execution_count": 9,
   "metadata": {},
   "outputs": [
    {
     "data": {
      "text/latex": [
       "$\\displaystyle \\frac{- GB^{2} Z_{1} Z_{2} Z_{4} Z_{6} + GB Z_{1} Z_{3} Z_{4} Z_{6} s}{- GB^{2} Z_{1} Z_{4} Z_{5} + GB^{2} Z_{2} Z_{3} Z_{4} - GB^{2} Z_{2} Z_{3} Z_{5} - GB^{2} Z_{2} Z_{4} Z_{5} - GB^{2} Z_{3} Z_{4} Z_{5} + GB Z_{1} Z_{3} Z_{4} s - GB Z_{1} Z_{3} Z_{5} s - 2 GB Z_{1} Z_{4} Z_{5} s - GB Z_{1} Z_{4} Z_{6} s + 2 GB Z_{2} Z_{3} Z_{4} s - 2 GB Z_{2} Z_{3} Z_{5} s - GB Z_{2} Z_{3} Z_{6} s - 2 GB Z_{2} Z_{4} Z_{5} s - GB Z_{2} Z_{4} Z_{6} s - 2 GB Z_{3} Z_{4} Z_{5} s - GB Z_{3} Z_{4} Z_{6} s + Z_{1} Z_{3} Z_{4} s^{2} - Z_{1} Z_{3} Z_{5} s^{2} - Z_{1} Z_{3} Z_{6} s^{2} - Z_{1} Z_{4} Z_{5} s^{2} - Z_{1} Z_{4} Z_{6} s^{2} + Z_{2} Z_{3} Z_{4} s^{2} - Z_{2} Z_{3} Z_{5} s^{2} - Z_{2} Z_{3} Z_{6} s^{2} - Z_{2} Z_{4} Z_{5} s^{2} - Z_{2} Z_{4} Z_{6} s^{2} - Z_{3} Z_{4} Z_{5} s^{2} - Z_{3} Z_{4} Z_{6} s^{2}}$"
      ],
      "text/plain": [
       "(-GB**2*Z_1*Z_2*Z_4*Z_6 + GB*Z_1*Z_3*Z_4*Z_6*s)/(-GB**2*Z_1*Z_4*Z_5 + GB**2*Z_2*Z_3*Z_4 - GB**2*Z_2*Z_3*Z_5 - GB**2*Z_2*Z_4*Z_5 - GB**2*Z_3*Z_4*Z_5 + GB*Z_1*Z_3*Z_4*s - GB*Z_1*Z_3*Z_5*s - 2*GB*Z_1*Z_4*Z_5*s - GB*Z_1*Z_4*Z_6*s + 2*GB*Z_2*Z_3*Z_4*s - 2*GB*Z_2*Z_3*Z_5*s - GB*Z_2*Z_3*Z_6*s - 2*GB*Z_2*Z_4*Z_5*s - GB*Z_2*Z_4*Z_6*s - 2*GB*Z_3*Z_4*Z_5*s - GB*Z_3*Z_4*Z_6*s + Z_1*Z_3*Z_4*s**2 - Z_1*Z_3*Z_5*s**2 - Z_1*Z_3*Z_6*s**2 - Z_1*Z_4*Z_5*s**2 - Z_1*Z_4*Z_6*s**2 + Z_2*Z_3*Z_4*s**2 - Z_2*Z_3*Z_5*s**2 - Z_2*Z_3*Z_6*s**2 - Z_2*Z_4*Z_5*s**2 - Z_2*Z_4*Z_6*s**2 - Z_3*Z_4*Z_5*s**2 - Z_3*Z_4*Z_6*s**2)"
      ]
     },
     "execution_count": 9,
     "metadata": {},
     "output_type": "execute_result"
    }
   ],
   "source": [
    "symcircuit_sol = solver.baseHs\n",
    "symcircuit_sol"
   ]
  },
  {
   "cell_type": "markdown",
   "metadata": {},
   "source": [
    "## Impedance Analyzer"
   ]
  },
  {
   "cell_type": "code",
   "execution_count": 10,
   "metadata": {},
   "outputs": [
    {
     "name": "stdout",
     "output_type": "stream",
     "text": [
      "True\n"
     ]
    },
    {
     "data": {
      "text/plain": [
       "<symcircuit.symbolic_solver.solver.Impedance_Analyzer at 0x10e3b3830>"
      ]
     },
     "execution_count": 10,
     "metadata": {},
     "output_type": "execute_result"
    }
   ],
   "source": [
    "analysis = Impedance_Analyzer(\"VLSI_CMMF\", circuit_solver=solver)\n",
    "print(analysis.isCircuitSolved())\n",
    "analysis"
   ]
  },
  {
   "cell_type": "code",
   "execution_count": 11,
   "metadata": {},
   "outputs": [
    {
     "name": "stdout",
     "output_type": "stream",
     "text": [
      "1 - Z_1 - allowed connections [R_1, 1/(C_1*s), R_1 + 1/(C_1*s), R_1/(C_1*R_1*s + 1)]\n",
      "2 - Z_2 - allowed connections [R_2, 1/(C_2*s), R_2 + 1/(C_2*s), R_2/(C_2*R_2*s + 1)]\n",
      "3 - Z_3 - allowed connections [R_3, 1/(C_3*s), R_3 + 1/(C_3*s), R_3/(C_3*R_3*s + 1)]\n",
      "4 - Z_4 - allowed connections [R_4, 1/(C_4*s), R_4 + 1/(C_4*s), R_4/(C_4*R_4*s + 1)]\n",
      "5 - Z_5 - allowed connections [R_5, 1/(C_5*s), R_5 + 1/(C_5*s), R_5/(C_5*R_5*s + 1)]\n",
      "6 - Z_6 - allowed connections [R_6, 1/(C_6*s), R_6 + 1/(C_6*s), R_6/(C_6*R_6*s + 1)]\n"
     ]
    }
   ],
   "source": [
    "for block in analysis.impedance_blocks:\n",
    "    print(f\"{block.name} - {block.symbol} - allowed connections {block.allowedConnections}\")"
   ]
  },
  {
   "cell_type": "code",
   "execution_count": 12,
   "metadata": {},
   "outputs": [
    {
     "name": "stdout",
     "output_type": "stream",
     "text": [
      "combo key = Z1_Z2_Z3_Z4_Z5_Z6\n"
     ]
    },
    {
     "name": "stderr",
     "output_type": "stream",
     "text": [
      "Getting the TFs (CG): 100%|██████████| 4096/4096 [07:19<00:00,  9.32combo/s]"
     ]
    },
    {
     "name": "stdout",
     "output_type": "stream",
     "text": [
      "Number of transfer functions found: 4096\n"
     ]
    },
    {
     "name": "stderr",
     "output_type": "stream",
     "text": [
      "\n"
     ]
    }
   ],
   "source": [
    "analysis.computeTFs(comboKey=\"Z1_Z2_Z3_Z4_Z5_Z6\")"
   ]
  },
  {
   "cell_type": "code",
   "execution_count": 13,
   "metadata": {},
   "outputs": [
    {
     "name": "stderr",
     "output_type": "stream",
     "text": [
      "Computing Biquad filter parameters: 100%|██████████| 4096/4096 [05:30<00:00, 12.41filter/s]\n"
     ]
    }
   ],
   "source": [
    "analysis.classifier.classifyBiQuadFilters()"
   ]
  },
  {
   "cell_type": "code",
   "execution_count": 14,
   "metadata": {},
   "outputs": [
    {
     "name": "stdout",
     "output_type": "stream",
     "text": [
      "summarizing for filters in ['AP', 'BP', 'BS', 'GE', 'HP', 'LP', 'X-INVALID-NUMER', 'X-INVALID-ORDER', 'X-INVALID-WZ', 'X-PolynomialError']\n",
      "AP : 0\n",
      "BP : 0\n",
      "BS : 0\n",
      "GE : 0\n",
      "HP : 0\n",
      "LP : 0\n",
      "X-INVALID-NUMER : 1\n",
      "X-INVALID-ORDER : 4095\n",
      "X-INVALID-WZ : 0\n",
      "X-PolynomialError : 0\n"
     ]
    }
   ],
   "source": [
    "classifications = analysis.classifier.summarizeFilterType()"
   ]
  },
  {
   "cell_type": "code",
   "execution_count": 15,
   "metadata": {},
   "outputs": [
    {
     "name": "stdout",
     "output_type": "stream",
     "text": [
      "LaTeX report generated and saved to: Runs/VLSI_CMMF/CMMF_BiQuad_Z1_Z2_Z3_Z4_Z5_Z6/CMMF_BiQuad_Z1_Z2_Z3_Z4_Z5_Z6_summary.tex\n"
     ]
    }
   ],
   "source": [
    "analysis.reportSummary(\"CMMF_BiQuad\", \"Z1_Z2_Z3_Z4_Z5_Z6\")"
   ]
  },
  {
   "cell_type": "code",
   "execution_count": 16,
   "metadata": {},
   "outputs": [
    {
     "name": "stdout",
     "output_type": "stream",
     "text": [
      "\n",
      "=== Compiling the reports to PDF ===\n",
      "----** compiling Runs/VLSI_CMMF/CMMF_BiQuad_Z1_Z2_Z3_Z4_Z5_Z6/CMMF_BiQuad_Z1_Z2_Z3_Z4_Z5_Z6_summary.tex **----\n",
      "PDF generated: Runs/VLSI_CMMF/CMMF_BiQuad_Z1_Z2_Z3_Z4_Z5_Z6/CMMF_BiQuad_Z1_Z2_Z3_Z4_Z5_Z6_summary.pdf\n",
      "=== Compiling DONE ===\n",
      "\n"
     ]
    }
   ],
   "source": [
    "analysis.compilePDF()"
   ]
  },
  {
   "cell_type": "code",
   "execution_count": 17,
   "metadata": {},
   "outputs": [
    {
     "name": "stdout",
     "output_type": "stream",
     "text": [
      "Object exported to Runs/VLSI_CMMF/test_object\n"
     ]
    }
   ],
   "source": [
    "analysis.export(\"test\")"
   ]
  },
  {
   "cell_type": "code",
   "execution_count": 24,
   "metadata": {},
   "outputs": [
    {
     "data": {
      "text/plain": [
       "(R_1, R_2, R_3, 1/(C_4*s), R_5 + 1/(C_5*s), R_6)"
      ]
     },
     "execution_count": 24,
     "metadata": {},
     "output_type": "execute_result"
    }
   ],
   "source": [
    "obj = analysis.classifier.clusteredByType[\"X-INVALID-ORDER\"][23]\n",
    "obj.zCombo"
   ]
  },
  {
   "cell_type": "markdown",
   "metadata": {},
   "source": [
    "# Loading"
   ]
  },
  {
   "cell_type": "code",
   "execution_count": 4,
   "metadata": {},
   "outputs": [],
   "source": [
    "results = ExperimentResult(\"VLSI_CMMF_NONIDEAL\")\n",
    "results = results.load(\"Runs/VLSI_CMMF/test_object\")"
   ]
  },
  {
   "cell_type": "code",
   "execution_count": 12,
   "metadata": {},
   "outputs": [
    {
     "data": {
      "text/plain": [
       "(R_1, R_2, R_3, 1/(C_4*s), R_5 + 1/(C_5*s), R_6)"
      ]
     },
     "execution_count": 12,
     "metadata": {},
     "output_type": "execute_result"
    }
   ],
   "source": [
    "obj = results.classifier.clusteredByType[\"X-INVALID-ORDER\"][23]\n",
    "obj.zCombo"
   ]
  },
  {
   "cell_type": "code",
   "execution_count": 13,
   "metadata": {},
   "outputs": [
    {
     "data": {
      "text/latex": [
       "$\\displaystyle \\frac{C_{5} GB R_{1} R_{6} s \\left(GB R_{2} - R_{3} s\\right)}{C_{4} C_{5} R_{3} s^{4} \\left(R_{1} R_{5} + R_{1} R_{6} + R_{2} R_{5} + R_{2} R_{6}\\right) + GB^{2} R_{1} + GB^{2} R_{2} + GB^{2} R_{3} + GB s \\left(C_{4} GB R_{2} R_{3} + C_{5} GB R_{1} R_{5} - C_{5} GB R_{2} R_{3} + C_{5} GB R_{2} R_{5} + C_{5} GB R_{3} R_{5} + 2 R_{1} + 2 R_{2} + 2 R_{3}\\right) + s^{3} \\left(C_{4} C_{5} GB R_{1} R_{3} R_{5} + 2 C_{4} C_{5} GB R_{2} R_{3} R_{5} + C_{4} C_{5} GB R_{2} R_{3} R_{6} + C_{4} R_{1} R_{3} + C_{4} R_{2} R_{3} - C_{5} R_{1} R_{3} + C_{5} R_{1} R_{5} + C_{5} R_{1} R_{6} - C_{5} R_{2} R_{3} + C_{5} R_{2} R_{5} + C_{5} R_{2} R_{6} + C_{5} R_{3} R_{5} + C_{5} R_{3} R_{6}\\right) + s^{2} \\left(C_{4} C_{5} GB^{2} R_{2} R_{3} R_{5} + C_{4} GB R_{1} R_{3} + 2 C_{4} GB R_{2} R_{3} - C_{5} GB R_{1} R_{3} + 2 C_{5} GB R_{1} R_{5} + C_{5} GB R_{1} R_{6} - 2 C_{5} GB R_{2} R_{3} + 2 C_{5} GB R_{2} R_{5} + C_{5} GB R_{2} R_{6} + 2 C_{5} GB R_{3} R_{5} + C_{5} GB R_{3} R_{6} + R_{1} + R_{2} + R_{3}\\right)}$"
      ],
      "text/plain": [
       "C_5*GB*R_1*R_6*s*(GB*R_2 - R_3*s)/(C_4*C_5*R_3*s**4*(R_1*R_5 + R_1*R_6 + R_2*R_5 + R_2*R_6) + GB**2*R_1 + GB**2*R_2 + GB**2*R_3 + GB*s*(C_4*GB*R_2*R_3 + C_5*GB*R_1*R_5 - C_5*GB*R_2*R_3 + C_5*GB*R_2*R_5 + C_5*GB*R_3*R_5 + 2*R_1 + 2*R_2 + 2*R_3) + s**3*(C_4*C_5*GB*R_1*R_3*R_5 + 2*C_4*C_5*GB*R_2*R_3*R_5 + C_4*C_5*GB*R_2*R_3*R_6 + C_4*R_1*R_3 + C_4*R_2*R_3 - C_5*R_1*R_3 + C_5*R_1*R_5 + C_5*R_1*R_6 - C_5*R_2*R_3 + C_5*R_2*R_5 + C_5*R_2*R_6 + C_5*R_3*R_5 + C_5*R_3*R_6) + s**2*(C_4*C_5*GB**2*R_2*R_3*R_5 + C_4*GB*R_1*R_3 + 2*C_4*GB*R_2*R_3 - C_5*GB*R_1*R_3 + 2*C_5*GB*R_1*R_5 + C_5*GB*R_1*R_6 - 2*C_5*GB*R_2*R_3 + 2*C_5*GB*R_2*R_5 + C_5*GB*R_2*R_6 + 2*C_5*GB*R_3*R_5 + C_5*GB*R_3*R_6 + R_1 + R_2 + R_3))"
      ]
     },
     "execution_count": 13,
     "metadata": {},
     "output_type": "execute_result"
    }
   ],
   "source": [
    "obj.transferFunc.simplify()"
   ]
  },
  {
   "cell_type": "code",
   "execution_count": 15,
   "metadata": {},
   "outputs": [
    {
     "data": {
      "text/plain": [
       "[R_3, s, R_1, C_5, R_6, C_4, R_5, R_2, GB]"
      ]
     },
     "execution_count": 15,
     "metadata": {},
     "output_type": "execute_result"
    }
   ],
   "source": [
    "sym_dict = [sym for sym in obj.transferFunc.free_symbols]\n",
    "sym_dict"
   ]
  },
  {
   "cell_type": "code",
   "execution_count": 22,
   "metadata": {},
   "outputs": [
    {
     "name": "stdout",
     "output_type": "stream",
     "text": [
      "(-80000000.0*pi**2*f**2 - 400000000000000.0*I*pi*f)/(-2.56e-7*pi**4*f**4 + 1.376*I*pi**3*f**3 + 2332000.0*pi**2*f**2 - 1320000000000.0*I*pi*f - 3.0e+17)\n"
     ]
    },
    {
     "name": "stderr",
     "output_type": "stream",
     "text": [
      "2025-01-22 13:57:23,609 - matplotlib.ticker - vmin 5.011872336272722 vmax 19952623.149688788\n",
      "2025-01-22 13:57:23,610 - matplotlib.ticker - ticklocs array([1.e-01, 1.e+00, 1.e+01, 1.e+02, 1.e+03, 1.e+04, 1.e+05, 1.e+06,\n",
      "       1.e+07, 1.e+08, 1.e+09])\n",
      "2025-01-22 13:57:23,617 - matplotlib.ticker - vmin 5.011872336272722 vmax 19952623.149688788\n",
      "2025-01-22 13:57:23,617 - matplotlib.ticker - ticklocs array([2.e-01, 3.e-01, 4.e-01, 5.e-01, 6.e-01, 7.e-01, 8.e-01, 9.e-01,\n",
      "       2.e+00, 3.e+00, 4.e+00, 5.e+00, 6.e+00, 7.e+00, 8.e+00, 9.e+00,\n",
      "       2.e+01, 3.e+01, 4.e+01, 5.e+01, 6.e+01, 7.e+01, 8.e+01, 9.e+01,\n",
      "       2.e+02, 3.e+02, 4.e+02, 5.e+02, 6.e+02, 7.e+02, 8.e+02, 9.e+02,\n",
      "       2.e+03, 3.e+03, 4.e+03, 5.e+03, 6.e+03, 7.e+03, 8.e+03, 9.e+03,\n",
      "       2.e+04, 3.e+04, 4.e+04, 5.e+04, 6.e+04, 7.e+04, 8.e+04, 9.e+04,\n",
      "       2.e+05, 3.e+05, 4.e+05, 5.e+05, 6.e+05, 7.e+05, 8.e+05, 9.e+05,\n",
      "       2.e+06, 3.e+06, 4.e+06, 5.e+06, 6.e+06, 7.e+06, 8.e+06, 9.e+06,\n",
      "       2.e+07, 3.e+07, 4.e+07, 5.e+07, 6.e+07, 7.e+07, 8.e+07, 9.e+07,\n",
      "       2.e+08, 3.e+08, 4.e+08, 5.e+08, 6.e+08, 7.e+08, 8.e+08, 9.e+08,\n",
      "       2.e+09, 3.e+09, 4.e+09, 5.e+09, 6.e+09, 7.e+09, 8.e+09, 9.e+09])\n",
      "2025-01-22 13:57:23,618 - matplotlib.ticker - vmin 5.011872336272722 vmax 19952623.149688788\n",
      "2025-01-22 13:57:23,619 - matplotlib.ticker - ticklocs array([1.e-01, 1.e+00, 1.e+01, 1.e+02, 1.e+03, 1.e+04, 1.e+05, 1.e+06,\n",
      "       1.e+07, 1.e+08, 1.e+09])\n",
      "2025-01-22 13:57:23,700 - matplotlib.ticker - vmin 5.011872336272722 vmax 19952623.149688788\n",
      "2025-01-22 13:57:23,700 - matplotlib.ticker - ticklocs array([1.e-01, 1.e+00, 1.e+01, 1.e+02, 1.e+03, 1.e+04, 1.e+05, 1.e+06,\n",
      "       1.e+07, 1.e+08, 1.e+09])\n",
      "2025-01-22 13:57:23,701 - matplotlib.ticker - vmin 5.011872336272722 vmax 19952623.149688788\n",
      "2025-01-22 13:57:23,701 - matplotlib.ticker - ticklocs array([2.e-01, 3.e-01, 4.e-01, 5.e-01, 6.e-01, 7.e-01, 8.e-01, 9.e-01,\n",
      "       2.e+00, 3.e+00, 4.e+00, 5.e+00, 6.e+00, 7.e+00, 8.e+00, 9.e+00,\n",
      "       2.e+01, 3.e+01, 4.e+01, 5.e+01, 6.e+01, 7.e+01, 8.e+01, 9.e+01,\n",
      "       2.e+02, 3.e+02, 4.e+02, 5.e+02, 6.e+02, 7.e+02, 8.e+02, 9.e+02,\n",
      "       2.e+03, 3.e+03, 4.e+03, 5.e+03, 6.e+03, 7.e+03, 8.e+03, 9.e+03,\n",
      "       2.e+04, 3.e+04, 4.e+04, 5.e+04, 6.e+04, 7.e+04, 8.e+04, 9.e+04,\n",
      "       2.e+05, 3.e+05, 4.e+05, 5.e+05, 6.e+05, 7.e+05, 8.e+05, 9.e+05,\n",
      "       2.e+06, 3.e+06, 4.e+06, 5.e+06, 6.e+06, 7.e+06, 8.e+06, 9.e+06,\n",
      "       2.e+07, 3.e+07, 4.e+07, 5.e+07, 6.e+07, 7.e+07, 8.e+07, 9.e+07,\n",
      "       2.e+08, 3.e+08, 4.e+08, 5.e+08, 6.e+08, 7.e+08, 8.e+08, 9.e+08,\n",
      "       2.e+09, 3.e+09, 4.e+09, 5.e+09, 6.e+09, 7.e+09, 8.e+09, 9.e+09])\n",
      "2025-01-22 13:57:23,702 - matplotlib.ticker - vmin 5.011872336272722 vmax 19952623.149688788\n",
      "2025-01-22 13:57:23,703 - matplotlib.ticker - ticklocs array([1.e-01, 1.e+00, 1.e+01, 1.e+02, 1.e+03, 1.e+04, 1.e+05, 1.e+06,\n",
      "       1.e+07, 1.e+08, 1.e+09])\n",
      "2025-01-22 13:57:23,731 - matplotlib.ticker - vmin 5.011872336272722 vmax 19952623.149688788\n",
      "2025-01-22 13:57:23,731 - matplotlib.ticker - ticklocs array([1.e-01, 1.e+00, 1.e+01, 1.e+02, 1.e+03, 1.e+04, 1.e+05, 1.e+06,\n",
      "       1.e+07, 1.e+08, 1.e+09])\n",
      "2025-01-22 13:57:23,732 - matplotlib.ticker - vmin 5.011872336272722 vmax 19952623.149688788\n",
      "2025-01-22 13:57:23,732 - matplotlib.ticker - ticklocs array([2.e-01, 3.e-01, 4.e-01, 5.e-01, 6.e-01, 7.e-01, 8.e-01, 9.e-01,\n",
      "       2.e+00, 3.e+00, 4.e+00, 5.e+00, 6.e+00, 7.e+00, 8.e+00, 9.e+00,\n",
      "       2.e+01, 3.e+01, 4.e+01, 5.e+01, 6.e+01, 7.e+01, 8.e+01, 9.e+01,\n",
      "       2.e+02, 3.e+02, 4.e+02, 5.e+02, 6.e+02, 7.e+02, 8.e+02, 9.e+02,\n",
      "       2.e+03, 3.e+03, 4.e+03, 5.e+03, 6.e+03, 7.e+03, 8.e+03, 9.e+03,\n",
      "       2.e+04, 3.e+04, 4.e+04, 5.e+04, 6.e+04, 7.e+04, 8.e+04, 9.e+04,\n",
      "       2.e+05, 3.e+05, 4.e+05, 5.e+05, 6.e+05, 7.e+05, 8.e+05, 9.e+05,\n",
      "       2.e+06, 3.e+06, 4.e+06, 5.e+06, 6.e+06, 7.e+06, 8.e+06, 9.e+06,\n",
      "       2.e+07, 3.e+07, 4.e+07, 5.e+07, 6.e+07, 7.e+07, 8.e+07, 9.e+07,\n",
      "       2.e+08, 3.e+08, 4.e+08, 5.e+08, 6.e+08, 7.e+08, 8.e+08, 9.e+08,\n",
      "       2.e+09, 3.e+09, 4.e+09, 5.e+09, 6.e+09, 7.e+09, 8.e+09, 9.e+09])\n",
      "2025-01-22 13:57:23,733 - matplotlib.ticker - vmin 5.011872336272722 vmax 19952623.149688788\n",
      "2025-01-22 13:57:23,734 - matplotlib.ticker - ticklocs array([1.e-01, 1.e+00, 1.e+01, 1.e+02, 1.e+03, 1.e+04, 1.e+05, 1.e+06,\n",
      "       1.e+07, 1.e+08, 1.e+09])\n",
      "2025-01-22 13:57:23,752 - matplotlib.ticker - vmin 5.011872336272722 vmax 19952623.149688788\n",
      "2025-01-22 13:57:23,753 - matplotlib.ticker - ticklocs array([1.e-01, 1.e+00, 1.e+01, 1.e+02, 1.e+03, 1.e+04, 1.e+05, 1.e+06,\n",
      "       1.e+07, 1.e+08, 1.e+09])\n",
      "2025-01-22 13:57:23,753 - matplotlib.ticker - vmin 5.011872336272722 vmax 19952623.149688788\n",
      "2025-01-22 13:57:23,753 - matplotlib.ticker - ticklocs array([2.e-01, 3.e-01, 4.e-01, 5.e-01, 6.e-01, 7.e-01, 8.e-01, 9.e-01,\n",
      "       2.e+00, 3.e+00, 4.e+00, 5.e+00, 6.e+00, 7.e+00, 8.e+00, 9.e+00,\n",
      "       2.e+01, 3.e+01, 4.e+01, 5.e+01, 6.e+01, 7.e+01, 8.e+01, 9.e+01,\n",
      "       2.e+02, 3.e+02, 4.e+02, 5.e+02, 6.e+02, 7.e+02, 8.e+02, 9.e+02,\n",
      "       2.e+03, 3.e+03, 4.e+03, 5.e+03, 6.e+03, 7.e+03, 8.e+03, 9.e+03,\n",
      "       2.e+04, 3.e+04, 4.e+04, 5.e+04, 6.e+04, 7.e+04, 8.e+04, 9.e+04,\n",
      "       2.e+05, 3.e+05, 4.e+05, 5.e+05, 6.e+05, 7.e+05, 8.e+05, 9.e+05,\n",
      "       2.e+06, 3.e+06, 4.e+06, 5.e+06, 6.e+06, 7.e+06, 8.e+06, 9.e+06,\n",
      "       2.e+07, 3.e+07, 4.e+07, 5.e+07, 6.e+07, 7.e+07, 8.e+07, 9.e+07,\n",
      "       2.e+08, 3.e+08, 4.e+08, 5.e+08, 6.e+08, 7.e+08, 8.e+08, 9.e+08,\n",
      "       2.e+09, 3.e+09, 4.e+09, 5.e+09, 6.e+09, 7.e+09, 8.e+09, 9.e+09])\n",
      "2025-01-22 13:57:23,755 - matplotlib.ticker - vmin 5.011872336272722 vmax 19952623.149688788\n",
      "2025-01-22 13:57:23,755 - matplotlib.ticker - ticklocs array([1.e-01, 1.e+00, 1.e+01, 1.e+02, 1.e+03, 1.e+04, 1.e+05, 1.e+06,\n",
      "       1.e+07, 1.e+08, 1.e+09])\n",
      "2025-01-22 13:57:23,757 - matplotlib.ticker - vmin 5.011872336272722 vmax 19952623.149688788\n",
      "2025-01-22 13:57:23,758 - matplotlib.ticker - ticklocs array([1.e-01, 1.e+00, 1.e+01, 1.e+02, 1.e+03, 1.e+04, 1.e+05, 1.e+06,\n",
      "       1.e+07, 1.e+08, 1.e+09])\n",
      "2025-01-22 13:57:23,758 - matplotlib.ticker - vmin 5.011872336272722 vmax 19952623.149688788\n",
      "2025-01-22 13:57:23,758 - matplotlib.ticker - ticklocs array([2.e-01, 3.e-01, 4.e-01, 5.e-01, 6.e-01, 7.e-01, 8.e-01, 9.e-01,\n",
      "       2.e+00, 3.e+00, 4.e+00, 5.e+00, 6.e+00, 7.e+00, 8.e+00, 9.e+00,\n",
      "       2.e+01, 3.e+01, 4.e+01, 5.e+01, 6.e+01, 7.e+01, 8.e+01, 9.e+01,\n",
      "       2.e+02, 3.e+02, 4.e+02, 5.e+02, 6.e+02, 7.e+02, 8.e+02, 9.e+02,\n",
      "       2.e+03, 3.e+03, 4.e+03, 5.e+03, 6.e+03, 7.e+03, 8.e+03, 9.e+03,\n",
      "       2.e+04, 3.e+04, 4.e+04, 5.e+04, 6.e+04, 7.e+04, 8.e+04, 9.e+04,\n",
      "       2.e+05, 3.e+05, 4.e+05, 5.e+05, 6.e+05, 7.e+05, 8.e+05, 9.e+05,\n",
      "       2.e+06, 3.e+06, 4.e+06, 5.e+06, 6.e+06, 7.e+06, 8.e+06, 9.e+06,\n",
      "       2.e+07, 3.e+07, 4.e+07, 5.e+07, 6.e+07, 7.e+07, 8.e+07, 9.e+07,\n",
      "       2.e+08, 3.e+08, 4.e+08, 5.e+08, 6.e+08, 7.e+08, 8.e+08, 9.e+08,\n",
      "       2.e+09, 3.e+09, 4.e+09, 5.e+09, 6.e+09, 7.e+09, 8.e+09, 9.e+09])\n",
      "2025-01-22 13:57:23,759 - matplotlib.ticker - vmin 5.011872336272722 vmax 19952623.149688788\n",
      "2025-01-22 13:57:23,759 - matplotlib.ticker - ticklocs array([1.e-01, 1.e+00, 1.e+01, 1.e+02, 1.e+03, 1.e+04, 1.e+05, 1.e+06,\n",
      "       1.e+07, 1.e+08, 1.e+09])\n",
      "2025-01-22 13:57:23,763 - matplotlib.ticker - vmin 5.011872336272722 vmax 19952623.149688788\n",
      "2025-01-22 13:57:23,764 - matplotlib.ticker - ticklocs array([1.e-01, 1.e+00, 1.e+01, 1.e+02, 1.e+03, 1.e+04, 1.e+05, 1.e+06,\n",
      "       1.e+07, 1.e+08, 1.e+09])\n",
      "2025-01-22 13:57:23,769 - matplotlib.ticker - vmin 5.011872336272722 vmax 19952623.149688788\n",
      "2025-01-22 13:57:23,769 - matplotlib.ticker - ticklocs array([2.e-01, 3.e-01, 4.e-01, 5.e-01, 6.e-01, 7.e-01, 8.e-01, 9.e-01,\n",
      "       2.e+00, 3.e+00, 4.e+00, 5.e+00, 6.e+00, 7.e+00, 8.e+00, 9.e+00,\n",
      "       2.e+01, 3.e+01, 4.e+01, 5.e+01, 6.e+01, 7.e+01, 8.e+01, 9.e+01,\n",
      "       2.e+02, 3.e+02, 4.e+02, 5.e+02, 6.e+02, 7.e+02, 8.e+02, 9.e+02,\n",
      "       2.e+03, 3.e+03, 4.e+03, 5.e+03, 6.e+03, 7.e+03, 8.e+03, 9.e+03,\n",
      "       2.e+04, 3.e+04, 4.e+04, 5.e+04, 6.e+04, 7.e+04, 8.e+04, 9.e+04,\n",
      "       2.e+05, 3.e+05, 4.e+05, 5.e+05, 6.e+05, 7.e+05, 8.e+05, 9.e+05,\n",
      "       2.e+06, 3.e+06, 4.e+06, 5.e+06, 6.e+06, 7.e+06, 8.e+06, 9.e+06,\n",
      "       2.e+07, 3.e+07, 4.e+07, 5.e+07, 6.e+07, 7.e+07, 8.e+07, 9.e+07,\n",
      "       2.e+08, 3.e+08, 4.e+08, 5.e+08, 6.e+08, 7.e+08, 8.e+08, 9.e+08,\n",
      "       2.e+09, 3.e+09, 4.e+09, 5.e+09, 6.e+09, 7.e+09, 8.e+09, 9.e+09])\n",
      "2025-01-22 13:57:23,770 - matplotlib.ticker - vmin 5.011872336272722 vmax 19952623.149688788\n",
      "2025-01-22 13:57:23,770 - matplotlib.ticker - ticklocs array([1.e-01, 1.e+00, 1.e+01, 1.e+02, 1.e+03, 1.e+04, 1.e+05, 1.e+06,\n",
      "       1.e+07, 1.e+08, 1.e+09])\n",
      "2025-01-22 13:57:23,801 - matplotlib.ticker - vmin 5.011872336272722 vmax 19952623.149688788\n",
      "2025-01-22 13:57:23,802 - matplotlib.ticker - ticklocs array([1.e-01, 1.e+00, 1.e+01, 1.e+02, 1.e+03, 1.e+04, 1.e+05, 1.e+06,\n",
      "       1.e+07, 1.e+08, 1.e+09])\n",
      "2025-01-22 13:57:23,802 - matplotlib.ticker - vmin 5.011872336272722 vmax 19952623.149688788\n",
      "2025-01-22 13:57:23,802 - matplotlib.ticker - ticklocs array([2.e-01, 3.e-01, 4.e-01, 5.e-01, 6.e-01, 7.e-01, 8.e-01, 9.e-01,\n",
      "       2.e+00, 3.e+00, 4.e+00, 5.e+00, 6.e+00, 7.e+00, 8.e+00, 9.e+00,\n",
      "       2.e+01, 3.e+01, 4.e+01, 5.e+01, 6.e+01, 7.e+01, 8.e+01, 9.e+01,\n",
      "       2.e+02, 3.e+02, 4.e+02, 5.e+02, 6.e+02, 7.e+02, 8.e+02, 9.e+02,\n",
      "       2.e+03, 3.e+03, 4.e+03, 5.e+03, 6.e+03, 7.e+03, 8.e+03, 9.e+03,\n",
      "       2.e+04, 3.e+04, 4.e+04, 5.e+04, 6.e+04, 7.e+04, 8.e+04, 9.e+04,\n",
      "       2.e+05, 3.e+05, 4.e+05, 5.e+05, 6.e+05, 7.e+05, 8.e+05, 9.e+05,\n",
      "       2.e+06, 3.e+06, 4.e+06, 5.e+06, 6.e+06, 7.e+06, 8.e+06, 9.e+06,\n",
      "       2.e+07, 3.e+07, 4.e+07, 5.e+07, 6.e+07, 7.e+07, 8.e+07, 9.e+07,\n",
      "       2.e+08, 3.e+08, 4.e+08, 5.e+08, 6.e+08, 7.e+08, 8.e+08, 9.e+08,\n",
      "       2.e+09, 3.e+09, 4.e+09, 5.e+09, 6.e+09, 7.e+09, 8.e+09, 9.e+09])\n",
      "2025-01-22 13:57:23,803 - matplotlib.ticker - vmin 5.011872336272722 vmax 19952623.149688788\n",
      "2025-01-22 13:57:23,803 - matplotlib.ticker - ticklocs array([1.e-01, 1.e+00, 1.e+01, 1.e+02, 1.e+03, 1.e+04, 1.e+05, 1.e+06,\n",
      "       1.e+07, 1.e+08, 1.e+09])\n",
      "2025-01-22 13:57:23,806 - matplotlib.ticker - vmin 5.011872336272722 vmax 19952623.149688788\n",
      "2025-01-22 13:57:23,807 - matplotlib.ticker - ticklocs array([1.e-01, 1.e+00, 1.e+01, 1.e+02, 1.e+03, 1.e+04, 1.e+05, 1.e+06,\n",
      "       1.e+07, 1.e+08, 1.e+09])\n",
      "2025-01-22 13:57:23,807 - matplotlib.ticker - vmin 5.011872336272722 vmax 19952623.149688788\n",
      "2025-01-22 13:57:23,807 - matplotlib.ticker - ticklocs array([2.e-01, 3.e-01, 4.e-01, 5.e-01, 6.e-01, 7.e-01, 8.e-01, 9.e-01,\n",
      "       2.e+00, 3.e+00, 4.e+00, 5.e+00, 6.e+00, 7.e+00, 8.e+00, 9.e+00,\n",
      "       2.e+01, 3.e+01, 4.e+01, 5.e+01, 6.e+01, 7.e+01, 8.e+01, 9.e+01,\n",
      "       2.e+02, 3.e+02, 4.e+02, 5.e+02, 6.e+02, 7.e+02, 8.e+02, 9.e+02,\n",
      "       2.e+03, 3.e+03, 4.e+03, 5.e+03, 6.e+03, 7.e+03, 8.e+03, 9.e+03,\n",
      "       2.e+04, 3.e+04, 4.e+04, 5.e+04, 6.e+04, 7.e+04, 8.e+04, 9.e+04,\n",
      "       2.e+05, 3.e+05, 4.e+05, 5.e+05, 6.e+05, 7.e+05, 8.e+05, 9.e+05,\n",
      "       2.e+06, 3.e+06, 4.e+06, 5.e+06, 6.e+06, 7.e+06, 8.e+06, 9.e+06,\n",
      "       2.e+07, 3.e+07, 4.e+07, 5.e+07, 6.e+07, 7.e+07, 8.e+07, 9.e+07,\n",
      "       2.e+08, 3.e+08, 4.e+08, 5.e+08, 6.e+08, 7.e+08, 8.e+08, 9.e+08,\n",
      "       2.e+09, 3.e+09, 4.e+09, 5.e+09, 6.e+09, 7.e+09, 8.e+09, 9.e+09])\n",
      "2025-01-22 13:57:23,808 - matplotlib.ticker - vmin 5.011872336272722 vmax 19952623.149688788\n",
      "2025-01-22 13:57:23,808 - matplotlib.ticker - ticklocs array([1.e-01, 1.e+00, 1.e+01, 1.e+02, 1.e+03, 1.e+04, 1.e+05, 1.e+06,\n",
      "       1.e+07, 1.e+08, 1.e+09])\n",
      "2025-01-22 13:57:23,822 - matplotlib.ticker - vmin 5.011872336272722 vmax 19952623.149688788\n",
      "2025-01-22 13:57:23,822 - matplotlib.ticker - ticklocs array([1.e-01, 1.e+00, 1.e+01, 1.e+02, 1.e+03, 1.e+04, 1.e+05, 1.e+06,\n",
      "       1.e+07, 1.e+08, 1.e+09])\n",
      "2025-01-22 13:57:23,823 - matplotlib.ticker - vmin 5.011872336272722 vmax 19952623.149688788\n",
      "2025-01-22 13:57:23,823 - matplotlib.ticker - ticklocs array([2.e-01, 3.e-01, 4.e-01, 5.e-01, 6.e-01, 7.e-01, 8.e-01, 9.e-01,\n",
      "       2.e+00, 3.e+00, 4.e+00, 5.e+00, 6.e+00, 7.e+00, 8.e+00, 9.e+00,\n",
      "       2.e+01, 3.e+01, 4.e+01, 5.e+01, 6.e+01, 7.e+01, 8.e+01, 9.e+01,\n",
      "       2.e+02, 3.e+02, 4.e+02, 5.e+02, 6.e+02, 7.e+02, 8.e+02, 9.e+02,\n",
      "       2.e+03, 3.e+03, 4.e+03, 5.e+03, 6.e+03, 7.e+03, 8.e+03, 9.e+03,\n",
      "       2.e+04, 3.e+04, 4.e+04, 5.e+04, 6.e+04, 7.e+04, 8.e+04, 9.e+04,\n",
      "       2.e+05, 3.e+05, 4.e+05, 5.e+05, 6.e+05, 7.e+05, 8.e+05, 9.e+05,\n",
      "       2.e+06, 3.e+06, 4.e+06, 5.e+06, 6.e+06, 7.e+06, 8.e+06, 9.e+06,\n",
      "       2.e+07, 3.e+07, 4.e+07, 5.e+07, 6.e+07, 7.e+07, 8.e+07, 9.e+07,\n",
      "       2.e+08, 3.e+08, 4.e+08, 5.e+08, 6.e+08, 7.e+08, 8.e+08, 9.e+08,\n",
      "       2.e+09, 3.e+09, 4.e+09, 5.e+09, 6.e+09, 7.e+09, 8.e+09, 9.e+09])\n",
      "2025-01-22 13:57:23,823 - matplotlib.ticker - vmin 5.011872336272722 vmax 19952623.149688788\n",
      "2025-01-22 13:57:23,824 - matplotlib.ticker - ticklocs array([1.e-01, 1.e+00, 1.e+01, 1.e+02, 1.e+03, 1.e+04, 1.e+05, 1.e+06,\n",
      "       1.e+07, 1.e+08, 1.e+09])\n",
      "2025-01-22 13:57:23,826 - matplotlib.ticker - vmin 5.011872336272722 vmax 19952623.149688788\n",
      "2025-01-22 13:57:23,826 - matplotlib.ticker - ticklocs array([1.e-01, 1.e+00, 1.e+01, 1.e+02, 1.e+03, 1.e+04, 1.e+05, 1.e+06,\n",
      "       1.e+07, 1.e+08, 1.e+09])\n",
      "2025-01-22 13:57:23,826 - matplotlib.ticker - vmin 5.011872336272722 vmax 19952623.149688788\n",
      "2025-01-22 13:57:23,826 - matplotlib.ticker - ticklocs array([2.e-01, 3.e-01, 4.e-01, 5.e-01, 6.e-01, 7.e-01, 8.e-01, 9.e-01,\n",
      "       2.e+00, 3.e+00, 4.e+00, 5.e+00, 6.e+00, 7.e+00, 8.e+00, 9.e+00,\n",
      "       2.e+01, 3.e+01, 4.e+01, 5.e+01, 6.e+01, 7.e+01, 8.e+01, 9.e+01,\n",
      "       2.e+02, 3.e+02, 4.e+02, 5.e+02, 6.e+02, 7.e+02, 8.e+02, 9.e+02,\n",
      "       2.e+03, 3.e+03, 4.e+03, 5.e+03, 6.e+03, 7.e+03, 8.e+03, 9.e+03,\n",
      "       2.e+04, 3.e+04, 4.e+04, 5.e+04, 6.e+04, 7.e+04, 8.e+04, 9.e+04,\n",
      "       2.e+05, 3.e+05, 4.e+05, 5.e+05, 6.e+05, 7.e+05, 8.e+05, 9.e+05,\n",
      "       2.e+06, 3.e+06, 4.e+06, 5.e+06, 6.e+06, 7.e+06, 8.e+06, 9.e+06,\n",
      "       2.e+07, 3.e+07, 4.e+07, 5.e+07, 6.e+07, 7.e+07, 8.e+07, 9.e+07,\n",
      "       2.e+08, 3.e+08, 4.e+08, 5.e+08, 6.e+08, 7.e+08, 8.e+08, 9.e+08,\n",
      "       2.e+09, 3.e+09, 4.e+09, 5.e+09, 6.e+09, 7.e+09, 8.e+09, 9.e+09])\n",
      "2025-01-22 13:57:23,827 - matplotlib.ticker - vmin 5.011872336272722 vmax 19952623.149688788\n",
      "2025-01-22 13:57:23,827 - matplotlib.ticker - ticklocs array([1.e-01, 1.e+00, 1.e+01, 1.e+02, 1.e+03, 1.e+04, 1.e+05, 1.e+06,\n",
      "       1.e+07, 1.e+08, 1.e+09])\n",
      "2025-01-22 13:57:23,836 - matplotlib.ticker - vmin 5.011872336272722 vmax 19952623.149688788\n",
      "2025-01-22 13:57:23,837 - matplotlib.ticker - ticklocs array([1.e-01, 1.e+00, 1.e+01, 1.e+02, 1.e+03, 1.e+04, 1.e+05, 1.e+06,\n",
      "       1.e+07, 1.e+08, 1.e+09])\n",
      "2025-01-22 13:57:23,837 - matplotlib.ticker - vmin 5.011872336272722 vmax 19952623.149688788\n",
      "2025-01-22 13:57:23,838 - matplotlib.ticker - ticklocs array([2.e-01, 3.e-01, 4.e-01, 5.e-01, 6.e-01, 7.e-01, 8.e-01, 9.e-01,\n",
      "       2.e+00, 3.e+00, 4.e+00, 5.e+00, 6.e+00, 7.e+00, 8.e+00, 9.e+00,\n",
      "       2.e+01, 3.e+01, 4.e+01, 5.e+01, 6.e+01, 7.e+01, 8.e+01, 9.e+01,\n",
      "       2.e+02, 3.e+02, 4.e+02, 5.e+02, 6.e+02, 7.e+02, 8.e+02, 9.e+02,\n",
      "       2.e+03, 3.e+03, 4.e+03, 5.e+03, 6.e+03, 7.e+03, 8.e+03, 9.e+03,\n",
      "       2.e+04, 3.e+04, 4.e+04, 5.e+04, 6.e+04, 7.e+04, 8.e+04, 9.e+04,\n",
      "       2.e+05, 3.e+05, 4.e+05, 5.e+05, 6.e+05, 7.e+05, 8.e+05, 9.e+05,\n",
      "       2.e+06, 3.e+06, 4.e+06, 5.e+06, 6.e+06, 7.e+06, 8.e+06, 9.e+06,\n",
      "       2.e+07, 3.e+07, 4.e+07, 5.e+07, 6.e+07, 7.e+07, 8.e+07, 9.e+07,\n",
      "       2.e+08, 3.e+08, 4.e+08, 5.e+08, 6.e+08, 7.e+08, 8.e+08, 9.e+08,\n",
      "       2.e+09, 3.e+09, 4.e+09, 5.e+09, 6.e+09, 7.e+09, 8.e+09, 9.e+09])\n",
      "2025-01-22 13:57:23,838 - matplotlib.ticker - vmin 5.011872336272722 vmax 19952623.149688788\n",
      "2025-01-22 13:57:23,838 - matplotlib.ticker - ticklocs array([1.e-01, 1.e+00, 1.e+01, 1.e+02, 1.e+03, 1.e+04, 1.e+05, 1.e+06,\n",
      "       1.e+07, 1.e+08, 1.e+09])\n",
      "2025-01-22 13:57:23,846 - matplotlib.ticker - vmin 5.011872336272722 vmax 19952623.149688788\n",
      "2025-01-22 13:57:23,846 - matplotlib.ticker - ticklocs array([1.e-01, 1.e+00, 1.e+01, 1.e+02, 1.e+03, 1.e+04, 1.e+05, 1.e+06,\n",
      "       1.e+07, 1.e+08, 1.e+09])\n",
      "2025-01-22 13:57:23,846 - matplotlib.ticker - vmin 5.011872336272722 vmax 19952623.149688788\n",
      "2025-01-22 13:57:23,846 - matplotlib.ticker - ticklocs array([2.e-01, 3.e-01, 4.e-01, 5.e-01, 6.e-01, 7.e-01, 8.e-01, 9.e-01,\n",
      "       2.e+00, 3.e+00, 4.e+00, 5.e+00, 6.e+00, 7.e+00, 8.e+00, 9.e+00,\n",
      "       2.e+01, 3.e+01, 4.e+01, 5.e+01, 6.e+01, 7.e+01, 8.e+01, 9.e+01,\n",
      "       2.e+02, 3.e+02, 4.e+02, 5.e+02, 6.e+02, 7.e+02, 8.e+02, 9.e+02,\n",
      "       2.e+03, 3.e+03, 4.e+03, 5.e+03, 6.e+03, 7.e+03, 8.e+03, 9.e+03,\n",
      "       2.e+04, 3.e+04, 4.e+04, 5.e+04, 6.e+04, 7.e+04, 8.e+04, 9.e+04,\n",
      "       2.e+05, 3.e+05, 4.e+05, 5.e+05, 6.e+05, 7.e+05, 8.e+05, 9.e+05,\n",
      "       2.e+06, 3.e+06, 4.e+06, 5.e+06, 6.e+06, 7.e+06, 8.e+06, 9.e+06,\n",
      "       2.e+07, 3.e+07, 4.e+07, 5.e+07, 6.e+07, 7.e+07, 8.e+07, 9.e+07,\n",
      "       2.e+08, 3.e+08, 4.e+08, 5.e+08, 6.e+08, 7.e+08, 8.e+08, 9.e+08,\n",
      "       2.e+09, 3.e+09, 4.e+09, 5.e+09, 6.e+09, 7.e+09, 8.e+09, 9.e+09])\n",
      "2025-01-22 13:57:23,847 - matplotlib.ticker - vmin 5.011872336272722 vmax 19952623.149688788\n",
      "2025-01-22 13:57:23,847 - matplotlib.ticker - ticklocs array([1.e-01, 1.e+00, 1.e+01, 1.e+02, 1.e+03, 1.e+04, 1.e+05, 1.e+06,\n",
      "       1.e+07, 1.e+08, 1.e+09])\n",
      "2025-01-22 13:57:23,852 - matplotlib.ticker - vmin 5.011872336272722 vmax 19952623.149688788\n",
      "2025-01-22 13:57:23,853 - matplotlib.ticker - ticklocs array([1.e-01, 1.e+00, 1.e+01, 1.e+02, 1.e+03, 1.e+04, 1.e+05, 1.e+06,\n",
      "       1.e+07, 1.e+08, 1.e+09])\n",
      "2025-01-22 13:57:23,853 - matplotlib.ticker - vmin 5.011872336272722 vmax 19952623.149688788\n",
      "2025-01-22 13:57:23,854 - matplotlib.ticker - ticklocs array([2.e-01, 3.e-01, 4.e-01, 5.e-01, 6.e-01, 7.e-01, 8.e-01, 9.e-01,\n",
      "       2.e+00, 3.e+00, 4.e+00, 5.e+00, 6.e+00, 7.e+00, 8.e+00, 9.e+00,\n",
      "       2.e+01, 3.e+01, 4.e+01, 5.e+01, 6.e+01, 7.e+01, 8.e+01, 9.e+01,\n",
      "       2.e+02, 3.e+02, 4.e+02, 5.e+02, 6.e+02, 7.e+02, 8.e+02, 9.e+02,\n",
      "       2.e+03, 3.e+03, 4.e+03, 5.e+03, 6.e+03, 7.e+03, 8.e+03, 9.e+03,\n",
      "       2.e+04, 3.e+04, 4.e+04, 5.e+04, 6.e+04, 7.e+04, 8.e+04, 9.e+04,\n",
      "       2.e+05, 3.e+05, 4.e+05, 5.e+05, 6.e+05, 7.e+05, 8.e+05, 9.e+05,\n",
      "       2.e+06, 3.e+06, 4.e+06, 5.e+06, 6.e+06, 7.e+06, 8.e+06, 9.e+06,\n",
      "       2.e+07, 3.e+07, 4.e+07, 5.e+07, 6.e+07, 7.e+07, 8.e+07, 9.e+07,\n",
      "       2.e+08, 3.e+08, 4.e+08, 5.e+08, 6.e+08, 7.e+08, 8.e+08, 9.e+08,\n",
      "       2.e+09, 3.e+09, 4.e+09, 5.e+09, 6.e+09, 7.e+09, 8.e+09, 9.e+09])\n",
      "2025-01-22 13:57:23,854 - matplotlib.ticker - vmin 5.011872336272722 vmax 19952623.149688788\n",
      "2025-01-22 13:57:23,854 - matplotlib.ticker - ticklocs array([1.e-01, 1.e+00, 1.e+01, 1.e+02, 1.e+03, 1.e+04, 1.e+05, 1.e+06,\n",
      "       1.e+07, 1.e+08, 1.e+09])\n",
      "2025-01-22 13:57:23,865 - matplotlib.ticker - vmin 5.011872336272722 vmax 19952623.149688788\n",
      "2025-01-22 13:57:23,865 - matplotlib.ticker - ticklocs array([1.e-01, 1.e+00, 1.e+01, 1.e+02, 1.e+03, 1.e+04, 1.e+05, 1.e+06,\n",
      "       1.e+07, 1.e+08, 1.e+09])\n",
      "2025-01-22 13:57:23,866 - matplotlib.ticker - vmin 5.011872336272722 vmax 19952623.149688788\n",
      "2025-01-22 13:57:23,866 - matplotlib.ticker - ticklocs array([2.e-01, 3.e-01, 4.e-01, 5.e-01, 6.e-01, 7.e-01, 8.e-01, 9.e-01,\n",
      "       2.e+00, 3.e+00, 4.e+00, 5.e+00, 6.e+00, 7.e+00, 8.e+00, 9.e+00,\n",
      "       2.e+01, 3.e+01, 4.e+01, 5.e+01, 6.e+01, 7.e+01, 8.e+01, 9.e+01,\n",
      "       2.e+02, 3.e+02, 4.e+02, 5.e+02, 6.e+02, 7.e+02, 8.e+02, 9.e+02,\n",
      "       2.e+03, 3.e+03, 4.e+03, 5.e+03, 6.e+03, 7.e+03, 8.e+03, 9.e+03,\n",
      "       2.e+04, 3.e+04, 4.e+04, 5.e+04, 6.e+04, 7.e+04, 8.e+04, 9.e+04,\n",
      "       2.e+05, 3.e+05, 4.e+05, 5.e+05, 6.e+05, 7.e+05, 8.e+05, 9.e+05,\n",
      "       2.e+06, 3.e+06, 4.e+06, 5.e+06, 6.e+06, 7.e+06, 8.e+06, 9.e+06,\n",
      "       2.e+07, 3.e+07, 4.e+07, 5.e+07, 6.e+07, 7.e+07, 8.e+07, 9.e+07,\n",
      "       2.e+08, 3.e+08, 4.e+08, 5.e+08, 6.e+08, 7.e+08, 8.e+08, 9.e+08,\n",
      "       2.e+09, 3.e+09, 4.e+09, 5.e+09, 6.e+09, 7.e+09, 8.e+09, 9.e+09])\n",
      "2025-01-22 13:57:23,868 - matplotlib.ticker - vmin 5.011872336272722 vmax 19952623.149688788\n",
      "2025-01-22 13:57:23,868 - matplotlib.ticker - ticklocs array([1.e-01, 1.e+00, 1.e+01, 1.e+02, 1.e+03, 1.e+04, 1.e+05, 1.e+06,\n",
      "       1.e+07, 1.e+08, 1.e+09])\n",
      "2025-01-22 13:57:23,876 - matplotlib.ticker - vmin 5.011872336272722 vmax 19952623.149688788\n",
      "2025-01-22 13:57:23,876 - matplotlib.ticker - ticklocs array([1.e-01, 1.e+00, 1.e+01, 1.e+02, 1.e+03, 1.e+04, 1.e+05, 1.e+06,\n",
      "       1.e+07, 1.e+08, 1.e+09])\n",
      "2025-01-22 13:57:23,877 - matplotlib.ticker - vmin 5.011872336272722 vmax 19952623.149688788\n",
      "2025-01-22 13:57:23,877 - matplotlib.ticker - ticklocs array([2.e-01, 3.e-01, 4.e-01, 5.e-01, 6.e-01, 7.e-01, 8.e-01, 9.e-01,\n",
      "       2.e+00, 3.e+00, 4.e+00, 5.e+00, 6.e+00, 7.e+00, 8.e+00, 9.e+00,\n",
      "       2.e+01, 3.e+01, 4.e+01, 5.e+01, 6.e+01, 7.e+01, 8.e+01, 9.e+01,\n",
      "       2.e+02, 3.e+02, 4.e+02, 5.e+02, 6.e+02, 7.e+02, 8.e+02, 9.e+02,\n",
      "       2.e+03, 3.e+03, 4.e+03, 5.e+03, 6.e+03, 7.e+03, 8.e+03, 9.e+03,\n",
      "       2.e+04, 3.e+04, 4.e+04, 5.e+04, 6.e+04, 7.e+04, 8.e+04, 9.e+04,\n",
      "       2.e+05, 3.e+05, 4.e+05, 5.e+05, 6.e+05, 7.e+05, 8.e+05, 9.e+05,\n",
      "       2.e+06, 3.e+06, 4.e+06, 5.e+06, 6.e+06, 7.e+06, 8.e+06, 9.e+06,\n",
      "       2.e+07, 3.e+07, 4.e+07, 5.e+07, 6.e+07, 7.e+07, 8.e+07, 9.e+07,\n",
      "       2.e+08, 3.e+08, 4.e+08, 5.e+08, 6.e+08, 7.e+08, 8.e+08, 9.e+08,\n",
      "       2.e+09, 3.e+09, 4.e+09, 5.e+09, 6.e+09, 7.e+09, 8.e+09, 9.e+09])\n",
      "2025-01-22 13:57:23,878 - matplotlib.ticker - vmin 5.011872336272722 vmax 19952623.149688788\n",
      "2025-01-22 13:57:23,878 - matplotlib.ticker - ticklocs array([1.e-01, 1.e+00, 1.e+01, 1.e+02, 1.e+03, 1.e+04, 1.e+05, 1.e+06,\n",
      "       1.e+07, 1.e+08, 1.e+09])\n",
      "2025-01-22 13:57:23,882 - matplotlib.ticker - vmin 5.011872336272722 vmax 19952623.149688788\n",
      "2025-01-22 13:57:23,882 - matplotlib.ticker - ticklocs array([1.e-01, 1.e+00, 1.e+01, 1.e+02, 1.e+03, 1.e+04, 1.e+05, 1.e+06,\n",
      "       1.e+07, 1.e+08, 1.e+09])\n",
      "2025-01-22 13:57:23,883 - matplotlib.ticker - vmin 5.011872336272722 vmax 19952623.149688788\n",
      "2025-01-22 13:57:23,884 - matplotlib.ticker - ticklocs array([2.e-01, 3.e-01, 4.e-01, 5.e-01, 6.e-01, 7.e-01, 8.e-01, 9.e-01,\n",
      "       2.e+00, 3.e+00, 4.e+00, 5.e+00, 6.e+00, 7.e+00, 8.e+00, 9.e+00,\n",
      "       2.e+01, 3.e+01, 4.e+01, 5.e+01, 6.e+01, 7.e+01, 8.e+01, 9.e+01,\n",
      "       2.e+02, 3.e+02, 4.e+02, 5.e+02, 6.e+02, 7.e+02, 8.e+02, 9.e+02,\n",
      "       2.e+03, 3.e+03, 4.e+03, 5.e+03, 6.e+03, 7.e+03, 8.e+03, 9.e+03,\n",
      "       2.e+04, 3.e+04, 4.e+04, 5.e+04, 6.e+04, 7.e+04, 8.e+04, 9.e+04,\n",
      "       2.e+05, 3.e+05, 4.e+05, 5.e+05, 6.e+05, 7.e+05, 8.e+05, 9.e+05,\n",
      "       2.e+06, 3.e+06, 4.e+06, 5.e+06, 6.e+06, 7.e+06, 8.e+06, 9.e+06,\n",
      "       2.e+07, 3.e+07, 4.e+07, 5.e+07, 6.e+07, 7.e+07, 8.e+07, 9.e+07,\n",
      "       2.e+08, 3.e+08, 4.e+08, 5.e+08, 6.e+08, 7.e+08, 8.e+08, 9.e+08,\n",
      "       2.e+09, 3.e+09, 4.e+09, 5.e+09, 6.e+09, 7.e+09, 8.e+09, 9.e+09])\n",
      "2025-01-22 13:57:23,885 - matplotlib.ticker - vmin 5.011872336272722 vmax 19952623.149688788\n",
      "2025-01-22 13:57:23,886 - matplotlib.ticker - ticklocs array([1.e-01, 1.e+00, 1.e+01, 1.e+02, 1.e+03, 1.e+04, 1.e+05, 1.e+06,\n",
      "       1.e+07, 1.e+08, 1.e+09])\n",
      "2025-01-22 13:57:23,894 - matplotlib.ticker - vmin 5.011872336272722 vmax 19952623.149688788\n",
      "2025-01-22 13:57:23,894 - matplotlib.ticker - ticklocs array([1.e-01, 1.e+00, 1.e+01, 1.e+02, 1.e+03, 1.e+04, 1.e+05, 1.e+06,\n",
      "       1.e+07, 1.e+08, 1.e+09])\n",
      "2025-01-22 13:57:23,895 - matplotlib.ticker - vmin 5.011872336272722 vmax 19952623.149688788\n",
      "2025-01-22 13:57:23,895 - matplotlib.ticker - ticklocs array([2.e-01, 3.e-01, 4.e-01, 5.e-01, 6.e-01, 7.e-01, 8.e-01, 9.e-01,\n",
      "       2.e+00, 3.e+00, 4.e+00, 5.e+00, 6.e+00, 7.e+00, 8.e+00, 9.e+00,\n",
      "       2.e+01, 3.e+01, 4.e+01, 5.e+01, 6.e+01, 7.e+01, 8.e+01, 9.e+01,\n",
      "       2.e+02, 3.e+02, 4.e+02, 5.e+02, 6.e+02, 7.e+02, 8.e+02, 9.e+02,\n",
      "       2.e+03, 3.e+03, 4.e+03, 5.e+03, 6.e+03, 7.e+03, 8.e+03, 9.e+03,\n",
      "       2.e+04, 3.e+04, 4.e+04, 5.e+04, 6.e+04, 7.e+04, 8.e+04, 9.e+04,\n",
      "       2.e+05, 3.e+05, 4.e+05, 5.e+05, 6.e+05, 7.e+05, 8.e+05, 9.e+05,\n",
      "       2.e+06, 3.e+06, 4.e+06, 5.e+06, 6.e+06, 7.e+06, 8.e+06, 9.e+06,\n",
      "       2.e+07, 3.e+07, 4.e+07, 5.e+07, 6.e+07, 7.e+07, 8.e+07, 9.e+07,\n",
      "       2.e+08, 3.e+08, 4.e+08, 5.e+08, 6.e+08, 7.e+08, 8.e+08, 9.e+08,\n",
      "       2.e+09, 3.e+09, 4.e+09, 5.e+09, 6.e+09, 7.e+09, 8.e+09, 9.e+09])\n",
      "2025-01-22 13:57:23,896 - matplotlib.ticker - vmin 5.011872336272722 vmax 19952623.149688788\n",
      "2025-01-22 13:57:23,896 - matplotlib.ticker - ticklocs array([1.e-01, 1.e+00, 1.e+01, 1.e+02, 1.e+03, 1.e+04, 1.e+05, 1.e+06,\n",
      "       1.e+07, 1.e+08, 1.e+09])\n",
      "2025-01-22 13:57:23,898 - matplotlib.ticker - vmin 5.011872336272722 vmax 19952623.149688788\n",
      "2025-01-22 13:57:23,898 - matplotlib.ticker - ticklocs array([1.e-01, 1.e+00, 1.e+01, 1.e+02, 1.e+03, 1.e+04, 1.e+05, 1.e+06,\n",
      "       1.e+07, 1.e+08, 1.e+09])\n",
      "2025-01-22 13:57:23,898 - matplotlib.ticker - vmin 5.011872336272722 vmax 19952623.149688788\n",
      "2025-01-22 13:57:23,899 - matplotlib.ticker - ticklocs array([2.e-01, 3.e-01, 4.e-01, 5.e-01, 6.e-01, 7.e-01, 8.e-01, 9.e-01,\n",
      "       2.e+00, 3.e+00, 4.e+00, 5.e+00, 6.e+00, 7.e+00, 8.e+00, 9.e+00,\n",
      "       2.e+01, 3.e+01, 4.e+01, 5.e+01, 6.e+01, 7.e+01, 8.e+01, 9.e+01,\n",
      "       2.e+02, 3.e+02, 4.e+02, 5.e+02, 6.e+02, 7.e+02, 8.e+02, 9.e+02,\n",
      "       2.e+03, 3.e+03, 4.e+03, 5.e+03, 6.e+03, 7.e+03, 8.e+03, 9.e+03,\n",
      "       2.e+04, 3.e+04, 4.e+04, 5.e+04, 6.e+04, 7.e+04, 8.e+04, 9.e+04,\n",
      "       2.e+05, 3.e+05, 4.e+05, 5.e+05, 6.e+05, 7.e+05, 8.e+05, 9.e+05,\n",
      "       2.e+06, 3.e+06, 4.e+06, 5.e+06, 6.e+06, 7.e+06, 8.e+06, 9.e+06,\n",
      "       2.e+07, 3.e+07, 4.e+07, 5.e+07, 6.e+07, 7.e+07, 8.e+07, 9.e+07,\n",
      "       2.e+08, 3.e+08, 4.e+08, 5.e+08, 6.e+08, 7.e+08, 8.e+08, 9.e+08,\n",
      "       2.e+09, 3.e+09, 4.e+09, 5.e+09, 6.e+09, 7.e+09, 8.e+09, 9.e+09])\n",
      "2025-01-22 13:57:23,900 - matplotlib.ticker - vmin 5.011872336272722 vmax 19952623.149688788\n",
      "2025-01-22 13:57:23,900 - matplotlib.ticker - ticklocs array([1.e-01, 1.e+00, 1.e+01, 1.e+02, 1.e+03, 1.e+04, 1.e+05, 1.e+06,\n",
      "       1.e+07, 1.e+08, 1.e+09])\n",
      "2025-01-22 13:57:23,905 - matplotlib.ticker - vmin 5.011872336272722 vmax 19952623.149688788\n",
      "2025-01-22 13:57:23,905 - matplotlib.ticker - ticklocs array([1.e-01, 1.e+00, 1.e+01, 1.e+02, 1.e+03, 1.e+04, 1.e+05, 1.e+06,\n",
      "       1.e+07, 1.e+08, 1.e+09])\n",
      "2025-01-22 13:57:23,906 - matplotlib.ticker - vmin 5.011872336272722 vmax 19952623.149688788\n",
      "2025-01-22 13:57:23,906 - matplotlib.ticker - ticklocs array([2.e-01, 3.e-01, 4.e-01, 5.e-01, 6.e-01, 7.e-01, 8.e-01, 9.e-01,\n",
      "       2.e+00, 3.e+00, 4.e+00, 5.e+00, 6.e+00, 7.e+00, 8.e+00, 9.e+00,\n",
      "       2.e+01, 3.e+01, 4.e+01, 5.e+01, 6.e+01, 7.e+01, 8.e+01, 9.e+01,\n",
      "       2.e+02, 3.e+02, 4.e+02, 5.e+02, 6.e+02, 7.e+02, 8.e+02, 9.e+02,\n",
      "       2.e+03, 3.e+03, 4.e+03, 5.e+03, 6.e+03, 7.e+03, 8.e+03, 9.e+03,\n",
      "       2.e+04, 3.e+04, 4.e+04, 5.e+04, 6.e+04, 7.e+04, 8.e+04, 9.e+04,\n",
      "       2.e+05, 3.e+05, 4.e+05, 5.e+05, 6.e+05, 7.e+05, 8.e+05, 9.e+05,\n",
      "       2.e+06, 3.e+06, 4.e+06, 5.e+06, 6.e+06, 7.e+06, 8.e+06, 9.e+06,\n",
      "       2.e+07, 3.e+07, 4.e+07, 5.e+07, 6.e+07, 7.e+07, 8.e+07, 9.e+07,\n",
      "       2.e+08, 3.e+08, 4.e+08, 5.e+08, 6.e+08, 7.e+08, 8.e+08, 9.e+08,\n",
      "       2.e+09, 3.e+09, 4.e+09, 5.e+09, 6.e+09, 7.e+09, 8.e+09, 9.e+09])\n",
      "2025-01-22 13:57:23,907 - matplotlib.ticker - vmin 5.011872336272722 vmax 19952623.149688788\n",
      "2025-01-22 13:57:23,907 - matplotlib.ticker - ticklocs array([1.e-01, 1.e+00, 1.e+01, 1.e+02, 1.e+03, 1.e+04, 1.e+05, 1.e+06,\n",
      "       1.e+07, 1.e+08, 1.e+09])\n",
      "2025-01-22 13:57:23,917 - matplotlib.ticker - vmin 5.011872336272722 vmax 19952623.149688788\n",
      "2025-01-22 13:57:23,918 - matplotlib.ticker - ticklocs array([1.e-01, 1.e+00, 1.e+01, 1.e+02, 1.e+03, 1.e+04, 1.e+05, 1.e+06,\n",
      "       1.e+07, 1.e+08, 1.e+09])\n",
      "2025-01-22 13:57:23,919 - matplotlib.ticker - vmin 5.011872336272722 vmax 19952623.149688788\n",
      "2025-01-22 13:57:23,919 - matplotlib.ticker - ticklocs array([2.e-01, 3.e-01, 4.e-01, 5.e-01, 6.e-01, 7.e-01, 8.e-01, 9.e-01,\n",
      "       2.e+00, 3.e+00, 4.e+00, 5.e+00, 6.e+00, 7.e+00, 8.e+00, 9.e+00,\n",
      "       2.e+01, 3.e+01, 4.e+01, 5.e+01, 6.e+01, 7.e+01, 8.e+01, 9.e+01,\n",
      "       2.e+02, 3.e+02, 4.e+02, 5.e+02, 6.e+02, 7.e+02, 8.e+02, 9.e+02,\n",
      "       2.e+03, 3.e+03, 4.e+03, 5.e+03, 6.e+03, 7.e+03, 8.e+03, 9.e+03,\n",
      "       2.e+04, 3.e+04, 4.e+04, 5.e+04, 6.e+04, 7.e+04, 8.e+04, 9.e+04,\n",
      "       2.e+05, 3.e+05, 4.e+05, 5.e+05, 6.e+05, 7.e+05, 8.e+05, 9.e+05,\n",
      "       2.e+06, 3.e+06, 4.e+06, 5.e+06, 6.e+06, 7.e+06, 8.e+06, 9.e+06,\n",
      "       2.e+07, 3.e+07, 4.e+07, 5.e+07, 6.e+07, 7.e+07, 8.e+07, 9.e+07,\n",
      "       2.e+08, 3.e+08, 4.e+08, 5.e+08, 6.e+08, 7.e+08, 8.e+08, 9.e+08,\n",
      "       2.e+09, 3.e+09, 4.e+09, 5.e+09, 6.e+09, 7.e+09, 8.e+09, 9.e+09])\n",
      "2025-01-22 13:57:23,920 - matplotlib.ticker - vmin 5.011872336272722 vmax 19952623.149688788\n",
      "2025-01-22 13:57:23,920 - matplotlib.ticker - ticklocs array([1.e-01, 1.e+00, 1.e+01, 1.e+02, 1.e+03, 1.e+04, 1.e+05, 1.e+06,\n",
      "       1.e+07, 1.e+08, 1.e+09])\n",
      "2025-01-22 13:57:23,923 - matplotlib.ticker - vmin 5.011872336272722 vmax 19952623.149688788\n",
      "2025-01-22 13:57:23,923 - matplotlib.ticker - ticklocs array([1.e-01, 1.e+00, 1.e+01, 1.e+02, 1.e+03, 1.e+04, 1.e+05, 1.e+06,\n",
      "       1.e+07, 1.e+08, 1.e+09])\n",
      "2025-01-22 13:57:23,924 - matplotlib.ticker - vmin 5.011872336272722 vmax 19952623.149688788\n",
      "2025-01-22 13:57:23,924 - matplotlib.ticker - ticklocs array([2.e-01, 3.e-01, 4.e-01, 5.e-01, 6.e-01, 7.e-01, 8.e-01, 9.e-01,\n",
      "       2.e+00, 3.e+00, 4.e+00, 5.e+00, 6.e+00, 7.e+00, 8.e+00, 9.e+00,\n",
      "       2.e+01, 3.e+01, 4.e+01, 5.e+01, 6.e+01, 7.e+01, 8.e+01, 9.e+01,\n",
      "       2.e+02, 3.e+02, 4.e+02, 5.e+02, 6.e+02, 7.e+02, 8.e+02, 9.e+02,\n",
      "       2.e+03, 3.e+03, 4.e+03, 5.e+03, 6.e+03, 7.e+03, 8.e+03, 9.e+03,\n",
      "       2.e+04, 3.e+04, 4.e+04, 5.e+04, 6.e+04, 7.e+04, 8.e+04, 9.e+04,\n",
      "       2.e+05, 3.e+05, 4.e+05, 5.e+05, 6.e+05, 7.e+05, 8.e+05, 9.e+05,\n",
      "       2.e+06, 3.e+06, 4.e+06, 5.e+06, 6.e+06, 7.e+06, 8.e+06, 9.e+06,\n",
      "       2.e+07, 3.e+07, 4.e+07, 5.e+07, 6.e+07, 7.e+07, 8.e+07, 9.e+07,\n",
      "       2.e+08, 3.e+08, 4.e+08, 5.e+08, 6.e+08, 7.e+08, 8.e+08, 9.e+08,\n",
      "       2.e+09, 3.e+09, 4.e+09, 5.e+09, 6.e+09, 7.e+09, 8.e+09, 9.e+09])\n",
      "2025-01-22 13:57:23,924 - matplotlib.ticker - vmin 5.011872336272722 vmax 19952623.149688788\n",
      "2025-01-22 13:57:23,925 - matplotlib.ticker - ticklocs array([1.e-01, 1.e+00, 1.e+01, 1.e+02, 1.e+03, 1.e+04, 1.e+05, 1.e+06,\n",
      "       1.e+07, 1.e+08, 1.e+09])\n",
      "2025-01-22 13:57:23,927 - matplotlib.ticker - vmin 5.011872336272722 vmax 19952623.149688788\n",
      "2025-01-22 13:57:23,927 - matplotlib.ticker - ticklocs array([1.e-01, 1.e+00, 1.e+01, 1.e+02, 1.e+03, 1.e+04, 1.e+05, 1.e+06,\n",
      "       1.e+07, 1.e+08, 1.e+09])\n",
      "2025-01-22 13:57:23,928 - matplotlib.ticker - vmin 5.011872336272722 vmax 19952623.149688788\n",
      "2025-01-22 13:57:23,928 - matplotlib.ticker - ticklocs array([2.e-01, 3.e-01, 4.e-01, 5.e-01, 6.e-01, 7.e-01, 8.e-01, 9.e-01,\n",
      "       2.e+00, 3.e+00, 4.e+00, 5.e+00, 6.e+00, 7.e+00, 8.e+00, 9.e+00,\n",
      "       2.e+01, 3.e+01, 4.e+01, 5.e+01, 6.e+01, 7.e+01, 8.e+01, 9.e+01,\n",
      "       2.e+02, 3.e+02, 4.e+02, 5.e+02, 6.e+02, 7.e+02, 8.e+02, 9.e+02,\n",
      "       2.e+03, 3.e+03, 4.e+03, 5.e+03, 6.e+03, 7.e+03, 8.e+03, 9.e+03,\n",
      "       2.e+04, 3.e+04, 4.e+04, 5.e+04, 6.e+04, 7.e+04, 8.e+04, 9.e+04,\n",
      "       2.e+05, 3.e+05, 4.e+05, 5.e+05, 6.e+05, 7.e+05, 8.e+05, 9.e+05,\n",
      "       2.e+06, 3.e+06, 4.e+06, 5.e+06, 6.e+06, 7.e+06, 8.e+06, 9.e+06,\n",
      "       2.e+07, 3.e+07, 4.e+07, 5.e+07, 6.e+07, 7.e+07, 8.e+07, 9.e+07,\n",
      "       2.e+08, 3.e+08, 4.e+08, 5.e+08, 6.e+08, 7.e+08, 8.e+08, 9.e+08,\n",
      "       2.e+09, 3.e+09, 4.e+09, 5.e+09, 6.e+09, 7.e+09, 8.e+09, 9.e+09])\n",
      "2025-01-22 13:57:23,929 - matplotlib.ticker - vmin 5.011872336272722 vmax 19952623.149688788\n",
      "2025-01-22 13:57:23,929 - matplotlib.ticker - ticklocs array([1.e-01, 1.e+00, 1.e+01, 1.e+02, 1.e+03, 1.e+04, 1.e+05, 1.e+06,\n",
      "       1.e+07, 1.e+08, 1.e+09])\n",
      "2025-01-22 13:57:23,948 - matplotlib.ticker - vmin 5.011872336272722 vmax 19952623.149688788\n",
      "2025-01-22 13:57:23,969 - matplotlib.ticker - ticklocs array([1.e-01, 1.e+00, 1.e+01, 1.e+02, 1.e+03, 1.e+04, 1.e+05, 1.e+06,\n",
      "       1.e+07, 1.e+08, 1.e+09])\n",
      "2025-01-22 13:57:23,971 - matplotlib.ticker - vmin 5.011872336272722 vmax 19952623.149688788\n",
      "2025-01-22 13:57:23,972 - matplotlib.ticker - ticklocs array([2.e-01, 3.e-01, 4.e-01, 5.e-01, 6.e-01, 7.e-01, 8.e-01, 9.e-01,\n",
      "       2.e+00, 3.e+00, 4.e+00, 5.e+00, 6.e+00, 7.e+00, 8.e+00, 9.e+00,\n",
      "       2.e+01, 3.e+01, 4.e+01, 5.e+01, 6.e+01, 7.e+01, 8.e+01, 9.e+01,\n",
      "       2.e+02, 3.e+02, 4.e+02, 5.e+02, 6.e+02, 7.e+02, 8.e+02, 9.e+02,\n",
      "       2.e+03, 3.e+03, 4.e+03, 5.e+03, 6.e+03, 7.e+03, 8.e+03, 9.e+03,\n",
      "       2.e+04, 3.e+04, 4.e+04, 5.e+04, 6.e+04, 7.e+04, 8.e+04, 9.e+04,\n",
      "       2.e+05, 3.e+05, 4.e+05, 5.e+05, 6.e+05, 7.e+05, 8.e+05, 9.e+05,\n",
      "       2.e+06, 3.e+06, 4.e+06, 5.e+06, 6.e+06, 7.e+06, 8.e+06, 9.e+06,\n",
      "       2.e+07, 3.e+07, 4.e+07, 5.e+07, 6.e+07, 7.e+07, 8.e+07, 9.e+07,\n",
      "       2.e+08, 3.e+08, 4.e+08, 5.e+08, 6.e+08, 7.e+08, 8.e+08, 9.e+08,\n",
      "       2.e+09, 3.e+09, 4.e+09, 5.e+09, 6.e+09, 7.e+09, 8.e+09, 9.e+09])\n",
      "2025-01-22 13:57:23,972 - matplotlib.ticker - vmin 5.011872336272722 vmax 19952623.149688788\n",
      "2025-01-22 13:57:23,972 - matplotlib.ticker - ticklocs array([1.e-01, 1.e+00, 1.e+01, 1.e+02, 1.e+03, 1.e+04, 1.e+05, 1.e+06,\n",
      "       1.e+07, 1.e+08, 1.e+09])\n",
      "2025-01-22 13:57:23,985 - matplotlib.ticker - vmin 5.011872336272722 vmax 19952623.149688788\n",
      "2025-01-22 13:57:23,986 - matplotlib.ticker - ticklocs array([1.e-01, 1.e+00, 1.e+01, 1.e+02, 1.e+03, 1.e+04, 1.e+05, 1.e+06,\n",
      "       1.e+07, 1.e+08, 1.e+09])\n",
      "2025-01-22 13:57:23,986 - matplotlib.ticker - vmin 5.011872336272722 vmax 19952623.149688788\n",
      "2025-01-22 13:57:23,987 - matplotlib.ticker - ticklocs array([2.e-01, 3.e-01, 4.e-01, 5.e-01, 6.e-01, 7.e-01, 8.e-01, 9.e-01,\n",
      "       2.e+00, 3.e+00, 4.e+00, 5.e+00, 6.e+00, 7.e+00, 8.e+00, 9.e+00,\n",
      "       2.e+01, 3.e+01, 4.e+01, 5.e+01, 6.e+01, 7.e+01, 8.e+01, 9.e+01,\n",
      "       2.e+02, 3.e+02, 4.e+02, 5.e+02, 6.e+02, 7.e+02, 8.e+02, 9.e+02,\n",
      "       2.e+03, 3.e+03, 4.e+03, 5.e+03, 6.e+03, 7.e+03, 8.e+03, 9.e+03,\n",
      "       2.e+04, 3.e+04, 4.e+04, 5.e+04, 6.e+04, 7.e+04, 8.e+04, 9.e+04,\n",
      "       2.e+05, 3.e+05, 4.e+05, 5.e+05, 6.e+05, 7.e+05, 8.e+05, 9.e+05,\n",
      "       2.e+06, 3.e+06, 4.e+06, 5.e+06, 6.e+06, 7.e+06, 8.e+06, 9.e+06,\n",
      "       2.e+07, 3.e+07, 4.e+07, 5.e+07, 6.e+07, 7.e+07, 8.e+07, 9.e+07,\n",
      "       2.e+08, 3.e+08, 4.e+08, 5.e+08, 6.e+08, 7.e+08, 8.e+08, 9.e+08,\n",
      "       2.e+09, 3.e+09, 4.e+09, 5.e+09, 6.e+09, 7.e+09, 8.e+09, 9.e+09])\n",
      "2025-01-22 13:57:23,988 - matplotlib.ticker - vmin 5.011872336272722 vmax 19952623.149688788\n",
      "2025-01-22 13:57:23,988 - matplotlib.ticker - ticklocs array([1.e-01, 1.e+00, 1.e+01, 1.e+02, 1.e+03, 1.e+04, 1.e+05, 1.e+06,\n",
      "       1.e+07, 1.e+08, 1.e+09])\n",
      "2025-01-22 13:57:23,997 - matplotlib.ticker - vmin 5.011872336272722 vmax 19952623.149688788\n",
      "2025-01-22 13:57:23,997 - matplotlib.ticker - ticklocs array([1.e-01, 1.e+00, 1.e+01, 1.e+02, 1.e+03, 1.e+04, 1.e+05, 1.e+06,\n",
      "       1.e+07, 1.e+08, 1.e+09])\n",
      "2025-01-22 13:57:23,997 - matplotlib.ticker - vmin 5.011872336272722 vmax 19952623.149688788\n",
      "2025-01-22 13:57:23,998 - matplotlib.ticker - ticklocs array([2.e-01, 3.e-01, 4.e-01, 5.e-01, 6.e-01, 7.e-01, 8.e-01, 9.e-01,\n",
      "       2.e+00, 3.e+00, 4.e+00, 5.e+00, 6.e+00, 7.e+00, 8.e+00, 9.e+00,\n",
      "       2.e+01, 3.e+01, 4.e+01, 5.e+01, 6.e+01, 7.e+01, 8.e+01, 9.e+01,\n",
      "       2.e+02, 3.e+02, 4.e+02, 5.e+02, 6.e+02, 7.e+02, 8.e+02, 9.e+02,\n",
      "       2.e+03, 3.e+03, 4.e+03, 5.e+03, 6.e+03, 7.e+03, 8.e+03, 9.e+03,\n",
      "       2.e+04, 3.e+04, 4.e+04, 5.e+04, 6.e+04, 7.e+04, 8.e+04, 9.e+04,\n",
      "       2.e+05, 3.e+05, 4.e+05, 5.e+05, 6.e+05, 7.e+05, 8.e+05, 9.e+05,\n",
      "       2.e+06, 3.e+06, 4.e+06, 5.e+06, 6.e+06, 7.e+06, 8.e+06, 9.e+06,\n",
      "       2.e+07, 3.e+07, 4.e+07, 5.e+07, 6.e+07, 7.e+07, 8.e+07, 9.e+07,\n",
      "       2.e+08, 3.e+08, 4.e+08, 5.e+08, 6.e+08, 7.e+08, 8.e+08, 9.e+08,\n",
      "       2.e+09, 3.e+09, 4.e+09, 5.e+09, 6.e+09, 7.e+09, 8.e+09, 9.e+09])\n",
      "2025-01-22 13:57:23,998 - matplotlib.ticker - vmin 5.011872336272722 vmax 19952623.149688788\n",
      "2025-01-22 13:57:23,998 - matplotlib.ticker - ticklocs array([1.e-01, 1.e+00, 1.e+01, 1.e+02, 1.e+03, 1.e+04, 1.e+05, 1.e+06,\n",
      "       1.e+07, 1.e+08, 1.e+09])\n",
      "2025-01-22 13:57:24,001 - matplotlib.ticker - vmin 5.011872336272722 vmax 19952623.149688788\n",
      "2025-01-22 13:57:24,002 - matplotlib.ticker - ticklocs array([1.e-01, 1.e+00, 1.e+01, 1.e+02, 1.e+03, 1.e+04, 1.e+05, 1.e+06,\n",
      "       1.e+07, 1.e+08, 1.e+09])\n",
      "2025-01-22 13:57:24,002 - matplotlib.ticker - vmin 5.011872336272722 vmax 19952623.149688788\n",
      "2025-01-22 13:57:24,002 - matplotlib.ticker - ticklocs array([2.e-01, 3.e-01, 4.e-01, 5.e-01, 6.e-01, 7.e-01, 8.e-01, 9.e-01,\n",
      "       2.e+00, 3.e+00, 4.e+00, 5.e+00, 6.e+00, 7.e+00, 8.e+00, 9.e+00,\n",
      "       2.e+01, 3.e+01, 4.e+01, 5.e+01, 6.e+01, 7.e+01, 8.e+01, 9.e+01,\n",
      "       2.e+02, 3.e+02, 4.e+02, 5.e+02, 6.e+02, 7.e+02, 8.e+02, 9.e+02,\n",
      "       2.e+03, 3.e+03, 4.e+03, 5.e+03, 6.e+03, 7.e+03, 8.e+03, 9.e+03,\n",
      "       2.e+04, 3.e+04, 4.e+04, 5.e+04, 6.e+04, 7.e+04, 8.e+04, 9.e+04,\n",
      "       2.e+05, 3.e+05, 4.e+05, 5.e+05, 6.e+05, 7.e+05, 8.e+05, 9.e+05,\n",
      "       2.e+06, 3.e+06, 4.e+06, 5.e+06, 6.e+06, 7.e+06, 8.e+06, 9.e+06,\n",
      "       2.e+07, 3.e+07, 4.e+07, 5.e+07, 6.e+07, 7.e+07, 8.e+07, 9.e+07,\n",
      "       2.e+08, 3.e+08, 4.e+08, 5.e+08, 6.e+08, 7.e+08, 8.e+08, 9.e+08,\n",
      "       2.e+09, 3.e+09, 4.e+09, 5.e+09, 6.e+09, 7.e+09, 8.e+09, 9.e+09])\n",
      "2025-01-22 13:57:24,003 - matplotlib.ticker - vmin 5.011872336272722 vmax 19952623.149688788\n",
      "2025-01-22 13:57:24,003 - matplotlib.ticker - ticklocs array([1.e-01, 1.e+00, 1.e+01, 1.e+02, 1.e+03, 1.e+04, 1.e+05, 1.e+06,\n",
      "       1.e+07, 1.e+08, 1.e+09])\n",
      "2025-01-22 13:57:24,016 - matplotlib.ticker - vmin 5.011872336272722 vmax 19952623.149688788\n",
      "2025-01-22 13:57:24,016 - matplotlib.ticker - ticklocs array([1.e-01, 1.e+00, 1.e+01, 1.e+02, 1.e+03, 1.e+04, 1.e+05, 1.e+06,\n",
      "       1.e+07, 1.e+08, 1.e+09])\n",
      "2025-01-22 13:57:24,017 - matplotlib.ticker - vmin 5.011872336272722 vmax 19952623.149688788\n",
      "2025-01-22 13:57:24,018 - matplotlib.ticker - ticklocs array([2.e-01, 3.e-01, 4.e-01, 5.e-01, 6.e-01, 7.e-01, 8.e-01, 9.e-01,\n",
      "       2.e+00, 3.e+00, 4.e+00, 5.e+00, 6.e+00, 7.e+00, 8.e+00, 9.e+00,\n",
      "       2.e+01, 3.e+01, 4.e+01, 5.e+01, 6.e+01, 7.e+01, 8.e+01, 9.e+01,\n",
      "       2.e+02, 3.e+02, 4.e+02, 5.e+02, 6.e+02, 7.e+02, 8.e+02, 9.e+02,\n",
      "       2.e+03, 3.e+03, 4.e+03, 5.e+03, 6.e+03, 7.e+03, 8.e+03, 9.e+03,\n",
      "       2.e+04, 3.e+04, 4.e+04, 5.e+04, 6.e+04, 7.e+04, 8.e+04, 9.e+04,\n",
      "       2.e+05, 3.e+05, 4.e+05, 5.e+05, 6.e+05, 7.e+05, 8.e+05, 9.e+05,\n",
      "       2.e+06, 3.e+06, 4.e+06, 5.e+06, 6.e+06, 7.e+06, 8.e+06, 9.e+06,\n",
      "       2.e+07, 3.e+07, 4.e+07, 5.e+07, 6.e+07, 7.e+07, 8.e+07, 9.e+07,\n",
      "       2.e+08, 3.e+08, 4.e+08, 5.e+08, 6.e+08, 7.e+08, 8.e+08, 9.e+08,\n",
      "       2.e+09, 3.e+09, 4.e+09, 5.e+09, 6.e+09, 7.e+09, 8.e+09, 9.e+09])\n",
      "2025-01-22 13:57:24,018 - matplotlib.ticker - vmin 5.011872336272722 vmax 19952623.149688788\n",
      "2025-01-22 13:57:24,019 - matplotlib.ticker - ticklocs array([1.e-01, 1.e+00, 1.e+01, 1.e+02, 1.e+03, 1.e+04, 1.e+05, 1.e+06,\n",
      "       1.e+07, 1.e+08, 1.e+09])\n",
      "2025-01-22 13:57:24,044 - matplotlib.ticker - vmin 5.011872336272722 vmax 19952623.149688788\n",
      "2025-01-22 13:57:24,044 - matplotlib.ticker - ticklocs array([1.e-01, 1.e+00, 1.e+01, 1.e+02, 1.e+03, 1.e+04, 1.e+05, 1.e+06,\n",
      "       1.e+07, 1.e+08, 1.e+09])\n",
      "2025-01-22 13:57:24,045 - matplotlib.ticker - vmin 5.011872336272722 vmax 19952623.149688788\n",
      "2025-01-22 13:57:24,045 - matplotlib.ticker - ticklocs array([2.e-01, 3.e-01, 4.e-01, 5.e-01, 6.e-01, 7.e-01, 8.e-01, 9.e-01,\n",
      "       2.e+00, 3.e+00, 4.e+00, 5.e+00, 6.e+00, 7.e+00, 8.e+00, 9.e+00,\n",
      "       2.e+01, 3.e+01, 4.e+01, 5.e+01, 6.e+01, 7.e+01, 8.e+01, 9.e+01,\n",
      "       2.e+02, 3.e+02, 4.e+02, 5.e+02, 6.e+02, 7.e+02, 8.e+02, 9.e+02,\n",
      "       2.e+03, 3.e+03, 4.e+03, 5.e+03, 6.e+03, 7.e+03, 8.e+03, 9.e+03,\n",
      "       2.e+04, 3.e+04, 4.e+04, 5.e+04, 6.e+04, 7.e+04, 8.e+04, 9.e+04,\n",
      "       2.e+05, 3.e+05, 4.e+05, 5.e+05, 6.e+05, 7.e+05, 8.e+05, 9.e+05,\n",
      "       2.e+06, 3.e+06, 4.e+06, 5.e+06, 6.e+06, 7.e+06, 8.e+06, 9.e+06,\n",
      "       2.e+07, 3.e+07, 4.e+07, 5.e+07, 6.e+07, 7.e+07, 8.e+07, 9.e+07,\n",
      "       2.e+08, 3.e+08, 4.e+08, 5.e+08, 6.e+08, 7.e+08, 8.e+08, 9.e+08,\n",
      "       2.e+09, 3.e+09, 4.e+09, 5.e+09, 6.e+09, 7.e+09, 8.e+09, 9.e+09])\n",
      "2025-01-22 13:57:24,046 - matplotlib.ticker - vmin 5.011872336272722 vmax 19952623.149688788\n",
      "2025-01-22 13:57:24,046 - matplotlib.ticker - ticklocs array([1.e-01, 1.e+00, 1.e+01, 1.e+02, 1.e+03, 1.e+04, 1.e+05, 1.e+06,\n",
      "       1.e+07, 1.e+08, 1.e+09])\n",
      "2025-01-22 13:57:24,050 - matplotlib.ticker - vmin 5.011872336272722 vmax 19952623.149688788\n",
      "2025-01-22 13:57:24,050 - matplotlib.ticker - ticklocs array([1.e-01, 1.e+00, 1.e+01, 1.e+02, 1.e+03, 1.e+04, 1.e+05, 1.e+06,\n",
      "       1.e+07, 1.e+08, 1.e+09])\n",
      "2025-01-22 13:57:24,051 - matplotlib.ticker - vmin 5.011872336272722 vmax 19952623.149688788\n",
      "2025-01-22 13:57:24,051 - matplotlib.ticker - ticklocs array([2.e-01, 3.e-01, 4.e-01, 5.e-01, 6.e-01, 7.e-01, 8.e-01, 9.e-01,\n",
      "       2.e+00, 3.e+00, 4.e+00, 5.e+00, 6.e+00, 7.e+00, 8.e+00, 9.e+00,\n",
      "       2.e+01, 3.e+01, 4.e+01, 5.e+01, 6.e+01, 7.e+01, 8.e+01, 9.e+01,\n",
      "       2.e+02, 3.e+02, 4.e+02, 5.e+02, 6.e+02, 7.e+02, 8.e+02, 9.e+02,\n",
      "       2.e+03, 3.e+03, 4.e+03, 5.e+03, 6.e+03, 7.e+03, 8.e+03, 9.e+03,\n",
      "       2.e+04, 3.e+04, 4.e+04, 5.e+04, 6.e+04, 7.e+04, 8.e+04, 9.e+04,\n",
      "       2.e+05, 3.e+05, 4.e+05, 5.e+05, 6.e+05, 7.e+05, 8.e+05, 9.e+05,\n",
      "       2.e+06, 3.e+06, 4.e+06, 5.e+06, 6.e+06, 7.e+06, 8.e+06, 9.e+06,\n",
      "       2.e+07, 3.e+07, 4.e+07, 5.e+07, 6.e+07, 7.e+07, 8.e+07, 9.e+07,\n",
      "       2.e+08, 3.e+08, 4.e+08, 5.e+08, 6.e+08, 7.e+08, 8.e+08, 9.e+08,\n",
      "       2.e+09, 3.e+09, 4.e+09, 5.e+09, 6.e+09, 7.e+09, 8.e+09, 9.e+09])\n",
      "2025-01-22 13:57:24,053 - matplotlib.ticker - vmin 5.011872336272722 vmax 19952623.149688788\n",
      "2025-01-22 13:57:24,053 - matplotlib.ticker - ticklocs array([1.e-01, 1.e+00, 1.e+01, 1.e+02, 1.e+03, 1.e+04, 1.e+05, 1.e+06,\n",
      "       1.e+07, 1.e+08, 1.e+09])\n",
      "2025-01-22 13:57:24,072 - matplotlib.ticker - vmin 5.011872336272722 vmax 19952623.149688788\n",
      "2025-01-22 13:57:24,072 - matplotlib.ticker - ticklocs array([1.e-01, 1.e+00, 1.e+01, 1.e+02, 1.e+03, 1.e+04, 1.e+05, 1.e+06,\n",
      "       1.e+07, 1.e+08, 1.e+09])\n",
      "2025-01-22 13:57:24,073 - matplotlib.ticker - vmin 5.011872336272722 vmax 19952623.149688788\n",
      "2025-01-22 13:57:24,073 - matplotlib.ticker - ticklocs array([2.e-01, 3.e-01, 4.e-01, 5.e-01, 6.e-01, 7.e-01, 8.e-01, 9.e-01,\n",
      "       2.e+00, 3.e+00, 4.e+00, 5.e+00, 6.e+00, 7.e+00, 8.e+00, 9.e+00,\n",
      "       2.e+01, 3.e+01, 4.e+01, 5.e+01, 6.e+01, 7.e+01, 8.e+01, 9.e+01,\n",
      "       2.e+02, 3.e+02, 4.e+02, 5.e+02, 6.e+02, 7.e+02, 8.e+02, 9.e+02,\n",
      "       2.e+03, 3.e+03, 4.e+03, 5.e+03, 6.e+03, 7.e+03, 8.e+03, 9.e+03,\n",
      "       2.e+04, 3.e+04, 4.e+04, 5.e+04, 6.e+04, 7.e+04, 8.e+04, 9.e+04,\n",
      "       2.e+05, 3.e+05, 4.e+05, 5.e+05, 6.e+05, 7.e+05, 8.e+05, 9.e+05,\n",
      "       2.e+06, 3.e+06, 4.e+06, 5.e+06, 6.e+06, 7.e+06, 8.e+06, 9.e+06,\n",
      "       2.e+07, 3.e+07, 4.e+07, 5.e+07, 6.e+07, 7.e+07, 8.e+07, 9.e+07,\n",
      "       2.e+08, 3.e+08, 4.e+08, 5.e+08, 6.e+08, 7.e+08, 8.e+08, 9.e+08,\n",
      "       2.e+09, 3.e+09, 4.e+09, 5.e+09, 6.e+09, 7.e+09, 8.e+09, 9.e+09])\n",
      "2025-01-22 13:57:24,074 - matplotlib.ticker - vmin 5.011872336272722 vmax 19952623.149688788\n",
      "2025-01-22 13:57:24,074 - matplotlib.ticker - ticklocs array([1.e-01, 1.e+00, 1.e+01, 1.e+02, 1.e+03, 1.e+04, 1.e+05, 1.e+06,\n",
      "       1.e+07, 1.e+08, 1.e+09])\n",
      "2025-01-22 13:57:24,083 - matplotlib.ticker - vmin 5.011872336272722 vmax 19952623.149688788\n",
      "2025-01-22 13:57:24,083 - matplotlib.ticker - ticklocs array([1.e-01, 1.e+00, 1.e+01, 1.e+02, 1.e+03, 1.e+04, 1.e+05, 1.e+06,\n",
      "       1.e+07, 1.e+08, 1.e+09])\n",
      "2025-01-22 13:57:24,085 - matplotlib.ticker - vmin 5.011872336272722 vmax 19952623.149688788\n",
      "2025-01-22 13:57:24,085 - matplotlib.ticker - ticklocs array([2.e-01, 3.e-01, 4.e-01, 5.e-01, 6.e-01, 7.e-01, 8.e-01, 9.e-01,\n",
      "       2.e+00, 3.e+00, 4.e+00, 5.e+00, 6.e+00, 7.e+00, 8.e+00, 9.e+00,\n",
      "       2.e+01, 3.e+01, 4.e+01, 5.e+01, 6.e+01, 7.e+01, 8.e+01, 9.e+01,\n",
      "       2.e+02, 3.e+02, 4.e+02, 5.e+02, 6.e+02, 7.e+02, 8.e+02, 9.e+02,\n",
      "       2.e+03, 3.e+03, 4.e+03, 5.e+03, 6.e+03, 7.e+03, 8.e+03, 9.e+03,\n",
      "       2.e+04, 3.e+04, 4.e+04, 5.e+04, 6.e+04, 7.e+04, 8.e+04, 9.e+04,\n",
      "       2.e+05, 3.e+05, 4.e+05, 5.e+05, 6.e+05, 7.e+05, 8.e+05, 9.e+05,\n",
      "       2.e+06, 3.e+06, 4.e+06, 5.e+06, 6.e+06, 7.e+06, 8.e+06, 9.e+06,\n",
      "       2.e+07, 3.e+07, 4.e+07, 5.e+07, 6.e+07, 7.e+07, 8.e+07, 9.e+07,\n",
      "       2.e+08, 3.e+08, 4.e+08, 5.e+08, 6.e+08, 7.e+08, 8.e+08, 9.e+08,\n",
      "       2.e+09, 3.e+09, 4.e+09, 5.e+09, 6.e+09, 7.e+09, 8.e+09, 9.e+09])\n",
      "2025-01-22 13:57:24,086 - matplotlib.ticker - vmin 5.011872336272722 vmax 19952623.149688788\n",
      "2025-01-22 13:57:24,086 - matplotlib.ticker - ticklocs array([1.e-01, 1.e+00, 1.e+01, 1.e+02, 1.e+03, 1.e+04, 1.e+05, 1.e+06,\n",
      "       1.e+07, 1.e+08, 1.e+09])\n",
      "2025-01-22 13:57:24,090 - matplotlib.ticker - vmin 5.011872336272722 vmax 19952623.149688788\n",
      "2025-01-22 13:57:24,091 - matplotlib.ticker - ticklocs array([1.e-01, 1.e+00, 1.e+01, 1.e+02, 1.e+03, 1.e+04, 1.e+05, 1.e+06,\n",
      "       1.e+07, 1.e+08, 1.e+09])\n",
      "2025-01-22 13:57:24,091 - matplotlib.ticker - vmin 5.011872336272722 vmax 19952623.149688788\n",
      "2025-01-22 13:57:24,091 - matplotlib.ticker - ticklocs array([2.e-01, 3.e-01, 4.e-01, 5.e-01, 6.e-01, 7.e-01, 8.e-01, 9.e-01,\n",
      "       2.e+00, 3.e+00, 4.e+00, 5.e+00, 6.e+00, 7.e+00, 8.e+00, 9.e+00,\n",
      "       2.e+01, 3.e+01, 4.e+01, 5.e+01, 6.e+01, 7.e+01, 8.e+01, 9.e+01,\n",
      "       2.e+02, 3.e+02, 4.e+02, 5.e+02, 6.e+02, 7.e+02, 8.e+02, 9.e+02,\n",
      "       2.e+03, 3.e+03, 4.e+03, 5.e+03, 6.e+03, 7.e+03, 8.e+03, 9.e+03,\n",
      "       2.e+04, 3.e+04, 4.e+04, 5.e+04, 6.e+04, 7.e+04, 8.e+04, 9.e+04,\n",
      "       2.e+05, 3.e+05, 4.e+05, 5.e+05, 6.e+05, 7.e+05, 8.e+05, 9.e+05,\n",
      "       2.e+06, 3.e+06, 4.e+06, 5.e+06, 6.e+06, 7.e+06, 8.e+06, 9.e+06,\n",
      "       2.e+07, 3.e+07, 4.e+07, 5.e+07, 6.e+07, 7.e+07, 8.e+07, 9.e+07,\n",
      "       2.e+08, 3.e+08, 4.e+08, 5.e+08, 6.e+08, 7.e+08, 8.e+08, 9.e+08,\n",
      "       2.e+09, 3.e+09, 4.e+09, 5.e+09, 6.e+09, 7.e+09, 8.e+09, 9.e+09])\n",
      "2025-01-22 13:57:24,092 - matplotlib.ticker - vmin 5.011872336272722 vmax 19952623.149688788\n",
      "2025-01-22 13:57:24,092 - matplotlib.ticker - ticklocs array([1.e-01, 1.e+00, 1.e+01, 1.e+02, 1.e+03, 1.e+04, 1.e+05, 1.e+06,\n",
      "       1.e+07, 1.e+08, 1.e+09])\n"
     ]
    },
    {
     "data": {
      "image/png": "[encoded data removed]",
      "text/plain": [
       "<Figure size 1000x800 with 2 Axes>"
      ]
     },
     "metadata": {},
     "output_type": "display_data"
    }
   ],
   "source": [
    "import sympy as sp\n",
    "import matplotlib.pyplot as plt\n",
    "import numpy as np\n",
    "\n",
    "# Define the design variables\n",
    "s, f = sp.symbols('s f')\n",
    "\n",
    "# Define your transfer function (example: a simple RC low-pass filter)\n",
    "H = obj.transferFunc\n",
    "\n",
    "# Substitute design variable values (example)\n",
    "R1_val = 1e3  # Ohms\n",
    "R2_val = 1e3  # Ohms\n",
    "R3_val = 1e3  # Ohms\n",
    "R4_val = 1e3  # Ohms\n",
    "R5_val = 1e3  # Ohms\n",
    "R6_val = 1e3  # Ohms\n",
    "\n",
    "\n",
    "C4_val = 2e-9    # Farads\n",
    "C5_val = C4_val  # Farads\n",
    "GB_val = 10e6\n",
    "\n",
    "# [R_3, s, R_1, C_5, R_6, C_4, R_5, R_2, GB]\n",
    "# Define the transfer function in terms of frequency\n",
    "H_numeric = H.subs({\n",
    "    sym_dict[0]:  R3_val, \n",
    "    sym_dict[2] : R1_val, \n",
    "    sym_dict[3] : C5_val,\n",
    "    sym_dict[4] : R6_val,\n",
    "    sym_dict[5] : C4_val,\n",
    "    sym_dict[6] : R5_val,\n",
    "    sym_dict[7] : R2_val,\n",
    "    sym_dict[8] : GB_val,\n",
    "    s: 2 * sp.pi * sp.I * f})\n",
    "\n",
    "print(H_numeric)\n",
    "\n",
    "\n",
    "# Compute the magnitude (in dB) and phase (in degrees)\n",
    "magnitude_expr = 20 * sp.log(sp.Abs(H_numeric), 10)  # Magnitude in dB\n",
    "phase_expr = sp.arg(H_numeric) * 180 / sp.pi         # Phase in degrees\n",
    "\n",
    "# Define the frequency range\n",
    "frequencies = np.logspace(1, 7, 100)  # From 10 Hz to 10 MHz\n",
    "\n",
    "# Evaluate the magnitude and phase for each frequency\n",
    "magnitude_vals = []\n",
    "phase_vals = []\n",
    "\n",
    "for freq in frequencies:\n",
    "    H_val = H_numeric.subs(f, freq).evalf()  # Evaluate H at the given frequency\n",
    "    mag = 20 * sp.log(sp.Abs(H_val), 10)  # Magnitude in dB\n",
    "    phase = sp.arg(H_val) * 180 / sp.pi  # Phase in degrees\n",
    "    magnitude_vals.append(float(mag))  # Convert to float\n",
    "    phase_vals.append(float(phase))  # Convert to float\n",
    "\n",
    "\n",
    "# Convert phase values to a NumPy array and unwrap\n",
    "phase_vals = np.unwrap(np.deg2rad(phase_vals))  # Unwrap in radians\n",
    "phase_vals = np.rad2deg(phase_vals)  # Convert back to degrees\n",
    "\n",
    "\n",
    "# Plotting\n",
    "fig, axs = plt.subplots(2, 1, figsize=(10, 8))\n",
    "\n",
    "# Plot Magnitude\n",
    "axs[0].semilogx(frequencies, [float(m) for m in magnitude_vals], label='Magnitude')\n",
    "axs[0].set_title(\"Bode Plot - Magnitude\")\n",
    "axs[0].set_xlabel(\"Frequency (Hz)\")\n",
    "axs[0].set_ylabel(\"Magnitude (dB)\")\n",
    "axs[0].grid(True)\n",
    "axs[0].legend()\n",
    "\n",
    "# Plot Phase\n",
    "axs[1].semilogx(frequencies, phase_vals, label='Unwrapped Phase')\n",
    "axs[1].set_title(\"Bode Plot - Phase\")\n",
    "axs[1].set_xlabel(\"Frequency (Hz)\")\n",
    "axs[1].set_ylabel(\"Phase (degrees)\")\n",
    "axs[1].grid(True)\n",
    "axs[1].legend()\n",
    "\n",
    "# Show the plot\n",
    "plt.tight_layout()\n",
    "plt.show()"
   ]
  },
  {
   "cell_type": "markdown",
   "metadata": {},
   "source": [
    "# Automated Search"
   ]
  },
  {
   "cell_type": "code",
   "execution_count": 25,
   "metadata": {},
   "outputs": [
    {
     "name": "stdout",
     "output_type": "stream",
     "text": [
      "\n",
      "!!! could not ressolve the path to the pkl file (found 0)\n",
      "\n",
      "Solving the circuit for the first time\n",
      "====Solving the Circuit====\n",
      "--- Computing the possible impedance connections for [Z_1, Z_2, Z_3, Z_4, Z_5, Z_6] ---\n",
      "--- Impedance connections stored in Circuit_Solver.impedanceConnections---\n",
      " ----------------------------\n",
      "1 - Solving for (Vo2 - 0) / (Iin - 0)\n",
      "2 - Intermediate Variables: [Vo1, Vo2, Va, Iin]\n",
      " ----------------------------\n",
      "3 - solved the base transfer function (symbolic [T])\n",
      "-- Single-ended input/output\n",
      "processing combo index 1\n",
      "processing combo index 2\n",
      "processing combo index 3\n",
      "processing combo index 4\n",
      "processing combo index 5\n",
      "processing combo index 6\n",
      "=====*Circuit Solved*=====\n",
      "\n",
      "=== ExperimentResult saved successfully to Runs/VLSI_CMMF_Automated_NA/results_circuit_solution.pkl - 6.641 kb ===\n",
      "\n",
      "** Loading the circuit history\n",
      "could not ressolve the path to the pkl file (found 0)\n",
      "** Found 0 keys already computed\n",
      "Experiment keys: ['Z1_Z2_Z3_Z4_Z5_Z6', 'Z2_Z3_Z4_Z5_Z6', 'Z1_Z3_Z4_Z5_Z6', 'Z1_Z2_Z3_Z5_Z6', 'Z3_Z4_Z5_Z6', 'Z2_Z3_Z5_Z6', 'Z1_Z3_Z5_Z6', 'Z3_Z5_Z6']\n",
      "Experiment will be ran for 8 keys: ['Z1_Z2_Z3_Z4_Z5_Z6', 'Z2_Z3_Z4_Z5_Z6', 'Z1_Z3_Z4_Z5_Z6', 'Z1_Z2_Z3_Z5_Z6', 'Z3_Z4_Z5_Z6', 'Z2_Z3_Z5_Z6', 'Z1_Z3_Z5_Z6', 'Z3_Z5_Z6']\n",
      "--> Running the VLSI_CMMF_Automated_NA Experiment for Z1_Z2_Z3_Z4_Z5_Z6 (1/8)\n",
      "\n",
      "combo key = Z1_Z2_Z3_Z4_Z5_Z6\n"
     ]
    },
    {
     "name": "stderr",
     "output_type": "stream",
     "text": [
      "Getting the TFs (CG): 100%|██████████| 4096/4096 [00:46<00:00, 87.50combo/s] \n"
     ]
    },
    {
     "name": "stdout",
     "output_type": "stream",
     "text": [
      "Number of transfer functions found: 4096\n"
     ]
    },
    {
     "name": "stderr",
     "output_type": "stream",
     "text": [
      "Computing Biquad filter parameters: 100%|██████████| 4096/4096 [00:46<00:00, 88.64filter/s] \n"
     ]
    },
    {
     "name": "stdout",
     "output_type": "stream",
     "text": [
      "summarizing for filters in ['AP', 'BP', 'BP-UNSTABLE-ZERO', 'BS', 'GE', 'HP', 'LP', 'X-INVALID-NUMER', 'X-INVALID-ORDER', 'X-INVALID-WZ', 'X-PolynomialError']\n",
      "AP : 0\n",
      "BP : 120\n",
      "BP-UNSTABLE-ZERO : 0\n",
      "BS : 0\n",
      "GE : 0\n",
      "HP : 28\n",
      "LP : 120\n",
      "X-INVALID-NUMER : 434\n",
      "X-INVALID-ORDER : 3190\n",
      "X-INVALID-WZ : 204\n",
      "X-PolynomialError : 0\n",
      "LaTeX report generated and saved to: Runs/VLSI_CMMF_Automated_NA/VLSI_CMMF_Automated_NA_Z1_Z2_Z3_Z4_Z5_Z6/VLSI_CMMF_Automated_NA_Z1_Z2_Z3_Z4_Z5_Z6_summary.tex\n",
      "\n",
      "=== Compiling the reports to PDF ===\n",
      "----** compiling Runs/VLSI_CMMF_Automated_NA/VLSI_CMMF_Automated_NA_Z1_Z2_Z3_Z4_Z5_Z6/VLSI_CMMF_Automated_NA_Z1_Z2_Z3_Z4_Z5_Z6_summary.tex **----\n",
      "PDF generated: Runs/VLSI_CMMF_Automated_NA/VLSI_CMMF_Automated_NA_Z1_Z2_Z3_Z4_Z5_Z6/VLSI_CMMF_Automated_NA_Z1_Z2_Z3_Z4_Z5_Z6_summary.pdf\n",
      "=== Compiling DONE ===\n",
      "\n",
      "\n",
      "=== ExperimentResult saved successfully to Runs/VLSI_CMMF_Automated_NA/results.pkl - 2375.339 kb ===\n",
      "\n",
      "--> Running the VLSI_CMMF_Automated_NA Experiment for Z2_Z3_Z4_Z5_Z6 (2/8)\n",
      "\n",
      "combo key = Z2_Z3_Z4_Z5_Z6\n"
     ]
    },
    {
     "name": "stderr",
     "output_type": "stream",
     "text": [
      "Getting the TFs (CG): 100%|██████████| 1024/1024 [00:00<00:00, 1345.86combo/s]\n"
     ]
    },
    {
     "name": "stdout",
     "output_type": "stream",
     "text": [
      "Number of transfer functions found: 1024\n"
     ]
    },
    {
     "name": "stderr",
     "output_type": "stream",
     "text": [
      "Computing Biquad filter parameters: 100%|██████████| 1024/1024 [00:00<00:00, 2116.46filter/s]\n"
     ]
    },
    {
     "name": "stdout",
     "output_type": "stream",
     "text": [
      "summarizing for filters in ['AP', 'BP', 'BP-UNSTABLE-ZERO', 'BS', 'GE', 'HP', 'LP', 'X-INVALID-NUMER', 'X-INVALID-ORDER', 'X-INVALID-WZ', 'X-PolynomialError']\n",
      "AP : 0\n",
      "BP : 48\n",
      "BP-UNSTABLE-ZERO : 0\n",
      "BS : 0\n",
      "GE : 0\n",
      "HP : 0\n",
      "LP : 48\n",
      "X-INVALID-NUMER : 48\n",
      "X-INVALID-ORDER : 880\n",
      "X-INVALID-WZ : 0\n",
      "X-PolynomialError : 0\n",
      "LaTeX report generated and saved to: Runs/VLSI_CMMF_Automated_NA/VLSI_CMMF_Automated_NA_Z2_Z3_Z4_Z5_Z6/VLSI_CMMF_Automated_NA_Z2_Z3_Z4_Z5_Z6_summary.tex\n",
      "\n",
      "=== Compiling the reports to PDF ===\n",
      "----** compiling Runs/VLSI_CMMF_Automated_NA/VLSI_CMMF_Automated_NA_Z2_Z3_Z4_Z5_Z6/VLSI_CMMF_Automated_NA_Z2_Z3_Z4_Z5_Z6_summary.tex **----\n",
      "PDF generated: Runs/VLSI_CMMF_Automated_NA/VLSI_CMMF_Automated_NA_Z2_Z3_Z4_Z5_Z6/VLSI_CMMF_Automated_NA_Z2_Z3_Z4_Z5_Z6_summary.pdf\n",
      "=== Compiling DONE ===\n",
      "\n",
      "\n",
      "=== ExperimentResult saved successfully to Runs/VLSI_CMMF_Automated_NA/results.pkl - 2494.734 kb ===\n",
      "\n",
      "--> Running the VLSI_CMMF_Automated_NA Experiment for Z1_Z3_Z4_Z5_Z6 (3/8)\n",
      "\n",
      "combo key = Z1_Z3_Z4_Z5_Z6\n"
     ]
    },
    {
     "name": "stderr",
     "output_type": "stream",
     "text": [
      "Getting the TFs (CG): 100%|██████████| 1024/1024 [00:05<00:00, 200.49combo/s]\n"
     ]
    },
    {
     "name": "stdout",
     "output_type": "stream",
     "text": [
      "Number of transfer functions found: 1024\n"
     ]
    },
    {
     "name": "stderr",
     "output_type": "stream",
     "text": [
      "Computing Biquad filter parameters: 100%|██████████| 1024/1024 [00:07<00:00, 133.33filter/s]\n"
     ]
    },
    {
     "name": "stdout",
     "output_type": "stream",
     "text": [
      "summarizing for filters in ['AP', 'BP', 'BP-UNSTABLE-ZERO', 'BS', 'GE', 'HP', 'LP', 'X-INVALID-NUMER', 'X-INVALID-ORDER', 'X-INVALID-WZ', 'X-PolynomialError']\n",
      "AP : 0\n",
      "BP : 40\n",
      "BP-UNSTABLE-ZERO : 0\n",
      "BS : 0\n",
      "GE : 0\n",
      "HP : 9\n",
      "LP : 40\n",
      "X-INVALID-NUMER : 135\n",
      "X-INVALID-ORDER : 743\n",
      "X-INVALID-WZ : 57\n",
      "X-PolynomialError : 0\n",
      "LaTeX report generated and saved to: Runs/VLSI_CMMF_Automated_NA/VLSI_CMMF_Automated_NA_Z1_Z3_Z4_Z5_Z6/VLSI_CMMF_Automated_NA_Z1_Z3_Z4_Z5_Z6_summary.tex\n",
      "\n",
      "=== Compiling the reports to PDF ===\n",
      "----** compiling Runs/VLSI_CMMF_Automated_NA/VLSI_CMMF_Automated_NA_Z1_Z3_Z4_Z5_Z6/VLSI_CMMF_Automated_NA_Z1_Z3_Z4_Z5_Z6_summary.tex **----\n",
      "PDF generated: Runs/VLSI_CMMF_Automated_NA/VLSI_CMMF_Automated_NA_Z1_Z3_Z4_Z5_Z6/VLSI_CMMF_Automated_NA_Z1_Z3_Z4_Z5_Z6_summary.pdf\n",
      "=== Compiling DONE ===\n",
      "\n",
      "\n",
      "=== ExperimentResult saved successfully to Runs/VLSI_CMMF_Automated_NA/results.pkl - 2868.341 kb ===\n",
      "\n",
      "--> Running the VLSI_CMMF_Automated_NA Experiment for Z1_Z2_Z3_Z5_Z6 (4/8)\n",
      "\n",
      "combo key = Z1_Z2_Z3_Z5_Z6\n"
     ]
    },
    {
     "name": "stderr",
     "output_type": "stream",
     "text": [
      "Getting the TFs (CG): 100%|██████████| 1024/1024 [00:07<00:00, 145.14combo/s]\n"
     ]
    },
    {
     "name": "stdout",
     "output_type": "stream",
     "text": [
      "Number of transfer functions found: 1024\n"
     ]
    },
    {
     "name": "stderr",
     "output_type": "stream",
     "text": [
      "Computing Biquad filter parameters: 100%|██████████| 1024/1024 [00:09<00:00, 113.44filter/s]\n"
     ]
    },
    {
     "name": "stdout",
     "output_type": "stream",
     "text": [
      "summarizing for filters in ['AP', 'BP', 'BP-UNSTABLE-ZERO', 'BS', 'GE', 'HP', 'LP', 'X-INVALID-NUMER', 'X-INVALID-ORDER', 'X-INVALID-WZ', 'X-PolynomialError']\n",
      "AP : 0\n",
      "BP : 44\n",
      "BP-UNSTABLE-ZERO : 0\n",
      "BS : 0\n",
      "GE : 0\n",
      "HP : 8\n",
      "LP : 44\n",
      "X-INVALID-NUMER : 149\n",
      "X-INVALID-ORDER : 714\n",
      "X-INVALID-WZ : 65\n",
      "X-PolynomialError : 0\n",
      "LaTeX report generated and saved to: Runs/VLSI_CMMF_Automated_NA/VLSI_CMMF_Automated_NA_Z1_Z2_Z3_Z5_Z6/VLSI_CMMF_Automated_NA_Z1_Z2_Z3_Z5_Z6_summary.tex\n",
      "\n",
      "=== Compiling the reports to PDF ===\n",
      "----** compiling Runs/VLSI_CMMF_Automated_NA/VLSI_CMMF_Automated_NA_Z1_Z2_Z3_Z5_Z6/VLSI_CMMF_Automated_NA_Z1_Z2_Z3_Z5_Z6_summary.tex **----\n",
      "PDF generated: Runs/VLSI_CMMF_Automated_NA/VLSI_CMMF_Automated_NA_Z1_Z2_Z3_Z5_Z6/VLSI_CMMF_Automated_NA_Z1_Z2_Z3_Z5_Z6_summary.pdf\n",
      "=== Compiling DONE ===\n",
      "\n",
      "\n",
      "=== ExperimentResult saved successfully to Runs/VLSI_CMMF_Automated_NA/results.pkl - 3293.374 kb ===\n",
      "\n",
      "--> Running the VLSI_CMMF_Automated_NA Experiment for Z3_Z4_Z5_Z6 (5/8)\n",
      "\n",
      "combo key = Z3_Z4_Z5_Z6\n"
     ]
    },
    {
     "name": "stderr",
     "output_type": "stream",
     "text": [
      "Getting the TFs (CG): 100%|██████████| 256/256 [00:08<00:00, 29.51combo/s]\n"
     ]
    },
    {
     "name": "stdout",
     "output_type": "stream",
     "text": [
      "Number of transfer functions found: 256\n"
     ]
    },
    {
     "name": "stderr",
     "output_type": "stream",
     "text": [
      "Computing Biquad filter parameters: 100%|██████████| 256/256 [00:00<00:00, 1415.16filter/s]\n"
     ]
    },
    {
     "name": "stdout",
     "output_type": "stream",
     "text": [
      "summarizing for filters in ['AP', 'BP', 'BP-UNSTABLE-ZERO', 'BS', 'GE', 'HP', 'LP', 'X-INVALID-NUMER', 'X-INVALID-ORDER', 'X-INVALID-WZ', 'X-PolynomialError']\n",
      "AP : 0\n",
      "BP : 0\n",
      "BP-UNSTABLE-ZERO : 0\n",
      "BS : 0\n",
      "GE : 0\n",
      "HP : 0\n",
      "LP : 0\n",
      "X-INVALID-NUMER : 0\n",
      "X-INVALID-ORDER : 32\n",
      "X-INVALID-WZ : 0\n",
      "X-PolynomialError : 224\n",
      "LaTeX report generated and saved to: Runs/VLSI_CMMF_Automated_NA/VLSI_CMMF_Automated_NA_Z3_Z4_Z5_Z6/VLSI_CMMF_Automated_NA_Z3_Z4_Z5_Z6_summary.tex\n",
      "\n",
      "=== Compiling the reports to PDF ===\n",
      "----** compiling Runs/VLSI_CMMF_Automated_NA/VLSI_CMMF_Automated_NA_Z3_Z4_Z5_Z6/VLSI_CMMF_Automated_NA_Z3_Z4_Z5_Z6_summary.tex **----\n",
      "PDF generated: Runs/VLSI_CMMF_Automated_NA/VLSI_CMMF_Automated_NA_Z3_Z4_Z5_Z6/VLSI_CMMF_Automated_NA_Z3_Z4_Z5_Z6_summary.pdf\n",
      "=== Compiling DONE ===\n",
      "\n",
      "\n",
      "=== ExperimentResult saved successfully to Runs/VLSI_CMMF_Automated_NA/results.pkl - 3335.757 kb ===\n",
      "\n",
      "--> Running the VLSI_CMMF_Automated_NA Experiment for Z2_Z3_Z5_Z6 (6/8)\n",
      "\n",
      "combo key = Z2_Z3_Z5_Z6\n"
     ]
    },
    {
     "name": "stderr",
     "output_type": "stream",
     "text": [
      "Getting the TFs (CG): 100%|██████████| 256/256 [00:00<00:00, 1175.38combo/s]\n"
     ]
    },
    {
     "name": "stdout",
     "output_type": "stream",
     "text": [
      "Number of transfer functions found: 256\n"
     ]
    },
    {
     "name": "stderr",
     "output_type": "stream",
     "text": [
      "Computing Biquad filter parameters: 100%|██████████| 256/256 [00:00<00:00, 1535.24filter/s]\n"
     ]
    },
    {
     "name": "stdout",
     "output_type": "stream",
     "text": [
      "summarizing for filters in ['AP', 'BP', 'BP-UNSTABLE-ZERO', 'BS', 'GE', 'HP', 'LP', 'X-INVALID-NUMER', 'X-INVALID-ORDER', 'X-INVALID-WZ', 'X-PolynomialError']\n",
      "AP : 0\n",
      "BP : 12\n",
      "BP-UNSTABLE-ZERO : 0\n",
      "BS : 0\n",
      "GE : 0\n",
      "HP : 0\n",
      "LP : 12\n",
      "X-INVALID-NUMER : 12\n",
      "X-INVALID-ORDER : 220\n",
      "X-INVALID-WZ : 0\n",
      "X-PolynomialError : 0\n",
      "LaTeX report generated and saved to: Runs/VLSI_CMMF_Automated_NA/VLSI_CMMF_Automated_NA_Z2_Z3_Z5_Z6/VLSI_CMMF_Automated_NA_Z2_Z3_Z5_Z6_summary.tex\n",
      "\n",
      "=== Compiling the reports to PDF ===\n",
      "----** compiling Runs/VLSI_CMMF_Automated_NA/VLSI_CMMF_Automated_NA_Z2_Z3_Z5_Z6/VLSI_CMMF_Automated_NA_Z2_Z3_Z5_Z6_summary.tex **----\n",
      "PDF generated: Runs/VLSI_CMMF_Automated_NA/VLSI_CMMF_Automated_NA_Z2_Z3_Z5_Z6/VLSI_CMMF_Automated_NA_Z2_Z3_Z5_Z6_summary.pdf\n",
      "=== Compiling DONE ===\n",
      "\n",
      "\n",
      "=== ExperimentResult saved successfully to Runs/VLSI_CMMF_Automated_NA/results.pkl - 3368.044 kb ===\n",
      "\n",
      "--> Running the VLSI_CMMF_Automated_NA Experiment for Z1_Z3_Z5_Z6 (7/8)\n",
      "\n",
      "combo key = Z1_Z3_Z5_Z6\n"
     ]
    },
    {
     "name": "stderr",
     "output_type": "stream",
     "text": [
      "Getting the TFs (CG): 100%|██████████| 256/256 [00:00<00:00, 401.85combo/s]\n"
     ]
    },
    {
     "name": "stdout",
     "output_type": "stream",
     "text": [
      "Number of transfer functions found: 256\n"
     ]
    },
    {
     "name": "stderr",
     "output_type": "stream",
     "text": [
      "Computing Biquad filter parameters: 100%|██████████| 256/256 [00:01<00:00, 248.22filter/s]\n"
     ]
    },
    {
     "name": "stdout",
     "output_type": "stream",
     "text": [
      "summarizing for filters in ['AP', 'BP', 'BP-UNSTABLE-ZERO', 'BS', 'GE', 'HP', 'LP', 'X-INVALID-NUMER', 'X-INVALID-ORDER', 'X-INVALID-WZ', 'X-PolynomialError']\n",
      "AP : 0\n",
      "BP : 15\n",
      "BP-UNSTABLE-ZERO : 0\n",
      "BS : 0\n",
      "GE : 0\n",
      "HP : 0\n",
      "LP : 15\n",
      "X-INVALID-NUMER : 32\n",
      "X-INVALID-ORDER : 184\n",
      "X-INVALID-WZ : 10\n",
      "X-PolynomialError : 0\n",
      "LaTeX report generated and saved to: Runs/VLSI_CMMF_Automated_NA/VLSI_CMMF_Automated_NA_Z1_Z3_Z5_Z6/VLSI_CMMF_Automated_NA_Z1_Z3_Z5_Z6_summary.tex\n",
      "\n",
      "=== Compiling the reports to PDF ===\n",
      "----** compiling Runs/VLSI_CMMF_Automated_NA/VLSI_CMMF_Automated_NA_Z1_Z3_Z5_Z6/VLSI_CMMF_Automated_NA_Z1_Z3_Z5_Z6_summary.tex **----\n",
      "PDF generated: Runs/VLSI_CMMF_Automated_NA/VLSI_CMMF_Automated_NA_Z1_Z3_Z5_Z6/VLSI_CMMF_Automated_NA_Z1_Z3_Z5_Z6_summary.pdf\n",
      "=== Compiling DONE ===\n",
      "\n",
      "\n",
      "=== ExperimentResult saved successfully to Runs/VLSI_CMMF_Automated_NA/results.pkl - 3435.062 kb ===\n",
      "\n",
      "--> Running the VLSI_CMMF_Automated_NA Experiment for Z3_Z5_Z6 (8/8)\n",
      "\n",
      "combo key = Z3_Z5_Z6\n"
     ]
    },
    {
     "name": "stderr",
     "output_type": "stream",
     "text": [
      "Getting the TFs (CG): 100%|██████████| 64/64 [00:02<00:00, 26.89combo/s]\n"
     ]
    },
    {
     "name": "stdout",
     "output_type": "stream",
     "text": [
      "Number of transfer functions found: 64\n"
     ]
    },
    {
     "name": "stderr",
     "output_type": "stream",
     "text": [
      "Computing Biquad filter parameters: 100%|██████████| 64/64 [00:00<00:00, 679.44filter/s]\n"
     ]
    },
    {
     "name": "stdout",
     "output_type": "stream",
     "text": [
      "summarizing for filters in ['AP', 'BP', 'BP-UNSTABLE-ZERO', 'BS', 'GE', 'HP', 'LP', 'X-INVALID-NUMER', 'X-INVALID-ORDER', 'X-INVALID-WZ', 'X-PolynomialError']\n",
      "AP : 0\n",
      "BP : 0\n",
      "BP-UNSTABLE-ZERO : 0\n",
      "BS : 0\n",
      "GE : 0\n",
      "HP : 0\n",
      "LP : 0\n",
      "X-INVALID-NUMER : 0\n",
      "X-INVALID-ORDER : 8\n",
      "X-INVALID-WZ : 0\n",
      "X-PolynomialError : 56\n",
      "LaTeX report generated and saved to: Runs/VLSI_CMMF_Automated_NA/VLSI_CMMF_Automated_NA_Z3_Z5_Z6/VLSI_CMMF_Automated_NA_Z3_Z5_Z6_summary.tex\n",
      "\n",
      "=== Compiling the reports to PDF ===\n",
      "----** compiling Runs/VLSI_CMMF_Automated_NA/VLSI_CMMF_Automated_NA_Z3_Z5_Z6/VLSI_CMMF_Automated_NA_Z3_Z5_Z6_summary.tex **----\n",
      "PDF generated: Runs/VLSI_CMMF_Automated_NA/VLSI_CMMF_Automated_NA_Z3_Z5_Z6/VLSI_CMMF_Automated_NA_Z3_Z5_Z6_summary.pdf\n",
      "=== Compiling DONE ===\n",
      "\n",
      "\n",
      "=== ExperimentResult saved successfully to Runs/VLSI_CMMF_Automated_NA/results.pkl - 3445.789 kb ===\n",
      "\n",
      "<----> END OF EXPERIMENT <---->\n",
      "Impedance Keys analyzed (count: 8): \n",
      "['Z1_Z2_Z3_Z4_Z5_Z6',\n",
      " 'Z2_Z3_Z4_Z5_Z6',\n",
      " 'Z1_Z3_Z4_Z5_Z6',\n",
      " 'Z1_Z2_Z3_Z5_Z6',\n",
      " 'Z3_Z4_Z5_Z6',\n",
      " 'Z2_Z3_Z5_Z6',\n",
      " 'Z1_Z3_Z5_Z6',\n",
      " 'Z3_Z5_Z6']\n"
     ]
    }
   ],
   "source": [
    "from   symcircuit.symbolic_solver.solver     import run_experiment\n",
    "\n",
    "circuit = TIA_CMMF.circuit\n",
    "\n",
    "\n",
    "experiment_result = run_experiment(\"VLSI_CMMF_Automated\",\n",
    "               T_type=\"NA\",\n",
    "               circuit=circuit,\n",
    "               minNumOfActiveImpedances=3,\n",
    "               maxNumOfActiveImpedances=5,\n",
    "               impedanceKeysOverwrite= [\n",
    "                   \"Z1_Z2_Z3_Z4_Z5_Z6\",\n",
    "                   \"Z2_Z3_Z4_Z5_Z6\",\n",
    "                   \"Z1_Z3_Z4_Z5_Z6\",\n",
    "                   \"Z1_Z2_Z3_Z5_Z6\",\n",
    "                   \"Z3_Z4_Z5_Z6\",\n",
    "                   \"Z2_Z3_Z5_Z6\",\n",
    "                   \"Z1_Z3_Z5_Z6\",\n",
    "                   \"Z3_Z5_Z6\",\n",
    "                   ],\n",
    "               outputFrom= [\"Vo2\", \"0\"],\n",
    "               inputFrom=[\"Iin\", \"0\"],\n",
    "               loadHistory=True\n",
    "               )\n"
   ]
  },
  {
   "cell_type": "code",
   "execution_count": 27,
   "metadata": {},
   "outputs": [
    {
     "data": {
      "text/latex": [
       "$\\displaystyle \\frac{Z_{1} Z_{2} Z_{4} Z_{6}}{Z_{1} Z_{4} Z_{5} - Z_{2} Z_{3} Z_{4} + Z_{2} Z_{3} Z_{5} + Z_{2} Z_{4} Z_{5} + Z_{3} Z_{4} Z_{5}}$"
      ],
      "text/plain": [
       "Z_1*Z_2*Z_4*Z_6/(Z_1*Z_4*Z_5 - Z_2*Z_3*Z_4 + Z_2*Z_3*Z_5 + Z_2*Z_4*Z_5 + Z_3*Z_4*Z_5)"
      ]
     },
     "execution_count": 27,
     "metadata": {},
     "output_type": "execute_result"
    }
   ],
   "source": [
    "classifications, tf = experiment_result.get_impedance_key(\"Z1_Z2_Z3_Z4_Z5_Z6\")\n",
    "tf"
   ]
  },
  {
   "cell_type": "code",
   "execution_count": null,
   "metadata": {},
   "outputs": [],
   "source": [
    "type(classifications), type(classifications[-1])"
   ]
  },
  {
   "cell_type": "code",
   "execution_count": null,
   "metadata": {},
   "outputs": [],
   "source": [
    "# df_classifications = experiment_result.flatten_classifications()\n",
    "# df_classifications"
   ]
  },
  {
   "cell_type": "code",
   "execution_count": null,
   "metadata": {},
   "outputs": [],
   "source": [
    "# df_tfs = experiment_result.flatten_tfs()\n",
    "# df_tfs"
   ]
  },
  {
   "cell_type": "code",
   "execution_count": 28,
   "metadata": {},
   "outputs": [
    {
     "name": "stdout",
     "output_type": "stream",
     "text": [
      "Writting VLSI_CMMF_Automated_NA to csv files\n",
      "flattened all the classifications to Runs/VLSI_CMMF_Automated_NA/classifications_.csv\n",
      "flattened all the classifications to Runs/VLSI_CMMF_Automated_NA/tfs_.csv\n"
     ]
    }
   ],
   "source": [
    "experiment_result.to_csv()"
   ]
  }
 ],
 "metadata": {
  "kernelspec": {
   "display_name": "myenv",
   "language": "python",
   "name": "python3"
  },
  "language_info": {
   "codemirror_mode": {
    "name": "ipython",
    "version": 3
   },
   "file_extension": ".py",
   "mimetype": "text/x-python",
   "name": "python",
   "nbconvert_exporter": "python",
   "pygments_lexer": "ipython3",
   "version": "3.12.2"
  }
 },
 "nbformat": 4,
 "nbformat_minor": 2
}
