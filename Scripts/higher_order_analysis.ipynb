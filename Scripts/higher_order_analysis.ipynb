{
 "cells": [
  {
   "cell_type": "code",
   "execution_count": 3,
   "metadata": {},
   "outputs": [],
   "source": [
    "import sympy\n",
    "from symcircuit.symbolic_solver.domains import ExperimentResult"
   ]
  },
  {
   "cell_type": "markdown",
   "metadata": {},
   "source": [
    "# Loading the Results of VLSI CMMF Exploration"
   ]
  },
  {
   "cell_type": "code",
   "execution_count": 6,
   "metadata": {},
   "outputs": [],
   "source": [
    "results = ExperimentResult(\"VLSI_CMMF_POST_EXPERIMENT\")\n",
    "dir_of_results = results.find_results_file(\"Runs/VLSI_CMMF_Automated_NA\")\n",
    "results = results.load(f\"{dir_of_results[0]}/results.pkl\")"
   ]
  },
  {
   "cell_type": "code",
   "execution_count": null,
   "metadata": {},
   "outputs": [],
   "source": [
    "results.classifications_dict.keys()"
   ]
  },
  {
   "cell_type": "code",
   "execution_count": null,
   "metadata": {},
   "outputs": [],
   "source": [
    "classifications_of_intrest = results.classifications_dict[\"Z1_Z2_Z3_Z4_Z5_Z6\"]\n",
    "len(classifications_of_intrest), classifications_of_intrest[0]"
   ]
  },
  {
   "cell_type": "code",
   "execution_count": 13,
   "metadata": {},
   "outputs": [],
   "source": [
    "df = results.flatten_classifications() # This way we can access all the classsifcation into a pandas df"
   ]
  },
  {
   "cell_type": "markdown",
   "metadata": {},
   "source": [
    "# Examining the Outstanding Filters "
   ]
  },
  {
   "cell_type": "code",
   "execution_count": null,
   "metadata": {},
   "outputs": [],
   "source": [
    "classifications_of_intrest = [classification \n",
    "                              for classification in classifications_of_intrest \n",
    "                              if (not classification.valid) or (not classification.fType in [\"BP\", \"BS\", \"LP\", \"HP\", \"GE\"] )]\n",
    "fTypes = set(classification.fType for classification in classifications_of_intrest)\n",
    "len(classifications_of_intrest), fTypes"
   ]
  },
  {
   "cell_type": "code",
   "execution_count": null,
   "metadata": {},
   "outputs": [],
   "source": [
    "classifications_of_intrest[0:10]"
   ]
  },
  {
   "cell_type": "code",
   "execution_count": null,
   "metadata": {},
   "outputs": [],
   "source": [
    "single_classification = classifications_of_intrest[0]\n",
    "# Since the original code classified the transfer functions by whether they fit to into a BiQuad filter, we classify them based on a different spec\n",
    "single_classification.filterOrder, single_classification.fType, single_classification.parameters,  single_classification.zCombo, single_classification.valid"
   ]
  },
  {
   "cell_type": "code",
   "execution_count": null,
   "metadata": {},
   "outputs": [],
   "source": [
    "count = {\n",
    "    \"CONST\" : 0\n",
    "}\n",
    "s = sympy.symbols(\"s\")\n",
    "\n",
    "for i, classification in enumerate(classifications_of_intrest):\n",
    "    tf = classification.transferFunc\n",
    "\n",
    "    if not (s in tf.free_symbols): # TF id NOT a function of S - Pure amplifier/level-shifter\n",
    "        ftype = \"CONST\"\n",
    "        count[ftype] += 1\n",
    "        classification.fType = \"CONST\"\n",
    "        classification.filterOrder = \"Zero\"\n",
    "\n",
    "    if classification.fType == \"INVALID-WZ\":\n",
    "        # print(i, classification)\n",
    "        pass\n",
    "\n",
    "count"
   ]
  },
  {
   "cell_type": "code",
   "execution_count": null,
   "metadata": {},
   "outputs": [],
   "source": [
    "classifications_of_intrest[32].transferFunc.simplify()"
   ]
  },
  {
   "cell_type": "code",
   "execution_count": null,
   "metadata": {},
   "outputs": [],
   "source": [
    "params = classifications_of_intrest[32].parameters\n",
    "params[\"Wz\"].simplify() #, params[\"Wz\"], params[\"wo\"]"
   ]
  },
  {
   "cell_type": "code",
   "execution_count": null,
   "metadata": {},
   "outputs": [],
   "source": [
    "params[\"Q\"].simplify()"
   ]
  },
  {
   "cell_type": "code",
   "execution_count": null,
   "metadata": {},
   "outputs": [],
   "source": [
    "sympy.ask()"
   ]
  },
  {
   "cell_type": "code",
   "execution_count": null,
   "metadata": {},
   "outputs": [],
   "source": [
    "from sympy import symbols, ask, Q\n",
    "\n",
    "# Declare symbols with assumptions\n",
    "C1, C2, C3, C4, C5 = symbols('C1 C2 C3 C4 C5', positive=True)\n",
    "s = symbols('s')  # 's' has no assumptions\n",
    "\n",
    "# Define the expression\n",
    "expr = (C1*C2 + C1*C3 - C1*C4 + C1*C5 + C2*C3)\n",
    "\n",
    "# Check if the expression is positive\n",
    "is_positive = ask(Q.positive(expr))\n",
    "\n",
    "# Print the result\n",
    "print(\"Is the expression positive?\", is_positive)\n"
   ]
  },
  {
   "cell_type": "code",
   "execution_count": null,
   "metadata": {},
   "outputs": [],
   "source": [
    "from sympy import symbols, ask, Q\n",
    "\n",
    "# Declare symbols with assumptions\n",
    "C1, C2, C3, C4, C5 = symbols('C1 C2 C3 C4 C5', positive=True)\n",
    "s = symbols('s')  # 's' is unconstrained\n",
    "\n",
    "# Define the expression\n",
    "expr = (C1 * (C2 + C3 + C4 + C5) + C2 * C3)/C2\n",
    "# Check if the expression could be positive (not strictly negative)\n",
    "could_be_positive = not ask(Q.negative(expr))\n",
    "\n",
    "# Print the result\n",
    "print(\"Could the expression be positive (not strictly negative)?\", could_be_positive)\n"
   ]
  },
  {
   "cell_type": "code",
   "execution_count": null,
   "metadata": {},
   "outputs": [],
   "source": [
    "from sympy import symbols, Poly, Q, ask, solveset, S, simplify\n",
    "\n",
    "def is_symbolic_stable(transfer_function, assumptions={}):\n",
    "    \"\"\"\n",
    "    Checks if a transfer function with symbolic coefficients is stable.\n",
    "\n",
    "    Args:\n",
    "        transfer_function: A Sympy expression representing the transfer function.\n",
    "        assumptions: A dictionary of assumptions for symbolic variables (e.g., {R1: Q.positive, C1: Q.positive}).\n",
    "\n",
    "    Returns:\n",
    "        True if the transfer function is stable (all poles have strictly negative real parts),\n",
    "        False if any pole is in the right-hand plane,\n",
    "        None if stability cannot be determined for some poles.\n",
    "    \"\"\"\n",
    "    # Apply assumptions to all symbols\n",
    "    for var, assumption in assumptions.items():\n",
    "        var._assumptions.update({assumption: True})\n",
    "    \n",
    "    # Get the denominator of the transfer function\n",
    "    denominator = transfer_function.as_numer_denom()[1]\n",
    "    \n",
    "    # Solve for poles (roots of the denominator)\n",
    "    s = symbols('s')\n",
    "    poles = solveset(denominator, s, domain=S.Complexes)\n",
    "    \n",
    "    # Check each pole\n",
    "    for pole in poles:\n",
    "        print(pole)\n",
    "        # Simplify the pole and extract its real part\n",
    "        real_part = simplify(pole.as_real_imag()[0])\n",
    "        \n",
    "        # Check if the real part is strictly negative\n",
    "        is_negative = ask(Q.negative(real_part))\n",
    "        if is_negative is False:  # Pole is in the right-hand plane or on the imaginary axis\n",
    "            return False\n",
    "        elif is_negative is None:  # Sympy can't determine\n",
    "            return None\n",
    "    \n",
    "    # If all poles are strictly negative\n",
    "    return True\n",
    "\n",
    "\n",
    "# Example: Define symbolic components\n",
    "R1, R2, R3 = symbols('R1 R2 R3', positive=True)  # Resistors\n",
    "L1 = symbols('L1', positive=True)  # Inductor\n",
    "C1, C2 = symbols('C1 C2', positive=True)  # Capacitors\n",
    "s = symbols('s')\n",
    "\n",
    "# Example transfer function with symbolic coefficients\n",
    "G = (s + R1) / (L1 * s**2 + (R2 + R3) * s + 1 / C1)\n",
    "\n",
    "# Define assumptions explicitly (optional, but helpful for ambiguous cases)\n",
    "assumptions = {\n",
    "    R1: Q.positive,\n",
    "    R2: Q.positive,\n",
    "    R3: Q.positive,\n",
    "    L1: Q.positive,\n",
    "    C1: Q.positive\n",
    "}\n",
    "\n",
    "# Check if the transfer function is stable\n",
    "stability = is_symbolic_stable(G, assumptions)\n",
    "print(\"Is the transfer function stable?\", stability)\n"
   ]
  },
  {
   "cell_type": "code",
   "execution_count": null,
   "metadata": {},
   "outputs": [],
   "source": [
    "expr = (s* R2/C2 + L1)*(s**2+ 3* R1/C2*s + L1)\n",
    "expr = expr.expand()\n",
    "expr.factor()"
   ]
  },
  {
   "cell_type": "code",
   "execution_count": null,
   "metadata": {},
   "outputs": [],
   "source": [
    "from sympy import symbols, factor, Poly, simplify, solveset, S\n",
    "\n",
    "def decompose_and_inspect(transfer_function, assumptions={}):\n",
    "    \"\"\"\n",
    "    Decomposes the denominator of a transfer function into irreducible factors\n",
    "    and inspects each factor for its properties (e.g., roots).\n",
    "\n",
    "    Args:\n",
    "        transfer_function: A Sympy expression representing the transfer function.\n",
    "        assumptions: A dictionary of assumptions for symbolic variables (e.g., {R1: Q.positive, C1: Q.positive}).\n",
    "\n",
    "    Returns:\n",
    "        A dictionary where each key is a factor, and the value contains its roots and properties.\n",
    "    \"\"\"\n",
    "    # Apply assumptions to all symbols\n",
    "    for var, assumption in assumptions.items():\n",
    "        var._assumptions.update({assumption: True})\n",
    "    \n",
    "    # Extract the denominator\n",
    "    denominator = transfer_function.as_numer_denom()[1]\n",
    "    \n",
    "    # Factorize the denominator\n",
    "    factors = factor(denominator)\n",
    "    \n",
    "    # Inspect each factor\n",
    "    s = symbols('s')\n",
    "    results = {}\n",
    "    if factors.is_Mul:  # If there are multiple factors\n",
    "        factors = factors.as_ordered_factors()\n",
    "    else:\n",
    "        factors = [factors]\n",
    "    \n",
    "    for factor_expr in factors:\n",
    "        # Find the roots of this factor\n",
    "        roots = solveset(factor_expr, s, domain=S.Complexes)\n",
    "        \n",
    "        # Analyze each root (e.g., check if it's strictly negative)\n",
    "        roots_info = []\n",
    "        for root in roots:\n",
    "            real_part = simplify(root.as_real_imag()[0])\n",
    "            roots_info.append({\n",
    "                \"root\": root,\n",
    "                \"real_part\": real_part\n",
    "            })\n",
    "        \n",
    "        # Store results for this factor\n",
    "        results[str(factor_expr)] = {\n",
    "            \"factor\": factor_expr,\n",
    "            \"roots\": roots_info,\n",
    "            \"degree\": Poly(factor_expr).degree()\n",
    "        }\n",
    "    \n",
    "    return results\n",
    "\n",
    "# Example: Define symbolic components\n",
    "R1, R2, R3 = symbols('R1 R2 R3', positive=True)  # Resistors\n",
    "L1 = symbols('L1', positive=True)  # Inductor\n",
    "C1, C2 = symbols('C1 C2', positive=True)  # Capacitors\n",
    "s = symbols('s')\n",
    "\n",
    "# Example transfer function\n",
    "G = (s + R1) / (L1 * s**3 + (R2 + R3) * s**2 + 1 / C1 * s + 1 / C2)\n",
    "\n",
    "# Decompose and inspect the factors\n",
    "results = decompose_and_inspect(G)\n",
    "for factor, info in results.items():\n",
    "    print(f\"Factor: {info['factor']}\")\n",
    "    print(f\"Degree: {info['degree']}\")\n",
    "    print(\"Roots:\")\n",
    "    for root_info in info[\"roots\"]:\n",
    "        print(f\"  - Root: {root_info['root']}, Real part: {root_info['real_part']}\")\n",
    "    print()\n"
   ]
  },
  {
   "cell_type": "code",
   "execution_count": null,
   "metadata": {},
   "outputs": [],
   "source": [
    "sympy.factor()"
   ]
  }
 ],
 "metadata": {
  "kernelspec": {
   "display_name": "myenv",
   "language": "python",
   "name": "python3"
  },
  "language_info": {
   "codemirror_mode": {
    "name": "ipython",
    "version": 3
   },
   "file_extension": ".py",
   "mimetype": "text/x-python",
   "name": "python",
   "nbconvert_exporter": "python",
   "pygments_lexer": "ipython3",
   "version": "3.12.2"
  }
 },
 "nbformat": 4,
 "nbformat_minor": 2
}
