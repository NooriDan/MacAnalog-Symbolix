{
 "cells": [
  {
   "cell_type": "code",
   "execution_count": 1,
   "metadata": {},
   "outputs": [],
   "source": [
    "import sympy\n",
    "from symcircuit.symbolic_solver.domains import ExperimentResult"
   ]
  },
  {
   "cell_type": "markdown",
   "metadata": {},
   "source": [
    "# Loading the Results of VLSI CMMF Exploration"
   ]
  },
  {
   "cell_type": "code",
   "execution_count": 2,
   "metadata": {},
   "outputs": [],
   "source": [
    "results = ExperimentResult(\"VLSI_CMMF_POST_EXPERIMENT\")\n",
    "dir_of_results = results.find_results_file(\"Runs/VLSI_CMMF_Automated_NA\")\n",
    "results = results.load(f\"{dir_of_results[0]}/results.pkl\")"
   ]
  },
  {
   "cell_type": "code",
   "execution_count": 3,
   "metadata": {},
   "outputs": [
    {
     "data": {
      "text/plain": [
       "dict_keys(['Z1_Z2_Z3_Z4_Z5_Z6', 'Z2_Z3_Z4_Z5_Z6', 'Z1_Z3_Z4_Z5_Z6', 'Z1_Z2_Z3_Z5_Z6', 'Z3_Z4_Z5_Z6', 'Z2_Z3_Z5_Z6', 'Z1_Z3_Z5_Z6', 'Z3_Z5_Z6'])"
      ]
     },
     "execution_count": 3,
     "metadata": {},
     "output_type": "execute_result"
    }
   ],
   "source": [
    "results.classifications_dict.keys()"
   ]
  },
  {
   "cell_type": "code",
   "execution_count": 4,
   "metadata": {},
   "outputs": [
    {
     "data": {
      "text/plain": [
       "(4096,\n",
       " FilterClassification(valid=False, fType=X-INVALID-ORDER, parameters=None)zCombo=(R_1, R_2, R_3, R_4, R_5, R_6), transferFunc=R_1*R_2*R_4*R_6/(R_1*R_4*R_5 - R_2*R_3*R_4 + R_2*R_3*R_5 + R_2*R_4*R_5 + R_3*R_4*R_5), )"
      ]
     },
     "execution_count": 4,
     "metadata": {},
     "output_type": "execute_result"
    }
   ],
   "source": [
    "classifications_of_intrest = results.classifications_dict[\"Z1_Z2_Z3_Z4_Z5_Z6\"]\n",
    "len(classifications_of_intrest), classifications_of_intrest[0]"
   ]
  },
  {
   "cell_type": "code",
   "execution_count": 5,
   "metadata": {},
   "outputs": [],
   "source": [
    "# df = results.flatten_classifications() # This way we can access all the classsifcation into a pandas df"
   ]
  },
  {
   "cell_type": "markdown",
   "metadata": {},
   "source": [
    "# Examining the Outstanding Filters "
   ]
  },
  {
   "cell_type": "code",
   "execution_count": 6,
   "metadata": {},
   "outputs": [
    {
     "data": {
      "text/plain": [
       "(3828, {'X-INVALID-NUMER', 'X-INVALID-ORDER', 'X-INVALID-WZ'})"
      ]
     },
     "execution_count": 6,
     "metadata": {},
     "output_type": "execute_result"
    }
   ],
   "source": [
    "classifications_of_intrest = [classification \n",
    "                              for classification in classifications_of_intrest \n",
    "                              if (not classification.valid) or (not classification.fType in [\"BP\", \"BS\", \"LP\", \"HP\", \"GE\"] )]\n",
    "fTypes = set(classification.fType for classification in classifications_of_intrest)\n",
    "len(classifications_of_intrest), fTypes"
   ]
  },
  {
   "cell_type": "code",
   "execution_count": 7,
   "metadata": {},
   "outputs": [
    {
     "data": {
      "text/plain": [
       "[FilterClassification(valid=False, fType=X-INVALID-ORDER, parameters=None)zCombo=(R_1, R_2, R_3, R_4, R_5, R_6), transferFunc=R_1*R_2*R_4*R_6/(R_1*R_4*R_5 - R_2*R_3*R_4 + R_2*R_3*R_5 + R_2*R_4*R_5 + R_3*R_4*R_5), ,\n",
       " FilterClassification(valid=False, fType=X-INVALID-ORDER, parameters=None)zCombo=(R_1, R_2, R_3, R_4, R_5, 1/(C_6*s)), transferFunc=R_1*R_2*R_4/(s*(C_6*R_1*R_4*R_5 - C_6*R_2*R_3*R_4 + C_6*R_2*R_3*R_5 + C_6*R_2*R_4*R_5 + C_6*R_3*R_4*R_5)), ,\n",
       " FilterClassification(valid=False, fType=X-INVALID-ORDER, parameters=None)zCombo=(R_1, R_2, R_3, R_4, R_5, R_6 + 1/(C_6*s)), transferFunc=(C_6*R_1*R_2*R_4*R_6*s + R_1*R_2*R_4)/(s*(C_6*R_1*R_4*R_5 - C_6*R_2*R_3*R_4 + C_6*R_2*R_3*R_5 + C_6*R_2*R_4*R_5 + C_6*R_3*R_4*R_5)), ,\n",
       " FilterClassification(valid=False, fType=X-INVALID-ORDER, parameters=None)zCombo=(R_1, R_2, R_3, R_4, R_5, R_6/(C_6*R_6*s + 1)), transferFunc=R_1*R_2*R_4*R_6/(R_1*R_4*R_5 - R_2*R_3*R_4 + R_2*R_3*R_5 + R_2*R_4*R_5 + R_3*R_4*R_5 + s*(C_6*R_1*R_4*R_5*R_6 - C_6*R_2*R_3*R_4*R_6 + C_6*R_2*R_3*R_5*R_6 + C_6*R_2*R_4*R_5*R_6 + C_6*R_3*R_4*R_5*R_6)), ,\n",
       " FilterClassification(valid=False, fType=X-INVALID-ORDER, parameters=None)zCombo=(R_1, R_2, R_3, R_4, 1/(C_5*s), R_6), transferFunc=C_5*R_1*R_2*R_4*R_6*s/(-C_5*R_2*R_3*R_4*s + R_1*R_4 + R_2*R_3 + R_2*R_4 + R_3*R_4), ,\n",
       " FilterClassification(valid=False, fType=X-INVALID-ORDER, parameters=None)zCombo=(R_1, R_2, R_3, R_4, 1/(C_5*s), 1/(C_6*s)), transferFunc=C_5*R_1*R_2*R_4/(-C_5*C_6*R_2*R_3*R_4*s + C_6*R_1*R_4 + C_6*R_2*R_3 + C_6*R_2*R_4 + C_6*R_3*R_4), ,\n",
       " FilterClassification(valid=False, fType=X-INVALID-ORDER, parameters=None)zCombo=(R_1, R_2, R_3, R_4, 1/(C_5*s), R_6 + 1/(C_6*s)), transferFunc=(C_5*C_6*R_1*R_2*R_4*R_6*s + C_5*R_1*R_2*R_4)/(-C_5*C_6*R_2*R_3*R_4*s + C_6*R_1*R_4 + C_6*R_2*R_3 + C_6*R_2*R_4 + C_6*R_3*R_4), ,\n",
       " FilterClassification(valid=False, fType=X-INVALID-ORDER, parameters=None)zCombo=(R_1, R_2, R_3, R_4, R_5 + 1/(C_5*s), R_6), transferFunc=C_5*R_1*R_2*R_4*R_6*s/(R_1*R_4 + R_2*R_3 + R_2*R_4 + R_3*R_4 + s*(C_5*R_1*R_4*R_5 - C_5*R_2*R_3*R_4 + C_5*R_2*R_3*R_5 + C_5*R_2*R_4*R_5 + C_5*R_3*R_4*R_5)), ,\n",
       " FilterClassification(valid=False, fType=X-INVALID-ORDER, parameters=None)zCombo=(R_1, R_2, R_3, R_4, R_5 + 1/(C_5*s), 1/(C_6*s)), transferFunc=C_5*R_1*R_2*R_4/(C_6*R_1*R_4 + C_6*R_2*R_3 + C_6*R_2*R_4 + C_6*R_3*R_4 + s*(C_5*C_6*R_1*R_4*R_5 - C_5*C_6*R_2*R_3*R_4 + C_5*C_6*R_2*R_3*R_5 + C_5*C_6*R_2*R_4*R_5 + C_5*C_6*R_3*R_4*R_5)), ,\n",
       " FilterClassification(valid=False, fType=X-INVALID-ORDER, parameters=None)zCombo=(R_1, R_2, R_3, R_4, R_5 + 1/(C_5*s), R_6 + 1/(C_6*s)), transferFunc=(C_5*C_6*R_1*R_2*R_4*R_6*s + C_5*R_1*R_2*R_4)/(C_6*R_1*R_4 + C_6*R_2*R_3 + C_6*R_2*R_4 + C_6*R_3*R_4 + s*(C_5*C_6*R_1*R_4*R_5 - C_5*C_6*R_2*R_3*R_4 + C_5*C_6*R_2*R_3*R_5 + C_5*C_6*R_2*R_4*R_5 + C_5*C_6*R_3*R_4*R_5)), ]"
      ]
     },
     "execution_count": 7,
     "metadata": {},
     "output_type": "execute_result"
    }
   ],
   "source": [
    "classifications_of_intrest[0:10]"
   ]
  },
  {
   "cell_type": "code",
   "execution_count": 8,
   "metadata": {},
   "outputs": [
    {
     "data": {
      "text/plain": [
       "('BiQuad', 'X-INVALID-ORDER', None, (R_1, R_2, R_3, R_4, R_5, R_6), False)"
      ]
     },
     "execution_count": 8,
     "metadata": {},
     "output_type": "execute_result"
    }
   ],
   "source": [
    "single_classification = classifications_of_intrest[0]\n",
    "# Since the original code classified the transfer functions by whether they fit to into a BiQuad filter, we classify them based on a different spec\n",
    "single_classification.filterOrder, single_classification.fType, single_classification.parameters,  single_classification.zCombo, single_classification.valid"
   ]
  },
  {
   "cell_type": "code",
   "execution_count": 9,
   "metadata": {},
   "outputs": [
    {
     "data": {
      "text/plain": [
       "{'X-CONST': 2}"
      ]
     },
     "execution_count": 9,
     "metadata": {},
     "output_type": "execute_result"
    }
   ],
   "source": [
    "count = {\n",
    "    \"X-CONST\" : 0\n",
    "}\n",
    "s = sympy.symbols(\"s\")\n",
    "\n",
    "for i, classification in enumerate(classifications_of_intrest):\n",
    "    tf = classification.transferFunc\n",
    "\n",
    "    if not (s in tf.free_symbols): # TF id NOT a function of S - Pure amplifier/level-shifter\n",
    "        ftype = \"X-CONST\"\n",
    "        count[ftype] += 1\n",
    "        classification.fType = \"X-CONST\"\n",
    "        classification.filterOrder = \"Zero\"\n",
    "\n",
    "    if classification.fType == \"X-INVALID-WZ\":\n",
    "        # print(i, classification)\n",
    "        pass\n",
    "\n",
    "count"
   ]
  },
  {
   "cell_type": "markdown",
   "metadata": {},
   "source": [
    "# Load the old classification into a classifier object"
   ]
  },
  {
   "cell_type": "code",
   "execution_count": 10,
   "metadata": {},
   "outputs": [
    {
     "name": "stderr",
     "output_type": "stream",
     "text": [
      "2025-01-19 22:39:06,870 - symcircuit.symbolic_solver.filter - !!!! Clearning the filter classifications !!!!\n"
     ]
    },
    {
     "data": {
      "text/plain": [
       "True"
      ]
     },
     "execution_count": 10,
     "metadata": {},
     "output_type": "execute_result"
    }
   ],
   "source": [
    "from symcircuit.symbolic_solver.filter import Filter_Classifier\n",
    "\n",
    "classifier = Filter_Classifier()\n",
    "classifier.overwrite_classifications(classifications_of_intrest)\n",
    "classifier.isClassified()\n"
   ]
  },
  {
   "cell_type": "code",
   "execution_count": 11,
   "metadata": {},
   "outputs": [],
   "source": [
    "# classifier.classifications"
   ]
  },
  {
   "cell_type": "code",
   "execution_count": 12,
   "metadata": {},
   "outputs": [],
   "source": [
    "# classifier.classifyFilter(filterOrder=\"FirstOrder\")"
   ]
  },
  {
   "cell_type": "code",
   "execution_count": 13,
   "metadata": {},
   "outputs": [],
   "source": [
    "# classifier.summarizeFilterType()"
   ]
  },
  {
   "cell_type": "code",
   "execution_count": 17,
   "metadata": {},
   "outputs": [
    {
     "name": "stdout",
     "output_type": "stream",
     "text": [
      "X-INVALID-ORDER : 892\n"
     ]
    },
    {
     "data": {
      "text/plain": [
       "892"
      ]
     },
     "execution_count": 17,
     "metadata": {},
     "output_type": "execute_result"
    }
   ],
   "source": [
    "classifications, count = classifier.findFilterInClassification(filterType=\"X-INVALID-ORDER\", denom_order=4)\n",
    "len(classifications)"
   ]
  },
  {
   "cell_type": "code",
   "execution_count": 18,
   "metadata": {},
   "outputs": [],
   "source": [
    "k, numer, denom = classifier.decompose_tf(classifications[0].transferFunc)\n"
   ]
  },
  {
   "cell_type": "code",
   "execution_count": 19,
   "metadata": {},
   "outputs": [
    {
     "data": {
      "text/latex": [
       "$\\displaystyle C_{3} C_{5} R_{1} R_{2} R_{6}$"
      ],
      "text/plain": [
       "C_3*C_5*R_1*R_2*R_6"
      ]
     },
     "execution_count": 19,
     "metadata": {},
     "output_type": "execute_result"
    }
   ],
   "source": [
    "k.simplify()"
   ]
  },
  {
   "cell_type": "code",
   "execution_count": 20,
   "metadata": {},
   "outputs": [
    {
     "data": {
      "text/plain": [
       "[Poly(s**2, s, domain='ZZ'), Poly(s + 1/(C_4*R_4), s, domain='ZZ(C_4,R_4)')]"
      ]
     },
     "execution_count": 20,
     "metadata": {},
     "output_type": "execute_result"
    }
   ],
   "source": [
    "numer"
   ]
  },
  {
   "cell_type": "code",
   "execution_count": 21,
   "metadata": {},
   "outputs": [
    {
     "data": {
      "text/plain": [
       "[-(-3*(C_3*R_1 + C_3*R_2 + C_4*R_2 + C_4*R_4 - C_5*R_2 + C_5*R_5)/(C_3*C_4*C_5*R_1*R_4*R_5 + C_3*C_4*C_5*R_2*R_4*R_5) + (C_3*C_4*R_1*R_4 + C_3*C_4*R_2*R_4 + C_3*C_5*R_1*R_5 + C_3*C_5*R_2*R_5 - C_4*C_5*R_2*R_4 + C_4*C_5*R_2*R_5 + C_4*C_5*R_4*R_5)**2/(C_3*C_4*C_5*R_1*R_4*R_5 + C_3*C_4*C_5*R_2*R_4*R_5)**2)/(3*(sqrt(-4*(-3*(C_3*R_1 + C_3*R_2 + C_4*R_2 + C_4*R_4 - C_5*R_2 + C_5*R_5)/(C_3*C_4*C_5*R_1*R_4*R_5 + C_3*C_4*C_5*R_2*R_4*R_5) + (C_3*C_4*R_1*R_4 + C_3*C_4*R_2*R_4 + C_3*C_5*R_1*R_5 + C_3*C_5*R_2*R_5 - C_4*C_5*R_2*R_4 + C_4*C_5*R_2*R_5 + C_4*C_5*R_4*R_5)**2/(C_3*C_4*C_5*R_1*R_4*R_5 + C_3*C_4*C_5*R_2*R_4*R_5)**2)**3 + (27/(C_3*C_4*C_5*R_1*R_4*R_5 + C_3*C_4*C_5*R_2*R_4*R_5) - 9*(C_3*R_1 + C_3*R_2 + C_4*R_2 + C_4*R_4 - C_5*R_2 + C_5*R_5)*(C_3*C_4*R_1*R_4 + C_3*C_4*R_2*R_4 + C_3*C_5*R_1*R_5 + C_3*C_5*R_2*R_5 - C_4*C_5*R_2*R_4 + C_4*C_5*R_2*R_5 + C_4*C_5*R_4*R_5)/(C_3*C_4*C_5*R_1*R_4*R_5 + C_3*C_4*C_5*R_2*R_4*R_5)**2 + 2*(C_3*C_4*R_1*R_4 + C_3*C_4*R_2*R_4 + C_3*C_5*R_1*R_5 + C_3*C_5*R_2*R_5 - C_4*C_5*R_2*R_4 + C_4*C_5*R_2*R_5 + C_4*C_5*R_4*R_5)**3/(C_3*C_4*C_5*R_1*R_4*R_5 + C_3*C_4*C_5*R_2*R_4*R_5)**3)**2)/2 + 27/(2*(C_3*C_4*C_5*R_1*R_4*R_5 + C_3*C_4*C_5*R_2*R_4*R_5)) - 9*(C_3*R_1 + C_3*R_2 + C_4*R_2 + C_4*R_4 - C_5*R_2 + C_5*R_5)*(C_3*C_4*R_1*R_4 + C_3*C_4*R_2*R_4 + C_3*C_5*R_1*R_5 + C_3*C_5*R_2*R_5 - C_4*C_5*R_2*R_4 + C_4*C_5*R_2*R_5 + C_4*C_5*R_4*R_5)/(2*(C_3*C_4*C_5*R_1*R_4*R_5 + C_3*C_4*C_5*R_2*R_4*R_5)**2) + (C_3*C_4*R_1*R_4 + C_3*C_4*R_2*R_4 + C_3*C_5*R_1*R_5 + C_3*C_5*R_2*R_5 - C_4*C_5*R_2*R_4 + C_4*C_5*R_2*R_5 + C_4*C_5*R_4*R_5)**3/(C_3*C_4*C_5*R_1*R_4*R_5 + C_3*C_4*C_5*R_2*R_4*R_5)**3)**(1/3)) - (sqrt(-4*(-3*(C_3*R_1 + C_3*R_2 + C_4*R_2 + C_4*R_4 - C_5*R_2 + C_5*R_5)/(C_3*C_4*C_5*R_1*R_4*R_5 + C_3*C_4*C_5*R_2*R_4*R_5) + (C_3*C_4*R_1*R_4 + C_3*C_4*R_2*R_4 + C_3*C_5*R_1*R_5 + C_3*C_5*R_2*R_5 - C_4*C_5*R_2*R_4 + C_4*C_5*R_2*R_5 + C_4*C_5*R_4*R_5)**2/(C_3*C_4*C_5*R_1*R_4*R_5 + C_3*C_4*C_5*R_2*R_4*R_5)**2)**3 + (27/(C_3*C_4*C_5*R_1*R_4*R_5 + C_3*C_4*C_5*R_2*R_4*R_5) - 9*(C_3*R_1 + C_3*R_2 + C_4*R_2 + C_4*R_4 - C_5*R_2 + C_5*R_5)*(C_3*C_4*R_1*R_4 + C_3*C_4*R_2*R_4 + C_3*C_5*R_1*R_5 + C_3*C_5*R_2*R_5 - C_4*C_5*R_2*R_4 + C_4*C_5*R_2*R_5 + C_4*C_5*R_4*R_5)/(C_3*C_4*C_5*R_1*R_4*R_5 + C_3*C_4*C_5*R_2*R_4*R_5)**2 + 2*(C_3*C_4*R_1*R_4 + C_3*C_4*R_2*R_4 + C_3*C_5*R_1*R_5 + C_3*C_5*R_2*R_5 - C_4*C_5*R_2*R_4 + C_4*C_5*R_2*R_5 + C_4*C_5*R_4*R_5)**3/(C_3*C_4*C_5*R_1*R_4*R_5 + C_3*C_4*C_5*R_2*R_4*R_5)**3)**2)/2 + 27/(2*(C_3*C_4*C_5*R_1*R_4*R_5 + C_3*C_4*C_5*R_2*R_4*R_5)) - 9*(C_3*R_1 + C_3*R_2 + C_4*R_2 + C_4*R_4 - C_5*R_2 + C_5*R_5)*(C_3*C_4*R_1*R_4 + C_3*C_4*R_2*R_4 + C_3*C_5*R_1*R_5 + C_3*C_5*R_2*R_5 - C_4*C_5*R_2*R_4 + C_4*C_5*R_2*R_5 + C_4*C_5*R_4*R_5)/(2*(C_3*C_4*C_5*R_1*R_4*R_5 + C_3*C_4*C_5*R_2*R_4*R_5)**2) + (C_3*C_4*R_1*R_4 + C_3*C_4*R_2*R_4 + C_3*C_5*R_1*R_5 + C_3*C_5*R_2*R_5 - C_4*C_5*R_2*R_4 + C_4*C_5*R_2*R_5 + C_4*C_5*R_4*R_5)**3/(C_3*C_4*C_5*R_1*R_4*R_5 + C_3*C_4*C_5*R_2*R_4*R_5)**3)**(1/3)/3 - (C_3*C_4*R_1*R_4 + C_3*C_4*R_2*R_4 + C_3*C_5*R_1*R_5 + C_3*C_5*R_2*R_5 - C_4*C_5*R_2*R_4 + C_4*C_5*R_2*R_5 + C_4*C_5*R_4*R_5)/(3*(C_3*C_4*C_5*R_1*R_4*R_5 + C_3*C_4*C_5*R_2*R_4*R_5)),\n",
       " -(-3*(C_3*R_1 + C_3*R_2 + C_4*R_2 + C_4*R_4 - C_5*R_2 + C_5*R_5)/(C_3*C_4*C_5*R_1*R_4*R_5 + C_3*C_4*C_5*R_2*R_4*R_5) + (C_3*C_4*R_1*R_4 + C_3*C_4*R_2*R_4 + C_3*C_5*R_1*R_5 + C_3*C_5*R_2*R_5 - C_4*C_5*R_2*R_4 + C_4*C_5*R_2*R_5 + C_4*C_5*R_4*R_5)**2/(C_3*C_4*C_5*R_1*R_4*R_5 + C_3*C_4*C_5*R_2*R_4*R_5)**2)/(3*(-1/2 + sqrt(3)*I/2)*(sqrt(-4*(-3*(C_3*R_1 + C_3*R_2 + C_4*R_2 + C_4*R_4 - C_5*R_2 + C_5*R_5)/(C_3*C_4*C_5*R_1*R_4*R_5 + C_3*C_4*C_5*R_2*R_4*R_5) + (C_3*C_4*R_1*R_4 + C_3*C_4*R_2*R_4 + C_3*C_5*R_1*R_5 + C_3*C_5*R_2*R_5 - C_4*C_5*R_2*R_4 + C_4*C_5*R_2*R_5 + C_4*C_5*R_4*R_5)**2/(C_3*C_4*C_5*R_1*R_4*R_5 + C_3*C_4*C_5*R_2*R_4*R_5)**2)**3 + (27/(C_3*C_4*C_5*R_1*R_4*R_5 + C_3*C_4*C_5*R_2*R_4*R_5) - 9*(C_3*R_1 + C_3*R_2 + C_4*R_2 + C_4*R_4 - C_5*R_2 + C_5*R_5)*(C_3*C_4*R_1*R_4 + C_3*C_4*R_2*R_4 + C_3*C_5*R_1*R_5 + C_3*C_5*R_2*R_5 - C_4*C_5*R_2*R_4 + C_4*C_5*R_2*R_5 + C_4*C_5*R_4*R_5)/(C_3*C_4*C_5*R_1*R_4*R_5 + C_3*C_4*C_5*R_2*R_4*R_5)**2 + 2*(C_3*C_4*R_1*R_4 + C_3*C_4*R_2*R_4 + C_3*C_5*R_1*R_5 + C_3*C_5*R_2*R_5 - C_4*C_5*R_2*R_4 + C_4*C_5*R_2*R_5 + C_4*C_5*R_4*R_5)**3/(C_3*C_4*C_5*R_1*R_4*R_5 + C_3*C_4*C_5*R_2*R_4*R_5)**3)**2)/2 + 27/(2*(C_3*C_4*C_5*R_1*R_4*R_5 + C_3*C_4*C_5*R_2*R_4*R_5)) - 9*(C_3*R_1 + C_3*R_2 + C_4*R_2 + C_4*R_4 - C_5*R_2 + C_5*R_5)*(C_3*C_4*R_1*R_4 + C_3*C_4*R_2*R_4 + C_3*C_5*R_1*R_5 + C_3*C_5*R_2*R_5 - C_4*C_5*R_2*R_4 + C_4*C_5*R_2*R_5 + C_4*C_5*R_4*R_5)/(2*(C_3*C_4*C_5*R_1*R_4*R_5 + C_3*C_4*C_5*R_2*R_4*R_5)**2) + (C_3*C_4*R_1*R_4 + C_3*C_4*R_2*R_4 + C_3*C_5*R_1*R_5 + C_3*C_5*R_2*R_5 - C_4*C_5*R_2*R_4 + C_4*C_5*R_2*R_5 + C_4*C_5*R_4*R_5)**3/(C_3*C_4*C_5*R_1*R_4*R_5 + C_3*C_4*C_5*R_2*R_4*R_5)**3)**(1/3)) - (-1/2 + sqrt(3)*I/2)*(sqrt(-4*(-3*(C_3*R_1 + C_3*R_2 + C_4*R_2 + C_4*R_4 - C_5*R_2 + C_5*R_5)/(C_3*C_4*C_5*R_1*R_4*R_5 + C_3*C_4*C_5*R_2*R_4*R_5) + (C_3*C_4*R_1*R_4 + C_3*C_4*R_2*R_4 + C_3*C_5*R_1*R_5 + C_3*C_5*R_2*R_5 - C_4*C_5*R_2*R_4 + C_4*C_5*R_2*R_5 + C_4*C_5*R_4*R_5)**2/(C_3*C_4*C_5*R_1*R_4*R_5 + C_3*C_4*C_5*R_2*R_4*R_5)**2)**3 + (27/(C_3*C_4*C_5*R_1*R_4*R_5 + C_3*C_4*C_5*R_2*R_4*R_5) - 9*(C_3*R_1 + C_3*R_2 + C_4*R_2 + C_4*R_4 - C_5*R_2 + C_5*R_5)*(C_3*C_4*R_1*R_4 + C_3*C_4*R_2*R_4 + C_3*C_5*R_1*R_5 + C_3*C_5*R_2*R_5 - C_4*C_5*R_2*R_4 + C_4*C_5*R_2*R_5 + C_4*C_5*R_4*R_5)/(C_3*C_4*C_5*R_1*R_4*R_5 + C_3*C_4*C_5*R_2*R_4*R_5)**2 + 2*(C_3*C_4*R_1*R_4 + C_3*C_4*R_2*R_4 + C_3*C_5*R_1*R_5 + C_3*C_5*R_2*R_5 - C_4*C_5*R_2*R_4 + C_4*C_5*R_2*R_5 + C_4*C_5*R_4*R_5)**3/(C_3*C_4*C_5*R_1*R_4*R_5 + C_3*C_4*C_5*R_2*R_4*R_5)**3)**2)/2 + 27/(2*(C_3*C_4*C_5*R_1*R_4*R_5 + C_3*C_4*C_5*R_2*R_4*R_5)) - 9*(C_3*R_1 + C_3*R_2 + C_4*R_2 + C_4*R_4 - C_5*R_2 + C_5*R_5)*(C_3*C_4*R_1*R_4 + C_3*C_4*R_2*R_4 + C_3*C_5*R_1*R_5 + C_3*C_5*R_2*R_5 - C_4*C_5*R_2*R_4 + C_4*C_5*R_2*R_5 + C_4*C_5*R_4*R_5)/(2*(C_3*C_4*C_5*R_1*R_4*R_5 + C_3*C_4*C_5*R_2*R_4*R_5)**2) + (C_3*C_4*R_1*R_4 + C_3*C_4*R_2*R_4 + C_3*C_5*R_1*R_5 + C_3*C_5*R_2*R_5 - C_4*C_5*R_2*R_4 + C_4*C_5*R_2*R_5 + C_4*C_5*R_4*R_5)**3/(C_3*C_4*C_5*R_1*R_4*R_5 + C_3*C_4*C_5*R_2*R_4*R_5)**3)**(1/3)/3 - (C_3*C_4*R_1*R_4 + C_3*C_4*R_2*R_4 + C_3*C_5*R_1*R_5 + C_3*C_5*R_2*R_5 - C_4*C_5*R_2*R_4 + C_4*C_5*R_2*R_5 + C_4*C_5*R_4*R_5)/(3*(C_3*C_4*C_5*R_1*R_4*R_5 + C_3*C_4*C_5*R_2*R_4*R_5)),\n",
       " -(-3*(C_3*R_1 + C_3*R_2 + C_4*R_2 + C_4*R_4 - C_5*R_2 + C_5*R_5)/(C_3*C_4*C_5*R_1*R_4*R_5 + C_3*C_4*C_5*R_2*R_4*R_5) + (C_3*C_4*R_1*R_4 + C_3*C_4*R_2*R_4 + C_3*C_5*R_1*R_5 + C_3*C_5*R_2*R_5 - C_4*C_5*R_2*R_4 + C_4*C_5*R_2*R_5 + C_4*C_5*R_4*R_5)**2/(C_3*C_4*C_5*R_1*R_4*R_5 + C_3*C_4*C_5*R_2*R_4*R_5)**2)/(3*(-1/2 - sqrt(3)*I/2)*(sqrt(-4*(-3*(C_3*R_1 + C_3*R_2 + C_4*R_2 + C_4*R_4 - C_5*R_2 + C_5*R_5)/(C_3*C_4*C_5*R_1*R_4*R_5 + C_3*C_4*C_5*R_2*R_4*R_5) + (C_3*C_4*R_1*R_4 + C_3*C_4*R_2*R_4 + C_3*C_5*R_1*R_5 + C_3*C_5*R_2*R_5 - C_4*C_5*R_2*R_4 + C_4*C_5*R_2*R_5 + C_4*C_5*R_4*R_5)**2/(C_3*C_4*C_5*R_1*R_4*R_5 + C_3*C_4*C_5*R_2*R_4*R_5)**2)**3 + (27/(C_3*C_4*C_5*R_1*R_4*R_5 + C_3*C_4*C_5*R_2*R_4*R_5) - 9*(C_3*R_1 + C_3*R_2 + C_4*R_2 + C_4*R_4 - C_5*R_2 + C_5*R_5)*(C_3*C_4*R_1*R_4 + C_3*C_4*R_2*R_4 + C_3*C_5*R_1*R_5 + C_3*C_5*R_2*R_5 - C_4*C_5*R_2*R_4 + C_4*C_5*R_2*R_5 + C_4*C_5*R_4*R_5)/(C_3*C_4*C_5*R_1*R_4*R_5 + C_3*C_4*C_5*R_2*R_4*R_5)**2 + 2*(C_3*C_4*R_1*R_4 + C_3*C_4*R_2*R_4 + C_3*C_5*R_1*R_5 + C_3*C_5*R_2*R_5 - C_4*C_5*R_2*R_4 + C_4*C_5*R_2*R_5 + C_4*C_5*R_4*R_5)**3/(C_3*C_4*C_5*R_1*R_4*R_5 + C_3*C_4*C_5*R_2*R_4*R_5)**3)**2)/2 + 27/(2*(C_3*C_4*C_5*R_1*R_4*R_5 + C_3*C_4*C_5*R_2*R_4*R_5)) - 9*(C_3*R_1 + C_3*R_2 + C_4*R_2 + C_4*R_4 - C_5*R_2 + C_5*R_5)*(C_3*C_4*R_1*R_4 + C_3*C_4*R_2*R_4 + C_3*C_5*R_1*R_5 + C_3*C_5*R_2*R_5 - C_4*C_5*R_2*R_4 + C_4*C_5*R_2*R_5 + C_4*C_5*R_4*R_5)/(2*(C_3*C_4*C_5*R_1*R_4*R_5 + C_3*C_4*C_5*R_2*R_4*R_5)**2) + (C_3*C_4*R_1*R_4 + C_3*C_4*R_2*R_4 + C_3*C_5*R_1*R_5 + C_3*C_5*R_2*R_5 - C_4*C_5*R_2*R_4 + C_4*C_5*R_2*R_5 + C_4*C_5*R_4*R_5)**3/(C_3*C_4*C_5*R_1*R_4*R_5 + C_3*C_4*C_5*R_2*R_4*R_5)**3)**(1/3)) - (-1/2 - sqrt(3)*I/2)*(sqrt(-4*(-3*(C_3*R_1 + C_3*R_2 + C_4*R_2 + C_4*R_4 - C_5*R_2 + C_5*R_5)/(C_3*C_4*C_5*R_1*R_4*R_5 + C_3*C_4*C_5*R_2*R_4*R_5) + (C_3*C_4*R_1*R_4 + C_3*C_4*R_2*R_4 + C_3*C_5*R_1*R_5 + C_3*C_5*R_2*R_5 - C_4*C_5*R_2*R_4 + C_4*C_5*R_2*R_5 + C_4*C_5*R_4*R_5)**2/(C_3*C_4*C_5*R_1*R_4*R_5 + C_3*C_4*C_5*R_2*R_4*R_5)**2)**3 + (27/(C_3*C_4*C_5*R_1*R_4*R_5 + C_3*C_4*C_5*R_2*R_4*R_5) - 9*(C_3*R_1 + C_3*R_2 + C_4*R_2 + C_4*R_4 - C_5*R_2 + C_5*R_5)*(C_3*C_4*R_1*R_4 + C_3*C_4*R_2*R_4 + C_3*C_5*R_1*R_5 + C_3*C_5*R_2*R_5 - C_4*C_5*R_2*R_4 + C_4*C_5*R_2*R_5 + C_4*C_5*R_4*R_5)/(C_3*C_4*C_5*R_1*R_4*R_5 + C_3*C_4*C_5*R_2*R_4*R_5)**2 + 2*(C_3*C_4*R_1*R_4 + C_3*C_4*R_2*R_4 + C_3*C_5*R_1*R_5 + C_3*C_5*R_2*R_5 - C_4*C_5*R_2*R_4 + C_4*C_5*R_2*R_5 + C_4*C_5*R_4*R_5)**3/(C_3*C_4*C_5*R_1*R_4*R_5 + C_3*C_4*C_5*R_2*R_4*R_5)**3)**2)/2 + 27/(2*(C_3*C_4*C_5*R_1*R_4*R_5 + C_3*C_4*C_5*R_2*R_4*R_5)) - 9*(C_3*R_1 + C_3*R_2 + C_4*R_2 + C_4*R_4 - C_5*R_2 + C_5*R_5)*(C_3*C_4*R_1*R_4 + C_3*C_4*R_2*R_4 + C_3*C_5*R_1*R_5 + C_3*C_5*R_2*R_5 - C_4*C_5*R_2*R_4 + C_4*C_5*R_2*R_5 + C_4*C_5*R_4*R_5)/(2*(C_3*C_4*C_5*R_1*R_4*R_5 + C_3*C_4*C_5*R_2*R_4*R_5)**2) + (C_3*C_4*R_1*R_4 + C_3*C_4*R_2*R_4 + C_3*C_5*R_1*R_5 + C_3*C_5*R_2*R_5 - C_4*C_5*R_2*R_4 + C_4*C_5*R_2*R_5 + C_4*C_5*R_4*R_5)**3/(C_3*C_4*C_5*R_1*R_4*R_5 + C_3*C_4*C_5*R_2*R_4*R_5)**3)**(1/3)/3 - (C_3*C_4*R_1*R_4 + C_3*C_4*R_2*R_4 + C_3*C_5*R_1*R_5 + C_3*C_5*R_2*R_5 - C_4*C_5*R_2*R_4 + C_4*C_5*R_2*R_5 + C_4*C_5*R_4*R_5)/(3*(C_3*C_4*C_5*R_1*R_4*R_5 + C_3*C_4*C_5*R_2*R_4*R_5))]"
      ]
     },
     "execution_count": 21,
     "metadata": {},
     "output_type": "execute_result"
    }
   ],
   "source": [
    "roots = sympy.roots(denom[1])\n",
    "unique_roots = [x for x in roots]\n",
    "unique_roots"
   ]
  },
  {
   "cell_type": "code",
   "execution_count": null,
   "metadata": {},
   "outputs": [],
   "source": [
    "(unique_roots[0] + unique_roots[1] + unique_roots[2]).simplify()"
   ]
  },
  {
   "cell_type": "code",
   "execution_count": 22,
   "metadata": {},
   "outputs": [
    {
     "data": {
      "text/latex": [
       "$\\displaystyle \\frac{C_{3} C_{4} C_{5} R_{4} R_{5} s^{3} \\left(R_{1} + R_{2}\\right) + s^{2} \\left(C_{3} C_{4} R_{1} R_{4} + C_{3} C_{4} R_{2} R_{4} + C_{3} C_{5} R_{1} R_{5} + C_{3} C_{5} R_{2} R_{5} - C_{4} C_{5} R_{2} R_{4} + C_{4} C_{5} R_{2} R_{5} + C_{4} C_{5} R_{4} R_{5}\\right) + s \\left(C_{3} R_{1} + C_{3} R_{2} + C_{4} R_{2} + C_{4} R_{4} - C_{5} R_{2} + C_{5} R_{5}\\right) + 1}{C_{3} C_{4} C_{5} R_{4} R_{5} \\left(R_{1} + R_{2}\\right)}$"
      ],
      "text/plain": [
       "(C_3*C_4*C_5*R_4*R_5*s**3*(R_1 + R_2) + s**2*(C_3*C_4*R_1*R_4 + C_3*C_4*R_2*R_4 + C_3*C_5*R_1*R_5 + C_3*C_5*R_2*R_5 - C_4*C_5*R_2*R_4 + C_4*C_5*R_2*R_5 + C_4*C_5*R_4*R_5) + s*(C_3*R_1 + C_3*R_2 + C_4*R_2 + C_4*R_4 - C_5*R_2 + C_5*R_5) + 1)/(C_3*C_4*C_5*R_4*R_5*(R_1 + R_2))"
      ]
     },
     "execution_count": 22,
     "metadata": {},
     "output_type": "execute_result"
    }
   ],
   "source": [
    "denom[1].as_expr().simplify()"
   ]
  },
  {
   "cell_type": "code",
   "execution_count": 23,
   "metadata": {},
   "outputs": [
    {
     "data": {
      "text/plain": [
       "3"
      ]
     },
     "execution_count": 23,
     "metadata": {},
     "output_type": "execute_result"
    }
   ],
   "source": [
    "len(sympy.roots(sympy.Poly(denom[1], sympy.symbols(\"s\"))))"
   ]
  },
  {
   "cell_type": "code",
   "execution_count": 24,
   "metadata": {},
   "outputs": [
    {
     "data": {
      "text/latex": [
       "$\\displaystyle \\frac{C_{3} C_{4} C_{5} R_{1} R_{2} R_{4} R_{6} s^{3} + C_{3} C_{5} R_{1} R_{2} R_{6} s^{2}}{s^{4} \\left(C_{3} C_{4} C_{5} C_{6} R_{1} R_{4} R_{5} R_{6} + C_{3} C_{4} C_{5} C_{6} R_{2} R_{4} R_{5} R_{6}\\right) + s^{3} \\left(C_{3} C_{4} C_{5} R_{1} R_{4} R_{5} + C_{3} C_{4} C_{5} R_{2} R_{4} R_{5} + C_{3} C_{4} C_{6} R_{1} R_{4} R_{6} + C_{3} C_{4} C_{6} R_{2} R_{4} R_{6} + C_{3} C_{5} C_{6} R_{1} R_{5} R_{6} + C_{3} C_{5} C_{6} R_{2} R_{5} R_{6} - C_{4} C_{5} C_{6} R_{2} R_{4} R_{6} + C_{4} C_{5} C_{6} R_{2} R_{5} R_{6} + C_{4} C_{5} C_{6} R_{4} R_{5} R_{6}\\right) + s^{2} \\left(C_{3} C_{4} R_{1} R_{4} + C_{3} C_{4} R_{2} R_{4} + C_{3} C_{5} R_{1} R_{5} + C_{3} C_{5} R_{2} R_{5} + C_{3} C_{6} R_{1} R_{6} + C_{3} C_{6} R_{2} R_{6} - C_{4} C_{5} R_{2} R_{4} + C_{4} C_{5} R_{2} R_{5} + C_{4} C_{5} R_{4} R_{5} + C_{4} C_{6} R_{2} R_{6} + C_{4} C_{6} R_{4} R_{6} - C_{5} C_{6} R_{2} R_{6} + C_{5} C_{6} R_{5} R_{6}\\right) + s \\left(C_{3} R_{1} + C_{3} R_{2} + C_{4} R_{2} + C_{4} R_{4} - C_{5} R_{2} + C_{5} R_{5} + C_{6} R_{6}\\right) + 1}$"
      ],
      "text/plain": [
       "(C_3*C_4*C_5*R_1*R_2*R_4*R_6*s**3 + C_3*C_5*R_1*R_2*R_6*s**2)/(s**4*(C_3*C_4*C_5*C_6*R_1*R_4*R_5*R_6 + C_3*C_4*C_5*C_6*R_2*R_4*R_5*R_6) + s**3*(C_3*C_4*C_5*R_1*R_4*R_5 + C_3*C_4*C_5*R_2*R_4*R_5 + C_3*C_4*C_6*R_1*R_4*R_6 + C_3*C_4*C_6*R_2*R_4*R_6 + C_3*C_5*C_6*R_1*R_5*R_6 + C_3*C_5*C_6*R_2*R_5*R_6 - C_4*C_5*C_6*R_2*R_4*R_6 + C_4*C_5*C_6*R_2*R_5*R_6 + C_4*C_5*C_6*R_4*R_5*R_6) + s**2*(C_3*C_4*R_1*R_4 + C_3*C_4*R_2*R_4 + C_3*C_5*R_1*R_5 + C_3*C_5*R_2*R_5 + C_3*C_6*R_1*R_6 + C_3*C_6*R_2*R_6 - C_4*C_5*R_2*R_4 + C_4*C_5*R_2*R_5 + C_4*C_5*R_4*R_5 + C_4*C_6*R_2*R_6 + C_4*C_6*R_4*R_6 - C_5*C_6*R_2*R_6 + C_5*C_6*R_5*R_6) + s*(C_3*R_1 + C_3*R_2 + C_4*R_2 + C_4*R_4 - C_5*R_2 + C_5*R_5 + C_6*R_6) + 1)"
      ]
     },
     "execution_count": 24,
     "metadata": {},
     "output_type": "execute_result"
    }
   ],
   "source": [
    "(classifications[0].transferFunc)"
   ]
  },
  {
   "cell_type": "markdown",
   "metadata": {},
   "source": [
    "# Playground"
   ]
  },
  {
   "cell_type": "code",
   "execution_count": null,
   "metadata": {},
   "outputs": [],
   "source": [
    "from sympy import symbols, Poly, factor, simplify, solveset, S\n",
    "\n",
    "def decompose_tf(transfer_function, variable, assumptions={}):\n",
    "    \"\"\"\n",
    "    Decomposes the denominator of a transfer function into factors, \n",
    "    grouping strictly by the specified variable (e.g., `s`).\n",
    "\n",
    "    Args:\n",
    "        transfer_function: A Sympy expression representing the transfer function.\n",
    "        variable: The main variable to group by (e.g., `s`).\n",
    "        assumptions: A dictionary of assumptions for symbolic variables.\n",
    "\n",
    "    Returns:\n",
    "        A dictionary where each key is a factor (grouped by the main variable),\n",
    "        and the value contains its roots and properties.\n",
    "    \"\"\"\n",
    "    # Apply assumptions to all symbols\n",
    "    for var, assumption in assumptions.items():\n",
    "        var._assumptions.update({assumption: True})\n",
    "    \n",
    "    # Extract the denominator\n",
    "    denominator = transfer_function.as_numer_denom()[1]\n",
    "    \n",
    "    # Ensure the denominator is treated as a polynomial in the given variable\n",
    "    poly = Poly(denominator, variable)\n",
    "    \n",
    "    # Factorize strictly with respect to `variable`\n",
    "    factored = factor(poly.as_expr())\n",
    "    \n",
    "    # Inspect each factor\n",
    "    factors = factored.as_ordered_factors()\n",
    "    results = {}\n",
    "    for factor_expr in factors:\n",
    "        # Solve for the roots of this factor\n",
    "        roots = solveset(factor_expr, variable, domain=S.Complexes)\n",
    "        \n",
    "        # Analyze each root (e.g., real part)\n",
    "        roots_info = []\n",
    "        for root in roots:\n",
    "            real_part = simplify(root.as_real_imag()[0])\n",
    "            roots_info.append({\n",
    "                \"root\": root,\n",
    "                \"real_part\": real_part\n",
    "            })\n",
    "        \n",
    "        # Store results for this factor\n",
    "        results[str(factor_expr)] = {\n",
    "            \"factor\": factor_expr,\n",
    "            \"roots\": roots_info,\n",
    "            \"degree\": Poly(factor_expr, variable).degree()\n",
    "        }\n",
    "    \n",
    "    return results\n",
    "\n",
    "# Example: Define symbolic components\n",
    "R1, R2, R3 = symbols('R1 R2 R3', positive=True)  # Resistors\n",
    "L1 = symbols('L1', positive=True)  # Inductor\n",
    "C1, C2 = symbols('C1 C2', positive=True)  # Capacitors\n",
    "s = symbols('s')\n",
    "\n",
    "# Example transfer function\n",
    "G = (s + R1) / (L1 * s**3 + (R2 + R3) * s**2 + 1 / C1 * s + 1 / C2)\n",
    "\n",
    "# Decompose and inspect the factors\n",
    "results = decompose_tf(G, s)\n",
    "for factor, info in results.items():\n",
    "    print(f\"Factor: {info['factor']}\")\n",
    "    print(f\"Degree: {info['degree']}\")\n",
    "    print(\"Roots:\")\n",
    "    for root_info in info[\"roots\"]:\n",
    "        print(f\"  - Root: {root_info['root']}, Real part: {root_info['real_part']}\")\n",
    "    print()\n"
   ]
  },
  {
   "cell_type": "code",
   "execution_count": null,
   "metadata": {},
   "outputs": [],
   "source": [
    "results.keys()"
   ]
  },
  {
   "cell_type": "code",
   "execution_count": 51,
   "metadata": {},
   "outputs": [],
   "source": [
    "from sympy import symbols, Poly, factor, simplify, solveset, S\n",
    "\n",
    "def decompose_tf(transfer_function):\n",
    "    s = symbols(\"s\")\n",
    "\n",
    "    # Extract the numerator and denominator\n",
    "    numerator, denominator = transfer_function.as_numer_denom()\n",
    " \n",
    "    numerator = Poly(numerator, s)\n",
    "    denominator = Poly(denominator, s)\n",
    "\n",
    "    # Factorize strictly with respect to `variable`\n",
    "    numerator = factor(numerator.as_expr())\n",
    "    denominator = factor(denominator.as_expr())\n",
    "\n",
    "    # Inspect each factor\n",
    "    factors_numer = numerator.as_ordered_factors()\n",
    "    factors_denom = denominator.as_ordered_factors()\n",
    "    \n",
    "    return factors_numer, factors_denom\n",
    "\n",
    "# Example: Define symbolic components\n",
    "R1, R2, R3 = symbols('R1 R2 R3', positive=True)  # Resistors\n",
    "L1 = symbols('L1', positive=True)  # Inductor\n",
    "C1, C2 = symbols('C1 C2', positive=True)  # Capacitors\n",
    "s = symbols('s')\n",
    "\n",
    "# Example transfer function\n",
    "G = (s + R1) / (((s+R3)*(s**2 + s*2*C2+ 2*C2**2)).expand())\n",
    "G.expand()\n",
    "\n",
    "# Decompose and inspect the factors\n",
    "tup = decompose_tf(G)\n",
    "numer = tup[0]\n",
    "denom = tup[1]\n"
   ]
  }
 ],
 "metadata": {
  "kernelspec": {
   "display_name": "myenv",
   "language": "python",
   "name": "python3"
  },
  "language_info": {
   "codemirror_mode": {
    "name": "ipython",
    "version": 3
   },
   "file_extension": ".py",
   "mimetype": "text/x-python",
   "name": "python",
   "nbconvert_exporter": "python",
   "pygments_lexer": "ipython3",
   "version": "3.12.2"
  }
 },
 "nbformat": 4,
 "nbformat_minor": 2
}
