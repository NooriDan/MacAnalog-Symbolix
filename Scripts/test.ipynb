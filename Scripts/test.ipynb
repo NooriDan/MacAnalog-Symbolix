{
 "cells": [
  {
   "cell_type": "code",
   "execution_count": null,
   "metadata": {},
   "outputs": [],
   "source": [
    "import sympy\n",
    "import itertools\n",
    "\n",
    "# Step 1: Define a list of symbolic variables\n",
    "x, y, z = sympy.symbols('Z_1 Z_2 Z_LK')\n",
    "variables = [x, y, z]\n",
    "\n",
    "# Step 2: Generate all possible combinations of these variables (e.g., combinations of 1, 2, and 3 variables)\n",
    "combinations = itertools.chain.from_iterable(itertools.combinations(variables, r) for r in range(1, len(variables) + 1))\n",
    "\n",
    "# Step 3: Create the dictionary with string representations of combinations as keys\n",
    "comb_dict = {}\n",
    "for comb in combinations:\n",
    "    # Convert each combination to a string representation\n",
    "    key = '-'.join(str(var) for var in comb)\n",
    "    comb_dict[key] = comb\n",
    "\n",
    "# Step 4: Print the dictionary\n",
    "for key, value in comb_dict.items():\n",
    "    print(f\"{key}: {value}\")\n",
    "    # print(type(key))\n"
   ]
  },
  {
   "cell_type": "code",
   "execution_count": null,
   "metadata": {},
   "outputs": [],
   "source": [
    "comb_dict[\"Z_1-Z_2\"]"
   ]
  },
  {
   "cell_type": "code",
   "execution_count": null,
   "metadata": {},
   "outputs": [],
   "source": [
    "import sympy\n",
    "import itertools\n",
    "\n",
    "# Define symbolic variables\n",
    "x, y, z = sympy.symbols('Z_1 Z_2 Z_L')\n",
    "variables = list(sympy.symbols('Z_1 Z_2 Z_3 Z_4 Z_5 Z_L'))\n",
    "\n",
    "# Create a dictionary to store combinations grouped by the number of variables\n",
    "comb_dict_by_size = {}\n",
    "\n",
    "# Loop through different combination sizes (from 1 to len(variables))\n",
    "for combination_size in range(1, len(variables) + 1):\n",
    "    # Generate combinations of the specified size\n",
    "    combinations = itertools.combinations(variables, combination_size)\n",
    "    \n",
    "    # Convert each combination to a string representation and store in the dictionary\n",
    "    comb_dict_by_size[combination_size] = [\n",
    "        ('_'.join(str(var).replace('_', '') for var in comb), comb)  # Key is string representation, value is combination\n",
    "        for comb in combinations\n",
    "    ]\n",
    "\n",
    "# Print the dictionary of combinations grouped by size\n",
    "for size, combs in comb_dict_by_size.items():\n",
    "    print(f\"Combinations of size {size}:\")\n",
    "    for key, value in combs:\n",
    "        print(f\"  {key}: {value}\")\n"
   ]
  }
 ],
 "metadata": {
  "kernelspec": {
   "display_name": "base",
   "language": "python",
   "name": "python3"
  },
  "language_info": {
   "codemirror_mode": {
    "name": "ipython",
    "version": 3
   },
   "file_extension": ".py",
   "mimetype": "text/x-python",
   "name": "python",
   "nbconvert_exporter": "python",
   "pygments_lexer": "ipython3",
   "version": "3.12.2"
  }
 },
 "nbformat": 4,
 "nbformat_minor": 2
}
